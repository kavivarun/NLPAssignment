{
 "cells": [
  {
   "cell_type": "code",
   "execution_count": 2,
   "id": "a2c37302",
   "metadata": {},
   "outputs": [
    {
     "name": "stderr",
     "output_type": "stream",
     "text": [
      "c:\\Users\\jonat\\anaconda3\\envs\\NLP3\\Lib\\site-packages\\tqdm\\auto.py:21: TqdmWarning: IProgress not found. Please update jupyter and ipywidgets. See https://ipywidgets.readthedocs.io/en/stable/user_install.html\n",
      "  from .autonotebook import tqdm as notebook_tqdm\n"
     ]
    }
   ],
   "source": [
    "import os\n",
    "import torch\n",
    "import random\n",
    "import numpy as np\n",
    "import pandas as pd\n",
    "import matplotlib.pyplot as plt\n",
    "from transformers import pipeline\n",
    "from datasets import load_dataset\n",
    "import evaluate\n",
    "from tqdm import tqdm\n",
    "import textstat"
   ]
  },
  {
   "cell_type": "code",
   "execution_count": 3,
   "id": "79168d9f",
   "metadata": {},
   "outputs": [],
   "source": [
    "# ----------------------------\n",
    "# PREPROCESSING FUNCTIONS\n",
    "# ----------------------------\n",
    "def preprocess_texts(texts):\n",
    "    return [\" \".join(t.strip().split()) for t in texts]"
   ]
  },
  {
   "cell_type": "code",
   "execution_count": null,
   "id": "f01489a5",
   "metadata": {},
   "outputs": [],
   "source": [
    "# ----------------------------\n",
    "# CONFIGURATION & MODELS\n",
    "# ----------------------------\n",
    "GRAMMAR_MODELS = [\n",
    "    \"google/flan-t5-small\",\n",
    "    \"facebook/bart-base\"\n",
    "]\n",
    "STYLE_MODELS = [ \n",
    "    \"sshleifer/distilbart-cnn-12-6\",\n",
    "    \"rajistics/informal_formal_style_transfer\"\n",
    "]\n",
    "\n",
    "DEVICE = 0 if torch.cuda.is_available() else -1\n",
    "BATCH_SIZE = 8\n",
    "PIPELINE_MAX_LENGTH = 256\n",
    "DATASET_SUBSET_LENGTH = 300"
   ]
  },
  {
   "cell_type": "code",
   "execution_count": 5,
   "id": "dafa7d91",
   "metadata": {},
   "outputs": [],
   "source": [
    "# ----------------------------\n",
    "# LOAD STYLE DATASET (WikiAuto-Manual)\n",
    "# ----------------------------\n",
    "dataset = load_dataset(\"chaojiang06/wiki_auto\", \"manual\")\n",
    "\n",
    "# Randomly sample 100 items from the test split for evaluation\n",
    "test_split_full = dataset[\"test\"]\n",
    "test_split = test_split_full.shuffle(seed=42).select(range(min(DATASET_SUBSET_LENGTH, len(test_split_full))))\n",
    "\n",
    "if 'normal_sentence' in test_split.column_names and 'simple_sentence' in test_split.column_names:\n",
    "    sources = test_split['normal_sentence']\n",
    "    references = [[r] for r in test_split['simple_sentence']]\n",
    "else:\n",
    "    raise KeyError(f\"Expected 'normal_sentence' and 'simple_sentence' in dataset columns: {test_split.column_names}\")"
   ]
  },
  {
   "cell_type": "code",
   "execution_count": 20,
   "id": "b6307c44",
   "metadata": {},
   "outputs": [
    {
     "data": {
      "text/plain": [
       "300"
      ]
     },
     "execution_count": 20,
     "metadata": {},
     "output_type": "execute_result"
    }
   ],
   "source": [
    "len(sources)"
   ]
  },
  {
   "cell_type": "code",
   "execution_count": null,
   "id": "23ba024e",
   "metadata": {},
   "outputs": [
    {
     "name": "stderr",
     "output_type": "stream",
     "text": [
      "Device set to use cuda:0\n",
      "c:\\Users\\jonat\\anaconda3\\envs\\NLP3\\Lib\\site-packages\\huggingface_hub\\file_download.py:144: UserWarning: `huggingface_hub` cache-system uses symlinks by default to efficiently store duplicated files but your machine does not support them in C:\\Users\\jonat\\.cache\\huggingface\\hub\\models--ehartford--Wizard-Vicuna-13B-Uncensored. Caching files will still work but in a degraded version that might require more space on your disk. This warning can be disabled by setting the `HF_HUB_DISABLE_SYMLINKS_WARNING` environment variable. For more details, see https://huggingface.co/docs/huggingface_hub/how-to-cache#limitations.\n",
      "To support symlinks on Windows, you either need to activate Developer Mode or to run Python as an administrator. In order to activate developer mode, see this article: https://docs.microsoft.com/en-us/windows/apps/get-started/enable-your-device-for-development\n",
      "  warnings.warn(message)\n",
      "Fetching 6 files:   0%|          | 0/6 [00:00<?, ?it/s]"
     ]
    }
   ],
   "source": [
    "# ----------------------------\n",
    "# BUILD INFERENCE PIPELINES\n",
    "# ----------------------------\n",
    "# grammar_pipes = {m: pipeline(\"text2text-generation\", model=m, device=DEVICE) for m in GRAMMAR_MODELS}\n",
    "# style_pipes   = {m: pipeline(\"text2text-generation\", model=m, device=DEVICE) for m in STYLE_MODELS}\n",
    "\n",
    "grammar_pipes = {\n",
    "    m: pipeline(\n",
    "        \"text2text-generation\",\n",
    "        model=m,\n",
    "        device=DEVICE,\n",
    "        do_sample=False,\n",
    "        num_beams=4,\n",
    "        max_length=PIPELINE_MAX_LENGTH\n",
    "    )\n",
    "    for m in GRAMMAR_MODELS\n",
    "}\n",
    "\n",
    "style_pipes = {\n",
    "    m: pipeline(\n",
    "        \"text2text-generation\",\n",
    "        model=m,\n",
    "        device=DEVICE,\n",
    "        do_sample=True,\n",
    "        temperature=0.9,\n",
    "        top_p=0.8,\n",
    "        num_beams=4,\n",
    "        max_length=PIPELINE_MAX_LENGTH / 2\n",
    "    )\n",
    "    for m in STYLE_MODELS\n",
    "}"
   ]
  },
  {
   "cell_type": "code",
   "execution_count": 19,
   "id": "7895271e",
   "metadata": {},
   "outputs": [],
   "source": [
    "# ----------------------------\n",
    "# LOAD METRICS\n",
    "# ----------------------------\n",
    "bleu       = evaluate.load(\"bleu\")\n",
    "bertscore  = evaluate.load(\"bertscore\")\n",
    "perplexity = evaluate.load(\"perplexity\", module_type=\"metric\")\n",
    "sari       = evaluate.load(\"sari\")"
   ]
  },
  {
   "cell_type": "code",
   "execution_count": 25,
   "id": "511257f6",
   "metadata": {},
   "outputs": [],
   "source": [
    "def run_pipe_with_prefix(\n",
    "    pipe,\n",
    "    texts: list[str],\n",
    "    model_name: str,\n",
    "    is_grammar: bool,\n",
    "    batch_size: int = BATCH_SIZE,\n",
    "    max_len: int = PIPELINE_MAX_LENGTH,\n",
    "):\n",
    "    \n",
    "    # Determine model family → choose prefixes\n",
    "    t5 = \"t5\" in model_name.lower()\n",
    "    if t5:\n",
    "        gram_pref  = \"Fix all grammar and spelling errors> \"\n",
    "        style_pref = \"Paraphase and Simplify> \"\n",
    "    else:\n",
    "        gram_pref  = \"Fix all grammar and spelling errors> \"\n",
    "        style_pref = \"Paraphase and Simplify> \"\n",
    "\n",
    "    prefix = gram_pref if is_grammar else style_pref\n",
    "    strip_prefixes = (gram_pref, style_pref, \"Paraphrase: \", \"Grammar correction: \")\n",
    "\n",
    "    outputs_all = []\n",
    "    \n",
    "    for i in tqdm(\n",
    "        range(0, len(texts), batch_size),\n",
    "        desc=f\"{'Grammar' if is_grammar else 'Style'} pass ({model_name})\",\n",
    "        leave=False,\n",
    "    ):\n",
    "        chunk = texts[i : i + batch_size]\n",
    "\n",
    "        # 1) add prefix\n",
    "        inp_with_pref = [prefix + txt for txt in chunk]\n",
    "\n",
    "        # 2) pipeline call\n",
    "        outs = pipe(\n",
    "            inp_with_pref,\n",
    "            max_length=max_len,\n",
    "            batch_size=batch_size,\n",
    "        )\n",
    "\n",
    "        # 3) decode & strip prefixes\n",
    "        for out in outs:\n",
    "            decoded = out[\"generated_text\"].strip()\n",
    "            for p in strip_prefixes:\n",
    "                if decoded.startswith(p):\n",
    "                    decoded = decoded[len(p):].lstrip()\n",
    "            outputs_all.append(decoded)\n",
    "\n",
    "    return outputs_all\n"
   ]
  },
  {
   "cell_type": "code",
   "execution_count": null,
   "id": "7e45b618",
   "metadata": {},
   "outputs": [],
   "source": [
    "def build_eval_df(\n",
    "    df_out: pd.DataFrame,\n",
    "    text_column: str,\n",
    "    src_clean,\n",
    "    references\n",
    ") -> pd.DataFrame:\n",
    "    \n",
    "    results = []\n",
    "\n",
    "    # iterate over every system column (skip original + score columns)\n",
    "    for col in df_out.columns:\n",
    "        if col == text_column or col.startswith(\"score_\"):\n",
    "            continue\n",
    "\n",
    "        preds = df_out[col].astype(str).tolist()\n",
    "\n",
    "        # ---- metrics -------------------------------------------------------\n",
    "        sari_score = sari.compute(\n",
    "            sources=src_clean,\n",
    "            predictions=preds,\n",
    "            references=references\n",
    "        )[\"sari\"]\n",
    "\n",
    "        bleu_score = bleu.compute(\n",
    "            predictions=preds,\n",
    "            references=references\n",
    "        )[\"bleu\"]\n",
    "\n",
    "        bert_res  = bertscore.compute(\n",
    "            predictions=preds,\n",
    "            references=[r[0] for r in references],\n",
    "            lang=\"en\"\n",
    "        )\n",
    "        bert_f1   = float(np.mean(bert_res[\"f1\"]))\n",
    "\n",
    "        fkgl_vals = [textstat.flesch_kincaid_grade(p) for p in preds]\n",
    "        fre_vals  = [textstat.flesch_reading_ease(p) for p in preds]\n",
    "        fkgl      = float(np.mean(fkgl_vals))\n",
    "        fre       = float(np.mean(fre_vals))\n",
    "\n",
    "        ppl_vals  = perplexity.compute(\n",
    "            model_id=\"gpt2\",\n",
    "            predictions=preds\n",
    "        ).get(\"perplexities\")\n",
    "        ppl       = float(np.mean(ppl_vals))\n",
    "\n",
    "        # split column name back into grammar / style\n",
    "        gm, sm = col.split(\"__\")\n",
    "\n",
    "        results.append({\n",
    "            \"grammar_model\": gm,\n",
    "            \"style_model\":   sm,\n",
    "            \"sari\":  sari_score,\n",
    "            \"bleu\":  bleu_score,\n",
    "            \"bert_f1\": bert_f1,\n",
    "            \"fkgl\":  fkgl,\n",
    "            \"flesch\": fre,\n",
    "            \"perplexity\": ppl\n",
    "        })\n",
    "\n",
    "    return pd.DataFrame(results).sort_values(\"sari\", ascending=False).reset_index(drop=True)\n"
   ]
  },
  {
   "cell_type": "code",
   "execution_count": 23,
   "id": "f596c1a6",
   "metadata": {},
   "outputs": [],
   "source": [
    "# ----------------------------\n",
    "# EVALUATION FUNCTIONS\n",
    "# ----------------------------\n",
    "def evaluate_models(sources, references):\n",
    "    # Preprocess and correct grammar\n",
    "    text_column = \"sentences\"\n",
    "    clean_texts = preprocess_texts(sources)\n",
    "    corrected_cache = {}\n",
    "    df_out      = pd.DataFrame({text_column: clean_texts})\n",
    "\n",
    "    # --- Grammar stage ----------------------------------------------------------\n",
    "    for gm in GRAMMAR_MODELS:\n",
    "        print(f\"Grammar pass – {gm}\")\n",
    "        g_pipe  = grammar_pipes[gm]\n",
    "        g_fixed = run_pipe_with_prefix(\n",
    "            g_pipe, clean_texts, gm, is_grammar=True\n",
    "        )\n",
    "        corrected_cache[gm] = preprocess_texts(g_fixed)\n",
    "    print(\"Grammar done!\")\n",
    "\n",
    "    # --- Style stage ------------------------------------------------------------\n",
    "    for gm in GRAMMAR_MODELS:\n",
    "        g_clean = corrected_cache[gm]\n",
    "        for sm in STYLE_MODELS:\n",
    "            col_name = f\"{gm.split('/')[-1]}__{sm.split('/')[-1]}\"\n",
    "            print(f\"Style pass – {gm} → {sm}\")\n",
    "            s_pipe = style_pipes[sm]\n",
    "            preds  = run_pipe_with_prefix(\n",
    "                s_pipe, g_clean, sm, is_grammar=False\n",
    "            )\n",
    "            df_out[col_name] = preds\n",
    "    print(\"Styling done!\")\n",
    "\n",
    "    return build_eval_df(df_out, text_column, clean_texts, references)"
   ]
  },
  {
   "cell_type": "code",
   "execution_count": 26,
   "id": "e55e6da8",
   "metadata": {},
   "outputs": [
    {
     "name": "stdout",
     "output_type": "stream",
     "text": [
      "Grammar pass – google/flan-t5-small\n"
     ]
    },
    {
     "name": "stderr",
     "output_type": "stream",
     "text": [
      "                                                                                    \r"
     ]
    },
    {
     "name": "stdout",
     "output_type": "stream",
     "text": [
      "Grammar pass – facebook/bart-base\n"
     ]
    },
    {
     "name": "stderr",
     "output_type": "stream",
     "text": [
      "                                                                                  \r"
     ]
    },
    {
     "name": "stdout",
     "output_type": "stream",
     "text": [
      "Grammar done!\n",
      "Style pass – google/flan-t5-small → sshleifer/distilbart-cnn-12-6\n"
     ]
    },
    {
     "name": "stderr",
     "output_type": "stream",
     "text": [
      "                                                                                           \r"
     ]
    },
    {
     "name": "stdout",
     "output_type": "stream",
     "text": [
      "Style pass – google/flan-t5-small → rajistics/informal_formal_style_transfer\n"
     ]
    },
    {
     "name": "stderr",
     "output_type": "stream",
     "text": [
      "                                                                                                      \r"
     ]
    },
    {
     "name": "stdout",
     "output_type": "stream",
     "text": [
      "Style pass – facebook/bart-base → sshleifer/distilbart-cnn-12-6\n"
     ]
    },
    {
     "name": "stderr",
     "output_type": "stream",
     "text": [
      "                                                                                           \r"
     ]
    },
    {
     "name": "stdout",
     "output_type": "stream",
     "text": [
      "Style pass – facebook/bart-base → rajistics/informal_formal_style_transfer\n"
     ]
    },
    {
     "name": "stderr",
     "output_type": "stream",
     "text": [
      "                                                                                                      \r"
     ]
    },
    {
     "name": "stdout",
     "output_type": "stream",
     "text": [
      "Styling done!\n"
     ]
    },
    {
     "name": "stderr",
     "output_type": "stream",
     "text": [
      "Some weights of RobertaModel were not initialized from the model checkpoint at roberta-large and are newly initialized: ['pooler.dense.bias', 'pooler.dense.weight']\n",
      "You should probably TRAIN this model on a down-stream task to be able to use it for predictions and inference.\n",
      "100%|██████████| 19/19 [00:24<00:00,  1.27s/it]\n",
      "100%|██████████| 19/19 [00:07<00:00,  2.54it/s]\n",
      "100%|██████████| 19/19 [00:22<00:00,  1.20s/it]\n",
      "100%|██████████| 19/19 [00:12<00:00,  1.46it/s]\n"
     ]
    }
   ],
   "source": [
    "# ----------------------------\n",
    "# RUN EVALUATION\n",
    "# ----------------------------\n",
    "df = evaluate_models(sources, references)"
   ]
  },
  {
   "cell_type": "code",
   "execution_count": 27,
   "id": "e14ccd8e",
   "metadata": {},
   "outputs": [
    {
     "name": "stdout",
     "output_type": "stream",
     "text": [
      "   grammar_model                     style_model       sari      bleu  \\\n",
      "0  flan-t5-small             distilbart-cnn-12-6  35.810412  0.002778   \n",
      "1      bart-base             distilbart-cnn-12-6  35.767164  0.003759   \n",
      "2  flan-t5-small  informal_formal_style_transfer  35.107034  0.000000   \n",
      "3      bart-base  informal_formal_style_transfer  35.050535  0.000000   \n",
      "\n",
      "    bert_f1       fkgl     flesch  perplexity  \n",
      "0  0.827271   9.469333  57.183233   43.644453  \n",
      "1  0.827373   9.448333  57.625167   43.256897  \n",
      "2  0.843399  11.724000  48.100333   97.942786  \n",
      "3  0.843125  11.793667  47.917633   98.632870  \n"
     ]
    }
   ],
   "source": [
    "# Sort and display\n",
    "df = df.sort_values('sari', ascending=False).reset_index(drop=True)\n",
    "print(df)"
   ]
  },
  {
   "cell_type": "code",
   "execution_count": 13,
   "id": "8c795145",
   "metadata": {},
   "outputs": [
    {
     "name": "stdout",
     "output_type": "stream",
     "text": [
      "Results saved to c:\\Users\\jonat\\Documents\\UTS\\2025 Autumn Sem\\42850 NLP\\Assignment 3\\NLPAssignment\\Jonathan Workspace\\pipeline_evaluation_results_huggingface.csv\n"
     ]
    }
   ],
   "source": [
    "# ----------------------------\n",
    "# SAVE RESULTS\n",
    "# ----------------------------\n",
    "csv_path = os.path.join(os.getcwd(), 'pipeline_evaluation_results_huggingface.csv')\n",
    "df.to_csv(csv_path, index=False)\n",
    "print(f\"Results saved to {csv_path}\")"
   ]
  },
  {
   "cell_type": "markdown",
   "id": "1dc058a3",
   "metadata": {},
   "source": [
    "# Test Back-Translation"
   ]
  },
  {
   "cell_type": "code",
   "execution_count": null,
   "id": "5e0862b7",
   "metadata": {},
   "outputs": [],
   "source": [
    "def test_with_translation_models(bad_text):\n",
    "    from transformers import (\n",
    "        AutoTokenizer, \n",
    "        AutoModelForCausalLM, \n",
    "        MarianMTModel, \n",
    "        MarianTokenizer, \n",
    "        MBartForConditionalGeneration, \n",
    "        MBart50TokenizerFast\n",
    "    )\n",
    "    import torch\n",
    "\n",
    "    print(\"\\n--- MarianMT (en→fr→en) Paraphrasing ---\")\n",
    "    # English to French\n",
    "    en_fr_model_name = \"Helsinki-NLP/opus-mt-en-fr\"\n",
    "    fr_en_model_name = \"Helsinki-NLP/opus-mt-fr-en\"\n",
    "    en_fr_tokenizer = MarianTokenizer.from_pretrained(en_fr_model_name)\n",
    "    en_fr_model = MarianMTModel.from_pretrained(en_fr_model_name)\n",
    "    fr_en_tokenizer = MarianTokenizer.from_pretrained(fr_en_model_name)\n",
    "    fr_en_model = MarianMTModel.from_pretrained(fr_en_model_name)\n",
    "\n",
    "    # English to French\n",
    "    fr_tokens = en_fr_tokenizer([bad_text], return_tensors=\"pt\", padding=True)\n",
    "    fr_translation = en_fr_model.generate(**fr_tokens)\n",
    "    fr_text = en_fr_tokenizer.batch_decode(fr_translation, skip_special_tokens=True)[0]\n",
    "\n",
    "    # French back to English\n",
    "    en_tokens = fr_en_tokenizer([fr_text], return_tensors=\"pt\", padding=True)\n",
    "    en_translation = fr_en_model.generate(**en_tokens)\n",
    "    marian_result = fr_en_tokenizer.batch_decode(en_translation, skip_special_tokens=True)[0]\n",
    "    print(marian_result)\n",
    "    return marian_result"
   ]
  },
  {
   "cell_type": "code",
   "execution_count": null,
   "id": "d0e31dd3",
   "metadata": {},
   "outputs": [],
   "source": [
    "def evaluate_translation_model(sources, references):\n",
    "    # Preprocess and correct grammar (if you still need it) or just normalize\n",
    "    clean_src = preprocess_texts(sources)\n",
    "\n",
    "    # ----------------------------\n",
    "    # Back‐translation paraphrasing with MarianMT\n",
    "    # ----------------------------\n",
    "    preds = []\n",
    "    for text in tqdm(clean_src, desc=\"Back-translation\", leave=False):\n",
    "        paraphrased = test_with_translation_models(text)\n",
    "        preds.append(paraphrased)\n",
    "    print(\"Back-translation done!\")\n",
    "\n",
    "    # ----------------------------\n",
    "    # Compute metrics\n",
    "    # ----------------------------\n",
    "    sari_score = sari.compute(sources=clean_src, predictions=preds, references=references)[\"sari\"]\n",
    "    bleu_score = bleu.compute(predictions=preds, references=references)[\"bleu\"]\n",
    "    bert_res   = bertscore.compute(predictions=preds, references=[r[0] for r in references], lang=\"en\")\n",
    "    bert_f1    = np.mean(bert_res['f1'])\n",
    "\n",
    "    # Readability metrics via textstat, averaged over all outputs\n",
    "    fkgl_vals = [textstat.flesch_kincaid_grade(p) for p in preds]\n",
    "    fre_vals  = [textstat.flesch_reading_ease(p) for p in preds]\n",
    "    fkgl       = sum(fkgl_vals) / len(fkgl_vals)\n",
    "    fre        = sum(fre_vals) / len(fre_vals)\n",
    "\n",
    "    ppl_res    = perplexity.compute(model_id=\"gpt2\", predictions=preds)\n",
    "    ppl        = np.mean(ppl_res.get('perplexities', ppl_res))\n",
    "\n",
    "    return {\n",
    "        'sari': sari_score,\n",
    "        'bleu': bleu_score,\n",
    "        'bert_f1': bert_f1,\n",
    "        'fkgl': fkgl,\n",
    "        'flesch': fre,\n",
    "        'perplexity': ppl\n",
    "    }\n"
   ]
  },
  {
   "cell_type": "code",
   "execution_count": null,
   "id": "05b55052",
   "metadata": {},
   "outputs": [
    {
     "name": "stderr",
     "output_type": "stream",
     "text": [
      "Back-translation:   0%|          | 0/1000 [00:00<?, ?it/s]"
     ]
    },
    {
     "name": "stdout",
     "output_type": "stream",
     "text": [
      "\n",
      "--- MarianMT (en→fr→en) Paraphrasing ---\n"
     ]
    },
    {
     "name": "stderr",
     "output_type": "stream",
     "text": [
      "c:\\Users\\jonat\\anaconda3\\envs\\NLP3\\Lib\\site-packages\\huggingface_hub\\file_download.py:144: UserWarning: `huggingface_hub` cache-system uses symlinks by default to efficiently store duplicated files but your machine does not support them in C:\\Users\\jonat\\.cache\\huggingface\\hub\\models--Helsinki-NLP--opus-mt-en-fr. Caching files will still work but in a degraded version that might require more space on your disk. This warning can be disabled by setting the `HF_HUB_DISABLE_SYMLINKS_WARNING` environment variable. For more details, see https://huggingface.co/docs/huggingface_hub/how-to-cache#limitations.\n",
      "To support symlinks on Windows, you either need to activate Developer Mode or to run Python as an administrator. In order to activate developer mode, see this article: https://docs.microsoft.com/en-us/windows/apps/get-started/enable-your-device-for-development\n",
      "  warnings.warn(message)\n",
      "c:\\Users\\jonat\\anaconda3\\envs\\NLP3\\Lib\\site-packages\\huggingface_hub\\file_download.py:144: UserWarning: `huggingface_hub` cache-system uses symlinks by default to efficiently store duplicated files but your machine does not support them in C:\\Users\\jonat\\.cache\\huggingface\\hub\\models--Helsinki-NLP--opus-mt-fr-en. Caching files will still work but in a degraded version that might require more space on your disk. This warning can be disabled by setting the `HF_HUB_DISABLE_SYMLINKS_WARNING` environment variable. For more details, see https://huggingface.co/docs/huggingface_hub/how-to-cache#limitations.\n",
      "To support symlinks on Windows, you either need to activate Developer Mode or to run Python as an administrator. In order to activate developer mode, see this article: https://docs.microsoft.com/en-us/windows/apps/get-started/enable-your-device-for-development\n",
      "  warnings.warn(message)\n",
      "Back-translation:   0%|          | 1/1000 [03:49<63:35:45, 229.17s/it]"
     ]
    },
    {
     "name": "stdout",
     "output_type": "stream",
     "text": [
      "Although the follow-up was the unsuccessful single \"Black Veils of Melancholy\", they had a success again that year with a pop song written by Marty Wilde and Ronnie Scott, \"Ice in the Sun\", which climbed to number eight.\n",
      "\n",
      "--- MarianMT (en→fr→en) Paraphrasing ---\n"
     ]
    },
    {
     "name": "stderr",
     "output_type": "stream",
     "text": [
      "Back-translation:   0%|          | 2/1000 [03:56<27:20:31, 98.63s/it] "
     ]
    },
    {
     "name": "stdout",
     "output_type": "stream",
     "text": [
      "The victorious Roman general, Publius Cornelius Sulla, left the lives of the Athenians and did not sell them in slavery; he also restored the previous government in 86 B.C.\n",
      "\n",
      "--- MarianMT (en→fr→en) Paraphrasing ---\n"
     ]
    },
    {
     "name": "stderr",
     "output_type": "stream",
     "text": [
      "Back-translation:   0%|          | 3/1000 [04:01<15:32:31, 56.12s/it]"
     ]
    },
    {
     "name": "stdout",
     "output_type": "stream",
     "text": [
      "As such meritocracy can be based on moral character or innate abilities such as intelligence.\n",
      "\n",
      "--- MarianMT (en→fr→en) Paraphrasing ---\n"
     ]
    },
    {
     "name": "stderr",
     "output_type": "stream",
     "text": [
      "Back-translation:   0%|          | 4/1000 [04:07<9:58:19, 36.04s/it] "
     ]
    },
    {
     "name": "stdout",
     "output_type": "stream",
     "text": [
      "A commercial success, the album obtained platinum status more than a year later.\n",
      "\n",
      "--- MarianMT (en→fr→en) Paraphrasing ---\n"
     ]
    },
    {
     "name": "stderr",
     "output_type": "stream",
     "text": [
      "Back-translation:   0%|          | 5/1000 [04:12<6:52:12, 24.86s/it]"
     ]
    },
    {
     "name": "stdout",
     "output_type": "stream",
     "text": [
      "Her second marriage (1948-1955) was for singer Carol Ames.\n",
      "\n",
      "--- MarianMT (en→fr→en) Paraphrasing ---\n"
     ]
    },
    {
     "name": "stderr",
     "output_type": "stream",
     "text": [
      "Back-translation:   1%|          | 6/1000 [04:19<5:13:26, 18.92s/it]"
     ]
    },
    {
     "name": "stdout",
     "output_type": "stream",
     "text": [
      "They were designed to form a miniature royal palace, which could, if necessary, be sealed from the rest of the castle and supplied from the oriental gate by the sea almost indefinitely, although in practice they were rarely used by the royal family.\n",
      "\n",
      "--- MarianMT (en→fr→en) Paraphrasing ---\n"
     ]
    },
    {
     "name": "stderr",
     "output_type": "stream",
     "text": [
      "Back-translation:   1%|          | 7/1000 [04:25<4:04:30, 14.77s/it]"
     ]
    },
    {
     "name": "stdout",
     "output_type": "stream",
     "text": [
      "When Frodo Baggins left Shire at the beginning of \"The Lord of the Rings\" in S.R. 1418, Thain's office had existed for 1,039 years.\n",
      "\n",
      "--- MarianMT (en→fr→en) Paraphrasing ---\n"
     ]
    },
    {
     "name": "stderr",
     "output_type": "stream",
     "text": [
      "Back-translation:   1%|          | 8/1000 [04:33<3:24:48, 12.39s/it]"
     ]
    },
    {
     "name": "stdout",
     "output_type": "stream",
     "text": [
      "Although the voters of Athenian democracy had the same opportunity to express their views and influence the discussion, they did not always succeed, and often the minority was forced to vote in favour of a motion they disagreed with.\n",
      "\n",
      "--- MarianMT (en→fr→en) Paraphrasing ---\n"
     ]
    },
    {
     "name": "stderr",
     "output_type": "stream",
     "text": [
      "Back-translation:   1%|          | 9/1000 [04:38<2:49:12, 10.24s/it]"
     ]
    },
    {
     "name": "stdout",
     "output_type": "stream",
     "text": [
      "The ensemble ended with \"Cancer\", sometimes with confetti and fireworks.\n",
      "\n",
      "--- MarianMT (en→fr→en) Paraphrasing ---\n"
     ]
    },
    {
     "name": "stderr",
     "output_type": "stream",
     "text": [
      "Back-translation:   1%|          | 10/1000 [04:44<2:27:15,  8.93s/it]"
     ]
    },
    {
     "name": "stdout",
     "output_type": "stream",
     "text": [
      "On the other hand, paid tutoring arrangements can create or further highlight socio-economic disparities among low-income, middle-income and high-income populations.\n",
      "\n",
      "--- MarianMT (en→fr→en) Paraphrasing ---\n"
     ]
    },
    {
     "name": "stderr",
     "output_type": "stream",
     "text": [
      "Back-translation:   1%|          | 11/1000 [04:49<2:08:19,  7.79s/it]"
     ]
    },
    {
     "name": "stdout",
     "output_type": "stream",
     "text": [
      "One of the main concerns about meritocracy is the imprecise definition of merit.\n",
      "\n",
      "--- MarianMT (en→fr→en) Paraphrasing ---\n"
     ]
    },
    {
     "name": "stderr",
     "output_type": "stream",
     "text": [
      "Back-translation:   1%|          | 12/1000 [04:56<2:04:45,  7.58s/it]"
     ]
    },
    {
     "name": "stdout",
     "output_type": "stream",
     "text": [
      "Low-weight babies at birth are 20 times more likely to die in their first month of life than normal-weight babies, and are exposed to an increased risk of life-long disabilities such as mental retardation and cerebral paralysis.\n",
      "\n",
      "--- MarianMT (en→fr→en) Paraphrasing ---\n"
     ]
    },
    {
     "name": "stderr",
     "output_type": "stream",
     "text": [
      "Back-translation:   1%|▏         | 13/1000 [05:07<2:20:00,  8.51s/it]"
     ]
    },
    {
     "name": "stdout",
     "output_type": "stream",
     "text": [
      "Behind the large hall was the tower used by the constable for the detention of prisoners, including a special room for the detention of prisoners, called the \"chambre des debteurs\" (\"chambre des decades\") in the 16th century, and an underground dungeon.\n",
      "\n",
      "--- MarianMT (en→fr→en) Paraphrasing ---\n"
     ]
    },
    {
     "name": "stderr",
     "output_type": "stream",
     "text": [
      "Back-translation:   1%|▏         | 14/1000 [05:12<2:03:21,  7.51s/it]"
     ]
    },
    {
     "name": "stdout",
     "output_type": "stream",
     "text": [
      "In 1642, the English civil war broke out between Charles' royalist supporters and Parliament.\n",
      "\n",
      "--- MarianMT (en→fr→en) Paraphrasing ---\n"
     ]
    },
    {
     "name": "stderr",
     "output_type": "stream",
     "text": [
      "Back-translation:   2%|▏         | 15/1000 [05:21<2:09:48,  7.91s/it]"
     ]
    },
    {
     "name": "stdout",
     "output_type": "stream",
     "text": [
      "A second notable monument is the \"Colonne Phoenix\" (illustrated in the header photograph above), a sculpted Corinthian column of Portland Stone located in the centre on Chesterfield Avenue, the park's main access road, at the junction of the Acres road and the Phoenix, the main entrance of Áras an Uachtaráin.\n",
      "\n",
      "--- MarianMT (en→fr→en) Paraphrasing ---\n"
     ]
    },
    {
     "name": "stderr",
     "output_type": "stream",
     "text": [
      "Back-translation:   2%|▏         | 16/1000 [05:28<2:03:20,  7.52s/it]"
     ]
    },
    {
     "name": "stdout",
     "output_type": "stream",
     "text": [
      "In addition to his welcoming functions, he appeared as a panelist/celebrate guest in many other games, including regular appearances on \"I've Got a Secret\" and \"To Tell the Truth\".\n",
      "\n",
      "--- MarianMT (en→fr→en) Paraphrasing ---\n"
     ]
    },
    {
     "name": "stderr",
     "output_type": "stream",
     "text": [
      "Back-translation:   2%|▏         | 17/1000 [05:33<1:53:50,  6.95s/it]"
     ]
    },
    {
     "name": "stdout",
     "output_type": "stream",
     "text": [
      "It has been the official residence of the United States Ambassador to Ireland since February 1927 and was until the early 1960s the United States Embassy in Dublin.\n",
      "\n",
      "--- MarianMT (en→fr→en) Paraphrasing ---\n"
     ]
    },
    {
     "name": "stderr",
     "output_type": "stream",
     "text": [
      "Back-translation:   2%|▏         | 18/1000 [05:38<1:41:46,  6.22s/it]"
     ]
    },
    {
     "name": "stdout",
     "output_type": "stream",
     "text": [
      "Irish immigrant Patrick Carr died two weeks later.\n",
      "\n",
      "--- MarianMT (en→fr→en) Paraphrasing ---\n"
     ]
    },
    {
     "name": "stderr",
     "output_type": "stream",
     "text": [
      "Back-translation:   2%|▏         | 19/1000 [05:46<1:52:35,  6.89s/it]"
     ]
    },
    {
     "name": "stdout",
     "output_type": "stream",
     "text": [
      "He also sang and composed the song \"DUI\" (\"Driving Under the Influence\"), which was recorded for Green Day's fifth studio album \"Nimrod\" (1997) and was to be released on the compilation album \"Shenanigans\" in 2002, but was omitted and can only be found on uncontrollable promotional copies of the album and online.\n",
      "\n",
      "--- MarianMT (en→fr→en) Paraphrasing ---\n"
     ]
    },
    {
     "name": "stderr",
     "output_type": "stream",
     "text": [
      "Back-translation:   2%|▏         | 20/1000 [05:51<1:39:28,  6.09s/it]"
     ]
    },
    {
     "name": "stdout",
     "output_type": "stream",
     "text": [
      "Never feel overwhelmed by a melody.\"\n",
      "\n",
      "--- MarianMT (en→fr→en) Paraphrasing ---\n"
     ]
    },
    {
     "name": "stderr",
     "output_type": "stream",
     "text": [
      "Back-translation:   2%|▏         | 21/1000 [05:55<1:33:00,  5.70s/it]"
     ]
    },
    {
     "name": "stdout",
     "output_type": "stream",
     "text": [
      "EGMNow ranked the 16th game in their list of the 25 Best Games of 2017.\n",
      "\n",
      "--- MarianMT (en→fr→en) Paraphrasing ---\n"
     ]
    },
    {
     "name": "stderr",
     "output_type": "stream",
     "text": [
      "Back-translation:   2%|▏         | 22/1000 [06:00<1:29:45,  5.51s/it]"
     ]
    },
    {
     "name": "stdout",
     "output_type": "stream",
     "text": [
      "During the first check, Schleck took six seconds, cutting Contador's overall lead to just two seconds on the road.\n",
      "\n",
      "--- MarianMT (en→fr→en) Paraphrasing ---\n"
     ]
    },
    {
     "name": "stderr",
     "output_type": "stream",
     "text": [
      "Back-translation:   2%|▏         | 23/1000 [06:05<1:26:08,  5.29s/it]"
     ]
    },
    {
     "name": "stdout",
     "output_type": "stream",
     "text": [
      "In the 21st century, the ruined castle was managed by Cadw as a tourist attraction.\n",
      "\n",
      "--- MarianMT (en→fr→en) Paraphrasing ---\n"
     ]
    },
    {
     "name": "stderr",
     "output_type": "stream",
     "text": [
      "Back-translation:   2%|▏         | 24/1000 [06:11<1:27:22,  5.37s/it]"
     ]
    },
    {
     "name": "stdout",
     "output_type": "stream",
     "text": [
      "1950 started with the club in turmoil, The club named Bob McCaskill as coach and he wanted Kevin Curran to be captain.\n",
      "\n",
      "--- MarianMT (en→fr→en) Paraphrasing ---\n"
     ]
    },
    {
     "name": "stderr",
     "output_type": "stream",
     "text": [
      "Back-translation:   2%|▎         | 25/1000 [06:16<1:26:21,  5.31s/it]"
     ]
    },
    {
     "name": "stdout",
     "output_type": "stream",
     "text": [
      "On August 19, Richard went to Percy at Flint Castle, promising to abdicate if his life was spared.\n",
      "\n",
      "--- MarianMT (en→fr→en) Paraphrasing ---\n"
     ]
    },
    {
     "name": "stderr",
     "output_type": "stream",
     "text": [
      "Back-translation:   3%|▎         | 26/1000 [06:23<1:34:42,  5.83s/it]"
     ]
    },
    {
     "name": "stdout",
     "output_type": "stream",
     "text": [
      "Turner and his colleagues interpreted the presence of feathers on \"Velociraptor\" as evidence against the idea that the largest, without theft, lost their feathers secondary due to the larger body size.\n",
      "\n",
      "--- MarianMT (en→fr→en) Paraphrasing ---\n"
     ]
    },
    {
     "name": "stderr",
     "output_type": "stream",
     "text": [
      "Back-translation:   3%|▎         | 27/1000 [06:29<1:34:27,  5.82s/it]"
     ]
    },
    {
     "name": "stdout",
     "output_type": "stream",
     "text": [
      "For him, the Shire was a destination, to keep a benevolent eye on the general population, and to visit particular Hobbits of his knowledge.\n",
      "\n",
      "--- MarianMT (en→fr→en) Paraphrasing ---\n"
     ]
    },
    {
     "name": "stderr",
     "output_type": "stream",
     "text": [
      "Back-translation:   3%|▎         | 28/1000 [06:35<1:34:08,  5.81s/it]"
     ]
    },
    {
     "name": "stdout",
     "output_type": "stream",
     "text": [
      "Edward invaded with a huge army, pushing north of Carmarthen and west of Montgomery and Chester.\n",
      "\n",
      "--- MarianMT (en→fr→en) Paraphrasing ---\n"
     ]
    },
    {
     "name": "stderr",
     "output_type": "stream",
     "text": [
      "Back-translation:   3%|▎         | 29/1000 [06:41<1:36:03,  5.94s/it]"
     ]
    },
    {
     "name": "stdout",
     "output_type": "stream",
     "text": [
      "The columnist Walter of Guisborough suggested that, given the austere conditions, Edward refused to drink his own wine supply and shared it among the garrisons.\n",
      "\n",
      "--- MarianMT (en→fr→en) Paraphrasing ---\n"
     ]
    },
    {
     "name": "stderr",
     "output_type": "stream",
     "text": [
      "Back-translation:   3%|▎         | 30/1000 [06:48<1:41:27,  6.28s/it]"
     ]
    },
    {
     "name": "stdout",
     "output_type": "stream",
     "text": [
      "In 1655, the Council of State appointed by Parliament ordered that the castle be flouted, or put beyond military use: the tower of Bakehouse was probably deliberately partially shot down at that time as part of the bandage.\n",
      "\n",
      "--- MarianMT (en→fr→en) Paraphrasing ---\n"
     ]
    },
    {
     "name": "stderr",
     "output_type": "stream",
     "text": [
      "Back-translation:   3%|▎         | 31/1000 [06:53<1:35:02,  5.88s/it]"
     ]
    },
    {
     "name": "stdout",
     "output_type": "stream",
     "text": [
      "Saint Kitts and Nevis became fully independent on 19 September 1983.\n",
      "\n",
      "--- MarianMT (en→fr→en) Paraphrasing ---\n"
     ]
    },
    {
     "name": "stderr",
     "output_type": "stream",
     "text": [
      "Back-translation:   3%|▎         | 32/1000 [07:00<1:40:11,  6.21s/it]"
     ]
    },
    {
     "name": "stdout",
     "output_type": "stream",
     "text": [
      "They were designed to form a miniature royal palace, which could, if necessary, be sealed from the rest of the castle and supplied from the oriental gate by the sea almost indefinitely, although in practice they were rarely used by the royal family.\n",
      "\n",
      "--- MarianMT (en→fr→en) Paraphrasing ---\n"
     ]
    },
    {
     "name": "stderr",
     "output_type": "stream",
     "text": [
      "Back-translation:   3%|▎         | 33/1000 [07:06<1:38:11,  6.09s/it]"
     ]
    },
    {
     "name": "stdout",
     "output_type": "stream",
     "text": [
      "In addition, all the selected citizens were examined before taking office (\"dokimasia\") at that time, they could be disqualified.\n",
      "\n",
      "--- MarianMT (en→fr→en) Paraphrasing ---\n"
     ]
    },
    {
     "name": "stderr",
     "output_type": "stream",
     "text": [
      "Back-translation:   3%|▎         | 34/1000 [07:11<1:36:40,  6.00s/it]"
     ]
    },
    {
     "name": "stdout",
     "output_type": "stream",
     "text": [
      "This influence was based on his relationship with the Assembly, a relationship which, in the first place, was simply in the right of every citizen to stand and speak before the people.\n",
      "\n",
      "--- MarianMT (en→fr→en) Paraphrasing ---\n"
     ]
    },
    {
     "name": "stderr",
     "output_type": "stream",
     "text": [
      "Back-translation:   4%|▎         | 35/1000 [07:18<1:37:13,  6.05s/it]"
     ]
    },
    {
     "name": "stdout",
     "output_type": "stream",
     "text": [
      "In 1925, Milhaud married his cousin, Madeleine (1902–2008), an actress and recitalr.\n",
      "\n",
      "--- MarianMT (en→fr→en) Paraphrasing ---\n"
     ]
    },
    {
     "name": "stderr",
     "output_type": "stream",
     "text": [
      "Back-translation:   4%|▎         | 36/1000 [07:23<1:34:31,  5.88s/it]"
     ]
    },
    {
     "name": "stdout",
     "output_type": "stream",
     "text": [
      "In March 1401 Rhys ap Tudur and his brother Gwilym, cousins of Owain Glynder, undertook a surprise attack on Conwy Castle.\n",
      "\n",
      "--- MarianMT (en→fr→en) Paraphrasing ---\n"
     ]
    },
    {
     "name": "stderr",
     "output_type": "stream",
     "text": [
      "Back-translation:   4%|▎         | 37/1000 [07:28<1:30:57,  5.67s/it]"
     ]
    },
    {
     "name": "stdout",
     "output_type": "stream",
     "text": [
      "Such decisions affect the development of the protagonist's relations with the female characters Sayori, Yuri, Natsuki and Monika.\n",
      "\n",
      "--- MarianMT (en→fr→en) Paraphrasing ---\n"
     ]
    },
    {
     "name": "stderr",
     "output_type": "stream",
     "text": [
      "Back-translation:   4%|▍         | 38/1000 [07:33<1:24:46,  5.29s/it]"
     ]
    },
    {
     "name": "stdout",
     "output_type": "stream",
     "text": [
      "Darius Milhaud () is a French composer, conductor and professor.\n",
      "\n",
      "--- MarianMT (en→fr→en) Paraphrasing ---\n"
     ]
    },
    {
     "name": "stderr",
     "output_type": "stream",
     "text": [
      "Back-translation:   4%|▍         | 39/1000 [07:38<1:23:46,  5.23s/it]"
     ]
    },
    {
     "name": "stdout",
     "output_type": "stream",
     "text": [
      "British troops had been stationed in Massachusetts Bay Province since 1768 to support Crown-appointed officials and to enforce unpopular parliamentary laws.\n",
      "\n",
      "--- MarianMT (en→fr→en) Paraphrasing ---\n"
     ]
    },
    {
     "name": "stderr",
     "output_type": "stream",
     "text": [
      "Back-translation:   4%|▍         | 40/1000 [07:43<1:23:23,  5.21s/it]"
     ]
    },
    {
     "name": "stdout",
     "output_type": "stream",
     "text": [
      "Sir John Weston, his chamberlain, made repairs, building new stone support arches for the large hall and other parts of the castle.\n",
      "\n",
      "--- MarianMT (en→fr→en) Paraphrasing ---\n"
     ]
    },
    {
     "name": "stderr",
     "output_type": "stream",
     "text": [
      "Back-translation:   4%|▍         | 41/1000 [07:48<1:24:47,  5.30s/it]"
     ]
    },
    {
     "name": "stdout",
     "output_type": "stream",
     "text": [
      "Subsequently, the castle was partially weakened by Parliament to prevent it from being used in any other revolt, and was finally completely ruined in 1665 when its remainder of iron and lead was stripped and sold.\n",
      "\n",
      "--- MarianMT (en→fr→en) Paraphrasing ---\n"
     ]
    },
    {
     "name": "stderr",
     "output_type": "stream",
     "text": [
      "Back-translation:   4%|▍         | 42/1000 [07:53<1:20:15,  5.03s/it]"
     ]
    },
    {
     "name": "stdout",
     "output_type": "stream",
     "text": [
      "The main entrance to the castle passes through the western barbican, an external defense in front of the main gate.\n",
      "\n",
      "--- MarianMT (en→fr→en) Paraphrasing ---\n"
     ]
    },
    {
     "name": "stderr",
     "output_type": "stream",
     "text": [
      "Back-translation:   4%|▍         | 43/1000 [08:00<1:31:54,  5.76s/it]"
     ]
    },
    {
     "name": "stdout",
     "output_type": "stream",
     "text": [
      ", \"To tell the truth\", \"Personality\", \"The Cross-Wits\", \"Password\", \"Password Plus\", \"game game\", \"Tatletales\" (with his wife Ann), \"Break the Bank\", \"Shoot for the Stars\", and all pre- $100,000 versions of \"Pyramid\".\n",
      "\n",
      "--- MarianMT (en→fr→en) Paraphrasing ---\n"
     ]
    },
    {
     "name": "stderr",
     "output_type": "stream",
     "text": [
      "Back-translation:   4%|▍         | 44/1000 [08:05<1:25:49,  5.39s/it]"
     ]
    },
    {
     "name": "stdout",
     "output_type": "stream",
     "text": [
      "The four towers that protected the inner quarter contained service facilities, the chapel tower containing the private royal chapel.\n",
      "\n",
      "--- MarianMT (en→fr→en) Paraphrasing ---\n"
     ]
    },
    {
     "name": "stderr",
     "output_type": "stream",
     "text": [
      "Back-translation:   4%|▍         | 45/1000 [08:27<2:47:25, 10.52s/it]"
     ]
    },
    {
     "name": "stdout",
     "output_type": "stream",
     "text": [
      "The word \"democracy\" (Greek: γημοκρατκα) combines the elements \"demos\" (-----------------------------------------------------------------------------------------------------------------------------------------------------------------------------------------------------------------------------------------------------------------------------------------------------------------------------------------------------------------------------------------------------------------------------------------------------------------------------\n",
      "\n",
      "--- MarianMT (en→fr→en) Paraphrasing ---\n"
     ]
    },
    {
     "name": "stderr",
     "output_type": "stream",
     "text": [
      "Back-translation:   5%|▍         | 46/1000 [08:34<2:28:27,  9.34s/it]"
     ]
    },
    {
     "name": "stdout",
     "output_type": "stream",
     "text": [
      "When he returned to television, especially his position on the panel for \"To Tell The Truth\", his physical appearance had changed radically; in addition to letting his hair grow, his pancreatitis had caused him to lose more than 30 pounds, leaving his face gloved and wrinkled.\n",
      "\n",
      "--- MarianMT (en→fr→en) Paraphrasing ---\n"
     ]
    },
    {
     "name": "stderr",
     "output_type": "stream",
     "text": [
      "Back-translation:   5%|▍         | 47/1000 [08:39<2:08:38,  8.10s/it]"
     ]
    },
    {
     "name": "stdout",
     "output_type": "stream",
     "text": [
      "Henry VIII performed restoration work in the 1520s and 1530s, during which the castle was used as a prison, depot and as a potential residence for visitors.\n",
      "\n",
      "--- MarianMT (en→fr→en) Paraphrasing ---\n"
     ]
    },
    {
     "name": "stderr",
     "output_type": "stream",
     "text": [
      "Back-translation:   5%|▍         | 48/1000 [08:44<1:52:07,  7.07s/it]"
     ]
    },
    {
     "name": "stdout",
     "output_type": "stream",
     "text": [
      "Edward invaded with a huge army, pushing north of Carmarthen and west of Montgomery and Chester.\n",
      "\n",
      "--- MarianMT (en→fr→en) Paraphrasing ---\n"
     ]
    },
    {
     "name": "stderr",
     "output_type": "stream",
     "text": [
      "Back-translation:   5%|▍         | 49/1000 [08:50<1:47:06,  6.76s/it]"
     ]
    },
    {
     "name": "stdout",
     "output_type": "stream",
     "text": [
      "For a few years, the castle formed the main residence to visit older personalities, and welcomed Edward's son, the future Edward II in 1301 when he visited the area to receive tributes from Welsh leaders.\n",
      "\n",
      "--- MarianMT (en→fr→en) Paraphrasing ---\n"
     ]
    },
    {
     "name": "stderr",
     "output_type": "stream",
     "text": [
      "Back-translation:   5%|▌         | 50/1000 [08:53<1:32:12,  5.82s/it]"
     ]
    },
    {
     "name": "stdout",
     "output_type": "stream",
     "text": [
      "Shire was a voluntarily ordered company.\n",
      "\n",
      "--- MarianMT (en→fr→en) Paraphrasing ---\n"
     ]
    },
    {
     "name": "stderr",
     "output_type": "stream",
     "text": [
      "Back-translation:   5%|▌         | 51/1000 [08:58<1:25:50,  5.43s/it]"
     ]
    },
    {
     "name": "stdout",
     "output_type": "stream",
     "text": [
      "The game was first distributed via itch.io, then became available on Steam.\n",
      "\n",
      "--- MarianMT (en→fr→en) Paraphrasing ---\n"
     ]
    },
    {
     "name": "stderr",
     "output_type": "stream",
     "text": [
      "Back-translation:   5%|▌         | 52/1000 [09:03<1:25:16,  5.40s/it]"
     ]
    },
    {
     "name": "stdout",
     "output_type": "stream",
     "text": [
      "The province of La Laguna includes the modern province of Laguna, as well as parts of what is now known as Rizal and Quezon.\n",
      "\n",
      "--- MarianMT (en→fr→en) Paraphrasing ---\n"
     ]
    },
    {
     "name": "stderr",
     "output_type": "stream",
     "text": [
      "Back-translation:   5%|▌         | 53/1000 [09:07<1:19:10,  5.02s/it]"
     ]
    },
    {
     "name": "stdout",
     "output_type": "stream",
     "text": [
      "North Melbourne competed in their fifth great, successive final and were the defending premiers.\n",
      "\n",
      "--- MarianMT (en→fr→en) Paraphrasing ---\n"
     ]
    },
    {
     "name": "stderr",
     "output_type": "stream",
     "text": [
      "Back-translation:   5%|▌         | 54/1000 [09:11<1:13:31,  4.66s/it]"
     ]
    },
    {
     "name": "stdout",
     "output_type": "stream",
     "text": [
      "Cricket is common in Saint Kitts and Nevis.\n",
      "\n",
      "--- MarianMT (en→fr→en) Paraphrasing ---\n"
     ]
    },
    {
     "name": "stderr",
     "output_type": "stream",
     "text": [
      "Back-translation:   6%|▌         | 55/1000 [09:15<1:11:33,  4.54s/it]"
     ]
    },
    {
     "name": "stdout",
     "output_type": "stream",
     "text": [
      "Since moving away from downtown, St. Xavier has significantly expanded its facilities.\n",
      "\n",
      "--- MarianMT (en→fr→en) Paraphrasing ---\n"
     ]
    },
    {
     "name": "stderr",
     "output_type": "stream",
     "text": [
      "Back-translation:   6%|▌         | 56/1000 [09:20<1:13:26,  4.67s/it]"
     ]
    },
    {
     "name": "stdout",
     "output_type": "stream",
     "text": [
      "The magazine's fort, southeast of the park, marks the location where the Phoenix Lodge was built by Sir Edward Fisher in 1611.\n",
      "\n",
      "--- MarianMT (en→fr→en) Paraphrasing ---\n"
     ]
    },
    {
     "name": "stderr",
     "output_type": "stream",
     "text": [
      "Back-translation:   6%|▌         | 57/1000 [09:27<1:20:34,  5.13s/it]"
     ]
    },
    {
     "name": "stdout",
     "output_type": "stream",
     "text": [
      "Among the melodies is, in fact, a carnival song called \"The Bull on the Roof\" (in Portuguese, which he translated into French \"Le bouf sur le Roof\", known in English as \"The Ox on the Roof\").\n",
      "\n",
      "--- MarianMT (en→fr→en) Paraphrasing ---\n"
     ]
    },
    {
     "name": "stderr",
     "output_type": "stream",
     "text": [
      "Back-translation:   6%|▌         | 58/1000 [09:31<1:16:34,  4.88s/it]"
     ]
    },
    {
     "name": "stdout",
     "output_type": "stream",
     "text": [
      "It was his third Tour de France in three consecutive entries, after winning it in 2007 and 2009.\n",
      "\n",
      "--- MarianMT (en→fr→en) Paraphrasing ---\n"
     ]
    },
    {
     "name": "stderr",
     "output_type": "stream",
     "text": [
      "Back-translation:   6%|▌         | 59/1000 [09:35<1:12:43,  4.64s/it]"
     ]
    },
    {
     "name": "stdout",
     "output_type": "stream",
     "text": [
      "It was not until 1972 that Daniel Bell used the term positively.\n",
      "\n",
      "--- MarianMT (en→fr→en) Paraphrasing ---\n"
     ]
    },
    {
     "name": "stderr",
     "output_type": "stream",
     "text": [
      "Back-translation:   6%|▌         | 60/1000 [09:40<1:12:41,  4.64s/it]"
     ]
    },
    {
     "name": "stdout",
     "output_type": "stream",
     "text": [
      "A song, \"Beware the Jabberwock\", was also written.\n",
      "\n",
      "--- MarianMT (en→fr→en) Paraphrasing ---\n"
     ]
    },
    {
     "name": "stderr",
     "output_type": "stream",
     "text": [
      "Back-translation:   6%|▌         | 61/1000 [09:45<1:17:05,  4.93s/it]"
     ]
    },
    {
     "name": "stdout",
     "output_type": "stream",
     "text": [
      "The soldiers were Corporal William Wemms and soldiers Hugh Montgomery, John Carroll, William McCauley, William Warren and Matthew Kilroy, accompanied by Preston.\n",
      "\n",
      "--- MarianMT (en→fr→en) Paraphrasing ---\n"
     ]
    },
    {
     "name": "stderr",
     "output_type": "stream",
     "text": [
      "Back-translation:   6%|▌         | 62/1000 [09:51<1:20:36,  5.16s/it]"
     ]
    },
    {
     "name": "stdout",
     "output_type": "stream",
     "text": [
      "Once built, the barbican was reached over a drawbridge and a masonry ramp that came up abruptly from the city below; the modern trail cuts east along the exterior of the walls.\n",
      "\n",
      "--- MarianMT (en→fr→en) Paraphrasing ---\n"
     ]
    },
    {
     "name": "stderr",
     "output_type": "stream",
     "text": [
      "Back-translation:   6%|▋         | 63/1000 [09:57<1:22:48,  5.30s/it]"
     ]
    },
    {
     "name": "stdout",
     "output_type": "stream",
     "text": [
      "It is thought that Christopher Columbus, the first European to see the islands in 1493, named the largest island \"San Cristóbal\", according to Saint Christopher, his patron saint and the patron saint of travellers.\n",
      "\n",
      "--- MarianMT (en→fr→en) Paraphrasing ---\n"
     ]
    },
    {
     "name": "stderr",
     "output_type": "stream",
     "text": [
      "Back-translation:   6%|▋         | 64/1000 [10:01<1:17:41,  4.98s/it]"
     ]
    },
    {
     "name": "stdout",
     "output_type": "stream",
     "text": [
      "Conwy Castle is a fortification in Conwy, northern Wales.\n",
      "\n",
      "--- MarianMT (en→fr→en) Paraphrasing ---\n"
     ]
    },
    {
     "name": "stderr",
     "output_type": "stream",
     "text": [
      "Back-translation:   6%|▋         | 65/1000 [10:05<1:12:49,  4.67s/it]"
     ]
    },
    {
     "name": "stdout",
     "output_type": "stream",
     "text": [
      "An unauthorized biography DVD \"Things that make you Go MMM!\"\n",
      "\n",
      "--- MarianMT (en→fr→en) Paraphrasing ---\n"
     ]
    },
    {
     "name": "stderr",
     "output_type": "stream",
     "text": [
      "Back-translation:   7%|▋         | 66/1000 [10:10<1:15:56,  4.88s/it]"
     ]
    },
    {
     "name": "stdout",
     "output_type": "stream",
     "text": [
      "Already protected as a planned monument, it was also declared in 1986 to the World Heritage Site of the \"Châteaux et murals de ville du King Edward à Gwynedd\".\n",
      "\n",
      "--- MarianMT (en→fr→en) Paraphrasing ---\n"
     ]
    },
    {
     "name": "stderr",
     "output_type": "stream",
     "text": [
      "Back-translation:   7%|▋         | 67/1000 [10:14<1:13:25,  4.72s/it]"
     ]
    },
    {
     "name": "stdout",
     "output_type": "stream",
     "text": [
      "The oligarchy lasted only four months before being replaced by a more democratic government.\n",
      "\n",
      "--- MarianMT (en→fr→en) Paraphrasing ---\n"
     ]
    },
    {
     "name": "stderr",
     "output_type": "stream",
     "text": [
      "Back-translation:   7%|▋         | 68/1000 [10:20<1:16:08,  4.90s/it]"
     ]
    },
    {
     "name": "stdout",
     "output_type": "stream",
     "text": [
      "Armstrong's arrival in the 2010 Tour – originally 23rd; 22nd at the time of his striptease – was also stripped.\n",
      "\n",
      "--- MarianMT (en→fr→en) Paraphrasing ---\n"
     ]
    },
    {
     "name": "stderr",
     "output_type": "stream",
     "text": [
      "Back-translation:   7%|▋         | 69/1000 [10:25<1:16:01,  4.90s/it]"
     ]
    },
    {
     "name": "stdout",
     "output_type": "stream",
     "text": [
      "The interactions of the characters with the protagonist are also influenced by a mini-game in which the player is required to compose a poem from a set of individual words.\n",
      "\n",
      "--- MarianMT (en→fr→en) Paraphrasing ---\n"
     ]
    },
    {
     "name": "stderr",
     "output_type": "stream",
     "text": [
      "Back-translation:   7%|▋         | 70/1000 [10:30<1:17:12,  4.98s/it]"
     ]
    },
    {
     "name": "stdout",
     "output_type": "stream",
     "text": [
      "Malignant flies and dragonflies have none of the smell centres in their brains found in Neoptera.\n",
      "\n",
      "--- MarianMT (en→fr→en) Paraphrasing ---\n"
     ]
    },
    {
     "name": "stderr",
     "output_type": "stream",
     "text": [
      "Back-translation:   7%|▋         | 71/1000 [10:35<1:17:42,  5.02s/it]"
     ]
    },
    {
     "name": "stdout",
     "output_type": "stream",
     "text": [
      "The rectangular castle is built from local stone and imported and occupies a coastal ridge, originally overlooking an important crossing point over the Conwy River.\n",
      "\n",
      "--- MarianMT (en→fr→en) Paraphrasing ---\n"
     ]
    },
    {
     "name": "stderr",
     "output_type": "stream",
     "text": [
      "Back-translation:   7%|▋         | 72/1000 [10:39<1:14:41,  4.83s/it]"
     ]
    },
    {
     "name": "stdout",
     "output_type": "stream",
     "text": [
      "It is also an advantage from his point of view that he proposes to favour not the wise, but the educated.\n",
      "\n",
      "--- MarianMT (en→fr→en) Paraphrasing ---\n"
     ]
    },
    {
     "name": "stderr",
     "output_type": "stream",
     "text": [
      "Back-translation:   7%|▋         | 73/1000 [10:44<1:12:59,  4.72s/it]"
     ]
    },
    {
     "name": "stdout",
     "output_type": "stream",
     "text": [
      "About three quarters of the population live in Saint Kitts, of which 15,500 live in the capital, Basseterre.\n",
      "\n",
      "--- MarianMT (en→fr→en) Paraphrasing ---\n"
     ]
    },
    {
     "name": "stderr",
     "output_type": "stream",
     "text": [
      "Back-translation:   7%|▋         | 74/1000 [10:49<1:12:52,  4.72s/it]"
     ]
    },
    {
     "name": "stdout",
     "output_type": "stream",
     "text": [
      "The day after the siege, Colonel John Carter was appointed governor of the castle and further repairs were made.\n",
      "\n",
      "--- MarianMT (en→fr→en) Paraphrasing ---\n"
     ]
    },
    {
     "name": "stderr",
     "output_type": "stream",
     "text": [
      "Back-translation:   8%|▊         | 75/1000 [10:55<1:21:48,  5.31s/it]"
     ]
    },
    {
     "name": "stdout",
     "output_type": "stream",
     "text": [
      "When Alfred approaches similar phases of Batman's life (in which he refers to all the years of a Batman live action film), he mentions \"the one who was weird in 1966\" in which the film briefly shows a Batman video by Adam West dancing in an episode.\n",
      "\n",
      "--- MarianMT (en→fr→en) Paraphrasing ---\n"
     ]
    },
    {
     "name": "stderr",
     "output_type": "stream",
     "text": [
      "Back-translation:   8%|▊         | 76/1000 [10:59<1:16:06,  4.94s/it]"
     ]
    },
    {
     "name": "stdout",
     "output_type": "stream",
     "text": [
      "We can still see the stone stubs and arches of the 1340s.\n",
      "\n",
      "--- MarianMT (en→fr→en) Paraphrasing ---\n"
     ]
    },
    {
     "name": "stderr",
     "output_type": "stream",
     "text": [
      "Back-translation:   8%|▊         | 77/1000 [11:05<1:20:36,  5.24s/it]"
     ]
    },
    {
     "name": "stdout",
     "output_type": "stream",
     "text": [
      "It was George Grote, in his \"History of Greece\" (1846-1856), who claimed that \"Athenian democracy was neither the tyranny of the poor nor the domination of the crowd\".\n",
      "\n",
      "--- MarianMT (en→fr→en) Paraphrasing ---\n"
     ]
    },
    {
     "name": "stderr",
     "output_type": "stream",
     "text": [
      "Back-translation:   8%|▊         | 78/1000 [11:13<1:30:23,  5.88s/it]"
     ]
    },
    {
     "name": "stdout",
     "output_type": "stream",
     "text": [
      "The original panel was composed of Walters, broadcast journalist Meredith Vieira, prosecutor Star Jones, Debbie Matenopoulos, and then actress Joy Behar, while the current group consisted of Behar, host Whoopi Goldberg, lawyer Sunny Hostin, and television personalities Meghan McCain and Abby Huntsman.\n",
      "\n",
      "--- MarianMT (en→fr→en) Paraphrasing ---\n"
     ]
    },
    {
     "name": "stderr",
     "output_type": "stream",
     "text": [
      "Back-translation:   8%|▊         | 79/1000 [11:18<1:25:45,  5.59s/it]"
     ]
    },
    {
     "name": "stdout",
     "output_type": "stream",
     "text": [
      "The ensemble ended with \"Cancer\", sometimes with confetti and fireworks.\n",
      "\n",
      "--- MarianMT (en→fr→en) Paraphrasing ---\n"
     ]
    },
    {
     "name": "stderr",
     "output_type": "stream",
     "text": [
      "Back-translation:   8%|▊         | 80/1000 [11:23<1:23:30,  5.45s/it]"
     ]
    },
    {
     "name": "stdout",
     "output_type": "stream",
     "text": [
      "According to the October 2012 issue of Q magazine, Frank Iero reported that the first sessions of the next RCM album with the new drummer Jarrod Alexander were progressing well.\n",
      "\n",
      "--- MarianMT (en→fr→en) Paraphrasing ---\n"
     ]
    },
    {
     "name": "stderr",
     "output_type": "stream",
     "text": [
      "Back-translation:   8%|▊         | 81/1000 [11:30<1:31:55,  6.00s/it]"
     ]
    },
    {
     "name": "stdout",
     "output_type": "stream",
     "text": [
      "Edward took Aberconwy in March 1283 and decided that the site would form the centre of a new county: he would relocate the abbey eight miles from the Conwy Valley to a new site in Maenan, creating the Maenan Abbey, and built a new English castle and a fortified town on the former monastery site.\n",
      "\n",
      "--- MarianMT (en→fr→en) Paraphrasing ---\n"
     ]
    },
    {
     "name": "stderr",
     "output_type": "stream",
     "text": [
      "Back-translation:   8%|▊         | 82/1000 [11:33<1:19:42,  5.21s/it]"
     ]
    },
    {
     "name": "stdout",
     "output_type": "stream",
     "text": [
      "His hands fly everywhere.\n",
      "\n",
      "--- MarianMT (en→fr→en) Paraphrasing ---\n"
     ]
    },
    {
     "name": "stderr",
     "output_type": "stream",
     "text": [
      "Back-translation:   8%|▊         | 83/1000 [11:38<1:15:38,  4.95s/it]"
     ]
    },
    {
     "name": "stdout",
     "output_type": "stream",
     "text": [
      "However, the court can assess the socio-economic factors of the use of cracks in sentencing.\n",
      "\n",
      "--- MarianMT (en→fr→en) Paraphrasing ---\n"
     ]
    },
    {
     "name": "stderr",
     "output_type": "stream",
     "text": [
      "Back-translation:   8%|▊         | 84/1000 [11:42<1:12:34,  4.75s/it]"
     ]
    },
    {
     "name": "stdout",
     "output_type": "stream",
     "text": [
      "s of 2018 , color students account for 18% of the student body, up from 12% in 2015.\n",
      "\n",
      "--- MarianMT (en→fr→en) Paraphrasing ---\n"
     ]
    },
    {
     "name": "stderr",
     "output_type": "stream",
     "text": [
      "Back-translation:   8%|▊         | 85/1000 [11:47<1:15:54,  4.98s/it]"
     ]
    },
    {
     "name": "stdout",
     "output_type": "stream",
     "text": [
      "On August 19, Richard went to Percy at Flint Castle, promising to abdicate if his life was spared.\n",
      "\n",
      "--- MarianMT (en→fr→en) Paraphrasing ---\n"
     ]
    },
    {
     "name": "stderr",
     "output_type": "stream",
     "text": [
      "Back-translation:   9%|▊         | 86/1000 [11:52<1:14:25,  4.89s/it]"
     ]
    },
    {
     "name": "stdout",
     "output_type": "stream",
     "text": [
      "Some Gazans have begun to make solar cookers made of cement bricks and mud mixed with straw and two sheets of glass.\n",
      "\n",
      "--- MarianMT (en→fr→en) Paraphrasing ---\n"
     ]
    },
    {
     "name": "stderr",
     "output_type": "stream",
     "text": [
      "Back-translation:   9%|▊         | 87/1000 [11:57<1:14:59,  4.93s/it]"
     ]
    },
    {
     "name": "stdout",
     "output_type": "stream",
     "text": [
      "Malignant flies and dragonflies have none of the smell centres in their brains found in Neoptera.\n",
      "\n",
      "--- MarianMT (en→fr→en) Paraphrasing ---\n"
     ]
    },
    {
     "name": "stderr",
     "output_type": "stream",
     "text": [
      "Back-translation:   9%|▉         | 88/1000 [12:02<1:12:44,  4.79s/it]"
     ]
    },
    {
     "name": "stdout",
     "output_type": "stream",
     "text": [
      "US 2 continues to Spokane and the Newport border.\n",
      "\n",
      "--- MarianMT (en→fr→en) Paraphrasing ---\n"
     ]
    },
    {
     "name": "stderr",
     "output_type": "stream",
     "text": [
      "Back-translation:   9%|▉         | 89/1000 [12:06<1:10:58,  4.67s/it]"
     ]
    },
    {
     "name": "stdout",
     "output_type": "stream",
     "text": [
      "Amrita was known for her many business with men and women and many of them she also painted.\n",
      "\n",
      "--- MarianMT (en→fr→en) Paraphrasing ---\n"
     ]
    },
    {
     "name": "stderr",
     "output_type": "stream",
     "text": [
      "Back-translation:   9%|▉         | 90/1000 [12:11<1:11:41,  4.73s/it]"
     ]
    },
    {
     "name": "stdout",
     "output_type": "stream",
     "text": [
      "The park is divided into three civilian parishes: Castleknock to the northwest, Chapelizod to the south and St James' to the north.\n",
      "\n",
      "--- MarianMT (en→fr→en) Paraphrasing ---\n"
     ]
    },
    {
     "name": "stderr",
     "output_type": "stream",
     "text": [
      "Back-translation:   9%|▉         | 91/1000 [12:15<1:10:13,  4.64s/it]"
     ]
    },
    {
     "name": "stdout",
     "output_type": "stream",
     "text": [
      "Part of the ethics of democracy, rather, was the building of general competence through continuous participation.\n",
      "\n",
      "--- MarianMT (en→fr→en) Paraphrasing ---\n"
     ]
    },
    {
     "name": "stderr",
     "output_type": "stream",
     "text": [
      "Back-translation:   9%|▉         | 92/1000 [12:20<1:12:32,  4.79s/it]"
     ]
    },
    {
     "name": "stdout",
     "output_type": "stream",
     "text": [
      "The interactions of the characters with the protagonist are also influenced by a mini-game in which the player is required to compose a poem from a set of individual words.\n",
      "\n",
      "--- MarianMT (en→fr→en) Paraphrasing ---\n"
     ]
    },
    {
     "name": "stderr",
     "output_type": "stream",
     "text": [
      "Back-translation:   9%|▉         | 93/1000 [12:25<1:10:23,  4.66s/it]"
     ]
    },
    {
     "name": "stdout",
     "output_type": "stream",
     "text": [
      "Coaches try to help students learn how they learn best and how to work in an academic environment.\n",
      "\n",
      "--- MarianMT (en→fr→en) Paraphrasing ---\n"
     ]
    },
    {
     "name": "stderr",
     "output_type": "stream",
     "text": [
      "Back-translation:   9%|▉         | 94/1000 [12:30<1:13:23,  4.86s/it]"
     ]
    },
    {
     "name": "stdout",
     "output_type": "stream",
     "text": [
      "The characters in the game were based on standard anime archetypes and were given Japanese names to highlight a pseudo-Japanese atmosphere characteristic of visual novels produced in the West.\n",
      "\n",
      "--- MarianMT (en→fr→en) Paraphrasing ---\n"
     ]
    },
    {
     "name": "stderr",
     "output_type": "stream",
     "text": [
      "Back-translation:  10%|▉         | 95/1000 [12:34<1:10:56,  4.70s/it]"
     ]
    },
    {
     "name": "stdout",
     "output_type": "stream",
     "text": [
      "The use of toxic adultery such as levamisole has been documented.\n",
      "\n",
      "--- MarianMT (en→fr→en) Paraphrasing ---\n"
     ]
    },
    {
     "name": "stderr",
     "output_type": "stream",
     "text": [
      "Back-translation:  10%|▉         | 96/1000 [12:39<1:08:08,  4.52s/it]"
     ]
    },
    {
     "name": "stdout",
     "output_type": "stream",
     "text": [
      "For most domestic solar cooking applications, such temperatures are not really necessary.\n",
      "\n",
      "--- MarianMT (en→fr→en) Paraphrasing ---\n"
     ]
    },
    {
     "name": "stderr",
     "output_type": "stream",
     "text": [
      "Back-translation:  10%|▉         | 97/1000 [12:45<1:15:56,  5.05s/it]"
     ]
    },
    {
     "name": "stdout",
     "output_type": "stream",
     "text": [
      "He resisted the siege of Madog ap Llywelyn during the winter of 1294–95, served as a temporary refuge for Richard II in 1399 and was detained for several months by forces loyal to Owain Glynder in 1401.\n",
      "\n",
      "--- MarianMT (en→fr→en) Paraphrasing ---\n"
     ]
    },
    {
     "name": "stderr",
     "output_type": "stream",
     "text": [
      "Back-translation:  10%|▉         | 98/1000 [12:49<1:12:25,  4.82s/it]"
     ]
    },
    {
     "name": "stdout",
     "output_type": "stream",
     "text": [
      "Gradually, as the strikes improved, better shots were needed.\n",
      "\n",
      "--- MarianMT (en→fr→en) Paraphrasing ---\n"
     ]
    },
    {
     "name": "stderr",
     "output_type": "stream",
     "text": [
      "Back-translation:  10%|▉         | 99/1000 [12:54<1:13:28,  4.89s/it]"
     ]
    },
    {
     "name": "stdout",
     "output_type": "stream",
     "text": [
      "Of course, you have the right to settle in Saint Kitts and Nevis as well as in most CARICOM member countries at any time and throughout your stay.\"\n",
      "\n",
      "--- MarianMT (en→fr→en) Paraphrasing ---\n"
     ]
    },
    {
     "name": "stderr",
     "output_type": "stream",
     "text": [
      "Back-translation:  10%|█         | 100/1000 [13:00<1:15:52,  5.06s/it]"
     ]
    },
    {
     "name": "stdout",
     "output_type": "stream",
     "text": [
      "After two years of unsuccessful attempts to navigate the bureaucracy of the National Parks Service, Scaturo published a 325-page report, which he sent to Congress and the President.\n",
      "\n",
      "--- MarianMT (en→fr→en) Paraphrasing ---\n"
     ]
    },
    {
     "name": "stderr",
     "output_type": "stream",
     "text": [
      "Back-translation:  10%|█         | 101/1000 [13:04<1:12:46,  4.86s/it]"
     ]
    },
    {
     "name": "stdout",
     "output_type": "stream",
     "text": [
      ", which had the advantage of breaking a new ground.\"\n",
      "\n",
      "--- MarianMT (en→fr→en) Paraphrasing ---\n"
     ]
    },
    {
     "name": "stderr",
     "output_type": "stream",
     "text": [
      "Back-translation:  10%|█         | 102/1000 [13:08<1:09:39,  4.65s/it]"
     ]
    },
    {
     "name": "stdout",
     "output_type": "stream",
     "text": [
      "The park has 351 identified plant species, three of which are rare and protected.\n",
      "\n",
      "--- MarianMT (en→fr→en) Paraphrasing ---\n"
     ]
    },
    {
     "name": "stderr",
     "output_type": "stream",
     "text": [
      "Back-translation:  10%|█         | 103/1000 [13:14<1:14:50,  5.01s/it]"
     ]
    },
    {
     "name": "stdout",
     "output_type": "stream",
     "text": [
      "But perhaps his most important visits to the Shire are those who initiated the great quests told in \"The Hobbit\" (S.R. 1341) and \"The Lord of the Rings\" (S.R. 1418).\n",
      "\n",
      "--- MarianMT (en→fr→en) Paraphrasing ---\n"
     ]
    },
    {
     "name": "stderr",
     "output_type": "stream",
     "text": [
      "Back-translation:  10%|█         | 104/1000 [13:20<1:18:21,  5.25s/it]"
     ]
    },
    {
     "name": "stdout",
     "output_type": "stream",
     "text": [
      "Already protected as a planned monument, it was also declared in 1986 to the World Heritage Site of the \"Châteaux et murals de ville du King Edward à Gwynedd\".\n",
      "\n",
      "--- MarianMT (en→fr→en) Paraphrasing ---\n"
     ]
    },
    {
     "name": "stderr",
     "output_type": "stream",
     "text": [
      "Back-translation:  10%|█         | 105/1000 [13:25<1:18:28,  5.26s/it]"
     ]
    },
    {
     "name": "stdout",
     "output_type": "stream",
     "text": [
      "In September, a trailer video was uploaded to the official YouTube page of My Chemical Romance entitled \"Art is a Weapons\", which announced the title of the album: \"\".\n",
      "\n",
      "--- MarianMT (en→fr→en) Paraphrasing ---\n"
     ]
    },
    {
     "name": "stderr",
     "output_type": "stream",
     "text": [
      "Back-translation:  11%|█         | 106/1000 [13:30<1:14:57,  5.03s/it]"
     ]
    },
    {
     "name": "stdout",
     "output_type": "stream",
     "text": [
      "The Wellington Monument is a 62-metre-high obelisk commemorating the victories of the Duke of Wellington.\n",
      "\n",
      "--- MarianMT (en→fr→en) Paraphrasing ---\n"
     ]
    },
    {
     "name": "stderr",
     "output_type": "stream",
     "text": [
      "Back-translation:  11%|█         | 107/1000 [13:34<1:14:04,  4.98s/it]"
     ]
    },
    {
     "name": "stdout",
     "output_type": "stream",
     "text": [
      "The deer were introduced into the park in the 1660s; the current fallow deer from 400 to 450 descend from the original herd.\n",
      "\n",
      "--- MarianMT (en→fr→en) Paraphrasing ---\n"
     ]
    },
    {
     "name": "stderr",
     "output_type": "stream",
     "text": [
      "Back-translation:  11%|█         | 108/1000 [13:40<1:14:20,  5.00s/it]"
     ]
    },
    {
     "name": "stdout",
     "output_type": "stream",
     "text": [
      "Before being designated US 2, most of the current alignment was called New England Interstate Route 15 from Danville, Vermont east to Maine.\n",
      "\n",
      "--- MarianMT (en→fr→en) Paraphrasing ---\n"
     ]
    },
    {
     "name": "stderr",
     "output_type": "stream",
     "text": [
      "Back-translation:  11%|█         | 109/1000 [13:44<1:11:39,  4.83s/it]"
     ]
    },
    {
     "name": "stdout",
     "output_type": "stream",
     "text": [
      "There are many rivers descending from the mountains of the two islands, which provide fresh water to the local population.\n",
      "\n",
      "--- MarianMT (en→fr→en) Paraphrasing ---\n"
     ]
    },
    {
     "name": "stderr",
     "output_type": "stream",
     "text": [
      "Back-translation:  11%|█         | 110/1000 [13:48<1:09:51,  4.71s/it]"
     ]
    },
    {
     "name": "stdout",
     "output_type": "stream",
     "text": [
      "The release came on a ball-shaped flash drive and also contained exclusive photos of the show tape.\n",
      "\n",
      "--- MarianMT (en→fr→en) Paraphrasing ---\n"
     ]
    },
    {
     "name": "stderr",
     "output_type": "stream",
     "text": [
      "Back-translation:  11%|█         | 111/1000 [13:53<1:10:38,  4.77s/it]"
     ]
    },
    {
     "name": "stdout",
     "output_type": "stream",
     "text": [
      "Kress has been working since the age of four and plays the role of Freddie Benson in the Nickelodeon series \"iCarly\".\n",
      "\n",
      "--- MarianMT (en→fr→en) Paraphrasing ---\n"
     ]
    },
    {
     "name": "stderr",
     "output_type": "stream",
     "text": [
      "Back-translation:  11%|█         | 112/1000 [13:58<1:08:43,  4.64s/it]"
     ]
    },
    {
     "name": "stdout",
     "output_type": "stream",
     "text": [
      "We can still see the stone stubs and arches of the 1340s.\n",
      "\n",
      "--- MarianMT (en→fr→en) Paraphrasing ---\n"
     ]
    },
    {
     "name": "stderr",
     "output_type": "stream",
     "text": [
      "Back-translation:  11%|█▏        | 113/1000 [14:03<1:12:29,  4.90s/it]"
     ]
    },
    {
     "name": "stdout",
     "output_type": "stream",
     "text": [
      "These include window styles, the type of crenelage used on towers, and the positioning of putlog holes, and are generally attributed to the influence of Savoyard architect Maître James.\n",
      "\n",
      "--- MarianMT (en→fr→en) Paraphrasing ---\n"
     ]
    },
    {
     "name": "stderr",
     "output_type": "stream",
     "text": [
      "Back-translation:  11%|█▏        | 114/1000 [14:09<1:15:52,  5.14s/it]"
     ]
    },
    {
     "name": "stdout",
     "output_type": "stream",
     "text": [
      "From Saint Kitts, the British settled on the islands of Antigua, Montserrat, Anguilla and Tortola, and the French settled on Martinique, Guadeloupe and Saint Barthélemy.\n",
      "\n",
      "--- MarianMT (en→fr→en) Paraphrasing ---\n"
     ]
    },
    {
     "name": "stderr",
     "output_type": "stream",
     "text": [
      "Back-translation:  12%|█▏        | 115/1000 [14:13<1:12:16,  4.90s/it]"
     ]
    },
    {
     "name": "stdout",
     "output_type": "stream",
     "text": [
      "Finally, the original Spanish name was restored and used in the abbreviated form, \"Nevis\".\n",
      "\n",
      "--- MarianMT (en→fr→en) Paraphrasing ---\n"
     ]
    },
    {
     "name": "stderr",
     "output_type": "stream",
     "text": [
      "Back-translation:  12%|█▏        | 116/1000 [14:18<1:11:49,  4.88s/it]"
     ]
    },
    {
     "name": "stdout",
     "output_type": "stream",
     "text": [
      "The two sets of apartments were then unified into a single set of rooms, including a large bedroom, exterior bedroom and interior bedroom.\n",
      "\n",
      "--- MarianMT (en→fr→en) Paraphrasing ---\n"
     ]
    },
    {
     "name": "stderr",
     "output_type": "stream",
     "text": [
      "Back-translation:  12%|█▏        | 117/1000 [14:22<1:07:43,  4.60s/it]"
     ]
    },
    {
     "name": "stdout",
     "output_type": "stream",
     "text": [
      "Natorium has an Olympic-sized swimming pool and 626 seats.\n",
      "\n",
      "--- MarianMT (en→fr→en) Paraphrasing ---\n"
     ]
    },
    {
     "name": "stderr",
     "output_type": "stream",
     "text": [
      "Back-translation:  12%|█▏        | 118/1000 [14:26<1:05:43,  4.47s/it]"
     ]
    },
    {
     "name": "stdout",
     "output_type": "stream",
     "text": [
      "Depending on the player's course of action, the game can reach three possible conclusions.\n",
      "\n",
      "--- MarianMT (en→fr→en) Paraphrasing ---\n"
     ]
    },
    {
     "name": "stderr",
     "output_type": "stream",
     "text": [
      "Back-translation:  12%|█▏        | 119/1000 [14:32<1:11:09,  4.85s/it]"
     ]
    },
    {
     "name": "stdout",
     "output_type": "stream",
     "text": [
      "With the restoration of Charles II in 1660, Conway returned to Edward Conway, the Count of Conway, but five years later Edward decided to remove the remaining iron and direct it from the castle and sell it.\n",
      "\n",
      "--- MarianMT (en→fr→en) Paraphrasing ---\n"
     ]
    },
    {
     "name": "stderr",
     "output_type": "stream",
     "text": [
      "Back-translation:  12%|█▏        | 120/1000 [14:38<1:17:29,  5.28s/it]"
     ]
    },
    {
     "name": "stdout",
     "output_type": "stream",
     "text": [
      "Gerard Way replied to the accusation on the group's official website, writing: \"I think the word Glenn Beck was looking for was \"subversion\" and not \"propaganda\", because I don't know what it would be about propaganda – truth?\n",
      "\n",
      "--- MarianMT (en→fr→en) Paraphrasing ---\n"
     ]
    },
    {
     "name": "stderr",
     "output_type": "stream",
     "text": [
      "Back-translation:  12%|█▏        | 121/1000 [14:44<1:17:44,  5.31s/it]"
     ]
    },
    {
     "name": "stdout",
     "output_type": "stream",
     "text": [
      "We show that Captain Preston ordered his men to shoot, and a musket is seen shooting out the window of the customs office, which is labeled \"Bucher's Hall.\"\n",
      "\n",
      "--- MarianMT (en→fr→en) Paraphrasing ---\n"
     ]
    },
    {
     "name": "stderr",
     "output_type": "stream",
     "text": [
      "Back-translation:  12%|█▏        | 122/1000 [14:53<1:34:24,  6.45s/it]"
     ]
    },
    {
     "name": "stdout",
     "output_type": "stream",
     "text": [
      "Other festivals on the island of Saint Kitts include: Inner City Fest, in February in Molineaux; Green Valley Festival, usually around Whit Monday in the village of Cayon; Easter, around Easter in the village of Sandy Point; Fest-Tab, in July or August in the village of Tabernacle; and Capisterre Festival, around Independence Day in Saint Kitts and Nevis (19 September), in the region of Capisterre.\n",
      "\n",
      "--- MarianMT (en→fr→en) Paraphrasing ---\n"
     ]
    },
    {
     "name": "stderr",
     "output_type": "stream",
     "text": [
      "Back-translation:  12%|█▏        | 123/1000 [14:58<1:28:39,  6.07s/it]"
     ]
    },
    {
     "name": "stdout",
     "output_type": "stream",
     "text": [
      "In March 2005, a rotational light curve of \"Pholus\" was obtained from photometric observations by Tegler using VATT at Mount Graham.\n",
      "\n",
      "--- MarianMT (en→fr→en) Paraphrasing ---\n"
     ]
    },
    {
     "name": "stderr",
     "output_type": "stream",
     "text": [
      "Back-translation:  12%|█▏        | 124/1000 [15:02<1:21:26,  5.58s/it]"
     ]
    },
    {
     "name": "stdout",
     "output_type": "stream",
     "text": [
      "The castle fed by the well built spring next to the door survives, and today is 91 feet deep.\n",
      "\n",
      "--- MarianMT (en→fr→en) Paraphrasing ---\n"
     ]
    },
    {
     "name": "stderr",
     "output_type": "stream",
     "text": [
      "Back-translation:  12%|█▎        | 125/1000 [15:06<1:15:04,  5.15s/it]"
     ]
    },
    {
     "name": "stdout",
     "output_type": "stream",
     "text": [
      "Karakoram Highway has been described as one of the most beautiful destinations in the world.\n",
      "\n",
      "--- MarianMT (en→fr→en) Paraphrasing ---\n"
     ]
    },
    {
     "name": "stderr",
     "output_type": "stream",
     "text": [
      "Back-translation:  13%|█▎        | 126/1000 [15:12<1:17:52,  5.35s/it]"
     ]
    },
    {
     "name": "stdout",
     "output_type": "stream",
     "text": [
      "They were designed to form a miniature royal palace, which could, if necessary, be sealed from the rest of the castle and supplied from the oriental gate by the sea almost indefinitely, although in practice they were rarely used by the royal family.\n",
      "\n",
      "--- MarianMT (en→fr→en) Paraphrasing ---\n"
     ]
    },
    {
     "name": "stderr",
     "output_type": "stream",
     "text": [
      "Back-translation:  13%|█▎        | 127/1000 [15:17<1:15:54,  5.22s/it]"
     ]
    },
    {
     "name": "stdout",
     "output_type": "stream",
     "text": [
      "The 3rd District was won by Sol Aragones, who is a member of the United Nationalist Alliance.\n",
      "\n",
      "--- MarianMT (en→fr→en) Paraphrasing ---\n"
     ]
    },
    {
     "name": "stderr",
     "output_type": "stream",
     "text": [
      "Back-translation:  13%|█▎        | 128/1000 [15:22<1:15:01,  5.16s/it]"
     ]
    },
    {
     "name": "stdout",
     "output_type": "stream",
     "text": [
      "John Williams, the archbishop of York, took over the castle in the king's name, and began to repair it and garrison it at his own expense.\n",
      "\n",
      "--- MarianMT (en→fr→en) Paraphrasing ---\n"
     ]
    },
    {
     "name": "stderr",
     "output_type": "stream",
     "text": [
      "Back-translation:  13%|█▎        | 129/1000 [15:27<1:15:27,  5.20s/it]"
     ]
    },
    {
     "name": "stdout",
     "output_type": "stream",
     "text": [
      "A monobit transmission error then corresponds to a move from a valid corner (the correct message and the control sum) to one of the adjacent \"m\" corners.\n",
      "\n",
      "--- MarianMT (en→fr→en) Paraphrasing ---\n"
     ]
    },
    {
     "name": "stderr",
     "output_type": "stream",
     "text": [
      "Back-translation:  13%|█▎        | 130/1000 [15:33<1:15:25,  5.20s/it]"
     ]
    },
    {
     "name": "stdout",
     "output_type": "stream",
     "text": [
      "The brothers stood for about three months, before negotiating a surrender; as part of this agreement, the couple received a royal pardon from Henry.\n",
      "\n",
      "--- MarianMT (en→fr→en) Paraphrasing ---\n"
     ]
    },
    {
     "name": "stderr",
     "output_type": "stream",
     "text": [
      "Back-translation:  13%|█▎        | 131/1000 [15:37<1:13:06,  5.05s/it]"
     ]
    },
    {
     "name": "stdout",
     "output_type": "stream",
     "text": [
      "The two sets of apartments were then unified into a single set of rooms, including a large bedroom, exterior bedroom and interior bedroom.\n",
      "\n",
      "--- MarianMT (en→fr→en) Paraphrasing ---\n"
     ]
    },
    {
     "name": "stderr",
     "output_type": "stream",
     "text": [
      "Back-translation:  13%|█▎        | 132/1000 [15:43<1:14:36,  5.16s/it]"
     ]
    },
    {
     "name": "stdout",
     "output_type": "stream",
     "text": [
      "Since \"Velociraptor\" was the first to be named, these species were renamed \"Velociraptor antirrhopus\" and \"V. langstoni\".\n",
      "\n",
      "--- MarianMT (en→fr→en) Paraphrasing ---\n"
     ]
    },
    {
     "name": "stderr",
     "output_type": "stream",
     "text": [
      "Back-translation:  13%|█▎        | 133/1000 [15:47<1:12:28,  5.02s/it]"
     ]
    },
    {
     "name": "stdout",
     "output_type": "stream",
     "text": [
      "He also said: \"Over the years we get along live and get along on the records, we prefer live.\n",
      "\n",
      "--- MarianMT (en→fr→en) Paraphrasing ---\n"
     ]
    },
    {
     "name": "stderr",
     "output_type": "stream",
     "text": [
      "Back-translation:  13%|█▎        | 134/1000 [15:52<1:08:57,  4.78s/it]"
     ]
    },
    {
     "name": "stdout",
     "output_type": "stream",
     "text": [
      "The ensemble ended with \"Cancer\", sometimes with confetti and fireworks.\n",
      "\n",
      "--- MarianMT (en→fr→en) Paraphrasing ---\n"
     ]
    },
    {
     "name": "stderr",
     "output_type": "stream",
     "text": [
      "Back-translation:  14%|█▎        | 135/1000 [15:57<1:10:59,  4.92s/it]"
     ]
    },
    {
     "name": "stdout",
     "output_type": "stream",
     "text": [
      "In a March 2010 interview of MTV on the new album, Way explained, \"There is no title yet ... I'm actually a little excited about it.\n",
      "\n",
      "--- MarianMT (en→fr→en) Paraphrasing ---\n"
     ]
    },
    {
     "name": "stderr",
     "output_type": "stream",
     "text": [
      "Back-translation:  14%|█▎        | 136/1000 [16:02<1:11:24,  4.96s/it]"
     ]
    },
    {
     "name": "stdout",
     "output_type": "stream",
     "text": [
      "The similarity of architectural details can therefore be the result of the wider role played by Savoyard artisans and engineers in the Conwy project.\n",
      "\n",
      "--- MarianMT (en→fr→en) Paraphrasing ---\n"
     ]
    },
    {
     "name": "stderr",
     "output_type": "stream",
     "text": [
      "Back-translation:  14%|█▎        | 137/1000 [16:06<1:09:09,  4.81s/it]"
     ]
    },
    {
     "name": "stdout",
     "output_type": "stream",
     "text": [
      "The number of visitors increased and the first restoration work was carried out in the second half of the 19th century.\n",
      "\n",
      "--- MarianMT (en→fr→en) Paraphrasing ---\n"
     ]
    },
    {
     "name": "stderr",
     "output_type": "stream",
     "text": [
      "Back-translation:  14%|█▍        | 138/1000 [16:10<1:05:03,  4.53s/it]"
     ]
    },
    {
     "name": "stdout",
     "output_type": "stream",
     "text": [
      "It is difficult to burn food in a solar stove.\n",
      "\n",
      "--- MarianMT (en→fr→en) Paraphrasing ---\n"
     ]
    },
    {
     "name": "stderr",
     "output_type": "stream",
     "text": [
      "Back-translation:  14%|█▍        | 139/1000 [16:15<1:06:03,  4.60s/it]"
     ]
    },
    {
     "name": "stdout",
     "output_type": "stream",
     "text": [
      "has been downloaded more than a million times, and more than two million downloads about a month later.\n",
      "\n",
      "--- MarianMT (en→fr→en) Paraphrasing ---\n"
     ]
    },
    {
     "name": "stderr",
     "output_type": "stream",
     "text": [
      "Back-translation:  14%|█▍        | 140/1000 [16:20<1:08:01,  4.75s/it]"
     ]
    },
    {
     "name": "stdout",
     "output_type": "stream",
     "text": [
      "Edward invaded with a huge army, pushing north of Carmarthen and west of Montgomery and Chester.\n",
      "\n",
      "--- MarianMT (en→fr→en) Paraphrasing ---\n"
     ]
    },
    {
     "name": "stderr",
     "output_type": "stream",
     "text": [
      "Back-translation:  14%|█▍        | 141/1000 [16:25<1:09:39,  4.87s/it]"
     ]
    },
    {
     "name": "stdout",
     "output_type": "stream",
     "text": [
      "Yuri's decline in mental health culminates in the act of giving the protagonist an unbreakable \"poem\" covered with blood and other bodily fluids.\n",
      "\n",
      "--- MarianMT (en→fr→en) Paraphrasing ---\n"
     ]
    },
    {
     "name": "stderr",
     "output_type": "stream",
     "text": [
      "Back-translation:  14%|█▍        | 142/1000 [16:31<1:13:04,  5.11s/it]"
     ]
    },
    {
     "name": "stdout",
     "output_type": "stream",
     "text": [
      "The video featured the band wearing strangely colorful outfits and fighting against unusual characters in a nearby desert, and featuring a sample of music from the song \"Na Na Na Na Na Na Na Na Na Na Na\".\n",
      "\n",
      "--- MarianMT (en→fr→en) Paraphrasing ---\n"
     ]
    },
    {
     "name": "stderr",
     "output_type": "stream",
     "text": [
      "Back-translation:  14%|█▍        | 143/1000 [16:36<1:11:11,  4.98s/it]"
     ]
    },
    {
     "name": "stdout",
     "output_type": "stream",
     "text": [
      "From 1970 to 2012, 1,000 students were appointed semi-finalists or finalists under the National Merit Scholarship Program.\n",
      "\n",
      "--- MarianMT (en→fr→en) Paraphrasing ---\n"
     ]
    },
    {
     "name": "stderr",
     "output_type": "stream",
     "text": [
      "Back-translation:  14%|█▍        | 144/1000 [16:41<1:13:09,  5.13s/it]"
     ]
    },
    {
     "name": "stdout",
     "output_type": "stream",
     "text": [
      "On the north side of the neighbourhood, there were a range of service buildings, including a kitchen, a brewery and a bakehouse, supported by the kitchen tower, where housing and shops were located.\n",
      "\n",
      "--- MarianMT (en→fr→en) Paraphrasing ---\n"
     ]
    },
    {
     "name": "stderr",
     "output_type": "stream",
     "text": [
      "Back-translation:  14%|█▍        | 145/1000 [16:47<1:14:35,  5.23s/it]"
     ]
    },
    {
     "name": "stdout",
     "output_type": "stream",
     "text": [
      "At present, the 1980s have put pressure on the Indonesian economy, exports being uncompetitive due to currency overvaluation, and oil contributing less as a result of lower world prices.\n",
      "\n",
      "--- MarianMT (en→fr→en) Paraphrasing ---\n"
     ]
    },
    {
     "name": "stderr",
     "output_type": "stream",
     "text": [
      "Back-translation:  15%|█▍        | 146/1000 [16:51<1:12:42,  5.11s/it]"
     ]
    },
    {
     "name": "stdout",
     "output_type": "stream",
     "text": [
      "Work to cut the ditch around Conwy Castle began in the days following Edward's decision.\n",
      "\n",
      "--- MarianMT (en→fr→en) Paraphrasing ---\n"
     ]
    },
    {
     "name": "stderr",
     "output_type": "stream",
     "text": [
      "Back-translation:  15%|█▍        | 147/1000 [16:55<1:07:35,  4.75s/it]"
     ]
    },
    {
     "name": "stdout",
     "output_type": "stream",
     "text": [
      "The Shire was originally divided into four Farthings.\n",
      "\n",
      "--- MarianMT (en→fr→en) Paraphrasing ---\n"
     ]
    },
    {
     "name": "stderr",
     "output_type": "stream",
     "text": [
      "Back-translation:  15%|█▍        | 148/1000 [17:01<1:09:54,  4.92s/it]"
     ]
    },
    {
     "name": "stdout",
     "output_type": "stream",
     "text": [
      "The Shire refers to an interior area established exclusively by Hobbits (the Shire-folk) and largely removed from the back and forth into the rest of Middle Earth.\n",
      "\n",
      "--- MarianMT (en→fr→en) Paraphrasing ---\n"
     ]
    },
    {
     "name": "stderr",
     "output_type": "stream",
     "text": [
      "Back-translation:  15%|█▍        | 149/1000 [17:13<1:42:45,  7.24s/it]"
     ]
    },
    {
     "name": "stdout",
     "output_type": "stream",
     "text": [
      "The Vieques question has become something of a \"famous cause\", and local demonstrators have been joined by sympathetic groups and eminent figures from the continental United States and abroad, including political leaders Rubén Berríos, Robert F. Kennedy, Jr., Al Sharpton and Jesse Jackson, singers Danny Rivera, Willie Colón and Ricky Martin, actors Edward James Olmos and Jimmy Smits, boxer Félix 'Tito' Trinidad, baseball superstar Carlos Delgado, writers Ana Lydia Vega and Giannina Braschi, and the Nobel Prize winner of Guatemala Rigoberta Menchú.\n",
      "\n",
      "--- MarianMT (en→fr→en) Paraphrasing ---\n"
     ]
    },
    {
     "name": "stderr",
     "output_type": "stream",
     "text": [
      "Back-translation:  15%|█▌        | 150/1000 [17:18<1:31:12,  6.44s/it]"
     ]
    },
    {
     "name": "stdout",
     "output_type": "stream",
     "text": [
      "There were bars on the windows, and we only had the right to see our parents through the glass doors.\n",
      "\n",
      "--- MarianMT (en→fr→en) Paraphrasing ---\n"
     ]
    },
    {
     "name": "stderr",
     "output_type": "stream",
     "text": [
      "Back-translation:  15%|█▌        | 151/1000 [17:24<1:30:42,  6.41s/it]"
     ]
    },
    {
     "name": "stdout",
     "output_type": "stream",
     "text": [
      "At the end of the 18th century, the ruins were considered picturesque and sublime, attracting visitors and artists, and the paintings of the castle were made by Thomas Girtin, Moses Griffith, Julius Caesar Ibbetson, Paul Sandby and J. M. W. Turner.\n",
      "\n",
      "--- MarianMT (en→fr→en) Paraphrasing ---\n"
     ]
    },
    {
     "name": "stderr",
     "output_type": "stream",
     "text": [
      "Back-translation:  15%|█▌        | 152/1000 [17:30<1:27:27,  6.19s/it]"
     ]
    },
    {
     "name": "stdout",
     "output_type": "stream",
     "text": [
      "He obtained a teaching position at Mills College in Oakland, California, where he composed the opera \"Bolivar\" (1943) and collaborated with Henri Témianka and the Paganini Quartet.\n",
      "\n",
      "--- MarianMT (en→fr→en) Paraphrasing ---\n"
     ]
    },
    {
     "name": "stderr",
     "output_type": "stream",
     "text": [
      "Back-translation:  15%|█▌        | 153/1000 [17:34<1:18:33,  5.56s/it]"
     ]
    },
    {
     "name": "stdout",
     "output_type": "stream",
     "text": [
      "The Hawks continued to dominate the game after this incident and never looked back.\n",
      "\n",
      "--- MarianMT (en→fr→en) Paraphrasing ---\n"
     ]
    },
    {
     "name": "stderr",
     "output_type": "stream",
     "text": [
      "Back-translation:  15%|█▌        | 154/1000 [17:39<1:15:38,  5.37s/it]"
     ]
    },
    {
     "name": "stdout",
     "output_type": "stream",
     "text": [
      "There were two main categories in this group: those that had to manage large sums of money, and the 10 generals, the \"strategoi\".\n",
      "\n",
      "--- MarianMT (en→fr→en) Paraphrasing ---\n"
     ]
    },
    {
     "name": "stderr",
     "output_type": "stream",
     "text": [
      "Back-translation:  16%|█▌        | 155/1000 [17:43<1:10:19,  4.99s/it]"
     ]
    },
    {
     "name": "stdout",
     "output_type": "stream",
     "text": [
      "Don Scott, Ian Bremner and Geoff Angus were local recruits.\n",
      "\n",
      "--- MarianMT (en→fr→en) Paraphrasing ---\n"
     ]
    },
    {
     "name": "stderr",
     "output_type": "stream",
     "text": [
      "Back-translation:  16%|█▌        | 156/1000 [17:48<1:08:53,  4.90s/it]"
     ]
    },
    {
     "name": "stdout",
     "output_type": "stream",
     "text": [
      "On August 19, Richard went to Percy at Flint Castle, promising to abdicate if his life was spared.\n",
      "\n",
      "--- MarianMT (en→fr→en) Paraphrasing ---\n"
     ]
    },
    {
     "name": "stderr",
     "output_type": "stream",
     "text": [
      "Back-translation:  16%|█▌        | 157/1000 [17:52<1:07:32,  4.81s/it]"
     ]
    },
    {
     "name": "stdout",
     "output_type": "stream",
     "text": [
      "Along the east coast is Canada Hills and Conaree Hills.\n",
      "\n",
      "--- MarianMT (en→fr→en) Paraphrasing ---\n"
     ]
    },
    {
     "name": "stderr",
     "output_type": "stream",
     "text": [
      "Back-translation:  16%|█▌        | 158/1000 [17:57<1:08:03,  4.85s/it]"
     ]
    },
    {
     "name": "stdout",
     "output_type": "stream",
     "text": [
      "produced long daily stories of the relationships of a standard anime protagonist with their support casting.\n",
      "\n",
      "--- MarianMT (en→fr→en) Paraphrasing ---\n"
     ]
    },
    {
     "name": "stderr",
     "output_type": "stream",
     "text": [
      "Back-translation:  16%|█▌        | 159/1000 [18:02<1:05:48,  4.70s/it]"
     ]
    },
    {
     "name": "stdout",
     "output_type": "stream",
     "text": [
      "On February 6, 2012, CAS stripped Contador of the 2010 title, making Andy Schleck the winner.\n",
      "\n",
      "--- MarianMT (en→fr→en) Paraphrasing ---\n"
     ]
    },
    {
     "name": "stderr",
     "output_type": "stream",
     "text": [
      "Back-translation:  16%|█▌        | 160/1000 [18:05<1:02:08,  4.44s/it]"
     ]
    },
    {
     "name": "stdout",
     "output_type": "stream",
     "text": [
      "Most of the Shires remained peaceful and prosperous.\n",
      "\n",
      "--- MarianMT (en→fr→en) Paraphrasing ---\n"
     ]
    },
    {
     "name": "stderr",
     "output_type": "stream",
     "text": [
      "Back-translation:  16%|█▌        | 161/1000 [18:11<1:07:35,  4.83s/it]"
     ]
    },
    {
     "name": "stdout",
     "output_type": "stream",
     "text": [
      "The Saint Kitts and Nevis Pool Federation, SKNBF, is the governing body for cue sports on both islands.\n",
      "\n",
      "--- MarianMT (en→fr→en) Paraphrasing ---\n"
     ]
    },
    {
     "name": "stderr",
     "output_type": "stream",
     "text": [
      "Back-translation:  16%|█▌        | 162/1000 [18:15<1:04:09,  4.59s/it]"
     ]
    },
    {
     "name": "stdout",
     "output_type": "stream",
     "text": [
      "The Europeans have therefore decided to get rid of this problem once and for all.\n",
      "\n",
      "--- MarianMT (en→fr→en) Paraphrasing ---\n"
     ]
    },
    {
     "name": "stderr",
     "output_type": "stream",
     "text": [
      "Back-translation:  16%|█▋        | 163/1000 [18:20<1:06:48,  4.79s/it]"
     ]
    },
    {
     "name": "stdout",
     "output_type": "stream",
     "text": [
      "More importantly, the Shire was secretly guarded and protected by the Northern Rangers (Arnorian nationals), who observed the borders and kept the intruders.\n",
      "\n",
      "--- MarianMT (en→fr→en) Paraphrasing ---\n"
     ]
    },
    {
     "name": "stderr",
     "output_type": "stream",
     "text": [
      "Back-translation:  16%|█▋        | 164/1000 [18:25<1:07:39,  4.86s/it]"
     ]
    },
    {
     "name": "stdout",
     "output_type": "stream",
     "text": [
      "Russian-style onion domes and Moorish minarets were added in 1937, giving the Palace its distinctive appearance today.\n",
      "\n",
      "--- MarianMT (en→fr→en) Paraphrasing ---\n"
     ]
    },
    {
     "name": "stderr",
     "output_type": "stream",
     "text": [
      "Back-translation:  16%|█▋        | 165/1000 [18:30<1:08:06,  4.89s/it]"
     ]
    },
    {
     "name": "stdout",
     "output_type": "stream",
     "text": [
      "The provincial government is organized under the direction of a Governor and a Deputy Governor, as well as the Laguna Provincial Commission.\n",
      "\n",
      "--- MarianMT (en→fr→en) Paraphrasing ---\n"
     ]
    },
    {
     "name": "stderr",
     "output_type": "stream",
     "text": [
      "Back-translation:  17%|█▋        | 166/1000 [18:36<1:09:41,  5.01s/it]"
     ]
    },
    {
     "name": "stdout",
     "output_type": "stream",
     "text": [
      "Originally, the inner quarter was separated from the outer quarter by an inner wall, a drawbridge and a door, protected by a ditch cut into the rock.\n",
      "\n",
      "--- MarianMT (en→fr→en) Paraphrasing ---\n"
     ]
    },
    {
     "name": "stderr",
     "output_type": "stream",
     "text": [
      "Back-translation:  17%|█▋        | 167/1000 [18:40<1:06:46,  4.81s/it]"
     ]
    },
    {
     "name": "stdout",
     "output_type": "stream",
     "text": [
      "Finally, the original Spanish name was restored and used in the abbreviated form, \"Nevis\".\n",
      "\n",
      "--- MarianMT (en→fr→en) Paraphrasing ---\n"
     ]
    },
    {
     "name": "stderr",
     "output_type": "stream",
     "text": [
      "Back-translation:  17%|█▋        | 168/1000 [18:45<1:05:27,  4.72s/it]"
     ]
    },
    {
     "name": "stdout",
     "output_type": "stream",
     "text": [
      "It is a cross 60 cm long, filled with a small amount of gravel and finely cut into the grass.\n",
      "\n",
      "--- MarianMT (en→fr→en) Paraphrasing ---\n"
     ]
    },
    {
     "name": "stderr",
     "output_type": "stream",
     "text": [
      "Back-translation:  17%|█▋        | 169/1000 [18:50<1:09:13,  5.00s/it]"
     ]
    },
    {
     "name": "stdout",
     "output_type": "stream",
     "text": [
      "The local stone was not of sufficient quality to be used for the sculpture of details such as windows, but therefore the sandstone was brought from the Creuddyn Peninsula, Chester and the Wirral.\n",
      "\n",
      "--- MarianMT (en→fr→en) Paraphrasing ---\n"
     ]
    },
    {
     "name": "stderr",
     "output_type": "stream",
     "text": [
      "Back-translation:  17%|█▋        | 170/1000 [19:03<1:42:49,  7.43s/it]"
     ]
    },
    {
     "name": "stdout",
     "output_type": "stream",
     "text": [
      "The name 'Ormur' (\"orm-of-the-orm-of-the-orm-of-the-orm-of-the-orm-of-the-orm-of-the-orm-of-the-orm-of-the-orm-of-the-orm-of-the-orm-of-the-orm-of-the-orm-of-the-orm-of-the-orm-of-the-orm-of-the-orm-of-the-orm-of-the-orm-of-the-Pashto.\"\n",
      "\n",
      "--- MarianMT (en→fr→en) Paraphrasing ---\n"
     ]
    },
    {
     "name": "stderr",
     "output_type": "stream",
     "text": [
      "Back-translation:  17%|█▋        | 171/1000 [19:08<1:31:13,  6.60s/it]"
     ]
    },
    {
     "name": "stdout",
     "output_type": "stream",
     "text": [
      "They were all acquitted, and the servant was finally found guilty of perjury, whipping and banishment from the province.\n",
      "\n",
      "--- MarianMT (en→fr→en) Paraphrasing ---\n"
     ]
    },
    {
     "name": "stderr",
     "output_type": "stream",
     "text": [
      "Back-translation:  17%|█▋        | 172/1000 [19:13<1:24:37,  6.13s/it]"
     ]
    },
    {
     "name": "stdout",
     "output_type": "stream",
     "text": [
      "The exterior of the towers still has the putlog holes of their original construction, where wood was inserted to create a spiral ramp for the builders.\n",
      "\n",
      "--- MarianMT (en→fr→en) Paraphrasing ---\n"
     ]
    },
    {
     "name": "stderr",
     "output_type": "stream",
     "text": [
      "Back-translation:  17%|█▋        | 173/1000 [19:19<1:23:57,  6.09s/it]"
     ]
    },
    {
     "name": "stdout",
     "output_type": "stream",
     "text": [
      "Instead, the \"Blue Monster\" – a mascot in the shape of a chipset that takes its name from the student applause section – appears in games wearing a Bomber football jersey.\n",
      "\n",
      "--- MarianMT (en→fr→en) Paraphrasing ---\n"
     ]
    },
    {
     "name": "stderr",
     "output_type": "stream",
     "text": [
      "Back-translation:  17%|█▋        | 174/1000 [19:23<1:15:49,  5.51s/it]"
     ]
    },
    {
     "name": "stdout",
     "output_type": "stream",
     "text": [
      "Their set list consisted mainly of songs from Three Cheers for Sweet Revenge.\n",
      "\n",
      "--- MarianMT (en→fr→en) Paraphrasing ---\n"
     ]
    },
    {
     "name": "stderr",
     "output_type": "stream",
     "text": [
      "Back-translation:  18%|█▊        | 175/1000 [19:30<1:19:58,  5.82s/it]"
     ]
    },
    {
     "name": "stdout",
     "output_type": "stream",
     "text": [
      "In agreement with other Edwardian castles in northern Wales, Conwy's architecture was closely linked to that of the Kingdom of Savoy at the same time, an influence probably derived from the Savoy origins of the main architect, James de Saint George.\n",
      "\n",
      "--- MarianMT (en→fr→en) Paraphrasing ---\n"
     ]
    },
    {
     "name": "stderr",
     "output_type": "stream",
     "text": [
      "Back-translation:  18%|█▊        | 176/1000 [19:34<1:14:52,  5.45s/it]"
     ]
    },
    {
     "name": "stdout",
     "output_type": "stream",
     "text": [
      "Saint Kitts and Nevis entered the OAS system on 16 September 1984.\n",
      "\n",
      "--- MarianMT (en→fr→en) Paraphrasing ---\n"
     ]
    },
    {
     "name": "stderr",
     "output_type": "stream",
     "text": [
      "Back-translation:  18%|█▊        | 177/1000 [19:39<1:11:05,  5.18s/it]"
     ]
    },
    {
     "name": "stdout",
     "output_type": "stream",
     "text": [
      "The four towers that protected the inner quarter contained service facilities, the chapel tower containing the private royal chapel.\n",
      "\n",
      "--- MarianMT (en→fr→en) Paraphrasing ---\n"
     ]
    },
    {
     "name": "stderr",
     "output_type": "stream",
     "text": [
      "Back-translation:  18%|█▊        | 178/1000 [19:44<1:10:31,  5.15s/it]"
     ]
    },
    {
     "name": "stdout",
     "output_type": "stream",
     "text": [
      "Three Americans died instantly: Samuel Gray, sailor James Caldwell and Crispus Attucks.\n",
      "\n",
      "--- MarianMT (en→fr→en) Paraphrasing ---\n"
     ]
    },
    {
     "name": "stderr",
     "output_type": "stream",
     "text": [
      "Back-translation:  18%|█▊        | 179/1000 [19:48<1:07:46,  4.95s/it]"
     ]
    },
    {
     "name": "stdout",
     "output_type": "stream",
     "text": [
      "However, growths in the Parfitt throat were later benign and successfully eliminated.\n",
      "\n",
      "--- MarianMT (en→fr→en) Paraphrasing ---\n"
     ]
    },
    {
     "name": "stderr",
     "output_type": "stream",
     "text": [
      "Back-translation:  18%|█▊        | 180/1000 [19:53<1:06:50,  4.89s/it]"
     ]
    },
    {
     "name": "stdout",
     "output_type": "stream",
     "text": [
      "Both wrote two unused songs for the film, \"Beyond the Laughing Sky\" and \"I'm Odd\".\n",
      "\n",
      "--- MarianMT (en→fr→en) Paraphrasing ---\n"
     ]
    },
    {
     "name": "stderr",
     "output_type": "stream",
     "text": [
      "Back-translation:  18%|█▊        | 181/1000 [19:59<1:11:27,  5.24s/it]"
     ]
    },
    {
     "name": "stdout",
     "output_type": "stream",
     "text": [
      "Sayori instead expresses his gratitude to the player for his emotional support to all members of the club, makes his lamentably farewell to him and assures the player that all members of the club love them before removing the game itself.\n",
      "\n",
      "--- MarianMT (en→fr→en) Paraphrasing ---\n"
     ]
    },
    {
     "name": "stderr",
     "output_type": "stream",
     "text": [
      "Back-translation:  18%|█▊        | 182/1000 [20:04<1:08:26,  5.02s/it]"
     ]
    },
    {
     "name": "stdout",
     "output_type": "stream",
     "text": [
      "David wants to build a temple, but Nathan tells him that one of his sons will be the one who will build the temple.\n",
      "\n",
      "--- MarianMT (en→fr→en) Paraphrasing ---\n"
     ]
    },
    {
     "name": "stderr",
     "output_type": "stream",
     "text": [
      "Back-translation:  18%|█▊        | 183/1000 [20:08<1:06:55,  4.92s/it]"
     ]
    },
    {
     "name": "stdout",
     "output_type": "stream",
     "text": [
      "Each tower has an additional watch tower, probably intended both for security and to allow the prominent display of the royal flag.\n",
      "\n",
      "--- MarianMT (en→fr→en) Paraphrasing ---\n"
     ]
    },
    {
     "name": "stderr",
     "output_type": "stream",
     "text": [
      "Back-translation:  18%|█▊        | 184/1000 [20:15<1:13:32,  5.41s/it]"
     ]
    },
    {
     "name": "stdout",
     "output_type": "stream",
     "text": [
      "After two relatively low-sold albums, \"Ma Kelly's Greasy Spoon\" and \"Dog of Two Head\" in 1970 and 1971, their major breakthrough came when they signed with heavy rock and the progressive Vertigo label.\n",
      "\n",
      "--- MarianMT (en→fr→en) Paraphrasing ---\n"
     ]
    },
    {
     "name": "stderr",
     "output_type": "stream",
     "text": [
      "Back-translation:  18%|█▊        | 185/1000 [20:20<1:11:14,  5.24s/it]"
     ]
    },
    {
     "name": "stdout",
     "output_type": "stream",
     "text": [
      "Active citizens as agents held a position quite different from that they held when they voted in the assembly or were sworn in.\n",
      "\n",
      "--- MarianMT (en→fr→en) Paraphrasing ---\n"
     ]
    },
    {
     "name": "stderr",
     "output_type": "stream",
     "text": [
      "Back-translation:  19%|█▊        | 186/1000 [20:24<1:08:05,  5.02s/it]"
     ]
    },
    {
     "name": "stdout",
     "output_type": "stream",
     "text": [
      "The jazz ensemble, known as Out of the Blue, is considered the selection group St. Xavier.\n",
      "\n",
      "--- MarianMT (en→fr→en) Paraphrasing ---\n"
     ]
    },
    {
     "name": "stderr",
     "output_type": "stream",
     "text": [
      "Back-translation:  19%|█▊        | 187/1000 [20:30<1:11:40,  5.29s/it]"
     ]
    },
    {
     "name": "stdout",
     "output_type": "stream",
     "text": [
      "\"Velociraptor\" (commonly shortened to \"raptor\") is one of the genres of dinosaurs most familiar to the general public because of its important role in the series of films \"Jurassic Park\".\n",
      "\n",
      "--- MarianMT (en→fr→en) Paraphrasing ---\n"
     ]
    },
    {
     "name": "stderr",
     "output_type": "stream",
     "text": [
      "Back-translation:  19%|█▉        | 188/1000 [20:38<1:22:38,  6.11s/it]"
     ]
    },
    {
     "name": "stdout",
     "output_type": "stream",
     "text": [
      "Nevertheless, the feeling remained widespread that, in the absence of a king, the Thain was the source of all appropriate authority in the Shire, and during Saraman's intervention in the Shire in R.S. 1419, Thain Paladin II, aided by many Hobbits and especially his Took clan, led the armed opposition to the Saraman forces of his capital in Tuckborough.\n",
      "\n",
      "--- MarianMT (en→fr→en) Paraphrasing ---\n"
     ]
    },
    {
     "name": "stderr",
     "output_type": "stream",
     "text": [
      "Back-translation:  19%|█▉        | 189/1000 [20:43<1:18:09,  5.78s/it]"
     ]
    },
    {
     "name": "stdout",
     "output_type": "stream",
     "text": [
      "On 17 April 1897, Grant's remains were quietly transferred to an 8.5-ton red granite sarcophagus and placed in the mausoleum.\n",
      "\n",
      "--- MarianMT (en→fr→en) Paraphrasing ---\n"
     ]
    },
    {
     "name": "stderr",
     "output_type": "stream",
     "text": [
      "Back-translation:  19%|█▉        | 190/1000 [20:48<1:11:44,  5.31s/it]"
     ]
    },
    {
     "name": "stdout",
     "output_type": "stream",
     "text": [
      "Darius-Milhaud intercommunal high school near Paris bears his name.\n",
      "\n",
      "--- MarianMT (en→fr→en) Paraphrasing ---\n"
     ]
    },
    {
     "name": "stderr",
     "output_type": "stream",
     "text": [
      "Back-translation:  19%|█▉        | 191/1000 [20:53<1:12:26,  5.37s/it]"
     ]
    },
    {
     "name": "stdout",
     "output_type": "stream",
     "text": [
      "Another group, on the other hand, considers that, since many Athenians were not allowed to participate in its government, Athenian democracy was not at all a democracy.\n",
      "\n",
      "--- MarianMT (en→fr→en) Paraphrasing ---\n"
     ]
    },
    {
     "name": "stderr",
     "output_type": "stream",
     "text": [
      "Back-translation:  19%|█▉        | 192/1000 [20:58<1:10:01,  5.20s/it]"
     ]
    },
    {
     "name": "stdout",
     "output_type": "stream",
     "text": [
      "From now on, the laws were not passed at the assembly, but by special groups of citizens from the annual reserve of 6,000 jurors.\n",
      "\n",
      "--- MarianMT (en→fr→en) Paraphrasing ---\n"
     ]
    },
    {
     "name": "stderr",
     "output_type": "stream",
     "text": [
      "Back-translation:  19%|█▉        | 193/1000 [21:03<1:11:08,  5.29s/it]"
     ]
    },
    {
     "name": "stdout",
     "output_type": "stream",
     "text": [
      "In 1639, a second rebellion involving the Chinese occurred, and the rebels strengthened in the highlands of Cavinti and Lumban before going to Pagsanjan a year later.\n",
      "\n",
      "--- MarianMT (en→fr→en) Paraphrasing ---\n"
     ]
    },
    {
     "name": "stderr",
     "output_type": "stream",
     "text": [
      "Back-translation:  19%|█▉        | 194/1000 [21:08<1:06:52,  4.98s/it]"
     ]
    },
    {
     "name": "stdout",
     "output_type": "stream",
     "text": [
      "The OAS's position on Aboriginal people appears to be growing over the years.\n",
      "\n",
      "--- MarianMT (en→fr→en) Paraphrasing ---\n"
     ]
    },
    {
     "name": "stderr",
     "output_type": "stream",
     "text": [
      "Back-translation:  20%|█▉        | 195/1000 [21:12<1:03:42,  4.75s/it]"
     ]
    },
    {
     "name": "stdout",
     "output_type": "stream",
     "text": [
      "In 1642, the English civil war broke out between Charles' royalist supporters and Parliament.\n",
      "\n",
      "--- MarianMT (en→fr→en) Paraphrasing ---\n"
     ]
    },
    {
     "name": "stderr",
     "output_type": "stream",
     "text": [
      "Back-translation:  20%|█▉        | 196/1000 [21:16<1:02:22,  4.66s/it]"
     ]
    },
    {
     "name": "stdout",
     "output_type": "stream",
     "text": [
      "They suggest that his magic comes from his Arawak ancestry.\n",
      "\n",
      "--- MarianMT (en→fr→en) Paraphrasing ---\n"
     ]
    },
    {
     "name": "stderr",
     "output_type": "stream",
     "text": [
      "Back-translation:  20%|█▉        | 197/1000 [21:21<1:02:00,  4.63s/it]"
     ]
    },
    {
     "name": "stdout",
     "output_type": "stream",
     "text": [
      "Take a special look at the \"Chapelized\" Gate Pavilion of architectural importance.\n",
      "\n",
      "--- MarianMT (en→fr→en) Paraphrasing ---\n"
     ]
    },
    {
     "name": "stderr",
     "output_type": "stream",
     "text": [
      "Back-translation:  20%|█▉        | 198/1000 [21:28<1:10:17,  5.26s/it]"
     ]
    },
    {
     "name": "stdout",
     "output_type": "stream",
     "text": [
      "However, the official opinion of the U.S. National Institute on Drug Abuse warns against health risks while cautioning against stereotypes: many remember that \"baby cracks\" or babies born to mothers who consumed crack during pregnancy were at some point cancelled by many as a lost generation.\n",
      "\n",
      "--- MarianMT (en→fr→en) Paraphrasing ---\n"
     ]
    },
    {
     "name": "stderr",
     "output_type": "stream",
     "text": [
      "Back-translation:  20%|█▉        | 199/1000 [21:32<1:06:17,  4.97s/it]"
     ]
    },
    {
     "name": "stdout",
     "output_type": "stream",
     "text": [
      "The castle requires continuous maintenance and repairs that cost £30,000 over the 2002-2003 fiscal year.\n",
      "\n",
      "--- MarianMT (en→fr→en) Paraphrasing ---\n"
     ]
    },
    {
     "name": "stderr",
     "output_type": "stream",
     "text": [
      "Back-translation:  20%|██        | 200/1000 [21:35<1:00:49,  4.56s/it]"
     ]
    },
    {
     "name": "stdout",
     "output_type": "stream",
     "text": [
      "The vote was by a simple majority.\n",
      "\n",
      "--- MarianMT (en→fr→en) Paraphrasing ---\n"
     ]
    },
    {
     "name": "stderr",
     "output_type": "stream",
     "text": [
      "Back-translation:  20%|██        | 201/1000 [21:40<59:43,  4.49s/it]  "
     ]
    },
    {
     "name": "stdout",
     "output_type": "stream",
     "text": [
      "On the east side of the inner quarter is another barbican, which houses the castle garden.\n",
      "\n",
      "--- MarianMT (en→fr→en) Paraphrasing ---\n"
     ]
    },
    {
     "name": "stderr",
     "output_type": "stream",
     "text": [
      "Back-translation:  20%|██        | 202/1000 [21:45<1:02:57,  4.73s/it]"
     ]
    },
    {
     "name": "stdout",
     "output_type": "stream",
     "text": [
      "An error that affects the bits \"k\" moves the message to a corner that is \"k\" deleted steps from its correct corner.\n",
      "\n",
      "--- MarianMT (en→fr→en) Paraphrasing ---\n"
     ]
    },
    {
     "name": "stderr",
     "output_type": "stream",
     "text": [
      "Back-translation:  20%|██        | 203/1000 [21:51<1:08:14,  5.14s/it]"
     ]
    },
    {
     "name": "stdout",
     "output_type": "stream",
     "text": [
      "The granite exterior of the tomb is shaped according to the Halicarnassus mausoleum with Persian elements and but for the ion order it resembles the Tropaeum Alpium.\n",
      "\n",
      "--- MarianMT (en→fr→en) Paraphrasing ---\n"
     ]
    },
    {
     "name": "stderr",
     "output_type": "stream",
     "text": [
      "Back-translation:  20%|██        | 204/1000 [21:56<1:07:50,  5.11s/it]"
     ]
    },
    {
     "name": "stdout",
     "output_type": "stream",
     "text": [
      "After the police's concerns, the march was cancelled and instead, a hundred fans gathered in Marble Arch.\n",
      "\n",
      "--- MarianMT (en→fr→en) Paraphrasing ---\n"
     ]
    },
    {
     "name": "stderr",
     "output_type": "stream",
     "text": [
      "Back-translation:  20%|██        | 205/1000 [22:00<1:03:12,  4.77s/it]"
     ]
    },
    {
     "name": "stdout",
     "output_type": "stream",
     "text": [
      "We've always wanted to make a big theatrical tour.\n",
      "\n",
      "--- MarianMT (en→fr→en) Paraphrasing ---\n"
     ]
    },
    {
     "name": "stderr",
     "output_type": "stream",
     "text": [
      "Back-translation:  21%|██        | 206/1000 [22:05<1:01:29,  4.65s/it]"
     ]
    },
    {
     "name": "stdout",
     "output_type": "stream",
     "text": [
      "The 1985 film \"\" was shot in Saint Kitts.\n",
      "\n",
      "--- MarianMT (en→fr→en) Paraphrasing ---\n"
     ]
    },
    {
     "name": "stderr",
     "output_type": "stream",
     "text": [
      "Back-translation:  21%|██        | 207/1000 [22:09<1:01:15,  4.64s/it]"
     ]
    },
    {
     "name": "stdout",
     "output_type": "stream",
     "text": [
      "If several foods are to be cooked separately, they are placed in different containers.\n",
      "\n",
      "--- MarianMT (en→fr→en) Paraphrasing ---\n"
     ]
    },
    {
     "name": "stderr",
     "output_type": "stream",
     "text": [
      "Back-translation:  21%|██        | 208/1000 [22:15<1:06:09,  5.01s/it]"
     ]
    },
    {
     "name": "stdout",
     "output_type": "stream",
     "text": [
      "After a defeat in the qualifying final to rival Geelong, after a lack by Issac Smith after the siren, Hawthorn was eliminated from the final by possible Premiers of the West Bulldogs.\n",
      "\n",
      "--- MarianMT (en→fr→en) Paraphrasing ---\n"
     ]
    },
    {
     "name": "stderr",
     "output_type": "stream",
     "text": [
      "Back-translation:  21%|██        | 209/1000 [22:21<1:09:22,  5.26s/it]"
     ]
    },
    {
     "name": "stdout",
     "output_type": "stream",
     "text": [
      "Edward's plan was a colonial enterprise and placing the new city and walls above a Welsh site of such quality was in part a symbolic act to demonstrate English power.\n",
      "\n",
      "--- MarianMT (en→fr→en) Paraphrasing ---\n"
     ]
    },
    {
     "name": "stderr",
     "output_type": "stream",
     "text": [
      "Back-translation:  21%|██        | 210/1000 [22:26<1:08:53,  5.23s/it]"
     ]
    },
    {
     "name": "stdout",
     "output_type": "stream",
     "text": [
      "Although now somewhat dilapidated, the ramparts originally wore triple final drawings and presented a sequence of square holes along the exterior of the walls.\n",
      "\n",
      "--- MarianMT (en→fr→en) Paraphrasing ---\n"
     ]
    },
    {
     "name": "stderr",
     "output_type": "stream",
     "text": [
      "Back-translation:  21%|██        | 211/1000 [22:31<1:06:30,  5.06s/it]"
     ]
    },
    {
     "name": "stdout",
     "output_type": "stream",
     "text": [
      "Of course, the Irish version was pleasantly well-humored even though the amplification was too much for the squares.\n",
      "\n",
      "--- MarianMT (en→fr→en) Paraphrasing ---\n"
     ]
    },
    {
     "name": "stderr",
     "output_type": "stream",
     "text": [
      "Back-translation:  21%|██        | 212/1000 [22:36<1:05:57,  5.02s/it]"
     ]
    },
    {
     "name": "stdout",
     "output_type": "stream",
     "text": [
      "Finally, the Chinese were able to kill Luys de Velasco and ten of his men, before securing themselves in San Pablo waiting for reinforcements from the continent.\n",
      "\n",
      "--- MarianMT (en→fr→en) Paraphrasing ---\n"
     ]
    },
    {
     "name": "stderr",
     "output_type": "stream",
     "text": [
      "Back-translation:  21%|██▏       | 213/1000 [22:42<1:11:00,  5.41s/it]"
     ]
    },
    {
     "name": "stdout",
     "output_type": "stream",
     "text": [
      "However, this allegation was challenged: Morgan and Zimmer wrote that the available data indicated that \" ... smoking cocaine per se does not significantly increase the likelihood of addiction ... The allegation that cocaine is much more addictive when it is smoked must be reconsidered\".\n",
      "\n",
      "--- MarianMT (en→fr→en) Paraphrasing ---\n"
     ]
    },
    {
     "name": "stderr",
     "output_type": "stream",
     "text": [
      "Back-translation:  21%|██▏       | 214/1000 [22:46<1:06:21,  5.07s/it]"
     ]
    },
    {
     "name": "stdout",
     "output_type": "stream",
     "text": [
      ", Elton John and Tim Rice \"Aida\", and many more.\n",
      "\n",
      "--- MarianMT (en→fr→en) Paraphrasing ---\n"
     ]
    },
    {
     "name": "stderr",
     "output_type": "stream",
     "text": [
      "Back-translation:  22%|██▏       | 215/1000 [22:50<1:03:09,  4.83s/it]"
     ]
    },
    {
     "name": "stdout",
     "output_type": "stream",
     "text": [
      "Conwy Castle is a fortification in Conwy, northern Wales.\n",
      "\n",
      "--- MarianMT (en→fr→en) Paraphrasing ---\n"
     ]
    },
    {
     "name": "stderr",
     "output_type": "stream",
     "text": [
      "Back-translation:  22%|██▏       | 216/1000 [22:55<1:02:20,  4.77s/it]"
     ]
    },
    {
     "name": "stdout",
     "output_type": "stream",
     "text": [
      "The reissue, entitled \"The Black Parade/Living with Ghosts\", includes 11 live demos and tracks.\n",
      "\n",
      "--- MarianMT (en→fr→en) Paraphrasing ---\n"
     ]
    },
    {
     "name": "stderr",
     "output_type": "stream",
     "text": [
      "Back-translation:  22%|██▏       | 217/1000 [23:00<1:02:07,  4.76s/it]"
     ]
    },
    {
     "name": "stdout",
     "output_type": "stream",
     "text": [
      "Putting the \"biscuit in the basket\" (colloquial for the goal) is a goal.\n",
      "\n",
      "--- MarianMT (en→fr→en) Paraphrasing ---\n"
     ]
    },
    {
     "name": "stderr",
     "output_type": "stream",
     "text": [
      "Back-translation:  22%|██▏       | 218/1000 [23:04<1:00:32,  4.65s/it]"
     ]
    },
    {
     "name": "stdout",
     "output_type": "stream",
     "text": [
      "There were 10,587 dwellings with an average density of 6 per square mile (2/km2).\n",
      "\n",
      "--- MarianMT (en→fr→en) Paraphrasing ---\n"
     ]
    },
    {
     "name": "stderr",
     "output_type": "stream",
     "text": [
      "Back-translation:  22%|██▏       | 219/1000 [23:09<1:00:09,  4.62s/it]"
     ]
    },
    {
     "name": "stdout",
     "output_type": "stream",
     "text": [
      "The two hollows are held in a fixed orientation in relation to each other by being both fixed to a frame.\n",
      "\n",
      "--- MarianMT (en→fr→en) Paraphrasing ---\n"
     ]
    },
    {
     "name": "stderr",
     "output_type": "stream",
     "text": [
      "Back-translation:  22%|██▏       | 220/1000 [23:13<59:44,  4.59s/it]  "
     ]
    },
    {
     "name": "stdout",
     "output_type": "stream",
     "text": [
      "Two of the senators are appointed on the advice of the Prime Minister, and one on the advice of the Leader of the Opposition.\n",
      "\n",
      "--- MarianMT (en→fr→en) Paraphrasing ---\n"
     ]
    },
    {
     "name": "stderr",
     "output_type": "stream",
     "text": [
      "Back-translation:  22%|██▏       | 221/1000 [23:19<1:02:42,  4.83s/it]"
     ]
    },
    {
     "name": "stdout",
     "output_type": "stream",
     "text": [
      "The 16th century historian Paolo Giovio thought that he was in Lenno opposite the villa Tragedy but that his remains were now underwater.\n",
      "\n",
      "--- MarianMT (en→fr→en) Paraphrasing ---\n"
     ]
    },
    {
     "name": "stderr",
     "output_type": "stream",
     "text": [
      "Back-translation:  22%|██▏       | 222/1000 [23:23<1:02:08,  4.79s/it]"
     ]
    },
    {
     "name": "stdout",
     "output_type": "stream",
     "text": [
      "The last name is mainly centered south of the Liffey River around the parish church of St James.\n",
      "\n",
      "--- MarianMT (en→fr→en) Paraphrasing ---\n"
     ]
    },
    {
     "name": "stderr",
     "output_type": "stream",
     "text": [
      "Back-translation:  22%|██▏       | 223/1000 [23:28<1:00:54,  4.70s/it]"
     ]
    },
    {
     "name": "stdout",
     "output_type": "stream",
     "text": [
      "Five of the world's eight thousand (over 8,000 m) mountains in Pakistan are accessible via the highway.\n",
      "\n",
      "--- MarianMT (en→fr→en) Paraphrasing ---\n"
     ]
    },
    {
     "name": "stderr",
     "output_type": "stream",
     "text": [
      "Back-translation:  22%|██▏       | 224/1000 [23:34<1:04:18,  4.97s/it]"
     ]
    },
    {
     "name": "stdout",
     "output_type": "stream",
     "text": [
      "The inner walls should be reflective to reduce the loss of radiative heat and bounce the light towards the pots and the dark bottom, which is in contact with the pots.\n",
      "\n",
      "--- MarianMT (en→fr→en) Paraphrasing ---\n"
     ]
    },
    {
     "name": "stderr",
     "output_type": "stream",
     "text": [
      "Back-translation:  22%|██▎       | 225/1000 [23:39<1:05:46,  5.09s/it]"
     ]
    },
    {
     "name": "stdout",
     "output_type": "stream",
     "text": [
      "Modern mission techniques are sufficiently refined that, in ten to fifteen years, most Aboriginal churches are locally pasteurized, managed, taught, self-sufficient and evangelizing.\n",
      "\n",
      "--- MarianMT (en→fr→en) Paraphrasing ---\n"
     ]
    },
    {
     "name": "stderr",
     "output_type": "stream",
     "text": [
      "Back-translation:  23%|██▎       | 226/1000 [24:14<3:03:50, 14.25s/it]"
     ]
    },
    {
     "name": "stdout",
     "output_type": "stream",
     "text": [
      "atari; base; bazooka; beams; beemers; bees; bees; bays; bins; bolo; bomb; boulders; butter; caine; cane; Casper; phantom; cavvy; chemicals; chewing; new cloud; crills; crunch and munchs; dip; famous dims; fan; fish scales; fries; glob; golf ball; gravel; hail; hamburger; help; hubba; ice; kangaurous; kibbles; kibbles; krills; pâté; patico; peas; peas; pony; raw; ready; rocks; rocks; rocks; bow; bow; bow; bow; bow; bow; bow; bow; wow; wow; wow; wow; wow; wow; wow; wow; scud; Scotty; fog; sherm; sleep; sleep; teeth; tension; bow; bow; bow; bow; bow; bow; bow; bow; bow; wow; wow; wow; wow; wow; wow; wow; wow; wow; wow; wow; wow; wow; wow; wow; wow; wow; wow; wow; wow; wow; wow; wow; wow; wow; wow; wow; wow; wow; wow; wow; wow; wow; wow; wow; wow; wow; wow; wow; wow; wow; wow; wow; wow; wow; wow; wow; wow; wow; wow; wow; wow; wow; wow; wow; wow; wow; wow; wow; wow; wow; wow; wow; wow; wow; wow; wow; wow; wow; wow; wow; wow; wow; wow; wow; wow; wow; wow; wow; wow; wow; wow; wow; wow; wow; wow; bow;\n",
      "\n",
      "--- MarianMT (en→fr→en) Paraphrasing ---\n"
     ]
    },
    {
     "name": "stderr",
     "output_type": "stream",
     "text": [
      "Back-translation:  23%|██▎       | 227/1000 [24:20<2:27:53, 11.48s/it]"
     ]
    },
    {
     "name": "stdout",
     "output_type": "stream",
     "text": [
      "The barbican showed the first surviving stone machicolages in Britain, and the door would have been originally protected by a portcullis.\n",
      "\n",
      "--- MarianMT (en→fr→en) Paraphrasing ---\n"
     ]
    },
    {
     "name": "stderr",
     "output_type": "stream",
     "text": [
      "Back-translation:  23%|██▎       | 228/1000 [24:24<1:59:14,  9.27s/it]"
     ]
    },
    {
     "name": "stdout",
     "output_type": "stream",
     "text": [
      "Laguna was the place of multiple engagements during the Sangley rebellion.\n",
      "\n",
      "--- MarianMT (en→fr→en) Paraphrasing ---\n"
     ]
    },
    {
     "name": "stderr",
     "output_type": "stream",
     "text": [
      "Back-translation:  23%|██▎       | 229/1000 [24:28<1:38:26,  7.66s/it]"
     ]
    },
    {
     "name": "stdout",
     "output_type": "stream",
     "text": [
      "According to the organizers, the march was to attract between 500 and 1000 demonstrators.\n",
      "\n",
      "--- MarianMT (en→fr→en) Paraphrasing ---\n"
     ]
    },
    {
     "name": "stderr",
     "output_type": "stream",
     "text": [
      "Back-translation:  23%|██▎       | 230/1000 [24:31<1:22:39,  6.44s/it]"
     ]
    },
    {
     "name": "stdout",
     "output_type": "stream",
     "text": [
      "The Crescent project is an example of this.\n",
      "\n",
      "--- MarianMT (en→fr→en) Paraphrasing ---\n"
     ]
    },
    {
     "name": "stderr",
     "output_type": "stream",
     "text": [
      "Back-translation:  23%|██▎       | 231/1000 [24:35<1:14:35,  5.82s/it]"
     ]
    },
    {
     "name": "stdout",
     "output_type": "stream",
     "text": [
      "In 1294 Madog ap Llywelyn rebelled against English domination.\n",
      "\n",
      "--- MarianMT (en→fr→en) Paraphrasing ---\n"
     ]
    },
    {
     "name": "stderr",
     "output_type": "stream",
     "text": [
      "Back-translation:  23%|██▎       | 232/1000 [24:40<1:09:35,  5.44s/it]"
     ]
    },
    {
     "name": "stdout",
     "output_type": "stream",
     "text": [
      "The northwest tower was reached by the doorman's pavilion and contained a limited number of accommodation and store space.\n",
      "\n",
      "--- MarianMT (en→fr→en) Paraphrasing ---\n"
     ]
    },
    {
     "name": "stderr",
     "output_type": "stream",
     "text": [
      "Back-translation:  23%|██▎       | 233/1000 [24:45<1:08:38,  5.37s/it]"
     ]
    },
    {
     "name": "stdout",
     "output_type": "stream",
     "text": [
      "In August 1646 and November, General Thomas Mytton finally took the castle itself after a substantial siege.\n",
      "\n",
      "--- MarianMT (en→fr→en) Paraphrasing ---\n"
     ]
    },
    {
     "name": "stderr",
     "output_type": "stream",
     "text": [
      "Back-translation:  23%|██▎       | 234/1000 [24:50<1:06:47,  5.23s/it]"
     ]
    },
    {
     "name": "stdout",
     "output_type": "stream",
     "text": [
      "Pretending to be carpenters repairing the castle, both won the entrance, killed the two guards in service and took control of the fortress.\n",
      "\n",
      "--- MarianMT (en→fr→en) Paraphrasing ---\n"
     ]
    },
    {
     "name": "stderr",
     "output_type": "stream",
     "text": [
      "Back-translation:  24%|██▎       | 235/1000 [24:55<1:06:11,  5.19s/it]"
     ]
    },
    {
     "name": "stdout",
     "output_type": "stream",
     "text": [
      "The largest airport is Robert L. Bradshaw International Airport on the island of Saint Kitts with service outside the Caribbean, North America and Europe.\n",
      "\n",
      "--- MarianMT (en→fr→en) Paraphrasing ---\n"
     ]
    },
    {
     "name": "stderr",
     "output_type": "stream",
     "text": [
      "Back-translation:  24%|██▎       | 236/1000 [25:02<1:12:01,  5.66s/it]"
     ]
    },
    {
     "name": "stdout",
     "output_type": "stream",
     "text": [
      "The document cautioned against similar risks to the integrity of the park, such as \"uncoordinated construction and construction ... and the current condition of some historic buildings such as Fort-Revue, agricultural buildings located under St. Mary's Hospital and Mountjoy House in the Ordnance Survey Complex.\"\n",
      "\n",
      "--- MarianMT (en→fr→en) Paraphrasing ---\n"
     ]
    },
    {
     "name": "stderr",
     "output_type": "stream",
     "text": [
      "Back-translation:  24%|██▎       | 237/1000 [25:08<1:12:09,  5.67s/it]"
     ]
    },
    {
     "name": "stdout",
     "output_type": "stream",
     "text": [
      "Although none of his songs were used in the finished film, the melody of \"Lobster Quadrille\" was used for the song \"Never Smile at a Crocodile\" in \"Peter Pan\".\n",
      "\n",
      "--- MarianMT (en→fr→en) Paraphrasing ---\n"
     ]
    },
    {
     "name": "stderr",
     "output_type": "stream",
     "text": [
      "Back-translation:  24%|██▍       | 238/1000 [25:13<1:10:34,  5.56s/it]"
     ]
    },
    {
     "name": "stdout",
     "output_type": "stream",
     "text": [
      "Sir John Weston, his chamberlain, made repairs, building new stone support arches for the large hall and other parts of the castle.\n",
      "\n",
      "--- MarianMT (en→fr→en) Paraphrasing ---\n"
     ]
    },
    {
     "name": "stderr",
     "output_type": "stream",
     "text": [
      "Back-translation:  24%|██▍       | 239/1000 [25:18<1:09:36,  5.49s/it]"
     ]
    },
    {
     "name": "stdout",
     "output_type": "stream",
     "text": [
      "The population is mainly of Afro-Caribbean origin (92.5%), with large minorities of European origin (2.1%) and Indian origin (1.5%).\n",
      "\n",
      "--- MarianMT (en→fr→en) Paraphrasing ---\n"
     ]
    },
    {
     "name": "stderr",
     "output_type": "stream",
     "text": [
      "Back-translation:  24%|██▍       | 240/1000 [25:25<1:13:14,  5.78s/it]"
     ]
    },
    {
     "name": "stdout",
     "output_type": "stream",
     "text": [
      "Only two of the guests of the show discovered Batman's true identity: Egghead by deductive reasoning, and King Tut twice – the first time with a bug placed on the Batmobile and the second time by accidental extraction into the Batcave.\n",
      "\n",
      "--- MarianMT (en→fr→en) Paraphrasing ---\n"
     ]
    },
    {
     "name": "stderr",
     "output_type": "stream",
     "text": [
      "Back-translation:  24%|██▍       | 241/1000 [25:30<1:09:51,  5.52s/it]"
     ]
    },
    {
     "name": "stdout",
     "output_type": "stream",
     "text": [
      "On 26 September 2006, the video of \"Welcome to the Black Parade\" was released in the United Kingdom and on 27 September in the United States.\n",
      "\n",
      "--- MarianMT (en→fr→en) Paraphrasing ---\n"
     ]
    },
    {
     "name": "stderr",
     "output_type": "stream",
     "text": [
      "Back-translation:  24%|██▍       | 242/1000 [25:35<1:07:25,  5.34s/it]"
     ]
    },
    {
     "name": "stdout",
     "output_type": "stream",
     "text": [
      "By the end of the 19th century, there were 42,600 residents, with the number slowly rising to just over 50,000 by the middle of the 20th century.\n",
      "\n",
      "--- MarianMT (en→fr→en) Paraphrasing ---\n"
     ]
    },
    {
     "name": "stderr",
     "output_type": "stream",
     "text": [
      "Back-translation:  24%|██▍       | 243/1000 [25:40<1:06:41,  5.29s/it]"
     ]
    },
    {
     "name": "stdout",
     "output_type": "stream",
     "text": [
      "It is, however, that the white clouds that usually tear up the summit of Nevis Peak reminded someone of the story of a miraculous snowfall in a warm climate.\n",
      "\n",
      "--- MarianMT (en→fr→en) Paraphrasing ---\n"
     ]
    },
    {
     "name": "stderr",
     "output_type": "stream",
     "text": [
      "Back-translation:  24%|██▍       | 244/1000 [25:45<1:06:35,  5.29s/it]"
     ]
    },
    {
     "name": "stdout",
     "output_type": "stream",
     "text": [
      "After finishing this, the manufacturer uses a crescent-shaped knife called \"lunarium\" or \"lunellum\" to remove the remaining hair.\n",
      "\n",
      "--- MarianMT (en→fr→en) Paraphrasing ---\n"
     ]
    },
    {
     "name": "stderr",
     "output_type": "stream",
     "text": [
      "Back-translation:  24%|██▍       | 245/1000 [25:49<1:02:13,  4.94s/it]"
     ]
    },
    {
     "name": "stdout",
     "output_type": "stream",
     "text": [
      "Some cocaine users report feelings of agitation, irritability and anxiety.\n",
      "\n",
      "--- MarianMT (en→fr→en) Paraphrasing ---\n"
     ]
    },
    {
     "name": "stderr",
     "output_type": "stream",
     "text": [
      "Back-translation:  25%|██▍       | 246/1000 [25:53<59:34,  4.74s/it]  "
     ]
    },
    {
     "name": "stdout",
     "output_type": "stream",
     "text": [
      "30% of the park is covered with trees, mainly deciduous.\n",
      "\n",
      "--- MarianMT (en→fr→en) Paraphrasing ---\n"
     ]
    },
    {
     "name": "stderr",
     "output_type": "stream",
     "text": [
      "Back-translation:  25%|██▍       | 247/1000 [25:58<58:03,  4.63s/it]"
     ]
    },
    {
     "name": "stdout",
     "output_type": "stream",
     "text": [
      "To maintain the stationary focus, the shape of the reflector must vary.\n",
      "\n",
      "--- MarianMT (en→fr→en) Paraphrasing ---\n"
     ]
    },
    {
     "name": "stderr",
     "output_type": "stream",
     "text": [
      "Back-translation:  25%|██▍       | 248/1000 [26:02<57:16,  4.57s/it]"
     ]
    },
    {
     "name": "stdout",
     "output_type": "stream",
     "text": [
      "The ditch was filled during the sixteenth century and the drawbridge was removed.\n",
      "\n",
      "--- MarianMT (en→fr→en) Paraphrasing ---\n"
     ]
    },
    {
     "name": "stderr",
     "output_type": "stream",
     "text": [
      "Back-translation:  25%|██▍       | 249/1000 [26:07<59:01,  4.72s/it]"
     ]
    },
    {
     "name": "stdout",
     "output_type": "stream",
     "text": [
      "From 1970 to 2012, 1,000 students were appointed semi-finalists or finalists under the National Merit Scholarship Program.\n",
      "\n",
      "--- MarianMT (en→fr→en) Paraphrasing ---\n"
     ]
    },
    {
     "name": "stderr",
     "output_type": "stream",
     "text": [
      "Back-translation:  25%|██▌       | 250/1000 [26:12<57:44,  4.62s/it]"
     ]
    },
    {
     "name": "stdout",
     "output_type": "stream",
     "text": [
      "had succeeded in this area by making unusual use of the Ren'Py engine and providing unexpected rebounds.\n",
      "\n",
      "--- MarianMT (en→fr→en) Paraphrasing ---\n"
     ]
    },
    {
     "name": "stderr",
     "output_type": "stream",
     "text": [
      "Back-translation:  25%|██▌       | 251/1000 [26:17<58:18,  4.67s/it]"
     ]
    },
    {
     "name": "stdout",
     "output_type": "stream",
     "text": [
      "The federation of Saint Kitts and Nevis is divided into fourteen parishes: nine divisions on Saint Kitts and Nevis and five on Nevis.\n",
      "\n",
      "--- MarianMT (en→fr→en) Paraphrasing ---\n"
     ]
    },
    {
     "name": "stderr",
     "output_type": "stream",
     "text": [
      "Back-translation:  25%|██▌       | 252/1000 [26:22<1:00:47,  4.88s/it]"
     ]
    },
    {
     "name": "stdout",
     "output_type": "stream",
     "text": [
      "In 1985, Hawthorn Reserves had future top players in James Morrissey, Greg Dear, Peter Curran, Chris Wittman and Paul Abbott.\n",
      "\n",
      "--- MarianMT (en→fr→en) Paraphrasing ---\n"
     ]
    },
    {
     "name": "stderr",
     "output_type": "stream",
     "text": [
      "Back-translation:  25%|██▌       | 253/1000 [26:27<1:03:28,  5.10s/it]"
     ]
    },
    {
     "name": "stdout",
     "output_type": "stream",
     "text": [
      "The barbican showed the first surviving stone machicolages in Britain, and the door would have been originally protected by a portcullis.\n",
      "\n",
      "--- MarianMT (en→fr→en) Paraphrasing ---\n"
     ]
    },
    {
     "name": "stderr",
     "output_type": "stream",
     "text": [
      "Back-translation:  25%|██▌       | 254/1000 [26:32<59:44,  4.81s/it]  "
     ]
    },
    {
     "name": "stdout",
     "output_type": "stream",
     "text": [
      "In 2006 and again in 2009, no pitchers in both leagues won 20 games.\n",
      "\n",
      "--- MarianMT (en→fr→en) Paraphrasing ---\n"
     ]
    },
    {
     "name": "stderr",
     "output_type": "stream",
     "text": [
      "Back-translation:  26%|██▌       | 255/1000 [26:37<1:02:34,  5.04s/it]"
     ]
    },
    {
     "name": "stdout",
     "output_type": "stream",
     "text": [
      "Edward was besieged in Conwy by the Welsh between December and January 1295, supplied only by the sea, before the forces arrived to relieve him in February.\n",
      "\n",
      "--- MarianMT (en→fr→en) Paraphrasing ---\n"
     ]
    },
    {
     "name": "stderr",
     "output_type": "stream",
     "text": [
      "Back-translation:  26%|██▌       | 256/1000 [26:42<1:00:20,  4.87s/it]"
     ]
    },
    {
     "name": "stdout",
     "output_type": "stream",
     "text": [
      "In balance, all expenditures are desired or planned; there is no accumulation of unforeseen inventories.\n",
      "\n",
      "--- MarianMT (en→fr→en) Paraphrasing ---\n"
     ]
    },
    {
     "name": "stderr",
     "output_type": "stream",
     "text": [
      "Back-translation:  26%|██▌       | 257/1000 [26:46<57:26,  4.64s/it]  "
     ]
    },
    {
     "name": "stdout",
     "output_type": "stream",
     "text": [
      "Some students attended typing classes at nearby St. Xavier Commercial School.\n",
      "\n",
      "--- MarianMT (en→fr→en) Paraphrasing ---\n"
     ]
    },
    {
     "name": "stderr",
     "output_type": "stream",
     "text": [
      "Back-translation:  26%|██▌       | 258/1000 [26:51<1:00:41,  4.91s/it]"
     ]
    },
    {
     "name": "stdout",
     "output_type": "stream",
     "text": [
      "While North American teams were closed to Communist Mongolia during the Cold War, expeditions by Soviet and Polish scientists, in collaboration with Mongolian colleagues, recovered several other specimens of \"Velociraptor\".\n",
      "\n",
      "--- MarianMT (en→fr→en) Paraphrasing ---\n"
     ]
    },
    {
     "name": "stderr",
     "output_type": "stream",
     "text": [
      "Back-translation:  26%|██▌       | 259/1000 [26:59<1:10:05,  5.68s/it]"
     ]
    },
    {
     "name": "stdout",
     "output_type": "stream",
     "text": [
      "A second notable monument is the \"Colonne Phoenix\" (illustrated in the header photograph above), a sculpted Corinthian column of Portland Stone located in the centre on Chesterfield Avenue, the park's main access road, at the junction of the Acres road and the Phoenix, the main entrance of Áras an Uachtaráin.\n",
      "\n",
      "--- MarianMT (en→fr→en) Paraphrasing ---\n"
     ]
    },
    {
     "name": "stderr",
     "output_type": "stream",
     "text": [
      "Back-translation:  26%|██▌       | 260/1000 [27:03<1:05:26,  5.31s/it]"
     ]
    },
    {
     "name": "stdout",
     "output_type": "stream",
     "text": [
      "In 2012, Carradine lent his voice to the video game \"\", representing the primary antagonist Blake Dexter.\n",
      "\n",
      "--- MarianMT (en→fr→en) Paraphrasing ---\n"
     ]
    },
    {
     "name": "stderr",
     "output_type": "stream",
     "text": [
      "Back-translation:  26%|██▌       | 261/1000 [27:08<1:03:39,  5.17s/it]"
     ]
    },
    {
     "name": "stdout",
     "output_type": "stream",
     "text": [
      "Sir John Weston, his chamberlain, made repairs, building new stone support arches for the large hall and other parts of the castle.\n",
      "\n",
      "--- MarianMT (en→fr→en) Paraphrasing ---\n"
     ]
    },
    {
     "name": "stderr",
     "output_type": "stream",
     "text": [
      "Back-translation:  26%|██▌       | 262/1000 [27:13<1:02:10,  5.05s/it]"
     ]
    },
    {
     "name": "stdout",
     "output_type": "stream",
     "text": [
      "On August 19, Richard went to Percy at Flint Castle, promising to abdicate if his life was spared.\n",
      "\n",
      "--- MarianMT (en→fr→en) Paraphrasing ---\n"
     ]
    },
    {
     "name": "stderr",
     "output_type": "stream",
     "text": [
      "Back-translation:  26%|██▋       | 263/1000 [27:20<1:09:29,  5.66s/it]"
     ]
    },
    {
     "name": "stdout",
     "output_type": "stream",
     "text": [
      "In January 2014, Wychwood Brewery announced that she would release a Status Quo beer brand, named after their 1972 album \"Piledriver\", exclusively in the JD Wetherspoon pubs across the UK in February, before launching on general sale in April.\n",
      "\n",
      "--- MarianMT (en→fr→en) Paraphrasing ---\n"
     ]
    },
    {
     "name": "stderr",
     "output_type": "stream",
     "text": [
      "Back-translation:  26%|██▋       | 264/1000 [27:24<1:03:54,  5.21s/it]"
     ]
    },
    {
     "name": "stdout",
     "output_type": "stream",
     "text": [
      "However, Disney left for Hollywood and used the film to show potential distributors.\n",
      "\n",
      "--- MarianMT (en→fr→en) Paraphrasing ---\n"
     ]
    },
    {
     "name": "stderr",
     "output_type": "stream",
     "text": [
      "Back-translation:  26%|██▋       | 265/1000 [27:29<1:01:02,  4.98s/it]"
     ]
    },
    {
     "name": "stdout",
     "output_type": "stream",
     "text": [
      "The jury could only vote \"yes\" or \"no\" as to the guilt and sentence of the accused.\n",
      "\n",
      "--- MarianMT (en→fr→en) Paraphrasing ---\n"
     ]
    },
    {
     "name": "stderr",
     "output_type": "stream",
     "text": [
      "Back-translation:  27%|██▋       | 266/1000 [27:36<1:09:35,  5.69s/it]"
     ]
    },
    {
     "name": "stdout",
     "output_type": "stream",
     "text": [
      "This is particularly true of cryptographic hash functions, which can be used to detect many data corruption errors and verify the overall integrity of the data; if the total control calculated for the current data input corresponds to the stored value of a previously calculated control total, there is a very high probability that the data have not been accidentally altered or corrupted.\n",
      "\n",
      "--- MarianMT (en→fr→en) Paraphrasing ---\n"
     ]
    },
    {
     "name": "stderr",
     "output_type": "stream",
     "text": [
      "Back-translation:  27%|██▋       | 267/1000 [27:40<1:05:31,  5.36s/it]"
     ]
    },
    {
     "name": "stdout",
     "output_type": "stream",
     "text": [
      "This contrasts with tutoring or tutoring centres offered through out-of-school programs.\n",
      "\n",
      "--- MarianMT (en→fr→en) Paraphrasing ---\n"
     ]
    },
    {
     "name": "stderr",
     "output_type": "stream",
     "text": [
      "Back-translation:  27%|██▋       | 268/1000 [27:45<1:04:04,  5.25s/it]"
     ]
    },
    {
     "name": "stdout",
     "output_type": "stream",
     "text": [
      "On the death of John Paul in 2005, devotees gathered at the Pontifical Cross, praying and leaving flowers and other signs of remembrance.\n",
      "\n",
      "--- MarianMT (en→fr→en) Paraphrasing ---\n"
     ]
    },
    {
     "name": "stderr",
     "output_type": "stream",
     "text": [
      "Back-translation:  27%|██▋       | 269/1000 [27:51<1:03:31,  5.21s/it]"
     ]
    },
    {
     "name": "stdout",
     "output_type": "stream",
     "text": [
      "\"For many children, this is the only thing they look forward to all year round,\" said Gerard Way of the Warped Tour.\n",
      "\n",
      "--- MarianMT (en→fr→en) Paraphrasing ---\n"
     ]
    },
    {
     "name": "stderr",
     "output_type": "stream",
     "text": [
      "Back-translation:  27%|██▋       | 270/1000 [27:55<1:00:35,  4.98s/it]"
     ]
    },
    {
     "name": "stdout",
     "output_type": "stream",
     "text": [
      "It is called \"Telluride Bluegrass Festival — 40 years of celebration\".\n",
      "\n",
      "--- MarianMT (en→fr→en) Paraphrasing ---\n"
     ]
    },
    {
     "name": "stderr",
     "output_type": "stream",
     "text": [
      "Back-translation:  27%|██▋       | 271/1000 [28:00<59:24,  4.89s/it]  "
     ]
    },
    {
     "name": "stdout",
     "output_type": "stream",
     "text": [
      "The image of a bright red lobster back and red-blooded men was hung on farms throughout New England.\n",
      "\n",
      "--- MarianMT (en→fr→en) Paraphrasing ---\n"
     ]
    },
    {
     "name": "stderr",
     "output_type": "stream",
     "text": [
      "Back-translation:  27%|██▋       | 272/1000 [28:06<1:03:35,  5.24s/it]"
     ]
    },
    {
     "name": "stdout",
     "output_type": "stream",
     "text": [
      "Sayori instead expresses his gratitude to the player for his emotional support to all members of the club, makes his lamentably farewell to him and assures the player that all members of the club love them before removing the game itself.\n",
      "\n",
      "--- MarianMT (en→fr→en) Paraphrasing ---\n"
     ]
    },
    {
     "name": "stderr",
     "output_type": "stream",
     "text": [
      "Back-translation:  27%|██▋       | 273/1000 [28:10<1:01:27,  5.07s/it]"
     ]
    },
    {
     "name": "stdout",
     "output_type": "stream",
     "text": [
      "The image of a bright red lobster back and red-blooded men was hung on farms throughout New England.\n",
      "\n",
      "--- MarianMT (en→fr→en) Paraphrasing ---\n"
     ]
    },
    {
     "name": "stderr",
     "output_type": "stream",
     "text": [
      "Back-translation:  27%|██▋       | 274/1000 [28:15<59:32,  4.92s/it]  "
     ]
    },
    {
     "name": "stdout",
     "output_type": "stream",
     "text": [
      "has received positive critical attention for its successful use of elements of horror and unconventional nature in the genre of visual novel.\n",
      "\n",
      "--- MarianMT (en→fr→en) Paraphrasing ---\n"
     ]
    },
    {
     "name": "stderr",
     "output_type": "stream",
     "text": [
      "Back-translation:  28%|██▊       | 275/1000 [28:22<1:08:03,  5.63s/it]"
     ]
    },
    {
     "name": "stdout",
     "output_type": "stream",
     "text": [
      "Edward took Aberconwy in March 1283 and decided that the site would form the centre of a new county: he would relocate the abbey eight miles from the Conwy Valley to a new site in Maenan, creating the Maenan Abbey, and built a new English castle and a fortified town on the former monastery site.\n",
      "\n",
      "--- MarianMT (en→fr→en) Paraphrasing ---\n"
     ]
    },
    {
     "name": "stderr",
     "output_type": "stream",
     "text": [
      "Back-translation:  28%|██▊       | 276/1000 [28:29<1:10:12,  5.82s/it]"
     ]
    },
    {
     "name": "stdout",
     "output_type": "stream",
     "text": [
      "\"Velociraptor\" was a medium-sized dromaeosaurus, with adults up to 2.07 m long, 0.5 m high at the hip, weighing up to 15 kg, although there is a higher estimate of 19.7 kg.\n",
      "\n",
      "--- MarianMT (en→fr→en) Paraphrasing ---\n"
     ]
    },
    {
     "name": "stderr",
     "output_type": "stream",
     "text": [
      "Back-translation:  28%|██▊       | 277/1000 [28:32<1:03:09,  5.24s/it]"
     ]
    },
    {
     "name": "stdout",
     "output_type": "stream",
     "text": [
      "In less than a year, the zoo housed 123 species.\n",
      "\n",
      "--- MarianMT (en→fr→en) Paraphrasing ---\n"
     ]
    },
    {
     "name": "stderr",
     "output_type": "stream",
     "text": [
      "Back-translation:  28%|██▊       | 278/1000 [28:38<1:03:10,  5.25s/it]"
     ]
    },
    {
     "name": "stdout",
     "output_type": "stream",
     "text": [
      "It is no longer just one of many possible ways of organizing the political regime in a political society: it has become the only possible political system in an egalitarian society.\n",
      "\n",
      "--- MarianMT (en→fr→en) Paraphrasing ---\n"
     ]
    },
    {
     "name": "stderr",
     "output_type": "stream",
     "text": [
      "Back-translation:  28%|██▊       | 279/1000 [28:43<1:01:41,  5.13s/it]"
     ]
    },
    {
     "name": "stdout",
     "output_type": "stream",
     "text": [
      "The park is featured prominently in James Joyce's novel Finnegans Wake and tangentially in \"Ulysses\".\n",
      "\n",
      "--- MarianMT (en→fr→en) Paraphrasing ---\n"
     ]
    },
    {
     "name": "stderr",
     "output_type": "stream",
     "text": [
      "Back-translation:  28%|██▊       | 280/1000 [28:48<1:00:53,  5.07s/it]"
     ]
    },
    {
     "name": "stdout",
     "output_type": "stream",
     "text": [
      "Other Greek cities have established democracies, most of them following the Athenian model, but none is as well documented as Athens\".\n",
      "\n",
      "--- MarianMT (en→fr→en) Paraphrasing ---\n"
     ]
    },
    {
     "name": "stderr",
     "output_type": "stream",
     "text": [
      "Back-translation:  28%|██▊       | 281/1000 [28:52<57:55,  4.83s/it]  "
     ]
    },
    {
     "name": "stdout",
     "output_type": "stream",
     "text": [
      "by spitting on them, and throwing snowballs and other small objects.\n",
      "\n",
      "--- MarianMT (en→fr→en) Paraphrasing ---\n"
     ]
    },
    {
     "name": "stderr",
     "output_type": "stream",
     "text": [
      "Back-translation:  28%|██▊       | 282/1000 [28:58<1:03:50,  5.34s/it]"
     ]
    },
    {
     "name": "stdout",
     "output_type": "stream",
     "text": [
      "As a method of teaching and learning, tutoring is characterised by its difference with formal teaching methods on the basis of the (in)formality of the framework as well as the flexibility of pedagogical methods in terms of duration, pace of teaching, evaluation and tutor-guardian relationship.\n",
      "\n",
      "--- MarianMT (en→fr→en) Paraphrasing ---\n"
     ]
    },
    {
     "name": "stderr",
     "output_type": "stream",
     "text": [
      "Back-translation:  28%|██▊       | 283/1000 [29:04<1:06:44,  5.58s/it]"
     ]
    },
    {
     "name": "stdout",
     "output_type": "stream",
     "text": [
      "As in other dromaeosaurs, the tails of \"Velociraptor\" had long bone projections (prezygapophyses) on the upper side of the vertebrae, as well as boned tendons below.\n",
      "\n",
      "--- MarianMT (en→fr→en) Paraphrasing ---\n"
     ]
    },
    {
     "name": "stderr",
     "output_type": "stream",
     "text": [
      "Back-translation:  28%|██▊       | 284/1000 [29:10<1:05:51,  5.52s/it]"
     ]
    },
    {
     "name": "stdout",
     "output_type": "stream",
     "text": [
      "Hutchinson's statements were eventually published in a booklet entitled \"A Fair Account of the Late Unhappy Disturbance in Boston\", mainly from the statements of soldiers.\n",
      "\n",
      "--- MarianMT (en→fr→en) Paraphrasing ---\n"
     ]
    },
    {
     "name": "stderr",
     "output_type": "stream",
     "text": [
      "Back-translation:  28%|██▊       | 285/1000 [29:16<1:08:57,  5.79s/it]"
     ]
    },
    {
     "name": "stdout",
     "output_type": "stream",
     "text": [
      "The invasion of France by Nazi Germany forced the Milhauds to leave France in 1940 and emigrate to the United States (his Jewish origin made it impossible for Milhaud to return to his native country until his liberation).\n",
      "\n",
      "--- MarianMT (en→fr→en) Paraphrasing ---\n"
     ]
    },
    {
     "name": "stderr",
     "output_type": "stream",
     "text": [
      "Back-translation:  29%|██▊       | 286/1000 [29:22<1:07:31,  5.67s/it]"
     ]
    },
    {
     "name": "stdout",
     "output_type": "stream",
     "text": [
      "At the municipal level, the province is governed by mayors and their own legislatures, Sangguniang Panlungsod and Sangguniang Bayan for cities and municipalities, respectively.\n",
      "\n",
      "--- MarianMT (en→fr→en) Paraphrasing ---\n"
     ]
    },
    {
     "name": "stderr",
     "output_type": "stream",
     "text": [
      "Back-translation:  29%|██▊       | 287/1000 [29:27<1:05:49,  5.54s/it]"
     ]
    },
    {
     "name": "stdout",
     "output_type": "stream",
     "text": [
      "In most states (except the United States), crack falls into the same category as cocaine.\n",
      "\n",
      "--- MarianMT (en→fr→en) Paraphrasing ---\n"
     ]
    },
    {
     "name": "stderr",
     "output_type": "stream",
     "text": [
      "Back-translation:  29%|██▉       | 288/1000 [29:32<1:03:01,  5.31s/it]"
     ]
    },
    {
     "name": "stdout",
     "output_type": "stream",
     "text": [
      "Some chappies near the kiosk almost fainted with their long hair as they responded to the biorhythms of the scene.\"\n",
      "\n",
      "--- MarianMT (en→fr→en) Paraphrasing ---\n"
     ]
    },
    {
     "name": "stderr",
     "output_type": "stream",
     "text": [
      "Back-translation:  29%|██▉       | 289/1000 [29:36<59:28,  5.02s/it]  "
     ]
    },
    {
     "name": "stdout",
     "output_type": "stream",
     "text": [
      "The castle dates from the 13th century listening, it was remodeled in the 15th century.\n",
      "\n",
      "--- MarianMT (en→fr→en) Paraphrasing ---\n"
     ]
    },
    {
     "name": "stderr",
     "output_type": "stream",
     "text": [
      "Back-translation:  29%|██▉       | 290/1000 [29:42<1:03:04,  5.33s/it]"
     ]
    },
    {
     "name": "stdout",
     "output_type": "stream",
     "text": [
      "Since this knowledge was not intended to harm, Tituba again told Parris that she was not a witch, but admitted that she had participated in an occult ritual when she performed witchcraft in an attempt to help Elizabeth Parris.\n",
      "\n",
      "--- MarianMT (en→fr→en) Paraphrasing ---\n"
     ]
    },
    {
     "name": "stderr",
     "output_type": "stream",
     "text": [
      "Back-translation:  29%|██▉       | 291/1000 [29:47<1:02:02,  5.25s/it]"
     ]
    },
    {
     "name": "stdout",
     "output_type": "stream",
     "text": [
      "A monobit transmission error then corresponds to a move from a valid corner (the correct message and the control sum) to one of the adjacent \"m\" corners.\n",
      "\n",
      "--- MarianMT (en→fr→en) Paraphrasing ---\n"
     ]
    },
    {
     "name": "stderr",
     "output_type": "stream",
     "text": [
      "Back-translation:  29%|██▉       | 292/1000 [29:53<1:02:34,  5.30s/it]"
     ]
    },
    {
     "name": "stdout",
     "output_type": "stream",
     "text": [
      "Another group, on the other hand, considers that, since many Athenians were not allowed to participate in its government, Athenian democracy was not at all a democracy.\n",
      "\n",
      "--- MarianMT (en→fr→en) Paraphrasing ---\n"
     ]
    },
    {
     "name": "stderr",
     "output_type": "stream",
     "text": [
      "Back-translation:  29%|██▉       | 293/1000 [29:57<1:00:22,  5.12s/it]"
     ]
    },
    {
     "name": "stdout",
     "output_type": "stream",
     "text": [
      "Citizens' families could have been 100,000, and out of these approximately 30,000, adult men could have voted in the assembly.\n",
      "\n",
      "--- MarianMT (en→fr→en) Paraphrasing ---\n"
     ]
    },
    {
     "name": "stderr",
     "output_type": "stream",
     "text": [
      "Back-translation:  29%|██▉       | 294/1000 [30:03<1:00:46,  5.17s/it]"
     ]
    },
    {
     "name": "stdout",
     "output_type": "stream",
     "text": [
      "It is not certain why these holes were used – they may have been drainage holes, supports for defensive warning or for the display of ornamental shields.\n",
      "\n",
      "--- MarianMT (en→fr→en) Paraphrasing ---\n"
     ]
    },
    {
     "name": "stderr",
     "output_type": "stream",
     "text": [
      "Back-translation:  30%|██▉       | 295/1000 [30:07<57:55,  4.93s/it]  "
     ]
    },
    {
     "name": "stdout",
     "output_type": "stream",
     "text": [
      "The government announced a rescue plan on 26 January to guarantee all existing deposits.\n",
      "\n",
      "--- MarianMT (en→fr→en) Paraphrasing ---\n"
     ]
    },
    {
     "name": "stderr",
     "output_type": "stream",
     "text": [
      "Back-translation:  30%|██▉       | 296/1000 [30:12<59:26,  5.07s/it]"
     ]
    },
    {
     "name": "stdout",
     "output_type": "stream",
     "text": [
      "The area extending from Biñan to Cabuyao is classified as having a tropical savannah climate, while the area from Luisiana to Pangil has a tropical forest climate.\n",
      "\n",
      "--- MarianMT (en→fr→en) Paraphrasing ---\n"
     ]
    },
    {
     "name": "stderr",
     "output_type": "stream",
     "text": [
      "Back-translation:  30%|██▉       | 297/1000 [30:18<1:00:25,  5.16s/it]"
     ]
    },
    {
     "name": "stdout",
     "output_type": "stream",
     "text": [
      "The rectangular castle is built from local stone and imported and occupies a coastal ridge, originally overlooking an important crossing point over the Conwy River.\n",
      "\n",
      "--- MarianMT (en→fr→en) Paraphrasing ---\n"
     ]
    },
    {
     "name": "stderr",
     "output_type": "stream",
     "text": [
      "Back-translation:  30%|██▉       | 298/1000 [30:23<1:01:39,  5.27s/it]"
     ]
    },
    {
     "name": "stdout",
     "output_type": "stream",
     "text": [
      "The country can also be described by the unofficial term \"Commonwealth Kingdom\", because it is a constitutional monarchy that shares the same monarchy as fifteen other members of the Commonwealth of Nations.\n",
      "\n",
      "--- MarianMT (en→fr→en) Paraphrasing ---\n"
     ]
    },
    {
     "name": "stderr",
     "output_type": "stream",
     "text": [
      "Back-translation:  30%|██▉       | 299/1000 [30:29<1:04:13,  5.50s/it]"
     ]
    },
    {
     "name": "stdout",
     "output_type": "stream",
     "text": [
      "The St. Xavier's Finneytown campus has sports facilities comparable to most colleges, including a new football stadium and a modernized Natatorium that it shares with the Cincinnati Marlins.\n",
      "\n",
      "--- MarianMT (en→fr→en) Paraphrasing ---\n"
     ]
    },
    {
     "name": "stderr",
     "output_type": "stream",
     "text": [
      "Back-translation:  30%|███       | 300/1000 [30:34<1:01:21,  5.26s/it]"
     ]
    },
    {
     "name": "stdout",
     "output_type": "stream",
     "text": [
      "The Hobbits of the Shire had very little idea of the outside: the world beyond the borders of the Shire.\n",
      "\n",
      "--- MarianMT (en→fr→en) Paraphrasing ---\n"
     ]
    },
    {
     "name": "stderr",
     "output_type": "stream",
     "text": [
      "Back-translation:  30%|███       | 301/1000 [30:39<1:01:23,  5.27s/it]"
     ]
    },
    {
     "name": "stdout",
     "output_type": "stream",
     "text": [
      "In 1865 the castle of Conwy passed from the Holland family, who had rented it from the descendants of the Conways to the civic direction of the town of Conwy.\n",
      "\n",
      "--- MarianMT (en→fr→en) Paraphrasing ---\n"
     ]
    },
    {
     "name": "stderr",
     "output_type": "stream",
     "text": [
      "Back-translation:  30%|███       | 302/1000 [30:43<56:05,  4.82s/it]  "
     ]
    },
    {
     "name": "stdout",
     "output_type": "stream",
     "text": [
      "It was part of a Christmas special for the show.\n",
      "\n",
      "--- MarianMT (en→fr→en) Paraphrasing ---\n"
     ]
    },
    {
     "name": "stderr",
     "output_type": "stream",
     "text": [
      "Back-translation:  30%|███       | 303/1000 [30:47<54:04,  4.65s/it]"
     ]
    },
    {
     "name": "stdout",
     "output_type": "stream",
     "text": [
      "It is the largest river in the United Kingdom by measured discharges.\n",
      "\n",
      "--- MarianMT (en→fr→en) Paraphrasing ---\n"
     ]
    },
    {
     "name": "stderr",
     "output_type": "stream",
     "text": [
      "Back-translation:  30%|███       | 304/1000 [30:54<59:50,  5.16s/it]"
     ]
    },
    {
     "name": "stdout",
     "output_type": "stream",
     "text": [
      "The control sum algorithms most commonly used in practice, such as the control sum of Fletcher, Adler-32 and the redundant cyclical controls (CRCs), correct these weaknesses by considering not only the value of each word, but also its position in the sequence.\n",
      "\n",
      "--- MarianMT (en→fr→en) Paraphrasing ---\n"
     ]
    },
    {
     "name": "stderr",
     "output_type": "stream",
     "text": [
      "Back-translation:  30%|███       | 305/1000 [30:59<58:57,  5.09s/it]"
     ]
    },
    {
     "name": "stdout",
     "output_type": "stream",
     "text": [
      "It offers Hawthorn fans the opportunity to support both sides of each home game.\n",
      "\n",
      "--- MarianMT (en→fr→en) Paraphrasing ---\n"
     ]
    },
    {
     "name": "stderr",
     "output_type": "stream",
     "text": [
      "Back-translation:  31%|███       | 306/1000 [31:04<59:38,  5.16s/it]"
     ]
    },
    {
     "name": "stdout",
     "output_type": "stream",
     "text": [
      "In the north-northwest are the islands of Saint-Eustache, Saba, Saint-Barthélemy, Saint-Martin/Sint Maarten and Anguilla.\n",
      "\n",
      "--- MarianMT (en→fr→en) Paraphrasing ---\n"
     ]
    },
    {
     "name": "stderr",
     "output_type": "stream",
     "text": [
      "Back-translation:  31%|███       | 307/1000 [31:09<58:38,  5.08s/it]"
     ]
    },
    {
     "name": "stdout",
     "output_type": "stream",
     "text": [
      "Timberlake opened the performance by singing \"Rock Your Body\", moving soon to \"CAN'T STOP THE FEELING!\".\n",
      "\n",
      "--- MarianMT (en→fr→en) Paraphrasing ---\n"
     ]
    },
    {
     "name": "stderr",
     "output_type": "stream",
     "text": [
      "Back-translation:  31%|███       | 308/1000 [31:13<56:55,  4.94s/it]"
     ]
    },
    {
     "name": "stdout",
     "output_type": "stream",
     "text": [
      "The group announced in a blog on their website that it was going to make a last tour in the United States before taking a break.\n",
      "\n",
      "--- MarianMT (en→fr→en) Paraphrasing ---\n"
     ]
    },
    {
     "name": "stderr",
     "output_type": "stream",
     "text": [
      "Back-translation:  31%|███       | 309/1000 [31:19<1:00:14,  5.23s/it]"
     ]
    },
    {
     "name": "stdout",
     "output_type": "stream",
     "text": [
      "The band's third album, \"The Black Parade\", has been described as an alternative rock, emo, pop punk, post-hardcore, punk rock and hard rock.\n",
      "\n",
      "--- MarianMT (en→fr→en) Paraphrasing ---\n"
     ]
    },
    {
     "name": "stderr",
     "output_type": "stream",
     "text": [
      "Back-translation:  31%|███       | 310/1000 [31:25<1:02:02,  5.39s/it]"
     ]
    },
    {
     "name": "stdout",
     "output_type": "stream",
     "text": [
      "It is home to more than 700 tropical animals and birds from around the world and was founded in 1830 and opened to the public on September 1, 1831, with animals from the London Society, making it the third oldest zoo in the world.\n",
      "\n",
      "--- MarianMT (en→fr→en) Paraphrasing ---\n"
     ]
    },
    {
     "name": "stderr",
     "output_type": "stream",
     "text": [
      "Back-translation:  31%|███       | 311/1000 [31:29<57:55,  5.04s/it]  "
     ]
    },
    {
     "name": "stdout",
     "output_type": "stream",
     "text": [
      "St. Xavier maintains 11 computer labs with more than 330 computers available for students.\n",
      "\n",
      "--- MarianMT (en→fr→en) Paraphrasing ---\n"
     ]
    },
    {
     "name": "stderr",
     "output_type": "stream",
     "text": [
      "Back-translation:  31%|███       | 312/1000 [31:33<54:14,  4.73s/it]"
     ]
    },
    {
     "name": "stdout",
     "output_type": "stream",
     "text": [
      "Isis was the most important sister/wife of the god Osiris.\n",
      "\n",
      "--- MarianMT (en→fr→en) Paraphrasing ---\n"
     ]
    },
    {
     "name": "stderr",
     "output_type": "stream",
     "text": [
      "Back-translation:  31%|███▏      | 313/1000 [31:38<53:16,  4.65s/it]"
     ]
    },
    {
     "name": "stdout",
     "output_type": "stream",
     "text": [
      "The Wellington Monument is a 62-metre-high obelisk commemorating the victories of the Duke of Wellington.\n",
      "\n",
      "--- MarianMT (en→fr→en) Paraphrasing ---\n"
     ]
    },
    {
     "name": "stderr",
     "output_type": "stream",
     "text": [
      "Back-translation:  31%|███▏      | 314/1000 [31:43<54:56,  4.81s/it]"
     ]
    },
    {
     "name": "stdout",
     "output_type": "stream",
     "text": [
      "Monasteries follow disciplines and support missions, libraries and practical research, which are perceived as works to reduce human misery and suffering and glorify the Christian God.\n",
      "\n",
      "--- MarianMT (en→fr→en) Paraphrasing ---\n"
     ]
    },
    {
     "name": "stderr",
     "output_type": "stream",
     "text": [
      "Back-translation:  32%|███▏      | 315/1000 [31:48<54:23,  4.76s/it]"
     ]
    },
    {
     "name": "stdout",
     "output_type": "stream",
     "text": [
      "The northwest tower was reached by the doorman's pavilion and contained a limited number of accommodation and store space.\n",
      "\n",
      "--- MarianMT (en→fr→en) Paraphrasing ---\n"
     ]
    },
    {
     "name": "stderr",
     "output_type": "stream",
     "text": [
      "Back-translation:  32%|███▏      | 316/1000 [31:52<53:15,  4.67s/it]"
     ]
    },
    {
     "name": "stdout",
     "output_type": "stream",
     "text": [
      "In Disney Infinity, there are power discs based on Alice in Wonderland.\n",
      "\n",
      "--- MarianMT (en→fr→en) Paraphrasing ---\n"
     ]
    },
    {
     "name": "stderr",
     "output_type": "stream",
     "text": [
      "Back-translation:  32%|███▏      | 317/1000 [31:58<56:20,  4.95s/it]"
     ]
    },
    {
     "name": "stdout",
     "output_type": "stream",
     "text": [
      "After the outbreak of the English civil war in 1642, the castle was held by forces loyal to Charles I, standing until 1646 when he went to the parliamentary armies.\n",
      "\n",
      "--- MarianMT (en→fr→en) Paraphrasing ---\n"
     ]
    },
    {
     "name": "stderr",
     "output_type": "stream",
     "text": [
      "Back-translation:  32%|███▏      | 318/1000 [32:04<59:33,  5.24s/it]"
     ]
    },
    {
     "name": "stdout",
     "output_type": "stream",
     "text": [
      "Low-weight babies at birth are 20 times more likely to die in their first month of life than normal-weight babies, and are exposed to an increased risk of life-long disabilities such as mental retardation and cerebral paralysis.\n",
      "\n",
      "--- MarianMT (en→fr→en) Paraphrasing ---\n"
     ]
    },
    {
     "name": "stderr",
     "output_type": "stream",
     "text": [
      "Back-translation:  32%|███▏      | 319/1000 [32:10<1:02:59,  5.55s/it]"
     ]
    },
    {
     "name": "stdout",
     "output_type": "stream",
     "text": [
      "Prior to its release, Salvato was known for creating the \"FrankerFaceZ\" extension for Twitch.tv, its modding work in the \"Super Smash Bros\" scene and for its custom \"Super Mario Maker\" levels.\n",
      "\n",
      "--- MarianMT (en→fr→en) Paraphrasing ---\n"
     ]
    },
    {
     "name": "stderr",
     "output_type": "stream",
     "text": [
      "Back-translation:  32%|███▏      | 320/1000 [32:14<58:34,  5.17s/it]  "
     ]
    },
    {
     "name": "stdout",
     "output_type": "stream",
     "text": [
      "The OAS's position on Aboriginal people appears to be growing over the years.\n",
      "\n",
      "--- MarianMT (en→fr→en) Paraphrasing ---\n"
     ]
    },
    {
     "name": "stderr",
     "output_type": "stream",
     "text": [
      "Back-translation:  32%|███▏      | 321/1000 [32:19<56:22,  4.98s/it]"
     ]
    },
    {
     "name": "stdout",
     "output_type": "stream",
     "text": [
      "Sullivan also played in a pilot called \"Me and My Needs\" that was rejected by ABC.\n",
      "\n",
      "--- MarianMT (en→fr→en) Paraphrasing ---\n"
     ]
    },
    {
     "name": "stderr",
     "output_type": "stream",
     "text": [
      "Back-translation:  32%|███▏      | 322/1000 [32:23<53:29,  4.73s/it]"
     ]
    },
    {
     "name": "stdout",
     "output_type": "stream",
     "text": [
      "So we designed it, we built it, and then they discovered it.\n",
      "\n",
      "--- MarianMT (en→fr→en) Paraphrasing ---\n"
     ]
    },
    {
     "name": "stderr",
     "output_type": "stream",
     "text": [
      "Back-translation:  32%|███▏      | 323/1000 [32:30<1:02:34,  5.55s/it]"
     ]
    },
    {
     "name": "stdout",
     "output_type": "stream",
     "text": [
      "In a February 2010 interview with JazzWax, Brubeck stated that he was attending Mills, a women's college (men were allowed in graduate programs), especially to study with Milhaud, saying, \"Milhaud was an enormously gifted classical composer and teacher who loved jazz and integrated it into his work.\n",
      "\n",
      "--- MarianMT (en→fr→en) Paraphrasing ---\n"
     ]
    },
    {
     "name": "stderr",
     "output_type": "stream",
     "text": [
      "Back-translation:  32%|███▏      | 324/1000 [32:34<57:30,  5.10s/it]  "
     ]
    },
    {
     "name": "stdout",
     "output_type": "stream",
     "text": [
      "My chemical Romance has played in many major tours of 2005.\n",
      "\n",
      "--- MarianMT (en→fr→en) Paraphrasing ---\n"
     ]
    },
    {
     "name": "stderr",
     "output_type": "stream",
     "text": [
      "Back-translation:  32%|███▎      | 325/1000 [32:40<1:00:06,  5.34s/it]"
     ]
    },
    {
     "name": "stdout",
     "output_type": "stream",
     "text": [
      "On September 22, 2010, the band created their song \"Na Na Na Na Na Na Na Na Na Na Na\" on Zane Lowe's BBC Radio 1 and the radio station KROQ-FM based in Los Angeles.\n",
      "\n",
      "--- MarianMT (en→fr→en) Paraphrasing ---\n"
     ]
    },
    {
     "name": "stderr",
     "output_type": "stream",
     "text": [
      "Back-translation:  33%|███▎      | 326/1000 [32:44<56:04,  4.99s/it]  "
     ]
    },
    {
     "name": "stdout",
     "output_type": "stream",
     "text": [
      "Dublin Zoo is one of Dublin's main attractions.\n",
      "\n",
      "--- MarianMT (en→fr→en) Paraphrasing ---\n"
     ]
    },
    {
     "name": "stderr",
     "output_type": "stream",
     "text": [
      "Back-translation:  33%|███▎      | 327/1000 [32:50<58:55,  5.25s/it]"
     ]
    },
    {
     "name": "stdout",
     "output_type": "stream",
     "text": [
      "Sayori instead expresses his gratitude to the player for his emotional support to all members of the club, makes his lamentably farewell to him and assures the player that all members of the club love them before removing the game itself.\n",
      "\n",
      "--- MarianMT (en→fr→en) Paraphrasing ---\n"
     ]
    },
    {
     "name": "stderr",
     "output_type": "stream",
     "text": [
      "Back-translation:  33%|███▎      | 328/1000 [32:55<55:39,  4.97s/it]"
     ]
    },
    {
     "name": "stdout",
     "output_type": "stream",
     "text": [
      "This differs from \"digital\" which uses a series of discrete quantities to represent the signal.\n",
      "\n",
      "--- MarianMT (en→fr→en) Paraphrasing ---\n"
     ]
    },
    {
     "name": "stderr",
     "output_type": "stream",
     "text": [
      "Back-translation:  33%|███▎      | 329/1000 [32:59<53:16,  4.76s/it]"
     ]
    },
    {
     "name": "stdout",
     "output_type": "stream",
     "text": [
      "These included Pip Williams, Roger Glover and John Eden.\n",
      "\n",
      "--- MarianMT (en→fr→en) Paraphrasing ---\n"
     ]
    },
    {
     "name": "stderr",
     "output_type": "stream",
     "text": [
      "Back-translation:  33%|███▎      | 330/1000 [33:04<55:01,  4.93s/it]"
     ]
    },
    {
     "name": "stdout",
     "output_type": "stream",
     "text": [
      "The first codices of parchment or papyrus appear to have been widely used as personal notebooks, for example to record copies of letters sent (Cicero \"Fam\".\n",
      "\n",
      "--- MarianMT (en→fr→en) Paraphrasing ---\n"
     ]
    },
    {
     "name": "stderr",
     "output_type": "stream",
     "text": [
      "Back-translation:  33%|███▎      | 331/1000 [33:09<54:44,  4.91s/it]"
     ]
    },
    {
     "name": "stdout",
     "output_type": "stream",
     "text": [
      "In addition, the light that reaches the targeted cooking pot is directed approximately downwards, thus reducing the risk of damage to the eyes of anyone nearby.\n",
      "\n",
      "--- MarianMT (en→fr→en) Paraphrasing ---\n"
     ]
    },
    {
     "name": "stderr",
     "output_type": "stream",
     "text": [
      "Back-translation:  33%|███▎      | 332/1000 [33:13<52:39,  4.73s/it]"
     ]
    },
    {
     "name": "stdout",
     "output_type": "stream",
     "text": [
      "The day after the siege, Colonel John Carter was appointed governor of the castle and further repairs were made.\n",
      "\n",
      "--- MarianMT (en→fr→en) Paraphrasing ---\n"
     ]
    },
    {
     "name": "stderr",
     "output_type": "stream",
     "text": [
      "Back-translation:  33%|███▎      | 333/1000 [33:19<54:30,  4.90s/it]"
     ]
    },
    {
     "name": "stdout",
     "output_type": "stream",
     "text": [
      "Although of a family closely related to the British Raj, Amrita herself was a congressional sympathizer.\n",
      "\n",
      "--- MarianMT (en→fr→en) Paraphrasing ---\n"
     ]
    },
    {
     "name": "stderr",
     "output_type": "stream",
     "text": [
      "Back-translation:  33%|███▎      | 334/1000 [33:25<59:26,  5.35s/it]"
     ]
    },
    {
     "name": "stdout",
     "output_type": "stream",
     "text": [
      "The sugar industry, once the backbone of the island's economy, declined in the early 20th century and finally collapsed in the 1940s when the U.S. Navy took over much of the land on which sugar cane plantations were located.\n",
      "\n",
      "--- MarianMT (en→fr→en) Paraphrasing ---\n"
     ]
    },
    {
     "name": "stderr",
     "output_type": "stream",
     "text": [
      "Back-translation:  34%|███▎      | 335/1000 [33:30<57:27,  5.18s/it]"
     ]
    },
    {
     "name": "stdout",
     "output_type": "stream",
     "text": [
      "Shire visitors were generally infrequent and in small numbers, and for many of them, the Shires were a stay rather than a destination.\n",
      "\n",
      "--- MarianMT (en→fr→en) Paraphrasing ---\n"
     ]
    },
    {
     "name": "stderr",
     "output_type": "stream",
     "text": [
      "Back-translation:  34%|███▎      | 336/1000 [33:35<56:51,  5.14s/it]"
     ]
    },
    {
     "name": "stdout",
     "output_type": "stream",
     "text": [
      "Originally, the Velociraptrinae subfamily was erected only to contain \"Velociraptor\".\n",
      "\n",
      "--- MarianMT (en→fr→en) Paraphrasing ---\n"
     ]
    },
    {
     "name": "stderr",
     "output_type": "stream",
     "text": [
      "Back-translation:  34%|███▎      | 337/1000 [33:39<54:57,  4.97s/it]"
     ]
    },
    {
     "name": "stdout",
     "output_type": "stream",
     "text": [
      "The gate leads to the outer quarter, which, once built, would have been full of various administrative and service buildings.\n",
      "\n",
      "--- MarianMT (en→fr→en) Paraphrasing ---\n"
     ]
    },
    {
     "name": "stderr",
     "output_type": "stream",
     "text": [
      "Back-translation:  34%|███▍      | 338/1000 [33:44<55:14,  5.01s/it]"
     ]
    },
    {
     "name": "stdout",
     "output_type": "stream",
     "text": [
      "He and three other athletes represented Saint Kitts and Nevis at the 2008 Summer Olympics in Beijing.\n",
      "\n",
      "--- MarianMT (en→fr→en) Paraphrasing ---\n"
     ]
    },
    {
     "name": "stderr",
     "output_type": "stream",
     "text": [
      "Back-translation:  34%|███▍      | 339/1000 [33:49<52:23,  4.76s/it]"
     ]
    },
    {
     "name": "stdout",
     "output_type": "stream",
     "text": [
      "Its founder Yaqub Saffari was born and raised in this region.\n",
      "\n",
      "--- MarianMT (en→fr→en) Paraphrasing ---\n"
     ]
    },
    {
     "name": "stderr",
     "output_type": "stream",
     "text": [
      "Back-translation:  34%|███▍      | 340/1000 [33:54<53:49,  4.89s/it]"
     ]
    },
    {
     "name": "stdout",
     "output_type": "stream",
     "text": [
      "The tour began on September 15 in Ohio, stopping at 30 locations in the United States, to promote their album, \"Three Cheers for Sweet Revenge\".\n",
      "\n",
      "--- MarianMT (en→fr→en) Paraphrasing ---\n"
     ]
    },
    {
     "name": "stderr",
     "output_type": "stream",
     "text": [
      "Back-translation:  34%|███▍      | 341/1000 [33:58<50:24,  4.59s/it]"
     ]
    },
    {
     "name": "stdout",
     "output_type": "stream",
     "text": [
      "The school year begins in August and ends in May.\n",
      "\n",
      "--- MarianMT (en→fr→en) Paraphrasing ---\n"
     ]
    },
    {
     "name": "stderr",
     "output_type": "stream",
     "text": [
      "Back-translation:  34%|███▍      | 342/1000 [34:03<51:55,  4.73s/it]"
     ]
    },
    {
     "name": "stdout",
     "output_type": "stream",
     "text": [
      "Through the Treaty of Tordesillas, the two powers divided the world into exclusive spheres of influence, trade and colonization.\n",
      "\n",
      "--- MarianMT (en→fr→en) Paraphrasing ---\n"
     ]
    },
    {
     "name": "stderr",
     "output_type": "stream",
     "text": [
      "Back-translation:  34%|███▍      | 343/1000 [34:08<52:02,  4.75s/it]"
     ]
    },
    {
     "name": "stdout",
     "output_type": "stream",
     "text": [
      "People who experience these hallucinations can scratch to the extent of severe skin damage and bleeding, especially when they delusional.\n",
      "\n",
      "--- MarianMT (en→fr→en) Paraphrasing ---\n"
     ]
    },
    {
     "name": "stderr",
     "output_type": "stream",
     "text": [
      "Back-translation:  34%|███▍      | 344/1000 [34:13<54:21,  4.97s/it]"
     ]
    },
    {
     "name": "stdout",
     "output_type": "stream",
     "text": [
      "Saint Kitts allows foreigners to obtain citizenship status in Saint Kitts through a Government-sponsored investment programme entitled \" Citizenship by Investment \" .\n",
      "\n",
      "--- MarianMT (en→fr→en) Paraphrasing ---\n"
     ]
    },
    {
     "name": "stderr",
     "output_type": "stream",
     "text": [
      "Back-translation:  34%|███▍      | 345/1000 [34:18<53:00,  4.86s/it]"
     ]
    },
    {
     "name": "stdout",
     "output_type": "stream",
     "text": [
      "Conwy Castle became an attractive destination for painters in the late 18th and early 19th centuries.\n",
      "\n",
      "--- MarianMT (en→fr→en) Paraphrasing ---\n"
     ]
    },
    {
     "name": "stderr",
     "output_type": "stream",
     "text": [
      "Back-translation:  35%|███▍      | 346/1000 [34:23<55:33,  5.10s/it]"
     ]
    },
    {
     "name": "stdout",
     "output_type": "stream",
     "text": [
      "Actress Sherri Shepherd joined as a permanent co-host on September 10, 2007, marking the first time in the history of the program that she had two African-American co-hosts.\n",
      "\n",
      "--- MarianMT (en→fr→en) Paraphrasing ---\n"
     ]
    },
    {
     "name": "stderr",
     "output_type": "stream",
     "text": [
      "Back-translation:  35%|███▍      | 347/1000 [34:29<55:54,  5.14s/it]"
     ]
    },
    {
     "name": "stdout",
     "output_type": "stream",
     "text": [
      "The implementation of the plan, which included new roads, lodge gates, tree levelling and planting, and the displacement of the Phoenix column, took almost 20 years to complete.\n",
      "\n",
      "--- MarianMT (en→fr→en) Paraphrasing ---\n"
     ]
    },
    {
     "name": "stderr",
     "output_type": "stream",
     "text": [
      "Back-translation:  35%|███▍      | 348/1000 [34:37<1:05:04,  5.99s/it]"
     ]
    },
    {
     "name": "stdout",
     "output_type": "stream",
     "text": [
      "\"Velociraptor\" is well known for their role as vicious and cunning killers thanks to their performance in the 1990 novel \"Jurassic Park\" by Michael Crichton and his adaptation to the 1993 film directed by Steven Spielberg.\n",
      "\n",
      "--- MarianMT (en→fr→en) Paraphrasing ---\n"
     ]
    },
    {
     "name": "stderr",
     "output_type": "stream",
     "text": [
      "Back-translation:  35%|███▍      | 349/1000 [34:42<1:03:46,  5.88s/it]"
     ]
    },
    {
     "name": "stdout",
     "output_type": "stream",
     "text": [
      "However, the short strength of the metatarsus and the foot would have been more similar to that of the owls.\n",
      "\n",
      "--- MarianMT (en→fr→en) Paraphrasing ---\n"
     ]
    },
    {
     "name": "stderr",
     "output_type": "stream",
     "text": [
      "Back-translation:  35%|███▌      | 350/1000 [34:47<1:01:11,  5.65s/it]"
     ]
    },
    {
     "name": "stdout",
     "output_type": "stream",
     "text": [
      "Laguna is classified in the climate classification of Köppen as having mainly a tropical monsoon climate, mainly centred around the Calamba areas in Calauan.\n",
      "\n",
      "--- MarianMT (en→fr→en) Paraphrasing ---\n"
     ]
    },
    {
     "name": "stderr",
     "output_type": "stream",
     "text": [
      "Back-translation:  35%|███▌      | 351/1000 [34:52<56:54,  5.26s/it]  "
     ]
    },
    {
     "name": "stdout",
     "output_type": "stream",
     "text": [
      "The church bells were ringed, which usually meant a fire, bringing out more people.\n",
      "\n",
      "--- MarianMT (en→fr→en) Paraphrasing ---\n"
     ]
    },
    {
     "name": "stderr",
     "output_type": "stream",
     "text": [
      "Back-translation:  35%|███▌      | 352/1000 [34:57<57:53,  5.36s/it]"
     ]
    },
    {
     "name": "stdout",
     "output_type": "stream",
     "text": [
      "A relatively frequent visitor to the Shire was Gandalf, a magician and one of the key protagonists of \"The Hobbit\" and \"The Lord of the Rings\".\n",
      "\n",
      "--- MarianMT (en→fr→en) Paraphrasing ---\n"
     ]
    },
    {
     "name": "stderr",
     "output_type": "stream",
     "text": [
      "Back-translation:  35%|███▌      | 353/1000 [35:02<56:32,  5.24s/it]"
     ]
    },
    {
     "name": "stdout",
     "output_type": "stream",
     "text": [
      "However, Way also described the band's style as \"What-else-ya-got-emo\".\n",
      "\n",
      "--- MarianMT (en→fr→en) Paraphrasing ---\n"
     ]
    },
    {
     "name": "stderr",
     "output_type": "stream",
     "text": [
      "Back-translation:  35%|███▌      | 354/1000 [35:08<57:33,  5.35s/it]"
     ]
    },
    {
     "name": "stdout",
     "output_type": "stream",
     "text": [
      "Farmers near the Brandywine River widely recognized the authority of the Oldbucks, even after they crossed the river to become the Brandybucks.\n",
      "\n",
      "--- MarianMT (en→fr→en) Paraphrasing ---\n"
     ]
    },
    {
     "name": "stderr",
     "output_type": "stream",
     "text": [
      "Back-translation:  36%|███▌      | 355/1000 [35:12<53:42,  5.00s/it]"
     ]
    },
    {
     "name": "stdout",
     "output_type": "stream",
     "text": [
      "Under the Controlled Substances Act, crack and cocaine are considered to be the same drug.\n",
      "\n",
      "--- MarianMT (en→fr→en) Paraphrasing ---\n"
     ]
    },
    {
     "name": "stderr",
     "output_type": "stream",
     "text": [
      "Back-translation:  36%|███▌      | 356/1000 [35:17<54:01,  5.03s/it]"
     ]
    },
    {
     "name": "stdout",
     "output_type": "stream",
     "text": [
      "Salvato also composed the score of the game.\n",
      "\n",
      "--- MarianMT (en→fr→en) Paraphrasing ---\n"
     ]
    },
    {
     "name": "stderr",
     "output_type": "stream",
     "text": [
      "Back-translation:  36%|███▌      | 357/1000 [35:23<57:21,  5.35s/it]"
     ]
    },
    {
     "name": "stdout",
     "output_type": "stream",
     "text": [
      "Don Scott, Ian Bremner and Geoff Angus were local recruits.\n",
      "\n",
      "--- MarianMT (en→fr→en) Paraphrasing ---\n"
     ]
    },
    {
     "name": "stderr",
     "output_type": "stream",
     "text": [
      "Back-translation:  36%|███▌      | 358/1000 [35:29<58:11,  5.44s/it]"
     ]
    },
    {
     "name": "stdout",
     "output_type": "stream",
     "text": [
      "The forces of the map are the sledge that consists of forcing a spectator to choose a map that has been predetermined by the interpreter, while retaining the supposed free choice.\n",
      "\n",
      "--- MarianMT (en→fr→en) Paraphrasing ---\n"
     ]
    },
    {
     "name": "stderr",
     "output_type": "stream",
     "text": [
      "Back-translation:  36%|███▌      | 359/1000 [35:34<57:57,  5.43s/it]"
     ]
    },
    {
     "name": "stdout",
     "output_type": "stream",
     "text": [
      "Contador, who now had an eight-second lead in the race, met a mixed reception as he received the yellow jersey on the podium at the end of the stage.\n",
      "\n",
      "--- MarianMT (en→fr→en) Paraphrasing ---\n"
     ]
    },
    {
     "name": "stderr",
     "output_type": "stream",
     "text": [
      "Back-translation:  36%|███▌      | 360/1000 [35:38<52:04,  4.88s/it]"
     ]
    },
    {
     "name": "stdout",
     "output_type": "stream",
     "text": [
      "In 1287, the castle was complete.\n",
      "\n",
      "--- MarianMT (en→fr→en) Paraphrasing ---\n"
     ]
    },
    {
     "name": "stderr",
     "output_type": "stream",
     "text": [
      "Back-translation:  36%|███▌      | 361/1000 [35:42<50:43,  4.76s/it]"
     ]
    },
    {
     "name": "stdout",
     "output_type": "stream",
     "text": [
      "Calcium chloride is also used to maintain unpaved roads and to strengthen road bases for new constructions.\n",
      "\n",
      "--- MarianMT (en→fr→en) Paraphrasing ---\n"
     ]
    },
    {
     "name": "stderr",
     "output_type": "stream",
     "text": [
      "Back-translation:  36%|███▌      | 362/1000 [35:47<51:15,  4.82s/it]"
     ]
    },
    {
     "name": "stdout",
     "output_type": "stream",
     "text": [
      "In 2002, it was clear that thousands of tonnes of steel that had originally been irradiated during the 1958 nuclear tests lacked in the bay wreck.\n",
      "\n",
      "--- MarianMT (en→fr→en) Paraphrasing ---\n"
     ]
    },
    {
     "name": "stderr",
     "output_type": "stream",
     "text": [
      "Back-translation:  36%|███▋      | 363/1000 [35:51<48:37,  4.58s/it]"
     ]
    },
    {
     "name": "stdout",
     "output_type": "stream",
     "text": [
      "Dublin Zoo is one of Dublin's main attractions.\n",
      "\n",
      "--- MarianMT (en→fr→en) Paraphrasing ---\n"
     ]
    },
    {
     "name": "stderr",
     "output_type": "stream",
     "text": [
      "Back-translation:  36%|███▋      | 364/1000 [35:57<51:23,  4.85s/it]"
     ]
    },
    {
     "name": "stdout",
     "output_type": "stream",
     "text": [
      "Eli, the priest of Silo (where the Ark of the Covenant is located), blessed her, and a child named Samuel was born.\n",
      "\n",
      "--- MarianMT (en→fr→en) Paraphrasing ---\n"
     ]
    },
    {
     "name": "stderr",
     "output_type": "stream",
     "text": [
      "Back-translation:  36%|███▋      | 365/1000 [36:02<51:51,  4.90s/it]"
     ]
    },
    {
     "name": "stdout",
     "output_type": "stream",
     "text": [
      "It believes that it is fundamentally important that political institutions embody, in their minds, the recognition that some opinions are worth more than others.\n",
      "\n",
      "--- MarianMT (en→fr→en) Paraphrasing ---\n"
     ]
    },
    {
     "name": "stderr",
     "output_type": "stream",
     "text": [
      "Back-translation:  37%|███▋      | 366/1000 [36:06<49:04,  4.64s/it]"
     ]
    },
    {
     "name": "stdout",
     "output_type": "stream",
     "text": [
      "A total of 39.7823 ha are used for mining purposes.\n",
      "\n",
      "--- MarianMT (en→fr→en) Paraphrasing ---\n"
     ]
    },
    {
     "name": "stderr",
     "output_type": "stream",
     "text": [
      "Back-translation:  37%|███▋      | 367/1000 [36:13<56:21,  5.34s/it]"
     ]
    },
    {
     "name": "stdout",
     "output_type": "stream",
     "text": [
      "\"Rock Sound\" got a glimpse of the album and gave a positive review, commenting on \"the way they used everything they learned about The Black Parade and tightened up in some places feels natural and confident\" and seeing \"the band's creativity fly musically, graphically and literally.\"\n",
      "\n",
      "--- MarianMT (en→fr→en) Paraphrasing ---\n"
     ]
    },
    {
     "name": "stderr",
     "output_type": "stream",
     "text": [
      "Back-translation:  37%|███▋      | 368/1000 [36:18<55:59,  5.32s/it]"
     ]
    },
    {
     "name": "stdout",
     "output_type": "stream",
     "text": [
      "The band got an appearance on BBC Radio's Saturday Club, but in June their next single, \"Almost But Not Belt There\", underperformed.\n",
      "\n",
      "--- MarianMT (en→fr→en) Paraphrasing ---\n"
     ]
    },
    {
     "name": "stderr",
     "output_type": "stream",
     "text": [
      "Back-translation:  37%|███▋      | 369/1000 [36:23<54:54,  5.22s/it]"
     ]
    },
    {
     "name": "stdout",
     "output_type": "stream",
     "text": [
      "However, the word \"demarchy\" (-) had already been taken and meant \"mayorality\", position or rank of high municipal magistrate.\n",
      "\n",
      "--- MarianMT (en→fr→en) Paraphrasing ---\n"
     ]
    },
    {
     "name": "stderr",
     "output_type": "stream",
     "text": [
      "Back-translation:  37%|███▋      | 370/1000 [36:29<58:13,  5.55s/it]"
     ]
    },
    {
     "name": "stdout",
     "output_type": "stream",
     "text": [
      "Although the band has since decided on the title of their fourth album, it has continued not to be announced, with various rumors circulating and the band declaring on their site that it will be revealed \"in due course\" and in the words of Way, \"a special way this time.\n",
      "\n",
      "--- MarianMT (en→fr→en) Paraphrasing ---\n"
     ]
    },
    {
     "name": "stderr",
     "output_type": "stream",
     "text": [
      "Back-translation:  37%|███▋      | 371/1000 [36:35<57:21,  5.47s/it]"
     ]
    },
    {
     "name": "stdout",
     "output_type": "stream",
     "text": [
      "The rectangular castle is built from local stone and imported and occupies a coastal ridge, originally overlooking an important crossing point over the Conwy River.\n",
      "\n",
      "--- MarianMT (en→fr→en) Paraphrasing ---\n"
     ]
    },
    {
     "name": "stderr",
     "output_type": "stream",
     "text": [
      "Back-translation:  37%|███▋      | 372/1000 [36:40<56:02,  5.35s/it]"
     ]
    },
    {
     "name": "stdout",
     "output_type": "stream",
     "text": [
      "\"Velociraptor\" is a member of the Eudromaeosaurus group, a subgroup derived from the Dromaeosaurusidae family.\n",
      "\n",
      "--- MarianMT (en→fr→en) Paraphrasing ---\n"
     ]
    },
    {
     "name": "stderr",
     "output_type": "stream",
     "text": [
      "Back-translation:  37%|███▋      | 373/1000 [36:44<53:14,  5.09s/it]"
     ]
    },
    {
     "name": "stdout",
     "output_type": "stream",
     "text": [
      "The first figure of the foot, as in the other theropods, was a small dew.\n",
      "\n",
      "--- MarianMT (en→fr→en) Paraphrasing ---\n"
     ]
    },
    {
     "name": "stderr",
     "output_type": "stream",
     "text": [
      "Back-translation:  37%|███▋      | 374/1000 [36:51<58:43,  5.63s/it]"
     ]
    },
    {
     "name": "stdout",
     "output_type": "stream",
     "text": [
      "\"V. osmolskae\" lived alongside the ceratopsian species \"Magnirostris dodsoni\", as well as the oviraptorid \"Machairasaurus leptonychus\" and the dromaeosaurus \"Linheraptor exquisitus\".\n",
      "\n",
      "--- MarianMT (en→fr→en) Paraphrasing ---\n"
     ]
    },
    {
     "name": "stderr",
     "output_type": "stream",
     "text": [
      "Back-translation:  38%|███▊      | 375/1000 [36:56<57:04,  5.48s/it]"
     ]
    },
    {
     "name": "stdout",
     "output_type": "stream",
     "text": [
      "Built as part of a larger project to create the fortified city of Conwy, the combined defences cost about £15,000, a huge amount for the period.\n",
      "\n",
      "--- MarianMT (en→fr→en) Paraphrasing ---\n"
     ]
    },
    {
     "name": "stderr",
     "output_type": "stream",
     "text": [
      "Back-translation:  38%|███▊      | 376/1000 [37:02<58:58,  5.67s/it]"
     ]
    },
    {
     "name": "stdout",
     "output_type": "stream",
     "text": [
      "Kings of England and Welsh princes had fought for control of the region since the 1070s and the conflict had resumed during the 13th century, leading to Edward I intervening in northern Wales for the second time during his reign in 1282.\n",
      "\n",
      "--- MarianMT (en→fr→en) Paraphrasing ---\n"
     ]
    },
    {
     "name": "stderr",
     "output_type": "stream",
     "text": [
      "Back-translation:  38%|███▊      | 377/1000 [37:08<58:29,  5.63s/it]"
     ]
    },
    {
     "name": "stdout",
     "output_type": "stream",
     "text": [
      "The Athenians declared for Rome, and in 146 B.C. Athens became an autonomous \"civitas foederata\", capable of managing internal affairs.\n",
      "\n",
      "--- MarianMT (en→fr→en) Paraphrasing ---\n"
     ]
    },
    {
     "name": "stderr",
     "output_type": "stream",
     "text": [
      "Back-translation:  38%|███▊      | 378/1000 [37:14<58:47,  5.67s/it]"
     ]
    },
    {
     "name": "stdout",
     "output_type": "stream",
     "text": [
      "A young wigmaker apprentice named Edward Garrick called Lieutenant Captain John Goldfinch, saying Goldfinch had not paid a bill due to Garrick's master.\n",
      "\n",
      "--- MarianMT (en→fr→en) Paraphrasing ---\n"
     ]
    },
    {
     "name": "stderr",
     "output_type": "stream",
     "text": [
      "Back-translation:  38%|███▊      | 379/1000 [37:19<56:08,  5.42s/it]"
     ]
    },
    {
     "name": "stdout",
     "output_type": "stream",
     "text": [
      "Conwy Castle is a fortification in Conwy, northern Wales.\n",
      "\n",
      "--- MarianMT (en→fr→en) Paraphrasing ---\n"
     ]
    },
    {
     "name": "stderr",
     "output_type": "stream",
     "text": [
      "Back-translation:  38%|███▊      | 380/1000 [37:23<52:54,  5.12s/it]"
     ]
    },
    {
     "name": "stdout",
     "output_type": "stream",
     "text": [
      "The number of visitors increased and the first restoration work was carried out in the second half of the 19th century.\n",
      "\n",
      "--- MarianMT (en→fr→en) Paraphrasing ---\n"
     ]
    },
    {
     "name": "stderr",
     "output_type": "stream",
     "text": [
      "Back-translation:  38%|███▊      | 381/1000 [37:28<51:18,  4.97s/it]"
     ]
    },
    {
     "name": "stdout",
     "output_type": "stream",
     "text": [
      "On May 26, 2016, the Victoria Secret Angels released a video in which they lip-synthetized to the song.\n",
      "\n",
      "--- MarianMT (en→fr→en) Paraphrasing ---\n"
     ]
    },
    {
     "name": "stderr",
     "output_type": "stream",
     "text": [
      "Back-translation:  38%|███▊      | 382/1000 [37:33<53:51,  5.23s/it]"
     ]
    },
    {
     "name": "stdout",
     "output_type": "stream",
     "text": [
      "The castle embraces a coastal rocky ridge of grey sandstone and limestone, and much of the stone of the castle is largely taken from the ridge itself, probably when the site was cleared for the first time.\n",
      "\n",
      "--- MarianMT (en→fr→en) Paraphrasing ---\n"
     ]
    },
    {
     "name": "stderr",
     "output_type": "stream",
     "text": [
      "Back-translation:  38%|███▊      | 383/1000 [37:38<52:09,  5.07s/it]"
     ]
    },
    {
     "name": "stdout",
     "output_type": "stream",
     "text": [
      "Closing times vary throughout the year.\n",
      "\n",
      "--- MarianMT (en→fr→en) Paraphrasing ---\n"
     ]
    },
    {
     "name": "stderr",
     "output_type": "stream",
     "text": [
      "Back-translation:  38%|███▊      | 384/1000 [37:43<50:52,  4.96s/it]"
     ]
    },
    {
     "name": "stdout",
     "output_type": "stream",
     "text": [
      "Amrita Sher-Gil (30 January 1913 – 5 December 1941) was a Hungarian-Indian painter.\n",
      "\n",
      "--- MarianMT (en→fr→en) Paraphrasing ---\n"
     ]
    },
    {
     "name": "stderr",
     "output_type": "stream",
     "text": [
      "Back-translation:  38%|███▊      | 385/1000 [37:48<50:55,  4.97s/it]"
     ]
    },
    {
     "name": "stdout",
     "output_type": "stream",
     "text": [
      "Short-term physiological effects of cocaine include restricted blood vessels, dilated pupils, and increased temperature, heart rate, and blood pressure.\n",
      "\n",
      "--- MarianMT (en→fr→en) Paraphrasing ---\n"
     ]
    },
    {
     "name": "stderr",
     "output_type": "stream",
     "text": [
      "Back-translation:  39%|███▊      | 386/1000 [37:52<47:56,  4.69s/it]"
     ]
    },
    {
     "name": "stdout",
     "output_type": "stream",
     "text": [
      "Contemporary artists in India have recreated and reinterpreted his works.\n",
      "\n",
      "--- MarianMT (en→fr→en) Paraphrasing ---\n"
     ]
    },
    {
     "name": "stderr",
     "output_type": "stream",
     "text": [
      "Back-translation:  39%|███▊      | 387/1000 [37:56<45:51,  4.49s/it]"
     ]
    },
    {
     "name": "stdout",
     "output_type": "stream",
     "text": [
      "The Welsh rebels then attacked and captured the rest of the fortified city.\n",
      "\n",
      "--- MarianMT (en→fr→en) Paraphrasing ---\n"
     ]
    },
    {
     "name": "stderr",
     "output_type": "stream",
     "text": [
      "Back-translation:  39%|███▉      | 388/1000 [38:01<46:56,  4.60s/it]"
     ]
    },
    {
     "name": "stdout",
     "output_type": "stream",
     "text": [
      "In the Netherlands, this is a drug in Schedule 1 of the Opium Act.\n",
      "\n",
      "--- MarianMT (en→fr→en) Paraphrasing ---\n"
     ]
    },
    {
     "name": "stderr",
     "output_type": "stream",
     "text": [
      "Back-translation:  39%|███▉      | 389/1000 [38:07<50:58,  5.01s/it]"
     ]
    },
    {
     "name": "stdout",
     "output_type": "stream",
     "text": [
      "On September 22, 2010, the band created their song \"Na Na Na Na Na Na Na Na Na Na Na\" on Zane Lowe's BBC Radio 1 and the radio station KROQ-FM based in Los Angeles.\n",
      "\n",
      "--- MarianMT (en→fr→en) Paraphrasing ---\n"
     ]
    },
    {
     "name": "stderr",
     "output_type": "stream",
     "text": [
      "Back-translation:  39%|███▉      | 390/1000 [38:12<52:09,  5.13s/it]"
     ]
    },
    {
     "name": "stdout",
     "output_type": "stream",
     "text": [
      "Many states along the road also assigned numbers to the highway; for example, New York marked their portion of Highway 3 in 1924.\n",
      "\n",
      "--- MarianMT (en→fr→en) Paraphrasing ---\n"
     ]
    },
    {
     "name": "stderr",
     "output_type": "stream",
     "text": [
      "Back-translation:  39%|███▉      | 391/1000 [38:17<50:02,  4.93s/it]"
     ]
    },
    {
     "name": "stdout",
     "output_type": "stream",
     "text": [
      "It was followed in 1929 by the Irish International Grand Prix, the first of the three Irish Grand Prix of motor racing.\n",
      "\n",
      "--- MarianMT (en→fr→en) Paraphrasing ---\n"
     ]
    },
    {
     "name": "stderr",
     "output_type": "stream",
     "text": [
      "Back-translation:  39%|███▉      | 392/1000 [38:23<53:49,  5.31s/it]"
     ]
    },
    {
     "name": "stdout",
     "output_type": "stream",
     "text": [
      "He was also famous for his fireworks that he set up during some visits, including the \"eleventy-first-parties\" of the Old Took (S.R. 1301) and Bilbo Baggins (S.R. 1401).\n",
      "\n",
      "--- MarianMT (en→fr→en) Paraphrasing ---\n"
     ]
    },
    {
     "name": "stderr",
     "output_type": "stream",
     "text": [
      "Back-translation:  39%|███▉      | 393/1000 [38:29<55:21,  5.47s/it]"
     ]
    },
    {
     "name": "stdout",
     "output_type": "stream",
     "text": [
      "If a reflector is axially symmetrical and shaped so that its cross-section is a parable, it has the property of bringing the parallel rays of light (like the sun) to a \"focus\" point.\n",
      "\n",
      "--- MarianMT (en→fr→en) Paraphrasing ---\n"
     ]
    },
    {
     "name": "stderr",
     "output_type": "stream",
     "text": [
      "Back-translation:  39%|███▉      | 394/1000 [38:33<52:07,  5.16s/it]"
     ]
    },
    {
     "name": "stdout",
     "output_type": "stream",
     "text": [
      "For particularly important public trials, the jury could be increased by adding 500 additional assignments.\n",
      "\n",
      "--- MarianMT (en→fr→en) Paraphrasing ---\n"
     ]
    },
    {
     "name": "stderr",
     "output_type": "stream",
     "text": [
      "Back-translation:  40%|███▉      | 395/1000 [38:38<50:12,  4.98s/it]"
     ]
    },
    {
     "name": "stdout",
     "output_type": "stream",
     "text": [
      "In many countries, individuals can become guardians without training.\n",
      "\n",
      "--- MarianMT (en→fr→en) Paraphrasing ---\n"
     ]
    },
    {
     "name": "stderr",
     "output_type": "stream",
     "text": [
      "Back-translation:  40%|███▉      | 396/1000 [38:43<52:18,  5.20s/it]"
     ]
    },
    {
     "name": "stdout",
     "output_type": "stream",
     "text": [
      "With the restoration of Charles II in 1660, Conway returned to Edward Conway, the Count of Conway, but five years later Edward decided to remove the remaining iron and direct it from the castle and sell it.\n",
      "\n",
      "--- MarianMT (en→fr→en) Paraphrasing ---\n"
     ]
    },
    {
     "name": "stderr",
     "output_type": "stream",
     "text": [
      "Back-translation:  40%|███▉      | 397/1000 [38:48<51:07,  5.09s/it]"
     ]
    },
    {
     "name": "stdout",
     "output_type": "stream",
     "text": [
      "\"The View\" won 30 Daytime Emmy Awards, including the Exceptional Talk Show and the exceptional Talk Show host.\n",
      "\n",
      "--- MarianMT (en→fr→en) Paraphrasing ---\n"
     ]
    },
    {
     "name": "stderr",
     "output_type": "stream",
     "text": [
      "Back-translation:  40%|███▉      | 398/1000 [38:52<48:53,  4.87s/it]"
     ]
    },
    {
     "name": "stdout",
     "output_type": "stream",
     "text": [
      "This simplicity makes the design attractive, compared to the use of a paraboloid.\n",
      "\n",
      "--- MarianMT (en→fr→en) Paraphrasing ---\n"
     ]
    },
    {
     "name": "stderr",
     "output_type": "stream",
     "text": [
      "Back-translation:  40%|███▉      | 399/1000 [38:57<48:14,  4.82s/it]"
     ]
    },
    {
     "name": "stdout",
     "output_type": "stream",
     "text": [
      "Like other forms of cocaine, smoking crack can increase heart rate and blood pressure, leading to long-term cardiovascular problems.\n",
      "\n",
      "--- MarianMT (en→fr→en) Paraphrasing ---\n"
     ]
    },
    {
     "name": "stderr",
     "output_type": "stream",
     "text": [
      "Back-translation:  40%|████      | 400/1000 [39:02<47:58,  4.80s/it]"
     ]
    },
    {
     "name": "stdout",
     "output_type": "stream",
     "text": [
      "My Chemical Romance was also nominated for the Best Alternative Group at the 2007 American Music Awards.\n",
      "\n",
      "--- MarianMT (en→fr→en) Paraphrasing ---\n"
     ]
    },
    {
     "name": "stderr",
     "output_type": "stream",
     "text": [
      "Back-translation:  40%|████      | 401/1000 [39:07<47:23,  4.75s/it]"
     ]
    },
    {
     "name": "stdout",
     "output_type": "stream",
     "text": [
      "The group announced in a blog on their website that it was going to make a last tour in the United States before taking a break.\n",
      "\n",
      "--- MarianMT (en→fr→en) Paraphrasing ---\n"
     ]
    },
    {
     "name": "stderr",
     "output_type": "stream",
     "text": [
      "Back-translation:  40%|████      | 402/1000 [39:12<48:56,  4.91s/it]"
     ]
    },
    {
     "name": "stdout",
     "output_type": "stream",
     "text": [
      "A live adaptation of Carroll's works and animated film, \"Alice in Wonderland\", directed by Tim Burton, was released in 2010.\n",
      "\n",
      "--- MarianMT (en→fr→en) Paraphrasing ---\n"
     ]
    },
    {
     "name": "stderr",
     "output_type": "stream",
     "text": [
      "Back-translation:  40%|████      | 403/1000 [39:18<51:12,  5.15s/it]"
     ]
    },
    {
     "name": "stdout",
     "output_type": "stream",
     "text": [
      "Lisa Davis (who later expressed Anita Radcliffe in \"One Hundred Dalmatians\") and Luana Patten were also considered for Alice's role.\n",
      "\n",
      "--- MarianMT (en→fr→en) Paraphrasing ---\n"
     ]
    },
    {
     "name": "stderr",
     "output_type": "stream",
     "text": [
      "Back-translation:  40%|████      | 404/1000 [39:22<47:54,  4.82s/it]"
     ]
    },
    {
     "name": "stdout",
     "output_type": "stream",
     "text": [
      "The word can be considered derogating when used in this context.\n",
      "\n",
      "--- MarianMT (en→fr→en) Paraphrasing ---\n"
     ]
    },
    {
     "name": "stderr",
     "output_type": "stream",
     "text": [
      "Back-translation:  40%|████      | 405/1000 [39:26<46:13,  4.66s/it]"
     ]
    },
    {
     "name": "stdout",
     "output_type": "stream",
     "text": [
      "Most of these economic zones are located in Santa Rosa, Biñan and Calamba.\n",
      "\n",
      "--- MarianMT (en→fr→en) Paraphrasing ---\n"
     ]
    },
    {
     "name": "stderr",
     "output_type": "stream",
     "text": [
      "Back-translation:  41%|████      | 406/1000 [39:32<49:52,  5.04s/it]"
     ]
    },
    {
     "name": "stdout",
     "output_type": "stream",
     "text": [
      "The royal rooms were placed on the first floor of a series of buildings that ran around the outside of the room, facing a courtyard.\n",
      "\n",
      "--- MarianMT (en→fr→en) Paraphrasing ---\n"
     ]
    },
    {
     "name": "stderr",
     "output_type": "stream",
     "text": [
      "Back-translation:  41%|████      | 407/1000 [39:40<58:44,  5.94s/it]"
     ]
    },
    {
     "name": "stdout",
     "output_type": "stream",
     "text": [
      "The hurricanes that peaked in Category 2 intensity and made landfalls at this intensity were: Able (1952), Alice (1954), Fifi (1974), Diana (1990), Calvin (1993), Gert (1993), Rosa (1994), Erin (1995), Alma (1996), Juan (2003), Catarina (2004), Alex (2010), Richard (2010), Tomas (2010), Carlotta (2012), Ernesto (2012) and Arthur (2014).\n",
      "\n",
      "--- MarianMT (en→fr→en) Paraphrasing ---\n"
     ]
    },
    {
     "name": "stderr",
     "output_type": "stream",
     "text": [
      "Back-translation:  41%|████      | 408/1000 [39:45<56:21,  5.71s/it]"
     ]
    },
    {
     "name": "stdout",
     "output_type": "stream",
     "text": [
      "The columnist Walter of Guisborough suggested that, given the austere conditions, Edward refused to drink his own wine supply and shared it among the garrisons.\n",
      "\n",
      "--- MarianMT (en→fr→en) Paraphrasing ---\n"
     ]
    },
    {
     "name": "stderr",
     "output_type": "stream",
     "text": [
      "Back-translation:  41%|████      | 409/1000 [39:51<55:47,  5.66s/it]"
     ]
    },
    {
     "name": "stdout",
     "output_type": "stream",
     "text": [
      "This agreement was developed by the OECD Global Forum Working Group on Effective Information Exchange, which was composed of representatives of OECD member countries and 11 other Caribbean countries and other parts of the world.\n",
      "\n",
      "--- MarianMT (en→fr→en) Paraphrasing ---\n"
     ]
    },
    {
     "name": "stderr",
     "output_type": "stream",
     "text": [
      "Back-translation:  41%|████      | 410/1000 [39:56<53:53,  5.48s/it]"
     ]
    },
    {
     "name": "stdout",
     "output_type": "stream",
     "text": [
      "Hooker observes that Sindarin \"i drann\" is a Gallois lending word, where \"tran\" means \"district\", or \"region\".\n",
      "\n",
      "--- MarianMT (en→fr→en) Paraphrasing ---\n"
     ]
    },
    {
     "name": "stderr",
     "output_type": "stream",
     "text": [
      "Back-translation:  41%|████      | 411/1000 [40:00<51:44,  5.27s/it]"
     ]
    },
    {
     "name": "stdout",
     "output_type": "stream",
     "text": [
      "Throughout the story, Tolkien also involves many points of similarity between the two, such as weather, agriculture and dialect.\n",
      "\n",
      "--- MarianMT (en→fr→en) Paraphrasing ---\n"
     ]
    },
    {
     "name": "stderr",
     "output_type": "stream",
     "text": [
      "Back-translation:  41%|████      | 412/1000 [40:05<50:24,  5.14s/it]"
     ]
    },
    {
     "name": "stdout",
     "output_type": "stream",
     "text": [
      "Peer tutoring refers to the tutoring method that involves members of the same peer group or tutoring of each other.\n",
      "\n",
      "--- MarianMT (en→fr→en) Paraphrasing ---\n"
     ]
    },
    {
     "name": "stderr",
     "output_type": "stream",
     "text": [
      "Back-translation:  41%|████▏     | 413/1000 [40:10<49:52,  5.10s/it]"
     ]
    },
    {
     "name": "stdout",
     "output_type": "stream",
     "text": [
      "For example, in continental Europe throughout the Middle Ages, the quire was placed in a system in which each side folded in the same style.\n",
      "\n",
      "--- MarianMT (en→fr→en) Paraphrasing ---\n"
     ]
    },
    {
     "name": "stderr",
     "output_type": "stream",
     "text": [
      "Back-translation:  41%|████▏     | 414/1000 [40:16<51:46,  5.30s/it]"
     ]
    },
    {
     "name": "stdout",
     "output_type": "stream",
     "text": [
      "They were designed to form a miniature royal palace, which could, if necessary, be sealed from the rest of the castle and supplied from the oriental gate by the sea almost indefinitely, although in practice they were rarely used by the royal family.\n",
      "\n",
      "--- MarianMT (en→fr→en) Paraphrasing ---\n"
     ]
    },
    {
     "name": "stderr",
     "output_type": "stream",
     "text": [
      "Back-translation:  42%|████▏     | 415/1000 [40:20<48:16,  4.95s/it]"
     ]
    },
    {
     "name": "stdout",
     "output_type": "stream",
     "text": [
      "Compared to cooking on a fire, food does not have a smoky flavour.\n",
      "\n",
      "--- MarianMT (en→fr→en) Paraphrasing ---\n"
     ]
    },
    {
     "name": "stderr",
     "output_type": "stream",
     "text": [
      "Back-translation:  42%|████▏     | 416/1000 [40:25<47:32,  4.88s/it]"
     ]
    },
    {
     "name": "stdout",
     "output_type": "stream",
     "text": [
      "Like other forms of cocaine, smoking crack can increase heart rate and blood pressure, leading to long-term cardiovascular problems.\n",
      "\n",
      "--- MarianMT (en→fr→en) Paraphrasing ---\n"
     ]
    },
    {
     "name": "stderr",
     "output_type": "stream",
     "text": [
      "Back-translation:  42%|████▏     | 417/1000 [40:30<48:11,  4.96s/it]"
     ]
    },
    {
     "name": "stdout",
     "output_type": "stream",
     "text": [
      "The interactions of the characters with the protagonist are also influenced by a mini-game in which the player is required to compose a poem from a set of individual words.\n",
      "\n",
      "--- MarianMT (en→fr→en) Paraphrasing ---\n"
     ]
    },
    {
     "name": "stderr",
     "output_type": "stream",
     "text": [
      "Back-translation:  42%|████▏     | 418/1000 [40:36<50:33,  5.21s/it]"
     ]
    },
    {
     "name": "stdout",
     "output_type": "stream",
     "text": [
      "For a few years, the castle formed the main residence to visit older personalities, and welcomed Edward's son, the future Edward II in 1301 when he visited the area to receive tributes from Welsh leaders.\n",
      "\n",
      "--- MarianMT (en→fr→en) Paraphrasing ---\n"
     ]
    },
    {
     "name": "stderr",
     "output_type": "stream",
     "text": [
      "Back-translation:  42%|████▏     | 419/1000 [40:41<51:04,  5.27s/it]"
     ]
    },
    {
     "name": "stdout",
     "output_type": "stream",
     "text": [
      "The company even promoted it as a film in tune with \"psychedelic times\", using radio advertisements featuring the song \"White Rabbit\" performed by Jefferson Airplane.\n",
      "\n",
      "--- MarianMT (en→fr→en) Paraphrasing ---\n"
     ]
    },
    {
     "name": "stderr",
     "output_type": "stream",
     "text": [
      "Back-translation:  42%|████▏     | 420/1000 [40:46<48:55,  5.06s/it]"
     ]
    },
    {
     "name": "stdout",
     "output_type": "stream",
     "text": [
      "Samuel appeals to Yahweh, the Philistines are smitten with determination, and the Israelites return to their lost land.\n",
      "\n",
      "--- MarianMT (en→fr→en) Paraphrasing ---\n"
     ]
    },
    {
     "name": "stderr",
     "output_type": "stream",
     "text": [
      "Back-translation:  42%|████▏     | 421/1000 [40:51<48:49,  5.06s/it]"
     ]
    },
    {
     "name": "stdout",
     "output_type": "stream",
     "text": [
      "Starting in the 2018 class, St. Xavier introduced a unique IT policy in which students are required to own an iPad for use in school.\n",
      "\n",
      "--- MarianMT (en→fr→en) Paraphrasing ---\n"
     ]
    },
    {
     "name": "stderr",
     "output_type": "stream",
     "text": [
      "Back-translation:  42%|████▏     | 422/1000 [40:56<48:40,  5.05s/it]"
     ]
    },
    {
     "name": "stdout",
     "output_type": "stream",
     "text": [
      "Sir John Weston, his chamberlain, made repairs, building new stone support arches for the large hall and other parts of the castle.\n",
      "\n",
      "--- MarianMT (en→fr→en) Paraphrasing ---\n"
     ]
    },
    {
     "name": "stderr",
     "output_type": "stream",
     "text": [
      "Back-translation:  42%|████▏     | 423/1000 [41:01<48:56,  5.09s/it]"
     ]
    },
    {
     "name": "stdout",
     "output_type": "stream",
     "text": [
      "Although now somewhat dilapidated, the ramparts originally wore triple final drawings and presented a sequence of square holes along the exterior of the walls.\n",
      "\n",
      "--- MarianMT (en→fr→en) Paraphrasing ---\n"
     ]
    },
    {
     "name": "stderr",
     "output_type": "stream",
     "text": [
      "Back-translation:  42%|████▏     | 424/1000 [41:06<47:22,  4.94s/it]"
     ]
    },
    {
     "name": "stdout",
     "output_type": "stream",
     "text": [
      "In the end, she did not get the necessary points for the Olympic qualification.\n",
      "\n",
      "--- MarianMT (en→fr→en) Paraphrasing ---\n"
     ]
    },
    {
     "name": "stderr",
     "output_type": "stream",
     "text": [
      "Back-translation:  42%|████▎     | 425/1000 [41:11<48:03,  5.01s/it]"
     ]
    },
    {
     "name": "stdout",
     "output_type": "stream",
     "text": [
      "Built as part of a larger project to create the fortified city of Conwy, the combined defences cost about £15,000, a huge amount for the period.\n",
      "\n",
      "--- MarianMT (en→fr→en) Paraphrasing ---\n"
     ]
    },
    {
     "name": "stderr",
     "output_type": "stream",
     "text": [
      "Back-translation:  43%|████▎     | 426/1000 [41:15<46:09,  4.83s/it]"
     ]
    },
    {
     "name": "stdout",
     "output_type": "stream",
     "text": [
      "These problems persisted until Edward, the black prince, took control of the castle in 1343.\n",
      "\n",
      "--- MarianMT (en→fr→en) Paraphrasing ---\n"
     ]
    },
    {
     "name": "stderr",
     "output_type": "stream",
     "text": [
      "Back-translation:  43%|████▎     | 427/1000 [41:21<48:38,  5.09s/it]"
     ]
    },
    {
     "name": "stdout",
     "output_type": "stream",
     "text": [
      "Annual precipitation is approximately 2,400 mm, although it varied from 1,356 mm to 3,183 mm over the period 1901–2015.\n",
      "\n",
      "--- MarianMT (en→fr→en) Paraphrasing ---\n"
     ]
    },
    {
     "name": "stderr",
     "output_type": "stream",
     "text": [
      "Back-translation:  43%|████▎     | 428/1000 [41:26<48:10,  5.05s/it]"
     ]
    },
    {
     "name": "stdout",
     "output_type": "stream",
     "text": [
      "Phoenix Park is an urban park located in Dublin, Ireland, 2-4 km west of the city centre, north of the Liffey River.\n",
      "\n",
      "--- MarianMT (en→fr→en) Paraphrasing ---\n"
     ]
    },
    {
     "name": "stderr",
     "output_type": "stream",
     "text": [
      "Back-translation:  43%|████▎     | 429/1000 [41:30<46:41,  4.91s/it]"
     ]
    },
    {
     "name": "stdout",
     "output_type": "stream",
     "text": [
      "Preston cried out to the crowd to disperse, estimated between 300 and 400.\n",
      "\n",
      "--- MarianMT (en→fr→en) Paraphrasing ---\n"
     ]
    },
    {
     "name": "stderr",
     "output_type": "stream",
     "text": [
      "Back-translation:  43%|████▎     | 430/1000 [41:35<45:20,  4.77s/it]"
     ]
    },
    {
     "name": "stdout",
     "output_type": "stream",
     "text": [
      "Conwy's architecture is close to that of the Kingdom of Savoy in the same period.\n",
      "\n",
      "--- MarianMT (en→fr→en) Paraphrasing ---\n"
     ]
    },
    {
     "name": "stderr",
     "output_type": "stream",
     "text": [
      "Back-translation:  43%|████▎     | 431/1000 [41:40<46:08,  4.87s/it]"
     ]
    },
    {
     "name": "stdout",
     "output_type": "stream",
     "text": [
      "In 2018, Women's Team Hawthorn won the first win of the 2018 VFLW by beating Geelong 4.6.30 at 2.5.17.\n",
      "\n",
      "--- MarianMT (en→fr→en) Paraphrasing ---\n"
     ]
    },
    {
     "name": "stderr",
     "output_type": "stream",
     "text": [
      "Back-translation:  43%|████▎     | 432/1000 [41:44<44:47,  4.73s/it]"
     ]
    },
    {
     "name": "stdout",
     "output_type": "stream",
     "text": [
      "The castle requires continuous maintenance and repairs that cost £30,000 over the 2002-2003 fiscal year.\n",
      "\n",
      "--- MarianMT (en→fr→en) Paraphrasing ---\n"
     ]
    },
    {
     "name": "stderr",
     "output_type": "stream",
     "text": [
      "Back-translation:  43%|████▎     | 433/1000 [41:48<41:42,  4.41s/it]"
     ]
    },
    {
     "name": "stdout",
     "output_type": "stream",
     "text": [
      "We believe that this facility can check this box.\"\n",
      "\n",
      "--- MarianMT (en→fr→en) Paraphrasing ---\n"
     ]
    },
    {
     "name": "stderr",
     "output_type": "stream",
     "text": [
      "Back-translation:  43%|████▎     | 434/1000 [41:52<39:47,  4.22s/it]"
     ]
    },
    {
     "name": "stdout",
     "output_type": "stream",
     "text": [
      "English is the only official language.\n",
      "\n",
      "--- MarianMT (en→fr→en) Paraphrasing ---\n"
     ]
    },
    {
     "name": "stderr",
     "output_type": "stream",
     "text": [
      "Back-translation:  44%|████▎     | 435/1000 [41:59<47:33,  5.05s/it]"
     ]
    },
    {
     "name": "stdout",
     "output_type": "stream",
     "text": [
      "A detachment of British troops under Captain Thomas Backhouse entered the province in search of the silver cargo of the \"Filipina\" gallion while Francisco de San Juan led a group of volunteers who fought them in several engagements inside and around the provincial capital of the Pagsanjan era.\n",
      "\n",
      "--- MarianMT (en→fr→en) Paraphrasing ---\n"
     ]
    },
    {
     "name": "stderr",
     "output_type": "stream",
     "text": [
      "Back-translation:  44%|████▎     | 436/1000 [42:04<47:05,  5.01s/it]"
     ]
    },
    {
     "name": "stdout",
     "output_type": "stream",
     "text": [
      "A Spanish expedition of 1629 sent to enforce the Spanish claims destroyed the English and French colonies and expelled the settlers to their respective countries.\n",
      "\n",
      "--- MarianMT (en→fr→en) Paraphrasing ---\n"
     ]
    },
    {
     "name": "stderr",
     "output_type": "stream",
     "text": [
      "Back-translation:  44%|████▎     | 437/1000 [42:08<43:55,  4.68s/it]"
     ]
    },
    {
     "name": "stdout",
     "output_type": "stream",
     "text": [
      "He lost to Collingwood by three points in a preliminary final.\n",
      "\n",
      "--- MarianMT (en→fr→en) Paraphrasing ---\n"
     ]
    },
    {
     "name": "stderr",
     "output_type": "stream",
     "text": [
      "Back-translation:  44%|████▍     | 438/1000 [42:13<45:40,  4.88s/it]"
     ]
    },
    {
     "name": "stdout",
     "output_type": "stream",
     "text": [
      "At a meeting of members, the former Governor of New York State, Alonzo Cornell, proposed a fund-raising target of $1 million.\n",
      "\n",
      "--- MarianMT (en→fr→en) Paraphrasing ---\n"
     ]
    },
    {
     "name": "stderr",
     "output_type": "stream",
     "text": [
      "Back-translation:  44%|████▍     | 439/1000 [42:19<47:35,  5.09s/it]"
     ]
    },
    {
     "name": "stdout",
     "output_type": "stream",
     "text": [
      "European cuisine includes that of Europe and, to some extent, Russia, as well as non-native cuisines from North America, Australasia, Oceania and Latin America.\n",
      "\n",
      "--- MarianMT (en→fr→en) Paraphrasing ---\n"
     ]
    },
    {
     "name": "stderr",
     "output_type": "stream",
     "text": [
      "Back-translation:  44%|████▍     | 440/1000 [42:23<45:20,  4.86s/it]"
     ]
    },
    {
     "name": "stdout",
     "output_type": "stream",
     "text": [
      "We've always wanted to make a big theatrical tour.\n",
      "\n",
      "--- MarianMT (en→fr→en) Paraphrasing ---\n"
     ]
    },
    {
     "name": "stderr",
     "output_type": "stream",
     "text": [
      "Back-translation:  44%|████▍     | 441/1000 [42:28<45:32,  4.89s/it]"
     ]
    },
    {
     "name": "stdout",
     "output_type": "stream",
     "text": [
      "Evans took the Chavanel yellow jersey the next day on stage 8, and lost the lead over Schleck on stage 9 after a rest day.\n",
      "\n",
      "--- MarianMT (en→fr→en) Paraphrasing ---\n"
     ]
    },
    {
     "name": "stderr",
     "output_type": "stream",
     "text": [
      "Back-translation:  44%|████▍     | 442/1000 [42:32<44:22,  4.77s/it]"
     ]
    },
    {
     "name": "stdout",
     "output_type": "stream",
     "text": [
      "During each summer construction season, the workers gathered in Chester and then entered Wales.\n",
      "\n",
      "--- MarianMT (en→fr→en) Paraphrasing ---\n"
     ]
    },
    {
     "name": "stderr",
     "output_type": "stream",
     "text": [
      "Back-translation:  44%|████▍     | 443/1000 [42:37<43:03,  4.64s/it]"
     ]
    },
    {
     "name": "stdout",
     "output_type": "stream",
     "text": [
      "The restoration of the ruins then began, including the reconstruction of the damaged Bakehouse tower.\n",
      "\n",
      "--- MarianMT (en→fr→en) Paraphrasing ---\n"
     ]
    },
    {
     "name": "stderr",
     "output_type": "stream",
     "text": [
      "Back-translation:  44%|████▍     | 444/1000 [42:41<42:54,  4.63s/it]"
     ]
    },
    {
     "name": "stdout",
     "output_type": "stream",
     "text": [
      "The best players can be selected for the West Indies cricket team.\n",
      "\n",
      "--- MarianMT (en→fr→en) Paraphrasing ---\n"
     ]
    },
    {
     "name": "stderr",
     "output_type": "stream",
     "text": [
      "Back-translation:  44%|████▍     | 445/1000 [42:46<43:57,  4.75s/it]"
     ]
    },
    {
     "name": "stdout",
     "output_type": "stream",
     "text": [
      "The tour featured 133 performances worldwide, with three legs in North America, one in Europe, Asia and South America, and one at the international level.\n",
      "\n",
      "--- MarianMT (en→fr→en) Paraphrasing ---\n"
     ]
    },
    {
     "name": "stderr",
     "output_type": "stream",
     "text": [
      "Back-translation:  45%|████▍     | 446/1000 [42:52<46:10,  5.00s/it]"
     ]
    },
    {
     "name": "stdout",
     "output_type": "stream",
     "text": [
      "He is also a partner in the Ocean Blue Entertainment production company with the co-founder of 1492 Pictures Michael Barnathan and the director of 1492 Pictures Mark Radcliffe.\n",
      "\n",
      "--- MarianMT (en→fr→en) Paraphrasing ---\n"
     ]
    },
    {
     "name": "stderr",
     "output_type": "stream",
     "text": [
      "Back-translation:  45%|████▍     | 447/1000 [42:56<43:48,  4.75s/it]"
     ]
    },
    {
     "name": "stdout",
     "output_type": "stream",
     "text": [
      "The park has 351 identified plant species, three of which are rare and protected.\n",
      "\n",
      "--- MarianMT (en→fr→en) Paraphrasing ---\n"
     ]
    },
    {
     "name": "stderr",
     "output_type": "stream",
     "text": [
      "Back-translation:  45%|████▍     | 448/1000 [43:01<43:03,  4.68s/it]"
     ]
    },
    {
     "name": "stdout",
     "output_type": "stream",
     "text": [
      "The term \"baby crack\" refers to a child born to a mother who used cocaine during pregnancy.\n",
      "\n",
      "--- MarianMT (en→fr→en) Paraphrasing ---\n"
     ]
    },
    {
     "name": "stderr",
     "output_type": "stream",
     "text": [
      "Back-translation:  45%|████▍     | 449/1000 [43:09<52:41,  5.74s/it]"
     ]
    },
    {
     "name": "stdout",
     "output_type": "stream",
     "text": [
      "Comparisons between the scleral rings of \"Velociraptor\", \"Protoceratops\", and modern birds and reptiles indicate that \"Velociraptor\" may have been nocturnal, while \"Protoceratops\" may have been cathemeral, active throughout the day for short intervals, suggesting that the fight may have occurred at dusk or under low light conditions.\n",
      "\n",
      "--- MarianMT (en→fr→en) Paraphrasing ---\n"
     ]
    },
    {
     "name": "stderr",
     "output_type": "stream",
     "text": [
      "Back-translation:  45%|████▌     | 450/1000 [43:15<52:28,  5.72s/it]"
     ]
    },
    {
     "name": "stdout",
     "output_type": "stream",
     "text": [
      "At the beginning of the 1st century AD, a kind of folded parchment notebook called \"membrani pugillares\" in Latin became commonly used for writing in the Roman Empire.\n",
      "\n",
      "--- MarianMT (en→fr→en) Paraphrasing ---\n"
     ]
    },
    {
     "name": "stderr",
     "output_type": "stream",
     "text": [
      "Back-translation:  45%|████▌     | 451/1000 [43:21<53:23,  5.84s/it]"
     ]
    },
    {
     "name": "stdout",
     "output_type": "stream",
     "text": [
      "These include window styles, the type of crenelage used on towers, and the positioning of putlog holes, and are generally attributed to the influence of Savoyard architect Maître James.\n",
      "\n",
      "--- MarianMT (en→fr→en) Paraphrasing ---\n"
     ]
    },
    {
     "name": "stderr",
     "output_type": "stream",
     "text": [
      "Back-translation:  45%|████▌     | 452/1000 [43:26<53:10,  5.82s/it]"
     ]
    },
    {
     "name": "stdout",
     "output_type": "stream",
     "text": [
      "In addition, they and others point out that the Saffir-Simpson scale, unlike the Richter scale used to measure earthquakes, is not continuous and is quantified in a small number of categories.\n",
      "\n",
      "--- MarianMT (en→fr→en) Paraphrasing ---\n"
     ]
    },
    {
     "name": "stderr",
     "output_type": "stream",
     "text": [
      "Back-translation:  45%|████▌     | 453/1000 [43:31<48:37,  5.33s/it]"
     ]
    },
    {
     "name": "stdout",
     "output_type": "stream",
     "text": [
      "The congregation had more than one million inhabitants, the equivalent of Dublin's population.\n",
      "\n",
      "--- MarianMT (en→fr→en) Paraphrasing ---\n"
     ]
    },
    {
     "name": "stderr",
     "output_type": "stream",
     "text": [
      "Back-translation:  45%|████▌     | 454/1000 [43:35<45:01,  4.95s/it]"
     ]
    },
    {
     "name": "stdout",
     "output_type": "stream",
     "text": [
      "According to paleontologist Alan Turner,\n",
      "\n",
      "--- MarianMT (en→fr→en) Paraphrasing ---\n"
     ]
    },
    {
     "name": "stderr",
     "output_type": "stream",
     "text": [
      "Back-translation:  46%|████▌     | 455/1000 [43:39<43:39,  4.81s/it]"
     ]
    },
    {
     "name": "stdout",
     "output_type": "stream",
     "text": [
      "Average monthly temperatures of Basseterre vary little between 23.9 °C and 26.6 °C.\n",
      "\n",
      "--- MarianMT (en→fr→en) Paraphrasing ---\n"
     ]
    },
    {
     "name": "stderr",
     "output_type": "stream",
     "text": [
      "Back-translation:  46%|████▌     | 456/1000 [43:47<51:21,  5.67s/it]"
     ]
    },
    {
     "name": "stdout",
     "output_type": "stream",
     "text": [
      "Therefore, the education sector has become a profitable industry that companies have created different types of products and advertising such as us \"the king/queen of the tutorial\", a usual advertising tactic of Hong Kong tutorial centers that has spread to South Korea, Thailand, Sri Lanka and India where tutors get \"the status of celebrity-like\".\n",
      "\n",
      "--- MarianMT (en→fr→en) Paraphrasing ---\n"
     ]
    },
    {
     "name": "stderr",
     "output_type": "stream",
     "text": [
      "Back-translation:  46%|████▌     | 457/1000 [43:51<46:36,  5.15s/it]"
     ]
    },
    {
     "name": "stdout",
     "output_type": "stream",
     "text": [
      "Education rates in Laguna are high.\n",
      "\n",
      "--- MarianMT (en→fr→en) Paraphrasing ---\n"
     ]
    },
    {
     "name": "stderr",
     "output_type": "stream",
     "text": [
      "Back-translation:  46%|████▌     | 458/1000 [43:55<44:54,  4.97s/it]"
     ]
    },
    {
     "name": "stdout",
     "output_type": "stream",
     "text": [
      "Athens had an elaborate legal system focusing on citizens' rights (see \"atimia\").\n",
      "\n",
      "--- MarianMT (en→fr→en) Paraphrasing ---\n"
     ]
    },
    {
     "name": "stderr",
     "output_type": "stream",
     "text": [
      "Back-translation:  46%|████▌     | 459/1000 [44:00<44:39,  4.95s/it]"
     ]
    },
    {
     "name": "stdout",
     "output_type": "stream",
     "text": [
      "The park is divided into three civilian parishes: Castleknock to the northwest, Chapelizod to the south and St James' to the north.\n",
      "\n",
      "--- MarianMT (en→fr→en) Paraphrasing ---\n"
     ]
    },
    {
     "name": "stderr",
     "output_type": "stream",
     "text": [
      "Back-translation:  46%|████▌     | 460/1000 [44:06<47:02,  5.23s/it]"
     ]
    },
    {
     "name": "stdout",
     "output_type": "stream",
     "text": [
      "I'm starting to do, I don't know, this walk of multiple sclerosis, beating my arms and making Milton Berle's cross legs – my own impression Jerry Lewis... And Julia whispers: \"No!\n",
      "\n",
      "--- MarianMT (en→fr→en) Paraphrasing ---\n"
     ]
    },
    {
     "name": "stderr",
     "output_type": "stream",
     "text": [
      "Back-translation:  46%|████▌     | 461/1000 [44:12<47:30,  5.29s/it]"
     ]
    },
    {
     "name": "stdout",
     "output_type": "stream",
     "text": [
      "Other influences of My Chemical Romance include Stooges, Ramones, Sex Pistols, The Clash, Minor Threat, Nirvana, and Operation Ivy.\n",
      "\n",
      "--- MarianMT (en→fr→en) Paraphrasing ---\n"
     ]
    },
    {
     "name": "stderr",
     "output_type": "stream",
     "text": [
      "Back-translation:  46%|████▌     | 462/1000 [44:16<44:17,  4.94s/it]"
     ]
    },
    {
     "name": "stdout",
     "output_type": "stream",
     "text": [
      "This brings back, literally, part of this wonderful fiction of the first album.\"\n",
      "\n",
      "--- MarianMT (en→fr→en) Paraphrasing ---\n"
     ]
    },
    {
     "name": "stderr",
     "output_type": "stream",
     "text": [
      "Back-translation:  46%|████▋     | 463/1000 [44:20<43:15,  4.83s/it]"
     ]
    },
    {
     "name": "stdout",
     "output_type": "stream",
     "text": [
      "The term is used by East Asians to contrast with Asian cooking styles.\n",
      "\n",
      "--- MarianMT (en→fr→en) Paraphrasing ---\n"
     ]
    },
    {
     "name": "stderr",
     "output_type": "stream",
     "text": [
      "Back-translation:  46%|████▋     | 464/1000 [44:26<45:39,  5.11s/it]"
     ]
    },
    {
     "name": "stdout",
     "output_type": "stream",
     "text": [
      "On 30 June 2014, Saint Kitts and Nevis signed a model agreement with the United States of America concerning the Foreign Account Tax Compliance Act (FATCA).\n",
      "\n",
      "--- MarianMT (en→fr→en) Paraphrasing ---\n"
     ]
    },
    {
     "name": "stderr",
     "output_type": "stream",
     "text": [
      "Back-translation:  46%|████▋     | 465/1000 [44:32<47:19,  5.31s/it]"
     ]
    },
    {
     "name": "stdout",
     "output_type": "stream",
     "text": [
      "In preparation for the 2016 presidential election in the United States, the program began to focus on politics and reintegrated it into the \"Hot Topics\" discussions since then.\n",
      "\n",
      "--- MarianMT (en→fr→en) Paraphrasing ---\n"
     ]
    },
    {
     "name": "stderr",
     "output_type": "stream",
     "text": [
      "Back-translation:  47%|████▋     | 466/1000 [44:37<47:07,  5.30s/it]"
     ]
    },
    {
     "name": "stdout",
     "output_type": "stream",
     "text": [
      "During the War of the Ring (S.R. 1418-19), the normal Shire government was usurped by Lotho Sackville-Baggins.\n",
      "\n",
      "--- MarianMT (en→fr→en) Paraphrasing ---\n"
     ]
    },
    {
     "name": "stderr",
     "output_type": "stream",
     "text": [
      "Back-translation:  47%|████▋     | 467/1000 [44:43<49:30,  5.57s/it]"
     ]
    },
    {
     "name": "stdout",
     "output_type": "stream",
     "text": [
      "It is no longer just one of many possible ways of organizing the political regime in a political society: it has become the only possible political system in an egalitarian society.\n",
      "\n",
      "--- MarianMT (en→fr→en) Paraphrasing ---\n"
     ]
    },
    {
     "name": "stderr",
     "output_type": "stream",
     "text": [
      "Back-translation:  47%|████▋     | 468/1000 [44:48<47:04,  5.31s/it]"
     ]
    },
    {
     "name": "stdout",
     "output_type": "stream",
     "text": [
      "The only exception to this format is Monika, who received an English name as an indication of his individual nature compared to other characters.\n",
      "\n",
      "--- MarianMT (en→fr→en) Paraphrasing ---\n"
     ]
    },
    {
     "name": "stderr",
     "output_type": "stream",
     "text": [
      "Back-translation:  47%|████▋     | 469/1000 [44:53<45:56,  5.19s/it]"
     ]
    },
    {
     "name": "stdout",
     "output_type": "stream",
     "text": [
      "As Viceregal Lodge, she was the official residence of the Lord Lieutenant of Ireland until the creation of the Irish Free State in 1922.\n",
      "\n",
      "--- MarianMT (en→fr→en) Paraphrasing ---\n"
     ]
    },
    {
     "name": "stderr",
     "output_type": "stream",
     "text": [
      "Back-translation:  47%|████▋     | 470/1000 [44:57<42:10,  4.77s/it]"
     ]
    },
    {
     "name": "stdout",
     "output_type": "stream",
     "text": [
      "(Haykin and Van Veen, 2003)\n",
      "\n",
      "--- MarianMT (en→fr→en) Paraphrasing ---\n"
     ]
    },
    {
     "name": "stderr",
     "output_type": "stream",
     "text": [
      "Back-translation:  47%|████▋     | 471/1000 [45:01<41:57,  4.76s/it]"
     ]
    },
    {
     "name": "stdout",
     "output_type": "stream",
     "text": [
      "The education system has been set up to serve middle-class urban men, but from a variety of social and religious backgrounds.\n",
      "\n",
      "--- MarianMT (en→fr→en) Paraphrasing ---\n"
     ]
    },
    {
     "name": "stderr",
     "output_type": "stream",
     "text": [
      "Back-translation:  47%|████▋     | 472/1000 [45:07<43:07,  4.90s/it]"
     ]
    },
    {
     "name": "stdout",
     "output_type": "stream",
     "text": [
      "Professor Griff has also repeatedly praised her work and paid tribute to her influential research, particularly with regard to the profound effect she has had on their music and lyrics.\n",
      "\n",
      "--- MarianMT (en→fr→en) Paraphrasing ---\n"
     ]
    },
    {
     "name": "stderr",
     "output_type": "stream",
     "text": [
      "Back-translation:  47%|████▋     | 473/1000 [45:11<41:55,  4.77s/it]"
     ]
    },
    {
     "name": "stdout",
     "output_type": "stream",
     "text": [
      "The oldest building in the park is Ashtown Castle, a restored medieval tower dating from the 15th century.\n",
      "\n",
      "--- MarianMT (en→fr→en) Paraphrasing ---\n"
     ]
    },
    {
     "name": "stderr",
     "output_type": "stream",
     "text": [
      "Back-translation:  47%|████▋     | 474/1000 [45:15<39:33,  4.51s/it]"
     ]
    },
    {
     "name": "stdout",
     "output_type": "stream",
     "text": [
      "Much of his writing focused on his alternatives to democracy.\n",
      "\n",
      "--- MarianMT (en→fr→en) Paraphrasing ---\n"
     ]
    },
    {
     "name": "stderr",
     "output_type": "stream",
     "text": [
      "Back-translation:  48%|████▊     | 475/1000 [45:21<42:17,  4.83s/it]"
     ]
    },
    {
     "name": "stdout",
     "output_type": "stream",
     "text": [
      "Several German philosophers and poets enjoyed the fullness of life in Athens, and shortly after \"the English liberals put forward a new argument in favor of the Athenians\".\n",
      "\n",
      "--- MarianMT (en→fr→en) Paraphrasing ---\n"
     ]
    },
    {
     "name": "stderr",
     "output_type": "stream",
     "text": [
      "Back-translation:  48%|████▊     | 476/1000 [45:26<44:52,  5.14s/it]"
     ]
    },
    {
     "name": "stdout",
     "output_type": "stream",
     "text": [
      "They were designed to form a miniature royal palace, which could, if necessary, be sealed from the rest of the castle and supplied from the oriental gate by the sea almost indefinitely, although in practice they were rarely used by the royal family.\n",
      "\n",
      "--- MarianMT (en→fr→en) Paraphrasing ---\n"
     ]
    },
    {
     "name": "stderr",
     "output_type": "stream",
     "text": [
      "Back-translation:  48%|████▊     | 477/1000 [45:32<44:53,  5.15s/it]"
     ]
    },
    {
     "name": "stdout",
     "output_type": "stream",
     "text": [
      "He is also known for his films as \"Gremlins\" (1984) and \"The Goonies\" (1985).\n",
      "\n",
      "--- MarianMT (en→fr→en) Paraphrasing ---\n"
     ]
    },
    {
     "name": "stderr",
     "output_type": "stream",
     "text": [
      "Back-translation:  48%|████▊     | 478/1000 [45:38<48:23,  5.56s/it]"
     ]
    },
    {
     "name": "stdout",
     "output_type": "stream",
     "text": [
      "The royal apartments neglected it and changed style over the years: at the beginning of the 14th century, there was a lawn, at the end of the 14th century, in the 16th century crab apple trees and a lawn and in the formal ornamental flowers of the 17th century.\n",
      "\n",
      "--- MarianMT (en→fr→en) Paraphrasing ---\n"
     ]
    },
    {
     "name": "stderr",
     "output_type": "stream",
     "text": [
      "Back-translation:  48%|████▊     | 479/1000 [45:42<44:33,  5.13s/it]"
     ]
    },
    {
     "name": "stdout",
     "output_type": "stream",
     "text": [
      "The rim radius of the reflector is 2.7187 times the focal length.\n",
      "\n",
      "--- MarianMT (en→fr→en) Paraphrasing ---\n"
     ]
    },
    {
     "name": "stderr",
     "output_type": "stream",
     "text": [
      "Back-translation:  48%|████▊     | 480/1000 [45:47<44:27,  5.13s/it]"
     ]
    },
    {
     "name": "stdout",
     "output_type": "stream",
     "text": [
      "It turned out to be the Unique Ring, an evil Ring of Power, but the peace and prosperity of the Shire first continued unabated.\n",
      "\n",
      "--- MarianMT (en→fr→en) Paraphrasing ---\n"
     ]
    },
    {
     "name": "stderr",
     "output_type": "stream",
     "text": [
      "Back-translation:  48%|████▊     | 481/1000 [45:51<40:50,  4.72s/it]"
     ]
    },
    {
     "name": "stdout",
     "output_type": "stream",
     "text": [
      "I can't wait for people to hear it.\n",
      "\n",
      "--- MarianMT (en→fr→en) Paraphrasing ---\n"
     ]
    },
    {
     "name": "stderr",
     "output_type": "stream",
     "text": [
      "Back-translation:  48%|████▊     | 482/1000 [45:57<42:59,  4.98s/it]"
     ]
    },
    {
     "name": "stdout",
     "output_type": "stream",
     "text": [
      "Later, the band presented Linkin Park's \"Projekt Revolution\" tour in 2007, with Placebo, Mindless Self Indulgence, Saosin, Taking Back Sunday and HIM.\n",
      "\n",
      "--- MarianMT (en→fr→en) Paraphrasing ---\n"
     ]
    },
    {
     "name": "stderr",
     "output_type": "stream",
     "text": [
      "Back-translation:  48%|████▊     | 483/1000 [46:06<54:13,  6.29s/it]"
     ]
    },
    {
     "name": "stdout",
     "output_type": "stream",
     "text": [
      "The authors and editors of the sixth century BC responsible for most of the history have drawn from many earlier sources, including (but not only) a \"black narrative\" (1 Samuel 4:1-7:1 and perhaps a part of 2 Samuel 6), a \"saul cycle\" (parts of 1 Samuel 9-11 and 13-14), the \"history of the ascension of David\" (1 Samuel 16:14-2 Samuel 5:10) and the \"history of the succession\" (2 Samuel 9-20 and 1 Kings 1-2).\n",
      "\n",
      "--- MarianMT (en→fr→en) Paraphrasing ---\n"
     ]
    },
    {
     "name": "stderr",
     "output_type": "stream",
     "text": [
      "Back-translation:  48%|████▊     | 484/1000 [46:11<51:26,  5.98s/it]"
     ]
    },
    {
     "name": "stdout",
     "output_type": "stream",
     "text": [
      "Southfarthing was the site of Longbottom, where the best pipe grass was grown, due to the warmer climate in the area.\n",
      "\n",
      "--- MarianMT (en→fr→en) Paraphrasing ---\n"
     ]
    },
    {
     "name": "stderr",
     "output_type": "stream",
     "text": [
      "Back-translation:  48%|████▊     | 485/1000 [46:16<48:44,  5.68s/it]"
     ]
    },
    {
     "name": "stdout",
     "output_type": "stream",
     "text": [
      "It was in 1517 that the use of the division we know today, used by Protestant Bibles and adopted by Catholics, began.\n",
      "\n",
      "--- MarianMT (en→fr→en) Paraphrasing ---\n"
     ]
    },
    {
     "name": "stderr",
     "output_type": "stream",
     "text": [
      "Back-translation:  49%|████▊     | 486/1000 [46:22<47:31,  5.55s/it]"
     ]
    },
    {
     "name": "stdout",
     "output_type": "stream",
     "text": [
      "These come in many forms and may look like a grub, frog, fish, paddletail, lizard or different insects.\n",
      "\n",
      "--- MarianMT (en→fr→en) Paraphrasing ---\n"
     ]
    },
    {
     "name": "stderr",
     "output_type": "stream",
     "text": [
      "Back-translation:  49%|████▊     | 487/1000 [46:26<44:28,  5.20s/it]"
     ]
    },
    {
     "name": "stdout",
     "output_type": "stream",
     "text": [
      "The ball also served as an executive committee for the assembly, and supervised the activities of some other magistrates.\n",
      "\n",
      "--- MarianMT (en→fr→en) Paraphrasing ---\n"
     ]
    },
    {
     "name": "stderr",
     "output_type": "stream",
     "text": [
      "Back-translation:  49%|████▉     | 488/1000 [46:30<41:50,  4.90s/it]"
     ]
    },
    {
     "name": "stdout",
     "output_type": "stream",
     "text": [
      "The \"Blueprint\", the school's student newspaper, is published monthly.\n",
      "\n",
      "--- MarianMT (en→fr→en) Paraphrasing ---\n"
     ]
    },
    {
     "name": "stderr",
     "output_type": "stream",
     "text": [
      "Back-translation:  49%|████▉     | 489/1000 [46:36<44:47,  5.26s/it]"
     ]
    },
    {
     "name": "stdout",
     "output_type": "stream",
     "text": [
      "The work was controlled by Sir John Bonvillars and supervised by master mason James of St. George, and the first phase of work between 1283 and 1284 focused on the creation of exterior curtain walls and towers.\n",
      "\n",
      "--- MarianMT (en→fr→en) Paraphrasing ---\n"
     ]
    },
    {
     "name": "stderr",
     "output_type": "stream",
     "text": [
      "Back-translation:  49%|████▉     | 490/1000 [46:41<43:58,  5.17s/it]"
     ]
    },
    {
     "name": "stdout",
     "output_type": "stream",
     "text": [
      "On August 19, Richard went to Percy at Flint Castle, promising to abdicate if his life was spared.\n",
      "\n",
      "--- MarianMT (en→fr→en) Paraphrasing ---\n"
     ]
    },
    {
     "name": "stderr",
     "output_type": "stream",
     "text": [
      "Back-translation:  49%|████▉     | 491/1000 [46:47<45:35,  5.37s/it]"
     ]
    },
    {
     "name": "stdout",
     "output_type": "stream",
     "text": [
      "Court management was one of the major expenses of the Athenian state and there were moments of financial crisis in the 4th century when the courts, at least for private trials, had to be suspended.\n",
      "\n",
      "--- MarianMT (en→fr→en) Paraphrasing ---\n"
     ]
    },
    {
     "name": "stderr",
     "output_type": "stream",
     "text": [
      "Back-translation:  49%|████▉     | 492/1000 [46:51<42:12,  4.99s/it]"
     ]
    },
    {
     "name": "stdout",
     "output_type": "stream",
     "text": [
      "Although not representing the country, Marcus Rashford was of descent.\n",
      "\n",
      "--- MarianMT (en→fr→en) Paraphrasing ---\n"
     ]
    },
    {
     "name": "stderr",
     "output_type": "stream",
     "text": [
      "Back-translation:  49%|████▉     | 493/1000 [46:57<43:59,  5.21s/it]"
     ]
    },
    {
     "name": "stdout",
     "output_type": "stream",
     "text": [
      "However, since the animals were kept in deposits of ancient sand dunes, it is now believed that the animals were buried in the sand, either from a collapsing dune or in a sand storm.\n",
      "\n",
      "--- MarianMT (en→fr→en) Paraphrasing ---\n"
     ]
    },
    {
     "name": "stderr",
     "output_type": "stream",
     "text": [
      "Back-translation:  49%|████▉     | 494/1000 [47:03<45:02,  5.34s/it]"
     ]
    },
    {
     "name": "stdout",
     "output_type": "stream",
     "text": [
      "Although some types of tutoring arrangements may require a salary for the tutor, tutoring is generally free and therefore financially affordable for learners.\n",
      "\n",
      "--- MarianMT (en→fr→en) Paraphrasing ---\n"
     ]
    },
    {
     "name": "stderr",
     "output_type": "stream",
     "text": [
      "Back-translation:  50%|████▉     | 495/1000 [47:07<41:53,  4.98s/it]"
     ]
    },
    {
     "name": "stdout",
     "output_type": "stream",
     "text": [
      "They're coming to the cottage just in time to save Elizabeth and Jack.\n",
      "\n",
      "--- MarianMT (en→fr→en) Paraphrasing ---\n"
     ]
    },
    {
     "name": "stderr",
     "output_type": "stream",
     "text": [
      "Back-translation:  50%|████▉     | 496/1000 [47:13<45:40,  5.44s/it]"
     ]
    },
    {
     "name": "stdout",
     "output_type": "stream",
     "text": [
      "The defendants recall the ancient Chinese proverb \"Wealth does not pass three generations\", suggesting that nepotism or the cronym of the elitist will end up being, and are often, replaced by those lower in the hierarchy.\n",
      "\n",
      "--- MarianMT (en→fr→en) Paraphrasing ---\n"
     ]
    },
    {
     "name": "stderr",
     "output_type": "stream",
     "text": [
      "Back-translation:  50%|████▉     | 497/1000 [47:18<44:07,  5.26s/it]"
     ]
    },
    {
     "name": "stdout",
     "output_type": "stream",
     "text": [
      "It's a little 'all goes' at this point, but I'm so happy with the songs.\"\n",
      "\n",
      "--- MarianMT (en→fr→en) Paraphrasing ---\n"
     ]
    },
    {
     "name": "stderr",
     "output_type": "stream",
     "text": [
      "Back-translation:  50%|████▉     | 498/1000 [47:23<42:44,  5.11s/it]"
     ]
    },
    {
     "name": "stdout",
     "output_type": "stream",
     "text": [
      "A statue is found in the gardens dedicated to Seán Heuston, leader of the Easter event.\n",
      "\n",
      "--- MarianMT (en→fr→en) Paraphrasing ---\n"
     ]
    },
    {
     "name": "stderr",
     "output_type": "stream",
     "text": [
      "Back-translation:  50%|████▉     | 499/1000 [47:29<46:12,  5.53s/it]"
     ]
    },
    {
     "name": "stdout",
     "output_type": "stream",
     "text": [
      "Kress continued to work regularly over the next two years, playing guest roles in dramatic series such as \"House MD\", \"Standoff\", \"Without a Trace\" and the Disney Channel comedy series \"The Suite Life of Zack & Cody\".\n",
      "\n",
      "--- MarianMT (en→fr→en) Paraphrasing ---\n"
     ]
    },
    {
     "name": "stderr",
     "output_type": "stream",
     "text": [
      "Back-translation:  50%|█████     | 500/1000 [47:38<53:13,  6.39s/it]"
     ]
    },
    {
     "name": "stdout",
     "output_type": "stream",
     "text": [
      "Comparisons between the scleral rings of \"Velociraptor\", \"Protoceratops\", and modern birds and reptiles indicate that \"Velociraptor\" may have been nocturnal, while \"Protoceratops\" may have been cathemeral, active throughout the day for short intervals, suggesting that the fight may have occurred at dusk or under low light conditions.\n",
      "\n",
      "--- MarianMT (en→fr→en) Paraphrasing ---\n"
     ]
    },
    {
     "name": "stderr",
     "output_type": "stream",
     "text": [
      "Back-translation:  50%|█████     | 501/1000 [47:43<50:28,  6.07s/it]"
     ]
    },
    {
     "name": "stdout",
     "output_type": "stream",
     "text": [
      "During the 19th century, several bridges were built across the Conwy River connecting the city to Llandudno, including a road bridge in 1826 and a railway bridge in 1848.\n",
      "\n",
      "--- MarianMT (en→fr→en) Paraphrasing ---\n"
     ]
    },
    {
     "name": "stderr",
     "output_type": "stream",
     "text": [
      "Back-translation:  50%|█████     | 502/1000 [47:48<48:29,  5.84s/it]"
     ]
    },
    {
     "name": "stdout",
     "output_type": "stream",
     "text": [
      "British troops had been stationed in Massachusetts Bay Province since 1768 to support Crown-appointed officials and to enforce unpopular parliamentary laws.\n",
      "\n",
      "--- MarianMT (en→fr→en) Paraphrasing ---\n"
     ]
    },
    {
     "name": "stderr",
     "output_type": "stream",
     "text": [
      "Back-translation:  50%|█████     | 503/1000 [47:53<46:10,  5.57s/it]"
     ]
    },
    {
     "name": "stdout",
     "output_type": "stream",
     "text": [
      "The theme park of the Enchanted Kingdom is located in Santa Rosa and is accredited by the Department of Tourism.\n",
      "\n",
      "--- MarianMT (en→fr→en) Paraphrasing ---\n"
     ]
    },
    {
     "name": "stderr",
     "output_type": "stream",
     "text": [
      "Back-translation:  50%|█████     | 504/1000 [47:59<47:16,  5.72s/it]"
     ]
    },
    {
     "name": "stdout",
     "output_type": "stream",
     "text": [
      "For a few years, the castle formed the main residence to visit older personalities, and welcomed Edward's son, the future Edward II in 1301 when he visited the area to receive tributes from Welsh leaders.\n",
      "\n",
      "--- MarianMT (en→fr→en) Paraphrasing ---\n"
     ]
    },
    {
     "name": "stderr",
     "output_type": "stream",
     "text": [
      "Back-translation:  50%|█████     | 505/1000 [48:06<49:08,  5.96s/it]"
     ]
    },
    {
     "name": "stdout",
     "output_type": "stream",
     "text": [
      "Conwy Castle was not well maintained at the beginning of the 14th century and in 1321 an investigation revealed that it was poorly equipped, that shops were limited and that it suffered from leaks of roofs and rotten wood.\n",
      "\n",
      "--- MarianMT (en→fr→en) Paraphrasing ---\n"
     ]
    },
    {
     "name": "stderr",
     "output_type": "stream",
     "text": [
      "Back-translation:  51%|█████     | 506/1000 [48:11<47:16,  5.74s/it]"
     ]
    },
    {
     "name": "stdout",
     "output_type": "stream",
     "text": [
      "In 1930, she gave birth to a son, painter and sculptor Daniel Milhaud, who was the only child of the couple.\n",
      "\n",
      "--- MarianMT (en→fr→en) Paraphrasing ---\n"
     ]
    },
    {
     "name": "stderr",
     "output_type": "stream",
     "text": [
      "Back-translation:  51%|█████     | 507/1000 [48:16<45:42,  5.56s/it]"
     ]
    },
    {
     "name": "stdout",
     "output_type": "stream",
     "text": [
      "British troops had been stationed in Massachusetts Bay Province since 1768 to support Crown-appointed officials and to enforce unpopular parliamentary laws.\n",
      "\n",
      "--- MarianMT (en→fr→en) Paraphrasing ---\n"
     ]
    },
    {
     "name": "stderr",
     "output_type": "stream",
     "text": [
      "Back-translation:  51%|█████     | 508/1000 [48:22<46:31,  5.67s/it]"
     ]
    },
    {
     "name": "stdout",
     "output_type": "stream",
     "text": [
      "Monika appears and apologizes to the protagonist for the weekend \"boring\" that he had spent, and starts a compensation display by deleting the character files of Yuri and Natsuki from the game and returning the player to the main menu.\n",
      "\n",
      "--- MarianMT (en→fr→en) Paraphrasing ---\n"
     ]
    },
    {
     "name": "stderr",
     "output_type": "stream",
     "text": [
      "Back-translation:  51%|█████     | 509/1000 [48:26<42:51,  5.24s/it]"
     ]
    },
    {
     "name": "stdout",
     "output_type": "stream",
     "text": [
      "The video was also posted on the group's YouTube channel with the video entitled \"MCRX\".\n",
      "\n",
      "--- MarianMT (en→fr→en) Paraphrasing ---\n"
     ]
    },
    {
     "name": "stderr",
     "output_type": "stream",
     "text": [
      "Back-translation:  51%|█████     | 510/1000 [48:32<44:25,  5.44s/it]"
     ]
    },
    {
     "name": "stdout",
     "output_type": "stream",
     "text": [
      "Crichton at an apologetically said Ostrom that he had decided to use the name \"Velociraptor\" instead of \"Deinonychus\" because the old name was \"more dramatic\".\n",
      "\n",
      "--- MarianMT (en→fr→en) Paraphrasing ---\n"
     ]
    },
    {
     "name": "stderr",
     "output_type": "stream",
     "text": [
      "Back-translation:  51%|█████     | 511/1000 [48:38<44:40,  5.48s/it]"
     ]
    },
    {
     "name": "stdout",
     "output_type": "stream",
     "text": [
      "Once Demetrius Poliorcetes ended Cassander's rule over Athens, Demetrius de Phalerum went into exile and democracy was restored in 307 BC.\n",
      "\n",
      "--- MarianMT (en→fr→en) Paraphrasing ---\n"
     ]
    },
    {
     "name": "stderr",
     "output_type": "stream",
     "text": [
      "Back-translation:  51%|█████     | 512/1000 [48:43<43:52,  5.39s/it]"
     ]
    },
    {
     "name": "stdout",
     "output_type": "stream",
     "text": [
      "He does not say that this is a path to better political decisions, but it is difficult to understand his argument, based on this second ground, in another way.\n",
      "\n",
      "--- MarianMT (en→fr→en) Paraphrasing ---\n"
     ]
    },
    {
     "name": "stderr",
     "output_type": "stream",
     "text": [
      "Back-translation:  51%|█████▏    | 513/1000 [48:48<42:20,  5.22s/it]"
     ]
    },
    {
     "name": "stdout",
     "output_type": "stream",
     "text": [
      "Due to the broken script of the game, the protagonist is stuck still in the room with the decaying corpse of Yuri during a weekend.\n",
      "\n",
      "--- MarianMT (en→fr→en) Paraphrasing ---\n"
     ]
    },
    {
     "name": "stderr",
     "output_type": "stream",
     "text": [
      "Back-translation:  51%|█████▏    | 514/1000 [48:53<41:21,  5.11s/it]"
     ]
    },
    {
     "name": "stdout",
     "output_type": "stream",
     "text": [
      "In 1645 Sir John Owen was appointed governor of the castle, leading to a bitter dispute between the two men.\n",
      "\n",
      "--- MarianMT (en→fr→en) Paraphrasing ---\n"
     ]
    },
    {
     "name": "stderr",
     "output_type": "stream",
     "text": [
      "Back-translation:  52%|█████▏    | 515/1000 [48:57<39:01,  4.83s/it]"
     ]
    },
    {
     "name": "stdout",
     "output_type": "stream",
     "text": [
      "The king was then taken to London and later died in captivity at Pontefract Castle.\n",
      "\n",
      "--- MarianMT (en→fr→en) Paraphrasing ---\n"
     ]
    },
    {
     "name": "stderr",
     "output_type": "stream",
     "text": [
      "Back-translation:  52%|█████▏    | 516/1000 [49:02<40:28,  5.02s/it]"
     ]
    },
    {
     "name": "stdout",
     "output_type": "stream",
     "text": [
      "In addition, the characters consist of anime stereotypes whose behavior is rarely displayed through their sprites, and the musical accompaniment of the game is light, generous, soft and playful.\n",
      "\n",
      "--- MarianMT (en→fr→en) Paraphrasing ---\n"
     ]
    },
    {
     "name": "stderr",
     "output_type": "stream",
     "text": [
      "Back-translation:  52%|█████▏    | 517/1000 [49:07<38:22,  4.77s/it]"
     ]
    },
    {
     "name": "stdout",
     "output_type": "stream",
     "text": [
      "The builders recruited a large number of workers from all over England for this task.\n",
      "\n",
      "--- MarianMT (en→fr→en) Paraphrasing ---\n"
     ]
    },
    {
     "name": "stderr",
     "output_type": "stream",
     "text": [
      "Back-translation:  52%|█████▏    | 518/1000 [49:11<37:14,  4.64s/it]"
     ]
    },
    {
     "name": "stdout",
     "output_type": "stream",
     "text": [
      "One of the first commitments of the revolution was the battle of Sambat in Pagsanjan.\n",
      "\n",
      "--- MarianMT (en→fr→en) Paraphrasing ---\n"
     ]
    },
    {
     "name": "stderr",
     "output_type": "stream",
     "text": [
      "Back-translation:  52%|█████▏    | 519/1000 [49:15<36:17,  4.53s/it]"
     ]
    },
    {
     "name": "stdout",
     "output_type": "stream",
     "text": [
      "This sandstone was more colourful than the local grey stone, and was probably deliberately chosen for its appearance.\n",
      "\n",
      "--- MarianMT (en→fr→en) Paraphrasing ---\n"
     ]
    },
    {
     "name": "stderr",
     "output_type": "stream",
     "text": [
      "Back-translation:  52%|█████▏    | 520/1000 [49:20<37:17,  4.66s/it]"
     ]
    },
    {
     "name": "stdout",
     "output_type": "stream",
     "text": [
      "Each tower has an additional watch tower, probably intended both for security and to allow the prominent display of the royal flag.\n",
      "\n",
      "--- MarianMT (en→fr→en) Paraphrasing ---\n"
     ]
    },
    {
     "name": "stderr",
     "output_type": "stream",
     "text": [
      "Back-translation:  52%|█████▏    | 521/1000 [49:25<37:58,  4.76s/it]"
     ]
    },
    {
     "name": "stdout",
     "output_type": "stream",
     "text": [
      "The southwest tower may have been used either by the constable of the castle or by the garrison of the castle, and also contained a bakehouse.\n",
      "\n",
      "--- MarianMT (en→fr→en) Paraphrasing ---\n"
     ]
    },
    {
     "name": "stderr",
     "output_type": "stream",
     "text": [
      "Back-translation:  52%|█████▏    | 522/1000 [49:30<38:10,  4.79s/it]"
     ]
    },
    {
     "name": "stdout",
     "output_type": "stream",
     "text": [
      "This is the position set out in the well-known anti-democratic pamphlet whose anonymous author is often called the Old Oligarch.\n",
      "\n",
      "--- MarianMT (en→fr→en) Paraphrasing ---\n"
     ]
    },
    {
     "name": "stderr",
     "output_type": "stream",
     "text": [
      "Back-translation:  52%|█████▏    | 523/1000 [49:35<38:34,  4.85s/it]"
     ]
    },
    {
     "name": "stdout",
     "output_type": "stream",
     "text": [
      "The First World War diverted resources, and removed most Germans from missionary work when this country lost its empire.\n",
      "\n",
      "--- MarianMT (en→fr→en) Paraphrasing ---\n"
     ]
    },
    {
     "name": "stderr",
     "output_type": "stream",
     "text": [
      "Back-translation:  52%|█████▏    | 524/1000 [49:40<39:18,  4.95s/it]"
     ]
    },
    {
     "name": "stdout",
     "output_type": "stream",
     "text": [
      "He returned to Michigan north of the iron mountain and continued through the upper Michigan peninsula to the towns of Escanaba, Mansique and St. Ignace.\n",
      "\n",
      "--- MarianMT (en→fr→en) Paraphrasing ---\n"
     ]
    },
    {
     "name": "stderr",
     "output_type": "stream",
     "text": [
      "Back-translation:  52%|█████▎    | 525/1000 [49:47<44:57,  5.68s/it]"
     ]
    },
    {
     "name": "stdout",
     "output_type": "stream",
     "text": [
      "The words that Beck emphasized were: \"Clean up the progress of society, die in the process / Children who can talk about it living on the railway \"sic\" / People moving sideways / Sell it until your last days / Buy your motivation / Generate nothing / Nothing / Nothing but a dead scene / Produces a white dream\".\n",
      "\n",
      "--- MarianMT (en→fr→en) Paraphrasing ---\n"
     ]
    },
    {
     "name": "stderr",
     "output_type": "stream",
     "text": [
      "Back-translation:  53%|█████▎    | 526/1000 [49:52<43:03,  5.45s/it]"
     ]
    },
    {
     "name": "stdout",
     "output_type": "stream",
     "text": [
      "Sections of the United States 2 in New England were formerly New England Route 15, part of New England's roadmarking system.\n",
      "\n",
      "--- MarianMT (en→fr→en) Paraphrasing ---\n"
     ]
    },
    {
     "name": "stderr",
     "output_type": "stream",
     "text": [
      "Back-translation:  53%|█████▎    | 527/1000 [49:58<42:54,  5.44s/it]"
     ]
    },
    {
     "name": "stdout",
     "output_type": "stream",
     "text": [
      "Calamba was once the site of a sugar cane factory, although the decline of the sugar industry in the 1970s and 1980s led to its final closure.\n",
      "\n",
      "--- MarianMT (en→fr→en) Paraphrasing ---\n"
     ]
    },
    {
     "name": "stderr",
     "output_type": "stream",
     "text": [
      "Back-translation:  53%|█████▎    | 528/1000 [50:04<45:03,  5.73s/it]"
     ]
    },
    {
     "name": "stdout",
     "output_type": "stream",
     "text": [
      "The 1977 song \"Rockin' All Over the World\", a minor success for its writer John Fogerty (formerly Creedence Clearwater Revival), has become one of the most lasting hymns of Status Quo.\n",
      "\n",
      "--- MarianMT (en→fr→en) Paraphrasing ---\n"
     ]
    },
    {
     "name": "stderr",
     "output_type": "stream",
     "text": [
      "Back-translation:  53%|█████▎    | 529/1000 [50:11<47:33,  6.06s/it]"
     ]
    },
    {
     "name": "stdout",
     "output_type": "stream",
     "text": [
      "To facilitate this objective, an ideological campaign was conducted by colonialist columnists, dating back to the Spaniards, who produced a literature that systematically denied the humanity of Kalinago (a literary tradition brought to the end of the seventeenth century by authors such as Jean-Baptiste du Tertre and Pere Labat).\n",
      "\n",
      "--- MarianMT (en→fr→en) Paraphrasing ---\n"
     ]
    },
    {
     "name": "stderr",
     "output_type": "stream",
     "text": [
      "Back-translation:  53%|█████▎    | 530/1000 [50:15<43:23,  5.54s/it]"
     ]
    },
    {
     "name": "stdout",
     "output_type": "stream",
     "text": [
      "was first published on 22 September 2017 on itch.io, and later also on Steam.\n",
      "\n",
      "--- MarianMT (en→fr→en) Paraphrasing ---\n"
     ]
    },
    {
     "name": "stderr",
     "output_type": "stream",
     "text": [
      "Back-translation:  53%|█████▎    | 531/1000 [50:21<44:20,  5.67s/it]"
     ]
    },
    {
     "name": "stdout",
     "output_type": "stream",
     "text": [
      "In February 2012, members of My Chemical Romance revealed that they had built a studio in Los Angeles to record music for the band's fifth album under the MCR5 title, now with traveling keyboardist James Dewees as an official member.\n",
      "\n",
      "--- MarianMT (en→fr→en) Paraphrasing ---\n"
     ]
    },
    {
     "name": "stderr",
     "output_type": "stream",
     "text": [
      "Back-translation:  53%|█████▎    | 532/1000 [50:26<41:26,  5.31s/it]"
     ]
    },
    {
     "name": "stdout",
     "output_type": "stream",
     "text": [
      "The Hawks moved Peter Hudson to the centre in mid-time and Bob Keddie to the spot of the goal.\n",
      "\n",
      "--- MarianMT (en→fr→en) Paraphrasing ---\n"
     ]
    },
    {
     "name": "stderr",
     "output_type": "stream",
     "text": [
      "Back-translation:  53%|█████▎    | 533/1000 [50:31<41:02,  5.27s/it]"
     ]
    },
    {
     "name": "stdout",
     "output_type": "stream",
     "text": [
      "The names of the first inhabitants, the pre-Arawakan peoples who colonized the islands 3,000 years ago, are unknown.\n",
      "\n",
      "--- MarianMT (en→fr→en) Paraphrasing ---\n"
     ]
    },
    {
     "name": "stderr",
     "output_type": "stream",
     "text": [
      "Back-translation:  53%|█████▎    | 534/1000 [50:37<43:02,  5.54s/it]"
     ]
    },
    {
     "name": "stdout",
     "output_type": "stream",
     "text": [
      "The video received nominations for the best international men's video at the MTV Video Music Awards 2016 in Japan, for the best music video at the 2017 iHeartRadio Music Awards and for the favorite music video at the 2017 Nickelodeon Kids' Choice Awards.\n",
      "\n",
      "--- MarianMT (en→fr→en) Paraphrasing ---\n"
     ]
    },
    {
     "name": "stderr",
     "output_type": "stream",
     "text": [
      "Back-translation:  54%|█████▎    | 535/1000 [50:41<40:03,  5.17s/it]"
     ]
    },
    {
     "name": "stdout",
     "output_type": "stream",
     "text": [
      "Average monthly temperatures of Basseterre vary little between 23.9 °C and 26.6 °C.\n",
      "\n",
      "--- MarianMT (en→fr→en) Paraphrasing ---\n"
     ]
    },
    {
     "name": "stderr",
     "output_type": "stream",
     "text": [
      "Back-translation:  54%|█████▎    | 536/1000 [50:47<40:26,  5.23s/it]"
     ]
    },
    {
     "name": "stdout",
     "output_type": "stream",
     "text": [
      "The tour began on September 15 in Ohio, stopping at 30 locations in the United States, to promote their album, \"Three Cheers for Sweet Revenge\".\n",
      "\n",
      "--- MarianMT (en→fr→en) Paraphrasing ---\n"
     ]
    },
    {
     "name": "stderr",
     "output_type": "stream",
     "text": [
      "Back-translation:  54%|█████▎    | 537/1000 [50:51<37:19,  4.84s/it]"
     ]
    },
    {
     "name": "stdout",
     "output_type": "stream",
     "text": [
      "\"Stomachaches\" was released worldwide on August 25, 2014.\n",
      "\n",
      "--- MarianMT (en→fr→en) Paraphrasing ---\n"
     ]
    },
    {
     "name": "stderr",
     "output_type": "stream",
     "text": [
      "Back-translation:  54%|█████▍    | 538/1000 [50:57<40:29,  5.26s/it]"
     ]
    },
    {
     "name": "stdout",
     "output_type": "stream",
     "text": [
      "A new version of democracy was established in 403 B.C., but it can be linked to both earlier and later reforms (paranómōn chart 416 B.C.; end of assembly trials 355 B.C.).\n",
      "\n",
      "--- MarianMT (en→fr→en) Paraphrasing ---\n"
     ]
    },
    {
     "name": "stderr",
     "output_type": "stream",
     "text": [
      "Back-translation:  54%|█████▍    | 539/1000 [51:05<46:56,  6.11s/it]"
     ]
    },
    {
     "name": "stdout",
     "output_type": "stream",
     "text": [
      "Since this is a non-dynamic model, there is a fixed relationship between the nominal interest rate and the real interest rate (the first is equal to the real interest rate plus the expected inflation rate which is exogenous in the short term); therefore, variables such as monetary demand, which are effectively dependent on the nominal interest rate, can be expressed in an equivalent way depending on the real interest rate.\n",
      "\n",
      "--- MarianMT (en→fr→en) Paraphrasing ---\n"
     ]
    },
    {
     "name": "stderr",
     "output_type": "stream",
     "text": [
      "Back-translation:  54%|█████▍    | 540/1000 [51:13<51:08,  6.67s/it]"
     ]
    },
    {
     "name": "stdout",
     "output_type": "stream",
     "text": [
      "Music concerts were performed in the park by artists such as Coldplay, Duran Duran, Robbie Williams, Red Hot Chili Peppers, Ian Brown, Justice, Kanye West, Arcade Fire, Tom Waits, Snow Patrol, Florence and Machine, Swedish House Mafia, Snoop Dogg, Tinie Tempah, Calvin Harris, Stone Roses and Ed Sheeran.\n",
      "\n",
      "--- MarianMT (en→fr→en) Paraphrasing ---\n"
     ]
    },
    {
     "name": "stderr",
     "output_type": "stream",
     "text": [
      "Back-translation:  54%|█████▍    | 541/1000 [51:17<45:38,  5.97s/it]"
     ]
    },
    {
     "name": "stdout",
     "output_type": "stream",
     "text": [
      "This made it possible to fold the roller as an accordion.\n",
      "\n",
      "--- MarianMT (en→fr→en) Paraphrasing ---\n"
     ]
    },
    {
     "name": "stderr",
     "output_type": "stream",
     "text": [
      "Back-translation:  54%|█████▍    | 542/1000 [51:22<42:50,  5.61s/it]"
     ]
    },
    {
     "name": "stdout",
     "output_type": "stream",
     "text": [
      "With only one third of the PBS stations affiliated to the network and half needed on 6 July 2006, the network was withdrawn.\n",
      "\n",
      "--- MarianMT (en→fr→en) Paraphrasing ---\n"
     ]
    },
    {
     "name": "stderr",
     "output_type": "stream",
     "text": [
      "Back-translation:  54%|█████▍    | 543/1000 [51:27<41:58,  5.51s/it]"
     ]
    },
    {
     "name": "stdout",
     "output_type": "stream",
     "text": [
      "\"Doki Doki Literature Club\" was developed by American programmer Dan Salvato over the course of about two years, and is his first title in the video game industry.\n",
      "\n",
      "--- MarianMT (en→fr→en) Paraphrasing ---\n"
     ]
    },
    {
     "name": "stderr",
     "output_type": "stream",
     "text": [
      "Back-translation:  54%|█████▍    | 544/1000 [51:34<43:11,  5.68s/it]"
     ]
    },
    {
     "name": "stdout",
     "output_type": "stream",
     "text": [
      "Gerard Way told \"Rolling Stone,\" \"we love bands like Queen, where it's huge and majestic, but also bands like Black Flag and Misfits, who would be completely crazy.\"\n",
      "\n",
      "--- MarianMT (en→fr→en) Paraphrasing ---\n"
     ]
    },
    {
     "name": "stderr",
     "output_type": "stream",
     "text": [
      "Back-translation:  55%|█████▍    | 545/1000 [51:38<39:30,  5.21s/it]"
     ]
    },
    {
     "name": "stdout",
     "output_type": "stream",
     "text": [
      "In addition, sprites of character appear corrupt from time to time.\n",
      "\n",
      "--- MarianMT (en→fr→en) Paraphrasing ---\n"
     ]
    },
    {
     "name": "stderr",
     "output_type": "stream",
     "text": [
      "Back-translation:  55%|█████▍    | 546/1000 [51:43<40:36,  5.37s/it]"
     ]
    },
    {
     "name": "stdout",
     "output_type": "stream",
     "text": [
      "Other revisions were apparently made even after: for example, the quarter-shekel of money that Saul's servant offered Samuel in 1 Samuel 9 almost certainly set the date of this story in the Persian or Hellenistic periods.\n",
      "\n",
      "--- MarianMT (en→fr→en) Paraphrasing ---\n"
     ]
    },
    {
     "name": "stderr",
     "output_type": "stream",
     "text": [
      "Back-translation:  55%|█████▍    | 547/1000 [51:48<38:43,  5.13s/it]"
     ]
    },
    {
     "name": "stdout",
     "output_type": "stream",
     "text": [
      "Absalom (another son of David) killed Amnon, a rebel against his father, and David fled Jerusalem.\n",
      "\n",
      "--- MarianMT (en→fr→en) Paraphrasing ---\n"
     ]
    },
    {
     "name": "stderr",
     "output_type": "stream",
     "text": [
      "Back-translation:  55%|█████▍    | 548/1000 [51:55<43:32,  5.78s/it]"
     ]
    },
    {
     "name": "stdout",
     "output_type": "stream",
     "text": [
      "Edward took Aberconwy in March 1283 and decided that the site would form the centre of a new county: he would relocate the abbey eight miles from the Conwy Valley to a new site in Maenan, creating the Maenan Abbey, and built a new English castle and a fortified town on the former monastery site.\n",
      "\n",
      "--- MarianMT (en→fr→en) Paraphrasing ---\n"
     ]
    },
    {
     "name": "stderr",
     "output_type": "stream",
     "text": [
      "Back-translation:  55%|█████▍    | 549/1000 [52:00<41:35,  5.53s/it]"
     ]
    },
    {
     "name": "stdout",
     "output_type": "stream",
     "text": [
      "Originally, the inner quarter was separated from the outer quarter by an inner wall, a drawbridge and a door, protected by a ditch cut into the rock.\n",
      "\n",
      "--- MarianMT (en→fr→en) Paraphrasing ---\n"
     ]
    },
    {
     "name": "stderr",
     "output_type": "stream",
     "text": [
      "Back-translation:  55%|█████▌    | 550/1000 [52:05<39:48,  5.31s/it]"
     ]
    },
    {
     "name": "stdout",
     "output_type": "stream",
     "text": [
      "Cullen was a pre-med student at the University of Pittsburgh, but had to retire because of financial problems.\n",
      "\n",
      "--- MarianMT (en→fr→en) Paraphrasing ---\n"
     ]
    },
    {
     "name": "stderr",
     "output_type": "stream",
     "text": [
      "Back-translation:  55%|█████▌    | 551/1000 [52:10<39:39,  5.30s/it]"
     ]
    },
    {
     "name": "stdout",
     "output_type": "stream",
     "text": [
      "This is where most of the Shire barley crop was grown, and the only farthing where heavy snow was common.\n",
      "\n",
      "--- MarianMT (en→fr→en) Paraphrasing ---\n"
     ]
    },
    {
     "name": "stderr",
     "output_type": "stream",
     "text": [
      "Back-translation:  55%|█████▌    | 552/1000 [52:16<39:40,  5.31s/it]"
     ]
    },
    {
     "name": "stdout",
     "output_type": "stream",
     "text": [
      "Today, \"Velociraptor\" is well known by paleontologists, with more than a dozen fossil skeletons described, most of all dromaeosaurus.\n",
      "\n",
      "--- MarianMT (en→fr→en) Paraphrasing ---\n"
     ]
    },
    {
     "name": "stderr",
     "output_type": "stream",
     "text": [
      "Back-translation:  55%|█████▌    | 553/1000 [52:21<39:30,  5.30s/it]"
     ]
    },
    {
     "name": "stdout",
     "output_type": "stream",
     "text": [
      "In 1865 the castle of Conwy passed from the Holland family, who had rented it from the descendants of the Conways to the civic direction of the town of Conwy.\n",
      "\n",
      "--- MarianMT (en→fr→en) Paraphrasing ---\n"
     ]
    },
    {
     "name": "stderr",
     "output_type": "stream",
     "text": [
      "Back-translation:  55%|█████▌    | 554/1000 [52:26<37:59,  5.11s/it]"
     ]
    },
    {
     "name": "stdout",
     "output_type": "stream",
     "text": [
      "The 2018 class posted an average ACT score of 29.2, the highest in school history, with five perfect scores.\n",
      "\n",
      "--- MarianMT (en→fr→en) Paraphrasing ---\n"
     ]
    },
    {
     "name": "stderr",
     "output_type": "stream",
     "text": [
      "Back-translation:  56%|█████▌    | 555/1000 [52:30<36:48,  4.96s/it]"
     ]
    },
    {
     "name": "stdout",
     "output_type": "stream",
     "text": [
      "The king was then taken to London and later died in captivity at Pontefract Castle.\n",
      "\n",
      "--- MarianMT (en→fr→en) Paraphrasing ---\n"
     ]
    },
    {
     "name": "stderr",
     "output_type": "stream",
     "text": [
      "Back-translation:  56%|█████▌    | 556/1000 [52:34<35:14,  4.76s/it]"
     ]
    },
    {
     "name": "stdout",
     "output_type": "stream",
     "text": [
      "The day after the siege, Colonel John Carter was appointed governor of the castle and further repairs were made.\n",
      "\n",
      "--- MarianMT (en→fr→en) Paraphrasing ---\n"
     ]
    },
    {
     "name": "stderr",
     "output_type": "stream",
     "text": [
      "Back-translation:  56%|█████▌    | 557/1000 [52:39<33:43,  4.57s/it]"
     ]
    },
    {
     "name": "stdout",
     "output_type": "stream",
     "text": [
      "The English name comes from the Irish \"\" meaning \"clear water\".\n",
      "\n",
      "--- MarianMT (en→fr→en) Paraphrasing ---\n"
     ]
    },
    {
     "name": "stderr",
     "output_type": "stream",
     "text": [
      "Back-translation:  56%|█████▌    | 558/1000 [52:44<36:18,  4.93s/it]"
     ]
    },
    {
     "name": "stdout",
     "output_type": "stream",
     "text": [
      "The non-citizen component of the population was composed of resident (metic) foreigners and slaves, with perhaps a little more of them.\n",
      "\n",
      "--- MarianMT (en→fr→en) Paraphrasing ---\n"
     ]
    },
    {
     "name": "stderr",
     "output_type": "stream",
     "text": [
      "Back-translation:  56%|█████▌    | 559/1000 [52:49<36:34,  4.98s/it]"
     ]
    },
    {
     "name": "stdout",
     "output_type": "stream",
     "text": [
      "Although now somewhat dilapidated, the ramparts originally wore triple final drawings and presented a sequence of square holes along the exterior of the walls.\n",
      "\n",
      "--- MarianMT (en→fr→en) Paraphrasing ---\n"
     ]
    },
    {
     "name": "stderr",
     "output_type": "stream",
     "text": [
      "Back-translation:  56%|█████▌    | 560/1000 [52:54<35:59,  4.91s/it]"
     ]
    },
    {
     "name": "stdout",
     "output_type": "stream",
     "text": [
      "Australia began establishing public universities in the 1850s to promote meritocracy by providing advanced training and credentials.\n",
      "\n",
      "--- MarianMT (en→fr→en) Paraphrasing ---\n"
     ]
    },
    {
     "name": "stderr",
     "output_type": "stream",
     "text": [
      "Back-translation:  56%|█████▌    | 561/1000 [52:59<35:54,  4.91s/it]"
     ]
    },
    {
     "name": "stdout",
     "output_type": "stream",
     "text": [
      "The federation of Saint Kitts and Nevis is divided into fourteen parishes: nine divisions on Saint Kitts and Nevis and five on Nevis.\n",
      "\n",
      "--- MarianMT (en→fr→en) Paraphrasing ---\n"
     ]
    },
    {
     "name": "stderr",
     "output_type": "stream",
     "text": [
      "Back-translation:  56%|█████▌    | 562/1000 [53:05<36:58,  5.07s/it]"
     ]
    },
    {
     "name": "stdout",
     "output_type": "stream",
     "text": [
      "The UCI and the World Anti-Doping Agency both referred the decision independently to the Court of Arbitration for Sport in March 2011, but Contador remained free until their decision was rendered.\n",
      "\n",
      "--- MarianMT (en→fr→en) Paraphrasing ---\n"
     ]
    },
    {
     "name": "stderr",
     "output_type": "stream",
     "text": [
      "Back-translation:  56%|█████▋    | 563/1000 [53:11<39:00,  5.36s/it]"
     ]
    },
    {
     "name": "stdout",
     "output_type": "stream",
     "text": [
      "To the east and north-east are Antigua and Barbuda, and to the south-east is the small uninhabited island of Redonda (part of Antigua and Barbuda) and Montserrat.\n",
      "\n",
      "--- MarianMT (en→fr→en) Paraphrasing ---\n"
     ]
    },
    {
     "name": "stderr",
     "output_type": "stream",
     "text": [
      "Back-translation:  56%|█████▋    | 564/1000 [53:15<36:50,  5.07s/it]"
     ]
    },
    {
     "name": "stdout",
     "output_type": "stream",
     "text": [
      "The four- to one-hundred-metre relay team won a bronze medal at the 2011 World Championships.\n",
      "\n",
      "--- MarianMT (en→fr→en) Paraphrasing ---\n"
     ]
    },
    {
     "name": "stderr",
     "output_type": "stream",
     "text": [
      "Back-translation:  56%|█████▋    | 565/1000 [53:21<39:33,  5.46s/it]"
     ]
    },
    {
     "name": "stdout",
     "output_type": "stream",
     "text": [
      "The castle has a rectangular plan and is divided into an inner and outer quarter, separated by a cross wall, with four large towers of 70 feet on each side; originally the castle would have been bleached using a lime rendering.\n",
      "\n",
      "--- MarianMT (en→fr→en) Paraphrasing ---\n"
     ]
    },
    {
     "name": "stderr",
     "output_type": "stream",
     "text": [
      "Back-translation:  57%|█████▋    | 566/1000 [53:26<37:32,  5.19s/it]"
     ]
    },
    {
     "name": "stdout",
     "output_type": "stream",
     "text": [
      "Kennedy Simmonds of WFP, Prime Minister since 1980, has become the Prime Minister of the country.\n",
      "\n",
      "--- MarianMT (en→fr→en) Paraphrasing ---\n"
     ]
    },
    {
     "name": "stderr",
     "output_type": "stream",
     "text": [
      "Back-translation:  57%|█████▋    | 567/1000 [53:31<37:09,  5.15s/it]"
     ]
    },
    {
     "name": "stdout",
     "output_type": "stream",
     "text": [
      "In some settlements, these mission stations have become a home for displaced or formerly nomadic people.\n",
      "\n",
      "--- MarianMT (en→fr→en) Paraphrasing ---\n"
     ]
    },
    {
     "name": "stderr",
     "output_type": "stream",
     "text": [
      "Back-translation:  57%|█████▋    | 568/1000 [53:36<37:08,  5.16s/it]"
     ]
    },
    {
     "name": "stdout",
     "output_type": "stream",
     "text": [
      "In Aristotle's work, this difference is categorized as the difference between arithmetic equality and geometric equality (i.e. proportional).\n",
      "\n",
      "--- MarianMT (en→fr→en) Paraphrasing ---\n"
     ]
    },
    {
     "name": "stderr",
     "output_type": "stream",
     "text": [
      "Back-translation:  57%|█████▋    | 569/1000 [53:42<37:35,  5.23s/it]"
     ]
    },
    {
     "name": "stdout",
     "output_type": "stream",
     "text": [
      "Although Noth's belief that the whole story was composed by one individual was largely abandoned, his theory in its outline was adopted by most scholars.\n",
      "\n",
      "--- MarianMT (en→fr→en) Paraphrasing ---\n"
     ]
    },
    {
     "name": "stderr",
     "output_type": "stream",
     "text": [
      "Back-translation:  57%|█████▋    | 570/1000 [53:47<36:55,  5.15s/it]"
     ]
    },
    {
     "name": "stdout",
     "output_type": "stream",
     "text": [
      "Among these, the Paleodictyopteroidea themselves could be a paraphyletic assemblage of Pterygota very basal, too.\n",
      "\n",
      "--- MarianMT (en→fr→en) Paraphrasing ---\n"
     ]
    },
    {
     "name": "stderr",
     "output_type": "stream",
     "text": [
      "Back-translation:  57%|█████▋    | 571/1000 [53:51<36:07,  5.05s/it]"
     ]
    },
    {
     "name": "stdout",
     "output_type": "stream",
     "text": [
      "William Henry Hudson (August 4, 1841 – August 18, 1922) was an author, naturalist, and ornithologist.\n",
      "\n",
      "--- MarianMT (en→fr→en) Paraphrasing ---\n"
     ]
    },
    {
     "name": "stderr",
     "output_type": "stream",
     "text": [
      "Back-translation:  57%|█████▋    | 572/1000 [53:56<36:09,  5.07s/it]"
     ]
    },
    {
     "name": "stdout",
     "output_type": "stream",
     "text": [
      "Of course, you have the right to settle in Saint Kitts and Nevis as well as in most CARICOM member countries at any time and throughout your stay.\"\n",
      "\n",
      "--- MarianMT (en→fr→en) Paraphrasing ---\n"
     ]
    },
    {
     "name": "stderr",
     "output_type": "stream",
     "text": [
      "Back-translation:  57%|█████▋    | 573/1000 [54:00<33:52,  4.76s/it]"
     ]
    },
    {
     "name": "stdout",
     "output_type": "stream",
     "text": [
      "Percy swore in the chapel that he wouldn't hurt the king.\n",
      "\n",
      "--- MarianMT (en→fr→en) Paraphrasing ---\n"
     ]
    },
    {
     "name": "stderr",
     "output_type": "stream",
     "text": [
      "Back-translation:  57%|█████▋    | 574/1000 [54:05<32:49,  4.62s/it]"
     ]
    },
    {
     "name": "stdout",
     "output_type": "stream",
     "text": [
      "In 1971, Britain regained full control of Anguilla and was officially separated in 1980.\n",
      "\n",
      "--- MarianMT (en→fr→en) Paraphrasing ---\n"
     ]
    },
    {
     "name": "stderr",
     "output_type": "stream",
     "text": [
      "Back-translation:  57%|█████▊    | 575/1000 [54:09<32:23,  4.57s/it]"
     ]
    },
    {
     "name": "stdout",
     "output_type": "stream",
     "text": [
      "won the Grammy Award for Best Song Written for Visual Media at the 59th Annual Grammy Awards.\n",
      "\n",
      "--- MarianMT (en→fr→en) Paraphrasing ---\n"
     ]
    },
    {
     "name": "stderr",
     "output_type": "stream",
     "text": [
      "Back-translation:  58%|█████▊    | 576/1000 [54:14<33:02,  4.68s/it]"
     ]
    },
    {
     "name": "stdout",
     "output_type": "stream",
     "text": [
      "For their high grades, 91 university scholarships, 46 with honour, 80 with distinction, and seven of them were named national AP researchers, the highest award awarded.\n",
      "\n",
      "--- MarianMT (en→fr→en) Paraphrasing ---\n"
     ]
    },
    {
     "name": "stderr",
     "output_type": "stream",
     "text": [
      "Back-translation:  58%|█████▊    | 577/1000 [54:20<34:22,  4.88s/it]"
     ]
    },
    {
     "name": "stdout",
     "output_type": "stream",
     "text": [
      "It is increasingly extended to all graduates of the public school system, those of rural and regional origin, and then to women and ethnic minorities.\n",
      "\n",
      "--- MarianMT (en→fr→en) Paraphrasing ---\n"
     ]
    },
    {
     "name": "stderr",
     "output_type": "stream",
     "text": [
      "Back-translation:  58%|█████▊    | 578/1000 [54:25<35:24,  5.03s/it]"
     ]
    },
    {
     "name": "stdout",
     "output_type": "stream",
     "text": [
      "It is expected that there will be power outages and extremely long and total water losses, perhaps up to several months.\n",
      "\n",
      "--- MarianMT (en→fr→en) Paraphrasing ---\n"
     ]
    },
    {
     "name": "stderr",
     "output_type": "stream",
     "text": [
      "Back-translation:  58%|█████▊    | 579/1000 [54:31<37:01,  5.28s/it]"
     ]
    },
    {
     "name": "stdout",
     "output_type": "stream",
     "text": [
      "Just before Solon's reforms in the 7th century BC, Athens was governed by a few artons (three, then nine) and the council of the Areopagus, which was made up of members of powerful noble families.\n",
      "\n",
      "--- MarianMT (en→fr→en) Paraphrasing ---\n"
     ]
    },
    {
     "name": "stderr",
     "output_type": "stream",
     "text": [
      "Back-translation:  58%|█████▊    | 580/1000 [54:36<37:19,  5.33s/it]"
     ]
    },
    {
     "name": "stdout",
     "output_type": "stream",
     "text": [
      "Sugar was the first export in the 1940s, but rising production costs, low world market prices and the government's efforts to reduce its dependence have led to a growing diversification of the agricultural sector.\n",
      "\n",
      "--- MarianMT (en→fr→en) Paraphrasing ---\n"
     ]
    },
    {
     "name": "stderr",
     "output_type": "stream",
     "text": [
      "Back-translation:  58%|█████▊    | 581/1000 [54:41<36:50,  5.28s/it]"
     ]
    },
    {
     "name": "stdout",
     "output_type": "stream",
     "text": [
      "They closed the Hay Gate and closed their own doors from the front of the night, and had a warning signal - Buckland's horn - to allow a quick mobilization.\n",
      "\n",
      "--- MarianMT (en→fr→en) Paraphrasing ---\n"
     ]
    },
    {
     "name": "stderr",
     "output_type": "stream",
     "text": [
      "Back-translation:  58%|█████▊    | 582/1000 [54:47<37:23,  5.37s/it]"
     ]
    },
    {
     "name": "stdout",
     "output_type": "stream",
     "text": [
      "They recorded their first album, \"I Brought You My Bullets, You Brought Me Your Love\", only three months after the band formed and released it in 2002 by Eyeball Records.\n",
      "\n",
      "--- MarianMT (en→fr→en) Paraphrasing ---\n"
     ]
    },
    {
     "name": "stderr",
     "output_type": "stream",
     "text": [
      "Back-translation:  58%|█████▊    | 583/1000 [54:52<35:39,  5.13s/it]"
     ]
    },
    {
     "name": "stdout",
     "output_type": "stream",
     "text": [
      "One month after the release of the album, the band replaced Matt Pelissier with Bob Bryar.\n",
      "\n",
      "--- MarianMT (en→fr→en) Paraphrasing ---\n"
     ]
    },
    {
     "name": "stderr",
     "output_type": "stream",
     "text": [
      "Back-translation:  58%|█████▊    | 584/1000 [54:56<34:46,  5.01s/it]"
     ]
    },
    {
     "name": "stdout",
     "output_type": "stream",
     "text": [
      "It was recorded to be the final credit track of the 2009 film \"Watchmen\", an adaptation of the graphic novel of the same name.\n",
      "\n",
      "--- MarianMT (en→fr→en) Paraphrasing ---\n"
     ]
    },
    {
     "name": "stderr",
     "output_type": "stream",
     "text": [
      "Back-translation:  58%|█████▊    | 585/1000 [55:01<34:30,  4.99s/it]"
     ]
    },
    {
     "name": "stdout",
     "output_type": "stream",
     "text": [
      "On July 31 and August 1, 2009, My Chemical Romance performed two \"secret\" shows at the Roxy Theater in Los Angeles.\n",
      "\n",
      "--- MarianMT (en→fr→en) Paraphrasing ---\n"
     ]
    },
    {
     "name": "stderr",
     "output_type": "stream",
     "text": [
      "Back-translation:  59%|█████▊    | 586/1000 [55:06<34:36,  5.02s/it]"
     ]
    },
    {
     "name": "stdout",
     "output_type": "stream",
     "text": [
      "The band was formed by frontman Gerard Way and drummer Matt Pelissier in Newark, New Jersey, shortly after the September 11 attacks.\n",
      "\n",
      "--- MarianMT (en→fr→en) Paraphrasing ---\n"
     ]
    },
    {
     "name": "stderr",
     "output_type": "stream",
     "text": [
      "Back-translation:  59%|█████▊    | 587/1000 [55:12<36:41,  5.33s/it]"
     ]
    },
    {
     "name": "stdout",
     "output_type": "stream",
     "text": [
      "The name of the album was announced and 20 people dressed in black capes with their darkened faces marched around the Hammersmith, followed by a large group of fans and members of the street team with signs saying \"The Black Parade\".\n",
      "\n",
      "--- MarianMT (en→fr→en) Paraphrasing ---\n"
     ]
    },
    {
     "name": "stderr",
     "output_type": "stream",
     "text": [
      "Back-translation:  59%|█████▉    | 588/1000 [55:19<38:55,  5.67s/it]"
     ]
    },
    {
     "name": "stdout",
     "output_type": "stream",
     "text": [
      "It was Michael Tuck's last game and he was down with the league record for the games (426), the finals (39), the grand finals (11) and the first titles (7).\n",
      "\n",
      "--- MarianMT (en→fr→en) Paraphrasing ---\n"
     ]
    },
    {
     "name": "stderr",
     "output_type": "stream",
     "text": [
      "Back-translation:  59%|█████▉    | 589/1000 [55:24<38:47,  5.66s/it]"
     ]
    },
    {
     "name": "stdout",
     "output_type": "stream",
     "text": [
      "A set of customs duties on increasingly complex imports was unified in September 1955 with a set of additional import duties, requiring reductions of 50, 100, 200, or 400% of the value of the goods to the government.\n",
      "\n",
      "--- MarianMT (en→fr→en) Paraphrasing ---\n"
     ]
    },
    {
     "name": "stderr",
     "output_type": "stream",
     "text": [
      "Back-translation:  59%|█████▉    | 590/1000 [55:28<34:34,  5.06s/it]"
     ]
    },
    {
     "name": "stdout",
     "output_type": "stream",
     "text": [
      "Closing times vary throughout the year.\n",
      "\n",
      "--- MarianMT (en→fr→en) Paraphrasing ---\n"
     ]
    },
    {
     "name": "stderr",
     "output_type": "stream",
     "text": [
      "Back-translation:  59%|█████▉    | 591/1000 [55:33<33:30,  4.92s/it]"
     ]
    },
    {
     "name": "stdout",
     "output_type": "stream",
     "text": [
      "The structure is located in the middle of Riverside Drive, 122nd Street, opposite Riverside Church and Riverside Park.\n",
      "\n",
      "--- MarianMT (en→fr→en) Paraphrasing ---\n"
     ]
    },
    {
     "name": "stderr",
     "output_type": "stream",
     "text": [
      "Back-translation:  59%|█████▉    | 592/1000 [55:37<32:09,  4.73s/it]"
     ]
    },
    {
     "name": "stdout",
     "output_type": "stream",
     "text": [
      "During each summer construction season, the workers gathered in Chester and then entered Wales.\n",
      "\n",
      "--- MarianMT (en→fr→en) Paraphrasing ---\n"
     ]
    },
    {
     "name": "stderr",
     "output_type": "stream",
     "text": [
      "Back-translation:  59%|█████▉    | 593/1000 [55:42<32:15,  4.76s/it]"
     ]
    },
    {
     "name": "stdout",
     "output_type": "stream",
     "text": [
      "Phoenix Park is an urban park located in Dublin, Ireland, 2-4 km west of the city centre, north of the Liffey River.\n",
      "\n",
      "--- MarianMT (en→fr→en) Paraphrasing ---\n"
     ]
    },
    {
     "name": "stderr",
     "output_type": "stream",
     "text": [
      "Back-translation:  59%|█████▉    | 594/1000 [55:48<34:49,  5.15s/it]"
     ]
    },
    {
     "name": "stdout",
     "output_type": "stream",
     "text": [
      "While the opponents of Ephialtes were far from trying to help the Spartans, he persuaded the Assembly to reduce the powers of the Areopapus to a criminal court for cases of homicide and sacrilege.\n",
      "\n",
      "--- MarianMT (en→fr→en) Paraphrasing ---\n"
     ]
    },
    {
     "name": "stderr",
     "output_type": "stream",
     "text": [
      "Back-translation:  60%|█████▉    | 595/1000 [55:52<32:49,  4.86s/it]"
     ]
    },
    {
     "name": "stdout",
     "output_type": "stream",
     "text": [
      "On December 22, 2018, Luveni died at the age of 72 years.\n",
      "\n",
      "--- MarianMT (en→fr→en) Paraphrasing ---\n"
     ]
    },
    {
     "name": "stderr",
     "output_type": "stream",
     "text": [
      "Back-translation:  60%|█████▉    | 596/1000 [55:56<31:31,  4.68s/it]"
     ]
    },
    {
     "name": "stdout",
     "output_type": "stream",
     "text": [
      "The newspaper subsequently appeared in the May 1974 edition of the Black Scholar.\n",
      "\n",
      "--- MarianMT (en→fr→en) Paraphrasing ---\n"
     ]
    },
    {
     "name": "stderr",
     "output_type": "stream",
     "text": [
      "Back-translation:  60%|█████▉    | 597/1000 [56:01<30:40,  4.57s/it]"
     ]
    },
    {
     "name": "stdout",
     "output_type": "stream",
     "text": [
      "The jig is very versatile and can be used in both salt and fresh water.\n",
      "\n",
      "--- MarianMT (en→fr→en) Paraphrasing ---\n"
     ]
    },
    {
     "name": "stderr",
     "output_type": "stream",
     "text": [
      "Back-translation:  60%|█████▉    | 598/1000 [56:05<30:10,  4.50s/it]"
     ]
    },
    {
     "name": "stdout",
     "output_type": "stream",
     "text": [
      "The main entrance to the castle passes through the western barbican, an external defense in front of the main gate.\n",
      "\n",
      "--- MarianMT (en→fr→en) Paraphrasing ---\n"
     ]
    },
    {
     "name": "stderr",
     "output_type": "stream",
     "text": [
      "Back-translation:  60%|█████▉    | 599/1000 [56:12<34:23,  5.15s/it]"
     ]
    },
    {
     "name": "stdout",
     "output_type": "stream",
     "text": [
      "A massive landslide 15 km upstream of the capital of Karimabad, Hunza, created the potentially unstable Lake Attabad, which reached 22 km in length and more than 100 m in depth in the first week of June 2010 when it finally began to flow over the landslide dam.\n",
      "\n",
      "--- MarianMT (en→fr→en) Paraphrasing ---\n"
     ]
    },
    {
     "name": "stderr",
     "output_type": "stream",
     "text": [
      "Back-translation:  60%|██████    | 600/1000 [56:16<33:34,  5.04s/it]"
     ]
    },
    {
     "name": "stdout",
     "output_type": "stream",
     "text": [
      "As dinosaur discoveries multiplied, \"Velociraptor\" was later recognized as a dromaeosaurus.\n",
      "\n",
      "--- MarianMT (en→fr→en) Paraphrasing ---\n"
     ]
    },
    {
     "name": "stderr",
     "output_type": "stream",
     "text": [
      "Back-translation:  60%|██████    | 601/1000 [56:21<32:40,  4.91s/it]"
     ]
    },
    {
     "name": "stdout",
     "output_type": "stream",
     "text": [
      "Conwy Castle is a fortification in Conwy, northern Wales.\n",
      "\n",
      "--- MarianMT (en→fr→en) Paraphrasing ---\n"
     ]
    },
    {
     "name": "stderr",
     "output_type": "stream",
     "text": [
      "Back-translation:  60%|██████    | 602/1000 [56:27<35:20,  5.33s/it]"
     ]
    },
    {
     "name": "stdout",
     "output_type": "stream",
     "text": [
      "Jurors spoke informally between themselves during the voting process and the juries could be dated, shouting their disapproval or disbelief of the things said by the litigants.\n",
      "\n",
      "--- MarianMT (en→fr→en) Paraphrasing ---\n"
     ]
    },
    {
     "name": "stderr",
     "output_type": "stream",
     "text": [
      "Back-translation:  60%|██████    | 603/1000 [56:31<31:57,  4.83s/it]"
     ]
    },
    {
     "name": "stdout",
     "output_type": "stream",
     "text": [
      "The amount of these costumes was huge.\n",
      "\n",
      "--- MarianMT (en→fr→en) Paraphrasing ---\n"
     ]
    },
    {
     "name": "stderr",
     "output_type": "stream",
     "text": [
      "Back-translation:  60%|██████    | 604/1000 [56:36<32:32,  4.93s/it]"
     ]
    },
    {
     "name": "stdout",
     "output_type": "stream",
     "text": [
      "The columnist Walter of Guisborough suggested that, given the austere conditions, Edward refused to drink his own wine supply and shared it among the garrisons.\n",
      "\n",
      "--- MarianMT (en→fr→en) Paraphrasing ---\n"
     ]
    },
    {
     "name": "stderr",
     "output_type": "stream",
     "text": [
      "Back-translation:  60%|██████    | 605/1000 [56:42<33:19,  5.06s/it]"
     ]
    },
    {
     "name": "stdout",
     "output_type": "stream",
     "text": [
      "At the end of the 17th century, France and England fought for the control of Saint Kitts and Nevis, fighting wars in 1667, 1689-90 and 1701-13.\n",
      "\n",
      "--- MarianMT (en→fr→en) Paraphrasing ---\n"
     ]
    },
    {
     "name": "stderr",
     "output_type": "stream",
     "text": [
      "Back-translation:  61%|██████    | 606/1000 [56:47<33:30,  5.10s/it]"
     ]
    },
    {
     "name": "stdout",
     "output_type": "stream",
     "text": [
      "The protagonist reluctantly accepted his proposal and met the other members of the club: Natsuki, the shy Yuri, and the president of the Monika bubble club.\n",
      "\n",
      "--- MarianMT (en→fr→en) Paraphrasing ---\n"
     ]
    },
    {
     "name": "stderr",
     "output_type": "stream",
     "text": [
      "Back-translation:  61%|██████    | 607/1000 [56:52<33:16,  5.08s/it]"
     ]
    },
    {
     "name": "stdout",
     "output_type": "stream",
     "text": [
      "In 2009, My Chemical Romance released a new single entitled \"Desolation Row\" (a cover of the song Bob Dylan) on February 1, 2009.\n",
      "\n",
      "--- MarianMT (en→fr→en) Paraphrasing ---\n"
     ]
    },
    {
     "name": "stderr",
     "output_type": "stream",
     "text": [
      "Back-translation:  61%|██████    | 608/1000 [56:57<33:56,  5.20s/it]"
     ]
    },
    {
     "name": "stdout",
     "output_type": "stream",
     "text": [
      "After the outbreak of the English civil war in 1642, the castle was held by forces loyal to Charles I, standing until 1646 when he went to the parliamentary armies.\n",
      "\n",
      "--- MarianMT (en→fr→en) Paraphrasing ---\n"
     ]
    },
    {
     "name": "stderr",
     "output_type": "stream",
     "text": [
      "Back-translation:  61%|██████    | 609/1000 [57:02<33:28,  5.14s/it]"
     ]
    },
    {
     "name": "stdout",
     "output_type": "stream",
     "text": [
      "On the south side of the neighborhood is a series of buildings that include the large hall and chapel, sitting on the cellars, which are now exposed.\n",
      "\n",
      "--- MarianMT (en→fr→en) Paraphrasing ---\n"
     ]
    },
    {
     "name": "stderr",
     "output_type": "stream",
     "text": [
      "Back-translation:  61%|██████    | 610/1000 [57:08<34:19,  5.28s/it]"
     ]
    },
    {
     "name": "stdout",
     "output_type": "stream",
     "text": [
      "In addition to students from the Grand Cincinnati region, St. Xavier welcomes students from abroad through various exchange programs, such as the American Field Service.\n",
      "\n",
      "--- MarianMT (en→fr→en) Paraphrasing ---\n"
     ]
    },
    {
     "name": "stderr",
     "output_type": "stream",
     "text": [
      "Back-translation:  61%|██████    | 611/1000 [57:13<33:16,  5.13s/it]"
     ]
    },
    {
     "name": "stdout",
     "output_type": "stream",
     "text": [
      "The whole was organized by the sweet Ubi Dwyer who was previously involved in the Windsor rock affair and the rest in England.\n",
      "\n",
      "--- MarianMT (en→fr→en) Paraphrasing ---\n"
     ]
    },
    {
     "name": "stderr",
     "output_type": "stream",
     "text": [
      "Back-translation:  61%|██████    | 612/1000 [57:20<38:27,  5.95s/it]"
     ]
    },
    {
     "name": "stdout",
     "output_type": "stream",
     "text": [
      "However, faced with business problems, the studio Laugh-O-Gram went bankrupt in July 1923, and the film was never broadcast to the general public.\n",
      "\n",
      "--- MarianMT (en→fr→en) Paraphrasing ---\n"
     ]
    },
    {
     "name": "stderr",
     "output_type": "stream",
     "text": [
      "Back-translation:  61%|██████▏   | 613/1000 [57:26<38:13,  5.93s/it]"
     ]
    },
    {
     "name": "stdout",
     "output_type": "stream",
     "text": [
      "But perhaps his most important visits to the Shire are those who initiated the great quests told in \"The Hobbit\" (S.R. 1341) and \"The Lord of the Rings\" (S.R. 1418).\n",
      "\n",
      "--- MarianMT (en→fr→en) Paraphrasing ---\n"
     ]
    },
    {
     "name": "stderr",
     "output_type": "stream",
     "text": [
      "Back-translation:  61%|██████▏   | 614/1000 [57:32<38:30,  5.99s/it]"
     ]
    },
    {
     "name": "stdout",
     "output_type": "stream",
     "text": [
      "This steel has been missing for more than 35 years and is still not accounted for by the U.S. Navy, the Environmental Protection Agency and the U.S. Agency for the Registry of Toxic Substances and Diseases (ATSDR).\n",
      "\n",
      "--- MarianMT (en→fr→en) Paraphrasing ---\n"
     ]
    },
    {
     "name": "stderr",
     "output_type": "stream",
     "text": [
      "Back-translation:  62%|██████▏   | 615/1000 [57:38<37:48,  5.89s/it]"
     ]
    },
    {
     "name": "stdout",
     "output_type": "stream",
     "text": [
      "In 1924, the president of the Henry Fairfield Osborn Museum designated the skull and claw (which he supposed to come from the hand) as a typical specimen of his new genus, \"Velociraptor\".\n",
      "\n",
      "--- MarianMT (en→fr→en) Paraphrasing ---\n"
     ]
    },
    {
     "name": "stderr",
     "output_type": "stream",
     "text": [
      "Back-translation:  62%|██████▏   | 616/1000 [57:43<35:03,  5.48s/it]"
     ]
    },
    {
     "name": "stdout",
     "output_type": "stream",
     "text": [
      "Conwy Castle became an attractive destination for painters in the late 18th and early 19th centuries.\n",
      "\n",
      "--- MarianMT (en→fr→en) Paraphrasing ---\n"
     ]
    },
    {
     "name": "stderr",
     "output_type": "stream",
     "text": [
      "Back-translation:  62%|██████▏   | 617/1000 [57:48<35:15,  5.52s/it]"
     ]
    },
    {
     "name": "stdout",
     "output_type": "stream",
     "text": [
      "Columbus created the series \"House of Secrets\" with Ned Vizzini and co-founded a new animation studio called ZAG Animation Studios with Saban Capital Group and ZAG Entertainment.\n",
      "\n",
      "--- MarianMT (en→fr→en) Paraphrasing ---\n"
     ]
    },
    {
     "name": "stderr",
     "output_type": "stream",
     "text": [
      "Back-translation:  62%|██████▏   | 618/1000 [57:53<32:45,  5.14s/it]"
     ]
    },
    {
     "name": "stdout",
     "output_type": "stream",
     "text": [
      "Darius-Milhaud intercommunal high school near Paris bears his name.\n",
      "\n",
      "--- MarianMT (en→fr→en) Paraphrasing ---\n"
     ]
    },
    {
     "name": "stderr",
     "output_type": "stream",
     "text": [
      "Back-translation:  62%|██████▏   | 619/1000 [57:58<34:09,  5.38s/it]"
     ]
    },
    {
     "name": "stdout",
     "output_type": "stream",
     "text": [
      "On 12 August 1399, after his return from Ireland, Richard went to the castle where he met the emissary of Bolingbroke, Henry Percy, for negotiations.\n",
      "\n",
      "--- MarianMT (en→fr→en) Paraphrasing ---\n"
     ]
    },
    {
     "name": "stderr",
     "output_type": "stream",
     "text": [
      "Back-translation:  62%|██████▏   | 620/1000 [58:04<34:27,  5.44s/it]"
     ]
    },
    {
     "name": "stdout",
     "output_type": "stream",
     "text": [
      "A relatively frequent visitor to the Shire was Gandalf, a magician and one of the key protagonists of \"The Hobbit\" and \"The Lord of the Rings\".\n",
      "\n",
      "--- MarianMT (en→fr→en) Paraphrasing ---\n"
     ]
    },
    {
     "name": "stderr",
     "output_type": "stream",
     "text": [
      "Back-translation:  62%|██████▏   | 621/1000 [58:14<43:30,  6.89s/it]"
     ]
    },
    {
     "name": "stdout",
     "output_type": "stream",
     "text": [
      "Walters described the show as \"a talk show featuring four or five women \"of different backgrounds, different generations and different opinions,\" who would discuss the topics of the day, mixing humour and intelligent debate.\"\n",
      "\n",
      "--- MarianMT (en→fr→en) Paraphrasing ---\n"
     ]
    },
    {
     "name": "stderr",
     "output_type": "stream",
     "text": [
      "Back-translation:  62%|██████▏   | 622/1000 [58:18<37:24,  5.94s/it]"
     ]
    },
    {
     "name": "stdout",
     "output_type": "stream",
     "text": [
      "The engraving contained several inflammatory details.\n",
      "\n",
      "--- MarianMT (en→fr→en) Paraphrasing ---\n"
     ]
    },
    {
     "name": "stderr",
     "output_type": "stream",
     "text": [
      "Back-translation:  62%|██████▏   | 623/1000 [58:23<35:43,  5.68s/it]"
     ]
    },
    {
     "name": "stdout",
     "output_type": "stream",
     "text": [
      "The two sets of apartments were then unified into a single set of rooms, including a large bedroom, exterior bedroom and interior bedroom.\n",
      "\n",
      "--- MarianMT (en→fr→en) Paraphrasing ---\n"
     ]
    },
    {
     "name": "stderr",
     "output_type": "stream",
     "text": [
      "Back-translation:  62%|██████▏   | 624/1000 [58:28<34:21,  5.48s/it]"
     ]
    },
    {
     "name": "stdout",
     "output_type": "stream",
     "text": [
      "In early 2005, the band was presented on the first Taste of Chaos tour with The Used and Killswitch Engage.\n",
      "\n",
      "--- MarianMT (en→fr→en) Paraphrasing ---\n"
     ]
    },
    {
     "name": "stderr",
     "output_type": "stream",
     "text": [
      "Back-translation:  62%|██████▎   | 625/1000 [58:33<32:12,  5.15s/it]"
     ]
    },
    {
     "name": "stdout",
     "output_type": "stream",
     "text": [
      "Take a special look at the \"Chapelized\" Gate Pavilion of architectural importance.\n",
      "\n",
      "--- MarianMT (en→fr→en) Paraphrasing ---\n"
     ]
    },
    {
     "name": "stderr",
     "output_type": "stream",
     "text": [
      "Back-translation:  63%|██████▎   | 626/1000 [58:38<32:51,  5.27s/it]"
     ]
    },
    {
     "name": "stdout",
     "output_type": "stream",
     "text": [
      "During the War of the Ring (S.R. 1418-19), the normal Shire government was usurped by Lotho Sackville-Baggins.\n",
      "\n",
      "--- MarianMT (en→fr→en) Paraphrasing ---\n"
     ]
    },
    {
     "name": "stderr",
     "output_type": "stream",
     "text": [
      "Back-translation:  63%|██████▎   | 627/1000 [58:44<33:07,  5.33s/it]"
     ]
    },
    {
     "name": "stdout",
     "output_type": "stream",
     "text": [
      "A young wigmaker apprentice named Edward Garrick called Lieutenant Captain John Goldfinch, saying Goldfinch had not paid a bill due to Garrick's master.\n",
      "\n",
      "--- MarianMT (en→fr→en) Paraphrasing ---\n"
     ]
    },
    {
     "name": "stderr",
     "output_type": "stream",
     "text": [
      "Back-translation:  63%|██████▎   | 628/1000 [58:49<33:54,  5.47s/it]"
     ]
    },
    {
     "name": "stdout",
     "output_type": "stream",
     "text": [
      "Studies show that prenatal exposure to cocaine (independent of other effects such as alcohol, tobacco or the physical environment) does not have a significant effect on the growth and development of the child.\n",
      "\n",
      "--- MarianMT (en→fr→en) Paraphrasing ---\n"
     ]
    },
    {
     "name": "stderr",
     "output_type": "stream",
     "text": [
      "Back-translation:  63%|██████▎   | 629/1000 [58:55<34:08,  5.52s/it]"
     ]
    },
    {
     "name": "stdout",
     "output_type": "stream",
     "text": [
      "In addition, Yorkshire County has historically been divided into *-, meaning \"third\", from \"Old Normandy of Part Three; the word became \"priority\" in the Middle Ages.\n",
      "\n",
      "--- MarianMT (en→fr→en) Paraphrasing ---\n"
     ]
    },
    {
     "name": "stderr",
     "output_type": "stream",
     "text": [
      "Back-translation:  63%|██████▎   | 630/1000 [59:01<35:15,  5.72s/it]"
     ]
    },
    {
     "name": "stdout",
     "output_type": "stream",
     "text": [
      "Buckland had long been established at the time: Gorhendad Oldbuck led Hobbits from East Farthing through the river in T.A. 2340, and Buckland became \"a sort of Shire colony.\"\n",
      "\n",
      "--- MarianMT (en→fr→en) Paraphrasing ---\n"
     ]
    },
    {
     "name": "stderr",
     "output_type": "stream",
     "text": [
      "Back-translation:  63%|██████▎   | 631/1000 [59:06<33:26,  5.44s/it]"
     ]
    },
    {
     "name": "stdout",
     "output_type": "stream",
     "text": [
      "The two sets of apartments were then unified into a single set of rooms, including a large bedroom, exterior bedroom and interior bedroom.\n",
      "\n",
      "--- MarianMT (en→fr→en) Paraphrasing ---\n"
     ]
    },
    {
     "name": "stderr",
     "output_type": "stream",
     "text": [
      "Back-translation:  63%|██████▎   | 632/1000 [59:11<32:27,  5.29s/it]"
     ]
    },
    {
     "name": "stdout",
     "output_type": "stream",
     "text": [
      "Students at St. Xavier can receive a credit for the work done in the school's partners, Canisius-Kolleg Berlin and Xavier University.\n",
      "\n",
      "--- MarianMT (en→fr→en) Paraphrasing ---\n"
     ]
    },
    {
     "name": "stderr",
     "output_type": "stream",
     "text": [
      "Back-translation:  63%|██████▎   | 633/1000 [59:18<34:50,  5.70s/it]"
     ]
    },
    {
     "name": "stdout",
     "output_type": "stream",
     "text": [
      "The teammates who joined Lake as first-rate players who started their career in other clubs were Jonathan Simpkin, Jack Gunston (first at Norm Smith voting with his 4 goals), David Hale, Shaun Burgoyne, Josh Gibson and Brent Guerra.\n",
      "\n",
      "--- MarianMT (en→fr→en) Paraphrasing ---\n"
     ]
    },
    {
     "name": "stderr",
     "output_type": "stream",
     "text": [
      "Back-translation:  63%|██████▎   | 634/1000 [59:22<33:26,  5.48s/it]"
     ]
    },
    {
     "name": "stdout",
     "output_type": "stream",
     "text": [
      "Mirvac rents the property in Hawthorn for a pepper corn rent, until the club takes possession of the property in the next 20 years.\n",
      "\n",
      "--- MarianMT (en→fr→en) Paraphrasing ---\n"
     ]
    },
    {
     "name": "stderr",
     "output_type": "stream",
     "text": [
      "Back-translation:  64%|██████▎   | 635/1000 [59:27<32:04,  5.27s/it]"
     ]
    },
    {
     "name": "stdout",
     "output_type": "stream",
     "text": [
      "Conwy Castle again fell in disrepair at the beginning of the seventeenth century.\n",
      "\n",
      "--- MarianMT (en→fr→en) Paraphrasing ---\n"
     ]
    },
    {
     "name": "stderr",
     "output_type": "stream",
     "text": [
      "Back-translation:  64%|██████▎   | 636/1000 [59:32<31:43,  5.23s/it]"
     ]
    },
    {
     "name": "stdout",
     "output_type": "stream",
     "text": [
      "In March 2005, a rotational light curve of \"Pholus\" was obtained from photometric observations by Tegler using VATT at Mount Graham.\n",
      "\n",
      "--- MarianMT (en→fr→en) Paraphrasing ---\n"
     ]
    },
    {
     "name": "stderr",
     "output_type": "stream",
     "text": [
      "Back-translation:  64%|██████▎   | 637/1000 [59:38<31:28,  5.20s/it]"
     ]
    },
    {
     "name": "stdout",
     "output_type": "stream",
     "text": [
      "While the game appears at first sight to be a light dating simulator, it is in fact a metafictional game of psychological horror that largely breaks the fourth wall.\n",
      "\n",
      "--- MarianMT (en→fr→en) Paraphrasing ---\n"
     ]
    },
    {
     "name": "stderr",
     "output_type": "stream",
     "text": [
      "Back-translation:  64%|██████▍   | 638/1000 [59:42<29:14,  4.85s/it]"
     ]
    },
    {
     "name": "stdout",
     "output_type": "stream",
     "text": [
      "An additional road bridge was built for the castle in 1958.\n",
      "\n",
      "--- MarianMT (en→fr→en) Paraphrasing ---\n"
     ]
    },
    {
     "name": "stderr",
     "output_type": "stream",
     "text": [
      "Back-translation:  64%|██████▍   | 639/1000 [59:46<27:48,  4.62s/it]"
     ]
    },
    {
     "name": "stdout",
     "output_type": "stream",
     "text": [
      "Twenty-two teams accepted invitations to participate in the Tour de France 2010.\n",
      "\n",
      "--- MarianMT (en→fr→en) Paraphrasing ---\n"
     ]
    },
    {
     "name": "stderr",
     "output_type": "stream",
     "text": [
      "Back-translation:  64%|██████▍   | 640/1000 [59:50<27:56,  4.66s/it]"
     ]
    },
    {
     "name": "stdout",
     "output_type": "stream",
     "text": [
      "The forest belongs to the Forestry Commission, which has created numerous hiking and cycling trails, events and playgrounds throughout the forest.\n",
      "\n",
      "--- MarianMT (en→fr→en) Paraphrasing ---\n"
     ]
    },
    {
     "name": "stderr",
     "output_type": "stream",
     "text": [
      "Back-translation:  64%|██████▍   | 641/1000 [59:55<27:28,  4.59s/it]"
     ]
    },
    {
     "name": "stdout",
     "output_type": "stream",
     "text": [
      "Shire's scenes were shot at the same location in Matamata, New Zealand.\n",
      "\n",
      "--- MarianMT (en→fr→en) Paraphrasing ---\n"
     ]
    },
    {
     "name": "stderr",
     "output_type": "stream",
     "text": [
      "Back-translation:  64%|██████▍   | 642/1000 [1:00:01<29:58,  5.02s/it]"
     ]
    },
    {
     "name": "stdout",
     "output_type": "stream",
     "text": [
      "Mayor Samwise Gamgee's eldest daughter, Elanor la Foire, married Fastred de Greenholm, and they moved to the Westmarch, settling down in the underworld.\n",
      "\n",
      "--- MarianMT (en→fr→en) Paraphrasing ---\n"
     ]
    },
    {
     "name": "stderr",
     "output_type": "stream",
     "text": [
      "Back-translation:  64%|██████▍   | 643/1000 [1:00:05<27:35,  4.64s/it]"
     ]
    },
    {
     "name": "stdout",
     "output_type": "stream",
     "text": [
      "It was the scene of the Christmas raid in 1939.\n",
      "\n",
      "--- MarianMT (en→fr→en) Paraphrasing ---\n"
     ]
    },
    {
     "name": "stderr",
     "output_type": "stream",
     "text": [
      "Back-translation:  64%|██████▍   | 644/1000 [1:00:10<28:50,  4.86s/it]"
     ]
    },
    {
     "name": "stdout",
     "output_type": "stream",
     "text": [
      "The large spotted peak, Ireland's newest breeding bird, has been seen several times in the park, and the long-eared owl has recently been confirmed as a breeding species.\n",
      "\n",
      "--- MarianMT (en→fr→en) Paraphrasing ---\n"
     ]
    },
    {
     "name": "stderr",
     "output_type": "stream",
     "text": [
      "Back-translation:  64%|██████▍   | 645/1000 [1:00:15<28:41,  4.85s/it]"
     ]
    },
    {
     "name": "stdout",
     "output_type": "stream",
     "text": [
      "My Chemical Romance offered free downloads via PureVolume and the MySpace social networking site, where they won a first fan base.\n",
      "\n",
      "--- MarianMT (en→fr→en) Paraphrasing ---\n"
     ]
    },
    {
     "name": "stderr",
     "output_type": "stream",
     "text": [
      "Back-translation:  65%|██████▍   | 646/1000 [1:00:22<32:10,  5.45s/it]"
     ]
    },
    {
     "name": "stdout",
     "output_type": "stream",
     "text": [
      "The effects of crack include euphoria, supreme confidence, loss of appetite, insomnia, vigilance, increased energy, craving for more cocaine and potential paranoia (ending after use).\n",
      "\n",
      "--- MarianMT (en→fr→en) Paraphrasing ---\n"
     ]
    },
    {
     "name": "stderr",
     "output_type": "stream",
     "text": [
      "Back-translation:  65%|██████▍   | 647/1000 [1:00:27<31:26,  5.34s/it]"
     ]
    },
    {
     "name": "stdout",
     "output_type": "stream",
     "text": [
      "There is a plaque in honour of Irish sculptor Jérôme Connor on the road to the infirmary, overlooking the gardens he frequently visited.\n",
      "\n",
      "--- MarianMT (en→fr→en) Paraphrasing ---\n"
     ]
    },
    {
     "name": "stderr",
     "output_type": "stream",
     "text": [
      "Back-translation:  65%|██████▍   | 648/1000 [1:00:32<31:27,  5.36s/it]"
     ]
    },
    {
     "name": "stdout",
     "output_type": "stream",
     "text": [
      "In the same way, Hawthorn managed to increase his follow-up in the state, with about 25% of the young Tasmanian fans now baraquering for their \"local\" team.\n",
      "\n",
      "--- MarianMT (en→fr→en) Paraphrasing ---\n"
     ]
    },
    {
     "name": "stderr",
     "output_type": "stream",
     "text": [
      "Back-translation:  65%|██████▍   | 649/1000 [1:00:38<31:46,  5.43s/it]"
     ]
    },
    {
     "name": "stdout",
     "output_type": "stream",
     "text": [
      "Columbus created the series \"House of Secrets\" with Ned Vizzini and co-founded a new animation studio called ZAG Animation Studios with Saban Capital Group and ZAG Entertainment.\n",
      "\n",
      "--- MarianMT (en→fr→en) Paraphrasing ---\n"
     ]
    },
    {
     "name": "stderr",
     "output_type": "stream",
     "text": [
      "Back-translation:  65%|██████▌   | 650/1000 [1:00:42<29:55,  5.13s/it]"
     ]
    },
    {
     "name": "stdout",
     "output_type": "stream",
     "text": [
      "He introduced many drivers, including Eddie Jordan, Eddie Irvine and Tommy Byrne.\n",
      "\n",
      "--- MarianMT (en→fr→en) Paraphrasing ---\n"
     ]
    },
    {
     "name": "stderr",
     "output_type": "stream",
     "text": [
      "Back-translation:  65%|██████▌   | 651/1000 [1:00:48<31:05,  5.35s/it]"
     ]
    },
    {
     "name": "stdout",
     "output_type": "stream",
     "text": [
      "It crosses the United States 93 at Kalispell and crosses the southern end of Glacier National Park, crossing the continental ditch at Marias Pass, before entering the Great Plains west of Browning.\n",
      "\n",
      "--- MarianMT (en→fr→en) Paraphrasing ---\n"
     ]
    },
    {
     "name": "stderr",
     "output_type": "stream",
     "text": [
      "Back-translation:  65%|██████▌   | 652/1000 [1:00:53<31:10,  5.37s/it]"
     ]
    },
    {
     "name": "stdout",
     "output_type": "stream",
     "text": [
      "Although it has been largely absent from macroeconomic research since then, it remains a fundamental conceptual tool for introducing many macroeconomic manuals.\n",
      "\n",
      "--- MarianMT (en→fr→en) Paraphrasing ---\n"
     ]
    },
    {
     "name": "stderr",
     "output_type": "stream",
     "text": [
      "Back-translation:  65%|██████▌   | 653/1000 [1:00:58<29:55,  5.17s/it]"
     ]
    },
    {
     "name": "stdout",
     "output_type": "stream",
     "text": [
      "The Battle of Mabitac was fought in defence of the city of Mabitac and won by the Philippine forces.\n",
      "\n",
      "--- MarianMT (en→fr→en) Paraphrasing ---\n"
     ]
    },
    {
     "name": "stderr",
     "output_type": "stream",
     "text": [
      "Back-translation:  65%|██████▌   | 654/1000 [1:01:03<29:51,  5.18s/it]"
     ]
    },
    {
     "name": "stdout",
     "output_type": "stream",
     "text": [
      "Originally, the inner quarter was separated from the outer quarter by an inner wall, a drawbridge and a door, protected by a ditch cut into the rock.\n",
      "\n",
      "--- MarianMT (en→fr→en) Paraphrasing ---\n"
     ]
    },
    {
     "name": "stderr",
     "output_type": "stream",
     "text": [
      "Back-translation:  66%|██████▌   | 655/1000 [1:01:08<28:33,  4.97s/it]"
     ]
    },
    {
     "name": "stdout",
     "output_type": "stream",
     "text": [
      "A frame that supports the reflector includes a mechanism that can be used to tilt it and also bend it correctly.\n",
      "\n",
      "--- MarianMT (en→fr→en) Paraphrasing ---\n"
     ]
    },
    {
     "name": "stderr",
     "output_type": "stream",
     "text": [
      "Back-translation:  66%|██████▌   | 656/1000 [1:01:13<28:20,  4.94s/it]"
     ]
    },
    {
     "name": "stdout",
     "output_type": "stream",
     "text": [
      "The last name is mainly centered south of the Liffey River around the parish church of St James.\n",
      "\n",
      "--- MarianMT (en→fr→en) Paraphrasing ---\n"
     ]
    },
    {
     "name": "stderr",
     "output_type": "stream",
     "text": [
      "Back-translation:  66%|██████▌   | 657/1000 [1:01:18<28:33,  5.00s/it]"
     ]
    },
    {
     "name": "stdout",
     "output_type": "stream",
     "text": [
      "The national bird is the brown pelican.\n",
      "\n",
      "--- MarianMT (en→fr→en) Paraphrasing ---\n"
     ]
    },
    {
     "name": "stderr",
     "output_type": "stream",
     "text": [
      "Back-translation:  66%|██████▌   | 658/1000 [1:01:23<28:39,  5.03s/it]"
     ]
    },
    {
     "name": "stdout",
     "output_type": "stream",
     "text": [
      "The skin is washed with water and lime, but not together, and it must soak in lime for a few days.\n",
      "\n",
      "--- MarianMT (en→fr→en) Paraphrasing ---\n"
     ]
    },
    {
     "name": "stderr",
     "output_type": "stream",
     "text": [
      "Back-translation:  66%|██████▌   | 659/1000 [1:01:28<29:27,  5.18s/it]"
     ]
    },
    {
     "name": "stdout",
     "output_type": "stream",
     "text": [
      "Edward's plan was a colonial enterprise and placing the new city and walls above a Welsh site of such quality was in part a symbolic act to demonstrate English power.\n",
      "\n",
      "--- MarianMT (en→fr→en) Paraphrasing ---\n"
     ]
    },
    {
     "name": "stderr",
     "output_type": "stream",
     "text": [
      "Back-translation:  66%|██████▌   | 660/1000 [1:01:33<28:51,  5.09s/it]"
     ]
    },
    {
     "name": "stdout",
     "output_type": "stream",
     "text": [
      "If the backup throw successfully completes the half-inning without abandoning the go-ahead race, the starting pitcher cannot receive any loss.\n",
      "\n",
      "--- MarianMT (en→fr→en) Paraphrasing ---\n"
     ]
    },
    {
     "name": "stderr",
     "output_type": "stream",
     "text": [
      "Back-translation:  66%|██████▌   | 661/1000 [1:01:37<26:42,  4.73s/it]"
     ]
    },
    {
     "name": "stdout",
     "output_type": "stream",
     "text": [
      "However, any member could require staff members to do a recount.\n",
      "\n",
      "--- MarianMT (en→fr→en) Paraphrasing ---\n"
     ]
    },
    {
     "name": "stderr",
     "output_type": "stream",
     "text": [
      "Back-translation:  66%|██████▌   | 662/1000 [1:01:42<27:26,  4.87s/it]"
     ]
    },
    {
     "name": "stdout",
     "output_type": "stream",
     "text": [
      "Thus, between 1978 and 1986, the real exchange rate of Indonesian rupee fell by more than 50 per cent, resulting in a significant increase in the competitiveness of Indonesian exports.\n",
      "\n",
      "--- MarianMT (en→fr→en) Paraphrasing ---\n"
     ]
    },
    {
     "name": "stderr",
     "output_type": "stream",
     "text": [
      "Back-translation:  66%|██████▋   | 663/1000 [1:01:47<26:12,  4.67s/it]"
     ]
    },
    {
     "name": "stdout",
     "output_type": "stream",
     "text": [
      "^a This show was presented before the launch of \"PBS Kids Go!\".\n",
      "\n",
      "--- MarianMT (en→fr→en) Paraphrasing ---\n"
     ]
    },
    {
     "name": "stderr",
     "output_type": "stream",
     "text": [
      "Back-translation:  66%|██████▋   | 664/1000 [1:01:51<25:43,  4.59s/it]"
     ]
    },
    {
     "name": "stdout",
     "output_type": "stream",
     "text": [
      "His president was former president Chester A. Arthur; his secretary was Richard Theodore Greener.\n",
      "\n",
      "--- MarianMT (en→fr→en) Paraphrasing ---\n"
     ]
    },
    {
     "name": "stderr",
     "output_type": "stream",
     "text": [
      "Back-translation:  66%|██████▋   | 665/1000 [1:01:56<26:40,  4.78s/it]"
     ]
    },
    {
     "name": "stdout",
     "output_type": "stream",
     "text": [
      "All songs written and arranged by Dorothy Wiggin.\n",
      "\n",
      "--- MarianMT (en→fr→en) Paraphrasing ---\n"
     ]
    },
    {
     "name": "stderr",
     "output_type": "stream",
     "text": [
      "Back-translation:  67%|██████▋   | 666/1000 [1:02:02<28:38,  5.15s/it]"
     ]
    },
    {
     "name": "stdout",
     "output_type": "stream",
     "text": [
      "s of 10, 2017 , 1,178 Students from St. Xavier were eligible to participate in OHSAA-sanctioned competitions, placing the school in the AAA boys' class for the 2017-2018 and 2018-2019 school years.\n",
      "\n",
      "--- MarianMT (en→fr→en) Paraphrasing ---\n"
     ]
    },
    {
     "name": "stderr",
     "output_type": "stream",
     "text": [
      "Back-translation:  67%|██████▋   | 667/1000 [1:02:06<26:10,  4.72s/it]"
     ]
    },
    {
     "name": "stdout",
     "output_type": "stream",
     "text": [
      "Brubeck named his first son Darius.\n",
      "\n",
      "--- MarianMT (en→fr→en) Paraphrasing ---\n"
     ]
    },
    {
     "name": "stderr",
     "output_type": "stream",
     "text": [
      "Back-translation:  67%|██████▋   | 668/1000 [1:02:11<26:35,  4.81s/it]"
     ]
    },
    {
     "name": "stdout",
     "output_type": "stream",
     "text": [
      "The restoration began in 1989 and is located next to the Visitor Centre, which houses interpretive exhibitions on 5,500 years of park and area history.\n",
      "\n",
      "--- MarianMT (en→fr→en) Paraphrasing ---\n"
     ]
    },
    {
     "name": "stderr",
     "output_type": "stream",
     "text": [
      "Back-translation:  67%|██████▋   | 669/1000 [1:02:15<25:03,  4.54s/it]"
     ]
    },
    {
     "name": "stdout",
     "output_type": "stream",
     "text": [
      "For a few moments, we continued to walk in silence.\n",
      "\n",
      "--- MarianMT (en→fr→en) Paraphrasing ---\n"
     ]
    },
    {
     "name": "stderr",
     "output_type": "stream",
     "text": [
      "Back-translation:  67%|██████▋   | 670/1000 [1:02:20<25:34,  4.65s/it]"
     ]
    },
    {
     "name": "stdout",
     "output_type": "stream",
     "text": [
      "After the bye, the club produced one of the most amazing shape reversals seen in years.\n",
      "\n",
      "--- MarianMT (en→fr→en) Paraphrasing ---\n"
     ]
    },
    {
     "name": "stderr",
     "output_type": "stream",
     "text": [
      "Back-translation:  67%|██████▋   | 671/1000 [1:02:25<27:01,  4.93s/it]"
     ]
    },
    {
     "name": "stdout",
     "output_type": "stream",
     "text": [
      "Later, the band presented Linkin Park's \"Projekt Revolution\" tour in 2007, with Placebo, Mindless Self Indulgence, Saosin, Taking Back Sunday and HIM.\n",
      "\n",
      "--- MarianMT (en→fr→en) Paraphrasing ---\n"
     ]
    },
    {
     "name": "stderr",
     "output_type": "stream",
     "text": [
      "Back-translation:  67%|██████▋   | 672/1000 [1:02:30<26:24,  4.83s/it]"
     ]
    },
    {
     "name": "stdout",
     "output_type": "stream",
     "text": [
      "In 1925, Milhaud married his cousin, Madeleine (1902–2008), an actress and recitalr.\n",
      "\n",
      "--- MarianMT (en→fr→en) Paraphrasing ---\n"
     ]
    },
    {
     "name": "stderr",
     "output_type": "stream",
     "text": [
      "Back-translation:  67%|██████▋   | 673/1000 [1:02:36<27:41,  5.08s/it]"
     ]
    },
    {
     "name": "stdout",
     "output_type": "stream",
     "text": [
      "It crosses about 4 mi east of Leavenworth and continues as a double road crossing the Columbia River at Wenatchee, then continues north as far as Orondo, where US 97 separates north.\n",
      "\n",
      "--- MarianMT (en→fr→en) Paraphrasing ---\n"
     ]
    },
    {
     "name": "stderr",
     "output_type": "stream",
     "text": [
      "Back-translation:  67%|██████▋   | 674/1000 [1:02:41<28:30,  5.25s/it]"
     ]
    },
    {
     "name": "stdout",
     "output_type": "stream",
     "text": [
      "In an interview with \"NME\", Gerard Way said that the next album of the band would be a rock album, saying, \"I think that (the next album) will definitely be stripped away.\n",
      "\n",
      "--- MarianMT (en→fr→en) Paraphrasing ---\n"
     ]
    },
    {
     "name": "stderr",
     "output_type": "stream",
     "text": [
      "Back-translation:  68%|██████▊   | 675/1000 [1:02:48<31:14,  5.77s/it]"
     ]
    },
    {
     "name": "stdout",
     "output_type": "stream",
     "text": [
      "The name of the album was announced and 20 people dressed in black capes with their darkened faces marched around the Hammersmith, followed by a large group of fans and members of the street team with signs saying \"The Black Parade\".\n",
      "\n",
      "--- MarianMT (en→fr→en) Paraphrasing ---\n"
     ]
    },
    {
     "name": "stderr",
     "output_type": "stream",
     "text": [
      "Back-translation:  68%|██████▊   | 676/1000 [1:02:53<29:00,  5.37s/it]"
     ]
    },
    {
     "name": "stdout",
     "output_type": "stream",
     "text": [
      "Finally, the original Spanish name was restored and used in the abbreviated form, \"Nevis\".\n",
      "\n",
      "--- MarianMT (en→fr→en) Paraphrasing ---\n"
     ]
    },
    {
     "name": "stderr",
     "output_type": "stream",
     "text": [
      "Back-translation:  68%|██████▊   | 677/1000 [1:02:57<26:56,  5.00s/it]"
     ]
    },
    {
     "name": "stdout",
     "output_type": "stream",
     "text": [
      "The Ormur tribe does not occupy ethnically homogeneous territory.\n",
      "\n",
      "--- MarianMT (en→fr→en) Paraphrasing ---\n"
     ]
    },
    {
     "name": "stderr",
     "output_type": "stream",
     "text": [
      "Back-translation:  68%|██████▊   | 678/1000 [1:03:02<26:24,  4.92s/it]"
     ]
    },
    {
     "name": "stdout",
     "output_type": "stream",
     "text": [
      "The river is of great value to biodiversity and is both a site of special scientific interest (SSSI) and a special conservation area.\n",
      "\n",
      "--- MarianMT (en→fr→en) Paraphrasing ---\n"
     ]
    },
    {
     "name": "stderr",
     "output_type": "stream",
     "text": [
      "Back-translation:  68%|██████▊   | 679/1000 [1:03:07<27:08,  5.07s/it]"
     ]
    },
    {
     "name": "stdout",
     "output_type": "stream",
     "text": [
      "In both episodes, the Green Hornet and Kato are in Gotham City to crush a false stamp ring led by Colonel Gumm (carried by Roger C. Carmel).\n",
      "\n",
      "--- MarianMT (en→fr→en) Paraphrasing ---\n"
     ]
    },
    {
     "name": "stderr",
     "output_type": "stream",
     "text": [
      "Back-translation:  68%|██████▊   | 680/1000 [1:03:12<26:19,  4.94s/it]"
     ]
    },
    {
     "name": "stdout",
     "output_type": "stream",
     "text": [
      "Emigration has always been very high, so high that the total estimated population in 2007 has hardly changed from 1961.\n",
      "\n",
      "--- MarianMT (en→fr→en) Paraphrasing ---\n"
     ]
    },
    {
     "name": "stderr",
     "output_type": "stream",
     "text": [
      "Back-translation:  68%|██████▊   | 681/1000 [1:03:19<29:25,  5.53s/it]"
     ]
    },
    {
     "name": "stdout",
     "output_type": "stream",
     "text": [
      "When the work on \"Alice\" resumed in 1946, Tin Pan Alley composers Mack David, Al Hoffman and Jerry Livingston began to compose songs for him after working on \"Cinderella\".\n",
      "\n",
      "--- MarianMT (en→fr→en) Paraphrasing ---\n"
     ]
    },
    {
     "name": "stderr",
     "output_type": "stream",
     "text": [
      "Back-translation:  68%|██████▊   | 682/1000 [1:03:22<26:42,  5.04s/it]"
     ]
    },
    {
     "name": "stdout",
     "output_type": "stream",
     "text": [
      "He hasn't played in the league since.\n",
      "\n",
      "--- MarianMT (en→fr→en) Paraphrasing ---\n"
     ]
    },
    {
     "name": "stderr",
     "output_type": "stream",
     "text": [
      "Back-translation:  68%|██████▊   | 683/1000 [1:03:28<27:44,  5.25s/it]"
     ]
    },
    {
     "name": "stdout",
     "output_type": "stream",
     "text": [
      "A trailer for a fictional sequel to \"Amitad\" entitled \"Amitad II\" with elements of \"Titanic\" also appears in the cinema scene.\n",
      "\n",
      "--- MarianMT (en→fr→en) Paraphrasing ---\n"
     ]
    },
    {
     "name": "stderr",
     "output_type": "stream",
     "text": [
      "Back-translation:  68%|██████▊   | 684/1000 [1:03:34<28:12,  5.36s/it]"
     ]
    },
    {
     "name": "stdout",
     "output_type": "stream",
     "text": [
      "A smaller and lighter version of the standard puck exists for the junior competition and is about 1 lb 12 oz (0.80–0.85 kg) and of construction similar to the standard puck.\n",
      "\n",
      "--- MarianMT (en→fr→en) Paraphrasing ---\n"
     ]
    },
    {
     "name": "stderr",
     "output_type": "stream",
     "text": [
      "Back-translation:  68%|██████▊   | 685/1000 [1:03:39<27:16,  5.19s/it]"
     ]
    },
    {
     "name": "stdout",
     "output_type": "stream",
     "text": [
      "The year S.R. 1420 was considered by the inhabitants of Shire as the most productive and prosperous year in their history.\n",
      "\n",
      "--- MarianMT (en→fr→en) Paraphrasing ---\n"
     ]
    },
    {
     "name": "stderr",
     "output_type": "stream",
     "text": [
      "Back-translation:  69%|██████▊   | 686/1000 [1:03:43<25:11,  4.81s/it]"
     ]
    },
    {
     "name": "stdout",
     "output_type": "stream",
     "text": [
      "Other events can be found in the chronology of Christian missions.\n",
      "\n",
      "--- MarianMT (en→fr→en) Paraphrasing ---\n"
     ]
    },
    {
     "name": "stderr",
     "output_type": "stream",
     "text": [
      "Back-translation:  69%|██████▊   | 687/1000 [1:03:48<26:33,  5.09s/it]"
     ]
    },
    {
     "name": "stdout",
     "output_type": "stream",
     "text": [
      "Situations in which teachers provide additional private lessons to pupils for whom they are already responsible in the public system may lead to corruption, especially when teachers deliberately teach less in their ordinary classes in order to promote the market for private lessons.\n",
      "\n",
      "--- MarianMT (en→fr→en) Paraphrasing ---\n"
     ]
    },
    {
     "name": "stderr",
     "output_type": "stream",
     "text": [
      "Back-translation:  69%|██████▉   | 688/1000 [1:03:54<27:52,  5.36s/it]"
     ]
    },
    {
     "name": "stdout",
     "output_type": "stream",
     "text": [
      "After a long war, Ishbaal was murdered by Rechab and Baanah, two of his captains who hoped for David's reward; but David killed them for killing God's anointed.\n",
      "\n",
      "--- MarianMT (en→fr→en) Paraphrasing ---\n"
     ]
    },
    {
     "name": "stderr",
     "output_type": "stream",
     "text": [
      "Back-translation:  69%|██████▉   | 689/1000 [1:04:00<28:01,  5.41s/it]"
     ]
    },
    {
     "name": "stdout",
     "output_type": "stream",
     "text": [
      "By the end of the 19th century, there were 42,600 residents, with the number slowly rising to just over 50,000 by the middle of the 20th century.\n",
      "\n",
      "--- MarianMT (en→fr→en) Paraphrasing ---\n"
     ]
    },
    {
     "name": "stderr",
     "output_type": "stream",
     "text": [
      "Back-translation:  69%|██████▉   | 690/1000 [1:04:05<27:47,  5.38s/it]"
     ]
    },
    {
     "name": "stdout",
     "output_type": "stream",
     "text": [
      "On 12 August 1399, after his return from Ireland, Richard went to the castle where he met the emissary of Bolingbroke, Henry Percy, for negotiations.\n",
      "\n",
      "--- MarianMT (en→fr→en) Paraphrasing ---\n"
     ]
    },
    {
     "name": "stderr",
     "output_type": "stream",
     "text": [
      "Back-translation:  69%|██████▉   | 691/1000 [1:04:09<25:29,  4.95s/it]"
     ]
    },
    {
     "name": "stdout",
     "output_type": "stream",
     "text": [
      "They see all the bands they love in one shot.\"\n",
      "\n",
      "--- MarianMT (en→fr→en) Paraphrasing ---\n"
     ]
    },
    {
     "name": "stderr",
     "output_type": "stream",
     "text": [
      "Back-translation:  69%|██████▉   | 692/1000 [1:04:14<25:37,  4.99s/it]"
     ]
    },
    {
     "name": "stdout",
     "output_type": "stream",
     "text": [
      "Charles I sold it to Edward Conway in 1627 for £100, and Edward's son, also known as Edward, inherited the ruin in 1631.\n",
      "\n",
      "--- MarianMT (en→fr→en) Paraphrasing ---\n"
     ]
    },
    {
     "name": "stderr",
     "output_type": "stream",
     "text": [
      "Back-translation:  69%|██████▉   | 693/1000 [1:04:18<24:06,  4.71s/it]"
     ]
    },
    {
     "name": "stdout",
     "output_type": "stream",
     "text": [
      "The third round of reforms was initiated by Ephialtes in 462/1.\n",
      "\n",
      "--- MarianMT (en→fr→en) Paraphrasing ---\n"
     ]
    },
    {
     "name": "stderr",
     "output_type": "stream",
     "text": [
      "Back-translation:  69%|██████▉   | 694/1000 [1:04:23<24:50,  4.87s/it]"
     ]
    },
    {
     "name": "stdout",
     "output_type": "stream",
     "text": [
      "The barbican showed the first surviving stone machicolages in Britain, and the door would have been originally protected by a portcullis.\n",
      "\n",
      "--- MarianMT (en→fr→en) Paraphrasing ---\n"
     ]
    },
    {
     "name": "stderr",
     "output_type": "stream",
     "text": [
      "Back-translation:  70%|██████▉   | 695/1000 [1:04:30<26:57,  5.30s/it]"
     ]
    },
    {
     "name": "stdout",
     "output_type": "stream",
     "text": [
      "A later gate originally descended to the river where a small dock was built, allowing key visitors to enter the castle in private and for the fortress to be restocked by boat, although this door is now hidden by the bridges later built on the site.\n",
      "\n",
      "--- MarianMT (en→fr→en) Paraphrasing ---\n"
     ]
    },
    {
     "name": "stderr",
     "output_type": "stream",
     "text": [
      "Back-translation:  70%|██████▉   | 696/1000 [1:04:35<26:04,  5.15s/it]"
     ]
    },
    {
     "name": "stdout",
     "output_type": "stream",
     "text": [
      "This supplement contained rules for a large number of miniatures depicting shire after the end of the Ring War.\n",
      "\n",
      "--- MarianMT (en→fr→en) Paraphrasing ---\n"
     ]
    },
    {
     "name": "stderr",
     "output_type": "stream",
     "text": [
      "Back-translation:  70%|██████▉   | 697/1000 [1:04:39<25:32,  5.06s/it]"
     ]
    },
    {
     "name": "stdout",
     "output_type": "stream",
     "text": [
      "After a brief period in the Federation of West Indies (1958-1962), the islands became an associated state with full internal autonomy in 1967.\n",
      "\n",
      "--- MarianMT (en→fr→en) Paraphrasing ---\n"
     ]
    },
    {
     "name": "stderr",
     "output_type": "stream",
     "text": [
      "Back-translation:  70%|██████▉   | 698/1000 [1:04:47<28:39,  5.69s/it]"
     ]
    },
    {
     "name": "stdout",
     "output_type": "stream",
     "text": [
      "In 2007, an anonymous British group called The Meritocracy Party published its first manifesto, to which they have now added more than two million words on the subject (discussing Hegel, Rousseau, Charles Fourier, Henri de Saint-Simon, and various other philosophers, scientists, reformers and revolutionaries).\n",
      "\n",
      "--- MarianMT (en→fr→en) Paraphrasing ---\n"
     ]
    },
    {
     "name": "stderr",
     "output_type": "stream",
     "text": [
      "Back-translation:  70%|██████▉   | 699/1000 [1:04:52<27:40,  5.52s/it]"
     ]
    },
    {
     "name": "stdout",
     "output_type": "stream",
     "text": [
      "The crack forms sink into the water or melt at the edges near a flame (the crack vaporizes at 90 °C, 194 °F).\n",
      "\n",
      "--- MarianMT (en→fr→en) Paraphrasing ---\n"
     ]
    },
    {
     "name": "stderr",
     "output_type": "stream",
     "text": [
      "Back-translation:  70%|███████   | 700/1000 [1:04:56<26:25,  5.29s/it]"
     ]
    },
    {
     "name": "stdout",
     "output_type": "stream",
     "text": [
      "There were 244 dwellings with an average density of 718.6 per square mile (277.1 km2).\n",
      "\n",
      "--- MarianMT (en→fr→en) Paraphrasing ---\n"
     ]
    },
    {
     "name": "stderr",
     "output_type": "stream",
     "text": [
      "Back-translation:  70%|███████   | 701/1000 [1:05:01<25:37,  5.14s/it]"
     ]
    },
    {
     "name": "stdout",
     "output_type": "stream",
     "text": [
      "The pre-Columbian name of Nevis was \"Oualie\", meaning \"land of beautiful waters\".\n",
      "\n",
      "--- MarianMT (en→fr→en) Paraphrasing ---\n"
     ]
    },
    {
     "name": "stderr",
     "output_type": "stream",
     "text": [
      "Back-translation:  70%|███████   | 702/1000 [1:05:08<28:14,  5.69s/it]"
     ]
    },
    {
     "name": "stdout",
     "output_type": "stream",
     "text": [
      "Essentially, the fictional works helped to think of what Salem Witch's trials were and what events lead to convictions, trials and confessions, but without taking into account the racial, political, religious and economic influences of the time, Tituba's representations in the media remain, for the most part, fictional.\n",
      "\n",
      "--- MarianMT (en→fr→en) Paraphrasing ---\n"
     ]
    },
    {
     "name": "stderr",
     "output_type": "stream",
     "text": [
      "Back-translation:  70%|███████   | 703/1000 [1:05:13<27:27,  5.55s/it]"
     ]
    },
    {
     "name": "stdout",
     "output_type": "stream",
     "text": [
      "It is possible to use two parabolic hollows, curved in perpendicular directions, to bring sunlight to a focal point as does a parabolic reflector.\n",
      "\n",
      "--- MarianMT (en→fr→en) Paraphrasing ---\n"
     ]
    },
    {
     "name": "stderr",
     "output_type": "stream",
     "text": [
      "Back-translation:  70%|███████   | 704/1000 [1:05:19<27:05,  5.49s/it]"
     ]
    },
    {
     "name": "stdout",
     "output_type": "stream",
     "text": [
      "The Philistines were afflicted with plagues and returned the ark to the Israelites, but to the territory of the tribe of Benjamin rather than to Shiloh.\n",
      "\n",
      "--- MarianMT (en→fr→en) Paraphrasing ---\n"
     ]
    },
    {
     "name": "stderr",
     "output_type": "stream",
     "text": [
      "Back-translation:  70%|███████   | 705/1000 [1:05:26<29:40,  6.03s/it]"
     ]
    },
    {
     "name": "stdout",
     "output_type": "stream",
     "text": [
      "On September 2, 2011, Frank Iero posted a blog on the group's website in which he said: \"The relationship between My Chemical Romance and Michael Pedicone is over\" and explained that Pedicone was fired because he was caught in flagrante delicto and confessed to the police after our show last night in Auburn, Washington State.\n",
      "\n",
      "--- MarianMT (en→fr→en) Paraphrasing ---\n"
     ]
    },
    {
     "name": "stderr",
     "output_type": "stream",
     "text": [
      "Back-translation:  71%|███████   | 706/1000 [1:05:32<29:13,  5.96s/it]"
     ]
    },
    {
     "name": "stdout",
     "output_type": "stream",
     "text": [
      "The local stone was not of sufficient quality to be used for the sculpture of details such as windows, but therefore the sandstone was brought from the Creuddyn Peninsula, Chester and the Wirral.\n",
      "\n",
      "--- MarianMT (en→fr→en) Paraphrasing ---\n"
     ]
    },
    {
     "name": "stderr",
     "output_type": "stream",
     "text": [
      "Back-translation:  71%|███████   | 707/1000 [1:05:38<29:06,  5.96s/it]"
     ]
    },
    {
     "name": "stdout",
     "output_type": "stream",
     "text": [
      "For the Athenians, it seems that what we had to guard against was not incompetence, but any tendency to use the office as a way of accumulating continuous power.\n",
      "\n",
      "--- MarianMT (en→fr→en) Paraphrasing ---\n"
     ]
    },
    {
     "name": "stderr",
     "output_type": "stream",
     "text": [
      "Back-translation:  71%|███████   | 708/1000 [1:05:44<29:28,  6.06s/it]"
     ]
    },
    {
     "name": "stdout",
     "output_type": "stream",
     "text": [
      "A 2012 study by the Asian Development Bank and the University of Hong Kong's Comparative Education Research Centre recommended that policy makers across the region pay closer attention to how \"shadow\" education affects family budgets, child time and national education systems.\n",
      "\n",
      "--- MarianMT (en→fr→en) Paraphrasing ---\n"
     ]
    },
    {
     "name": "stderr",
     "output_type": "stream",
     "text": [
      "Back-translation:  71%|███████   | 709/1000 [1:05:50<29:30,  6.08s/it]"
     ]
    },
    {
     "name": "stdout",
     "output_type": "stream",
     "text": [
      "After the conquest of Dublin and its hinterland by the Normans in the 12th century, Hugh Tyrel, the 1st Baron of Castleknock, granted a large area of land, including what now includes Phoenix Park, to the Hospitaller Knights.\n",
      "\n",
      "--- MarianMT (en→fr→en) Paraphrasing ---\n"
     ]
    },
    {
     "name": "stderr",
     "output_type": "stream",
     "text": [
      "Back-translation:  71%|███████   | 710/1000 [1:05:55<27:15,  5.64s/it]"
     ]
    },
    {
     "name": "stdout",
     "output_type": "stream",
     "text": [
      "The elected representatives were also subject to review prior to the performance of their duties and to review after they took up their duties.\n",
      "\n",
      "--- MarianMT (en→fr→en) Paraphrasing ---\n"
     ]
    },
    {
     "name": "stderr",
     "output_type": "stream",
     "text": [
      "Back-translation:  71%|███████   | 711/1000 [1:06:00<26:34,  5.52s/it]"
     ]
    },
    {
     "name": "stdout",
     "output_type": "stream",
     "text": [
      "On February 4, 1888, after a year of delay, the GMA publicly announced the details of a design competition, in a newsletter entitled \"To artists, architects and sculptors\".\n",
      "\n",
      "--- MarianMT (en→fr→en) Paraphrasing ---\n"
     ]
    },
    {
     "name": "stderr",
     "output_type": "stream",
     "text": [
      "Back-translation:  71%|███████   | 712/1000 [1:06:05<25:23,  5.29s/it]"
     ]
    },
    {
     "name": "stdout",
     "output_type": "stream",
     "text": [
      "However, on the cobblestones of stage 3, Cancellara took over the head of the whole while Chavanel was fighting.\n",
      "\n",
      "--- MarianMT (en→fr→en) Paraphrasing ---\n"
     ]
    },
    {
     "name": "stderr",
     "output_type": "stream",
     "text": [
      "Back-translation:  71%|███████▏  | 713/1000 [1:06:09<24:02,  5.03s/it]"
     ]
    },
    {
     "name": "stdout",
     "output_type": "stream",
     "text": [
      "is an American novel developed by Team Salvato for Microsoft Windows, macOS and Linux.\n",
      "\n",
      "--- MarianMT (en→fr→en) Paraphrasing ---\n"
     ]
    },
    {
     "name": "stderr",
     "output_type": "stream",
     "text": [
      "Back-translation:  71%|███████▏  | 714/1000 [1:06:14<23:14,  4.88s/it]"
     ]
    },
    {
     "name": "stdout",
     "output_type": "stream",
     "text": [
      "There were six mountain stages, three of them with mountain finishes, and two medium mountain stages.\n",
      "\n",
      "--- MarianMT (en→fr→en) Paraphrasing ---\n"
     ]
    },
    {
     "name": "stderr",
     "output_type": "stream",
     "text": [
      "Back-translation:  72%|███████▏  | 715/1000 [1:06:18<22:36,  4.76s/it]"
     ]
    },
    {
     "name": "stdout",
     "output_type": "stream",
     "text": [
      "St. Xavier's major sports program was ranked 13th in the country in 2008 by \"Sports Illustrated\".\n",
      "\n",
      "--- MarianMT (en→fr→en) Paraphrasing ---\n"
     ]
    },
    {
     "name": "stderr",
     "output_type": "stream",
     "text": [
      "Back-translation:  72%|███████▏  | 716/1000 [1:06:23<22:02,  4.66s/it]"
     ]
    },
    {
     "name": "stdout",
     "output_type": "stream",
     "text": [
      "In India, a 2008 survey estimated the size of the private tutoring sector at $6.4 billion.\n",
      "\n",
      "--- MarianMT (en→fr→en) Paraphrasing ---\n"
     ]
    },
    {
     "name": "stderr",
     "output_type": "stream",
     "text": [
      "Back-translation:  72%|███████▏  | 717/1000 [1:06:27<21:27,  4.55s/it]"
     ]
    },
    {
     "name": "stdout",
     "output_type": "stream",
     "text": [
      "These improved communication links with the castle and the increase in the number of tourists.\n",
      "\n",
      "--- MarianMT (en→fr→en) Paraphrasing ---\n"
     ]
    },
    {
     "name": "stderr",
     "output_type": "stream",
     "text": [
      "Back-translation:  72%|███████▏  | 718/1000 [1:06:32<22:25,  4.77s/it]"
     ]
    },
    {
     "name": "stdout",
     "output_type": "stream",
     "text": [
      "The rectangular castle is built from local stone and imported and occupies a coastal ridge, originally overlooking an important crossing point over the Conwy River.\n",
      "\n",
      "--- MarianMT (en→fr→en) Paraphrasing ---\n"
     ]
    },
    {
     "name": "stderr",
     "output_type": "stream",
     "text": [
      "Back-translation:  72%|███████▏  | 719/1000 [1:06:38<22:59,  4.91s/it]"
     ]
    },
    {
     "name": "stdout",
     "output_type": "stream",
     "text": [
      "However, the word \"demarchy\" (-) had already been taken and meant \"mayorality\", position or rank of high municipal magistrate.\n",
      "\n",
      "--- MarianMT (en→fr→en) Paraphrasing ---\n"
     ]
    },
    {
     "name": "stderr",
     "output_type": "stream",
     "text": [
      "Back-translation:  72%|███████▏  | 720/1000 [1:06:45<25:52,  5.54s/it]"
     ]
    },
    {
     "name": "stdout",
     "output_type": "stream",
     "text": [
      "Laguna was one of eight provinces to rebel against the bad Spanish rule led by Generals Paciano Rizal of Calamba, Severino Taiño of Pagsanjan, Agueda Kahabagan of Calauan and Miguel Malvar of Batangas.\n",
      "\n",
      "--- MarianMT (en→fr→en) Paraphrasing ---\n"
     ]
    },
    {
     "name": "stderr",
     "output_type": "stream",
     "text": [
      "Back-translation:  72%|███████▏  | 721/1000 [1:06:51<27:19,  5.88s/it]"
     ]
    },
    {
     "name": "stdout",
     "output_type": "stream",
     "text": [
      "Behind the large hall was the tower used by the constable for the detention of prisoners, including a special room for the detention of prisoners, called the \"chambre des debteurs\" (\"chambre des decades\") in the 16th century, and an underground dungeon.\n",
      "\n",
      "--- MarianMT (en→fr→en) Paraphrasing ---\n"
     ]
    },
    {
     "name": "stderr",
     "output_type": "stream",
     "text": [
      "Back-translation:  72%|███████▏  | 722/1000 [1:06:56<26:22,  5.69s/it]"
     ]
    },
    {
     "name": "stdout",
     "output_type": "stream",
     "text": [
      "Jon Freeman of \"Rolling Stone\" commented on \"the cowardly spirit of a jam band detracting at a summer festival.\"\n",
      "\n",
      "--- MarianMT (en→fr→en) Paraphrasing ---\n"
     ]
    },
    {
     "name": "stderr",
     "output_type": "stream",
     "text": [
      "Back-translation:  72%|███████▏  | 723/1000 [1:07:03<27:15,  5.91s/it]"
     ]
    },
    {
     "name": "stdout",
     "output_type": "stream",
     "text": [
      "In real life, however, \"Velociraptor\" was about the size of a turkey, considerably smaller than reptiles about 2 m tall and 80 kg seen in the films (which were based on members of the related genre \"Deinonychus\").\n",
      "\n",
      "--- MarianMT (en→fr→en) Paraphrasing ---\n"
     ]
    },
    {
     "name": "stderr",
     "output_type": "stream",
     "text": [
      "Back-translation:  72%|███████▏  | 724/1000 [1:07:09<27:16,  5.93s/it]"
     ]
    },
    {
     "name": "stdout",
     "output_type": "stream",
     "text": [
      "The 2015 general election of Saint Kitts and Nevis was won by Timothy Harris and his recently formed People's Labour Party, with support from WFP and the Nevis Citizens' Movement under the banner \"Team Unity\".\n",
      "\n",
      "--- MarianMT (en→fr→en) Paraphrasing ---\n"
     ]
    },
    {
     "name": "stderr",
     "output_type": "stream",
     "text": [
      "Back-translation:  72%|███████▎  | 725/1000 [1:07:14<25:29,  5.56s/it]"
     ]
    },
    {
     "name": "stdout",
     "output_type": "stream",
     "text": [
      "They signed with Reprise Records next year and released their first major label, \"Three Cheers for Sweet Revenge\", in 2004.\n",
      "\n",
      "--- MarianMT (en→fr→en) Paraphrasing ---\n"
     ]
    },
    {
     "name": "stderr",
     "output_type": "stream",
     "text": [
      "Back-translation:  73%|███████▎  | 726/1000 [1:07:18<24:21,  5.33s/it]"
     ]
    },
    {
     "name": "stdout",
     "output_type": "stream",
     "text": [
      "Attention then focused on Nevis, the Nevis Reform Party seeking to safeguard the interests of the small island in any future independent state.\n",
      "\n",
      "--- MarianMT (en→fr→en) Paraphrasing ---\n"
     ]
    },
    {
     "name": "stderr",
     "output_type": "stream",
     "text": [
      "Back-translation:  73%|███████▎  | 727/1000 [1:07:23<22:45,  5.00s/it]"
     ]
    },
    {
     "name": "stdout",
     "output_type": "stream",
     "text": [
      "Hilliard (1983) divided this large and heterogeneous genus into 30 morphological groups.\n",
      "\n",
      "--- MarianMT (en→fr→en) Paraphrasing ---\n"
     ]
    },
    {
     "name": "stderr",
     "output_type": "stream",
     "text": [
      "Back-translation:  73%|███████▎  | 728/1000 [1:07:27<21:39,  4.78s/it]"
     ]
    },
    {
     "name": "stdout",
     "output_type": "stream",
     "text": [
      "Foreign dignitaries and officials also visit the mausoleum during official visits.\n",
      "\n",
      "--- MarianMT (en→fr→en) Paraphrasing ---\n"
     ]
    },
    {
     "name": "stderr",
     "output_type": "stream",
     "text": [
      "Back-translation:  73%|███████▎  | 729/1000 [1:07:33<23:42,  5.25s/it]"
     ]
    },
    {
     "name": "stdout",
     "output_type": "stream",
     "text": [
      "In 1655, the Council of State appointed by Parliament ordered that the castle be flouted, or put beyond military use: the tower of Bakehouse was probably deliberately partially shot down at that time as part of the bandage.\n",
      "\n",
      "--- MarianMT (en→fr→en) Paraphrasing ---\n"
     ]
    },
    {
     "name": "stderr",
     "output_type": "stream",
     "text": [
      "Back-translation:  73%|███████▎  | 730/1000 [1:07:38<22:22,  4.97s/it]"
     ]
    },
    {
     "name": "stdout",
     "output_type": "stream",
     "text": [
      "The castle requires continuous maintenance and repairs that cost £30,000 over the 2002-2003 fiscal year.\n",
      "\n",
      "--- MarianMT (en→fr→en) Paraphrasing ---\n"
     ]
    },
    {
     "name": "stderr",
     "output_type": "stream",
     "text": [
      "Back-translation:  73%|███████▎  | 731/1000 [1:07:42<22:14,  4.96s/it]"
     ]
    },
    {
     "name": "stdout",
     "output_type": "stream",
     "text": [
      "His autobiography was entitled \"Notes sans musique\" (\"Notes sans musique\"), later revised as \"My Happy Life\".\n",
      "\n",
      "--- MarianMT (en→fr→en) Paraphrasing ---\n"
     ]
    },
    {
     "name": "stderr",
     "output_type": "stream",
     "text": [
      "Back-translation:  73%|███████▎  | 732/1000 [1:07:47<22:02,  4.93s/it]"
     ]
    },
    {
     "name": "stdout",
     "output_type": "stream",
     "text": [
      "In 1963 Key was replaced by John Coghlan and the band changed its name to The Spectres.\n",
      "\n",
      "--- MarianMT (en→fr→en) Paraphrasing ---\n"
     ]
    },
    {
     "name": "stderr",
     "output_type": "stream",
     "text": [
      "Back-translation:  73%|███████▎  | 733/1000 [1:07:51<20:32,  4.62s/it]"
     ]
    },
    {
     "name": "stdout",
     "output_type": "stream",
     "text": [
      "The Prime Minister and Cabinet are accountable to Parliament.\n",
      "\n",
      "--- MarianMT (en→fr→en) Paraphrasing ---\n"
     ]
    },
    {
     "name": "stderr",
     "output_type": "stream",
     "text": [
      "Back-translation:  73%|███████▎  | 734/1000 [1:07:57<21:53,  4.94s/it]"
     ]
    },
    {
     "name": "stdout",
     "output_type": "stream",
     "text": [
      "The story is repeated at the beginning of a new game, but Sayori is clearly absent; his name and dialogue are rendered illegible, and the characters do not remember his existence.\n",
      "\n",
      "--- MarianMT (en→fr→en) Paraphrasing ---\n"
     ]
    },
    {
     "name": "stderr",
     "output_type": "stream",
     "text": [
      "Back-translation:  74%|███████▎  | 735/1000 [1:08:01<21:09,  4.79s/it]"
     ]
    },
    {
     "name": "stdout",
     "output_type": "stream",
     "text": [
      ", and performed a song called \"Every Snowflake is Different (Just Like You)\".\n",
      "\n",
      "--- MarianMT (en→fr→en) Paraphrasing ---\n"
     ]
    },
    {
     "name": "stderr",
     "output_type": "stream",
     "text": [
      "Back-translation:  74%|███████▎  | 736/1000 [1:08:07<22:17,  5.07s/it]"
     ]
    },
    {
     "name": "stdout",
     "output_type": "stream",
     "text": [
      "In discussing the horror elements of the game, Salvato explained that it was inspired by \"things that are scary because they make you uncomfortable, not because they put scary things in your face.\"\n",
      "\n",
      "--- MarianMT (en→fr→en) Paraphrasing ---\n"
     ]
    },
    {
     "name": "stderr",
     "output_type": "stream",
     "text": [
      "Back-translation:  74%|███████▎  | 737/1000 [1:08:11<20:41,  4.72s/it]"
     ]
    },
    {
     "name": "stdout",
     "output_type": "stream",
     "text": [
      "Coaching involves a collaborative approach.\n",
      "\n",
      "--- MarianMT (en→fr→en) Paraphrasing ---\n"
     ]
    },
    {
     "name": "stderr",
     "output_type": "stream",
     "text": [
      "Back-translation:  74%|███████▍  | 738/1000 [1:08:16<20:56,  4.80s/it]"
     ]
    },
    {
     "name": "stdout",
     "output_type": "stream",
     "text": [
      "The similarity of architectural details can therefore be the result of the wider role played by Savoyard artisans and engineers in the Conwy project.\n",
      "\n",
      "--- MarianMT (en→fr→en) Paraphrasing ---\n"
     ]
    },
    {
     "name": "stderr",
     "output_type": "stream",
     "text": [
      "Back-translation:  74%|███████▍  | 739/1000 [1:08:21<20:53,  4.80s/it]"
     ]
    },
    {
     "name": "stdout",
     "output_type": "stream",
     "text": [
      "Some solar stoves have been built that use them in the same way.\n",
      "\n",
      "--- MarianMT (en→fr→en) Paraphrasing ---\n"
     ]
    },
    {
     "name": "stderr",
     "output_type": "stream",
     "text": [
      "Back-translation:  74%|███████▍  | 740/1000 [1:08:25<20:20,  4.69s/it]"
     ]
    },
    {
     "name": "stdout",
     "output_type": "stream",
     "text": [
      "Dublin Zoo is one of Dublin's main attractions.\n",
      "\n",
      "--- MarianMT (en→fr→en) Paraphrasing ---\n"
     ]
    },
    {
     "name": "stderr",
     "output_type": "stream",
     "text": [
      "Back-translation:  74%|███████▍  | 741/1000 [1:08:31<22:16,  5.16s/it]"
     ]
    },
    {
     "name": "stdout",
     "output_type": "stream",
     "text": [
      "These problems persisted until Edward, the black prince, took control of the castle in 1343.\n",
      "\n",
      "--- MarianMT (en→fr→en) Paraphrasing ---\n"
     ]
    },
    {
     "name": "stderr",
     "output_type": "stream",
     "text": [
      "Back-translation:  74%|███████▍  | 742/1000 [1:08:36<21:09,  4.92s/it]"
     ]
    },
    {
     "name": "stdout",
     "output_type": "stream",
     "text": [
      "Missionary societies financed their own operations that were not supervised or led by the Office of the Colonies.\n",
      "\n",
      "--- MarianMT (en→fr→en) Paraphrasing ---\n"
     ]
    },
    {
     "name": "stderr",
     "output_type": "stream",
     "text": [
      "Back-translation:  74%|███████▍  | 743/1000 [1:08:43<23:47,  5.55s/it]"
     ]
    },
    {
     "name": "stdout",
     "output_type": "stream",
     "text": [
      "\"Hesitant Alien\" was released on 29 September 2014 in the United Kingdom, and one day later in the United States \"Hesitant Alien\" was a moderate commercial success, leading the table of alternative albums \"Billboard\" of the United States and reaching number 16 on the American \"Billboard\" 200.\n",
      "\n",
      "--- MarianMT (en→fr→en) Paraphrasing ---\n"
     ]
    },
    {
     "name": "stderr",
     "output_type": "stream",
     "text": [
      "Back-translation:  74%|███████▍  | 744/1000 [1:08:50<25:11,  5.90s/it]"
     ]
    },
    {
     "name": "stdout",
     "output_type": "stream",
     "text": [
      "The Chief Secretary of Ireland (the British Minister for Irish Affairs), Lord Frederick Cavendish and the Under-Secretary of Ireland (the senior official), Thomas Henry Burke, were stabbed to death with surgical knives while walking from Dublin Castle.\n",
      "\n",
      "--- MarianMT (en→fr→en) Paraphrasing ---\n"
     ]
    },
    {
     "name": "stderr",
     "output_type": "stream",
     "text": [
      "Back-translation:  74%|███████▍  | 745/1000 [1:08:54<22:53,  5.39s/it]"
     ]
    },
    {
     "name": "stdout",
     "output_type": "stream",
     "text": [
      "The Welsh rebels then attacked and captured the rest of the fortified city.\n",
      "\n",
      "--- MarianMT (en→fr→en) Paraphrasing ---\n"
     ]
    },
    {
     "name": "stderr",
     "output_type": "stream",
     "text": [
      "Back-translation:  75%|███████▍  | 746/1000 [1:08:59<22:09,  5.23s/it]"
     ]
    },
    {
     "name": "stdout",
     "output_type": "stream",
     "text": [
      "On July 31 and August 1, 2009, My Chemical Romance performed two \"secret\" shows at the Roxy Theater in Los Angeles.\n",
      "\n",
      "--- MarianMT (en→fr→en) Paraphrasing ---\n"
     ]
    },
    {
     "name": "stderr",
     "output_type": "stream",
     "text": [
      "Back-translation:  75%|███████▍  | 747/1000 [1:09:03<20:42,  4.91s/it]"
     ]
    },
    {
     "name": "stdout",
     "output_type": "stream",
     "text": [
      "However, after the death of the Black Prince, Conwy again fell into neglect.\n",
      "\n",
      "--- MarianMT (en→fr→en) Paraphrasing ---\n"
     ]
    },
    {
     "name": "stderr",
     "output_type": "stream",
     "text": [
      "Back-translation:  75%|███████▍  | 748/1000 [1:09:08<20:25,  4.86s/it]"
     ]
    },
    {
     "name": "stdout",
     "output_type": "stream",
     "text": [
      "In rare cases, sudden deaths may occur during the first use of cocaine or unexpectedly thereafter.\n",
      "\n",
      "--- MarianMT (en→fr→en) Paraphrasing ---\n"
     ]
    },
    {
     "name": "stderr",
     "output_type": "stream",
     "text": [
      "Back-translation:  75%|███████▍  | 749/1000 [1:09:14<22:01,  5.26s/it]"
     ]
    },
    {
     "name": "stdout",
     "output_type": "stream",
     "text": [
      "Designed by Robert Smirke, there are four bronze plates moulded from cannons captured at the Battle of Waterloo, three of which have pictorial representations of Wellington's quarry while the fourth has an inscription at the base of the obelisk.\n",
      "\n",
      "--- MarianMT (en→fr→en) Paraphrasing ---\n"
     ]
    },
    {
     "name": "stderr",
     "output_type": "stream",
     "text": [
      "Back-translation:  75%|███████▌  | 750/1000 [1:09:19<21:43,  5.21s/it]"
     ]
    },
    {
     "name": "stdout",
     "output_type": "stream",
     "text": [
      "The country is a Commonwealth kingdom, with Elizabeth II as Queen and Head of State.\n",
      "\n",
      "--- MarianMT (en→fr→en) Paraphrasing ---\n"
     ]
    },
    {
     "name": "stderr",
     "output_type": "stream",
     "text": [
      "Back-translation:  75%|███████▌  | 751/1000 [1:09:24<21:23,  5.16s/it]"
     ]
    },
    {
     "name": "stdout",
     "output_type": "stream",
     "text": [
      "Art was produced to commemorate the massacre, changing the skin colour of a black victim to mark the death of Attucks.\n",
      "\n",
      "--- MarianMT (en→fr→en) Paraphrasing ---\n"
     ]
    },
    {
     "name": "stderr",
     "output_type": "stream",
     "text": [
      "Back-translation:  75%|███████▌  | 752/1000 [1:09:29<20:48,  5.03s/it]"
     ]
    },
    {
     "name": "stdout",
     "output_type": "stream",
     "text": [
      "The slave trade in Africa ended in the British Empire in 1807, and slavery was completely banned in 1834.\n",
      "\n",
      "--- MarianMT (en→fr→en) Paraphrasing ---\n"
     ]
    },
    {
     "name": "stderr",
     "output_type": "stream",
     "text": [
      "Back-translation:  75%|███████▌  | 753/1000 [1:09:33<20:04,  4.88s/it]"
     ]
    },
    {
     "name": "stdout",
     "output_type": "stream",
     "text": [
      "He also produced \"Saudades do Brasil\", a series of twelve dances evoking twelve neighborhoods in Rio.\n",
      "\n",
      "--- MarianMT (en→fr→en) Paraphrasing ---\n"
     ]
    },
    {
     "name": "stderr",
     "output_type": "stream",
     "text": [
      "Back-translation:  75%|███████▌  | 754/1000 [1:09:39<21:06,  5.15s/it]"
     ]
    },
    {
     "name": "stdout",
     "output_type": "stream",
     "text": [
      "In another poem by Martial, the poet advertises a new edition of his works, specifically noting that it is printed as a codex, taking less space than a roll and more comfortable to hold in a hand.\n",
      "\n",
      "--- MarianMT (en→fr→en) Paraphrasing ---\n"
     ]
    },
    {
     "name": "stderr",
     "output_type": "stream",
     "text": [
      "Back-translation:  76%|███████▌  | 755/1000 [1:09:44<21:31,  5.27s/it]"
     ]
    },
    {
     "name": "stdout",
     "output_type": "stream",
     "text": [
      "The similarity of architectural details can therefore be the result of the wider role played by Savoyard artisans and engineers in the Conwy project.\n",
      "\n",
      "--- MarianMT (en→fr→en) Paraphrasing ---\n"
     ]
    },
    {
     "name": "stderr",
     "output_type": "stream",
     "text": [
      "Back-translation:  76%|███████▌  | 756/1000 [1:09:50<21:11,  5.21s/it]"
     ]
    },
    {
     "name": "stdout",
     "output_type": "stream",
     "text": [
      "The first recording sessions were undertaken in Pelissier's attic, where the songs \"Our Lady of Sorrows\" and \"Cubicles\" were recorded.\n",
      "\n",
      "--- MarianMT (en→fr→en) Paraphrasing ---\n"
     ]
    },
    {
     "name": "stderr",
     "output_type": "stream",
     "text": [
      "Back-translation:  76%|███████▌  | 757/1000 [1:09:55<21:42,  5.36s/it]"
     ]
    },
    {
     "name": "stdout",
     "output_type": "stream",
     "text": [
      "The video featured the band wearing strangely colorful outfits and fighting against unusual characters in a nearby desert, and featuring a sample of music from the song \"Na Na Na Na Na Na Na Na Na Na Na\".\n",
      "\n",
      "--- MarianMT (en→fr→en) Paraphrasing ---\n"
     ]
    },
    {
     "name": "stderr",
     "output_type": "stream",
     "text": [
      "Back-translation:  76%|███████▌  | 758/1000 [1:10:02<22:50,  5.66s/it]"
     ]
    },
    {
     "name": "stdout",
     "output_type": "stream",
     "text": [
      "Studies show that prenatal exposure to cocaine (independent of other effects such as alcohol, tobacco or the physical environment) does not have a significant effect on the growth and development of the child.\n",
      "\n",
      "--- MarianMT (en→fr→en) Paraphrasing ---\n"
     ]
    },
    {
     "name": "stderr",
     "output_type": "stream",
     "text": [
      "Back-translation:  76%|███████▌  | 759/1000 [1:10:06<21:48,  5.43s/it]"
     ]
    },
    {
     "name": "stdout",
     "output_type": "stream",
     "text": [
      "The largest airport is Robert L. Bradshaw International Airport on the island of Saint Kitts with service outside the Caribbean, North America and Europe.\n",
      "\n",
      "--- MarianMT (en→fr→en) Paraphrasing ---\n"
     ]
    },
    {
     "name": "stderr",
     "output_type": "stream",
     "text": [
      "Back-translation:  76%|███████▌  | 760/1000 [1:10:12<21:55,  5.48s/it]"
     ]
    },
    {
     "name": "stdout",
     "output_type": "stream",
     "text": [
      "The band's fourth album, \"Danger Days: The True Lives of the Fabulous Killjoys\", was described as an alternative rock pop punk, power pop, pop rock and electronic rock.\n",
      "\n",
      "--- MarianMT (en→fr→en) Paraphrasing ---\n"
     ]
    },
    {
     "name": "stderr",
     "output_type": "stream",
     "text": [
      "Back-translation:  76%|███████▌  | 761/1000 [1:10:18<21:55,  5.50s/it]"
     ]
    },
    {
     "name": "stdout",
     "output_type": "stream",
     "text": [
      "On July 20, 2016, the band posted a video on their official Twitter and Facebook pages with the piano intro of \"Welcome to the Black Parade\", ending with an encrypted date, \"9/23/16\".\n",
      "\n",
      "--- MarianMT (en→fr→en) Paraphrasing ---\n"
     ]
    },
    {
     "name": "stderr",
     "output_type": "stream",
     "text": [
      "Back-translation:  76%|███████▌  | 762/1000 [1:10:23<21:04,  5.31s/it]"
     ]
    },
    {
     "name": "stdout",
     "output_type": "stream",
     "text": [
      "The exterior of the towers still has the putlog holes of their original construction, where wood was inserted to create a spiral ramp for the builders.\n",
      "\n",
      "--- MarianMT (en→fr→en) Paraphrasing ---\n"
     ]
    },
    {
     "name": "stderr",
     "output_type": "stream",
     "text": [
      "Back-translation:  76%|███████▋  | 763/1000 [1:10:28<21:17,  5.39s/it]"
     ]
    },
    {
     "name": "stdout",
     "output_type": "stream",
     "text": [
      "The work was completed under the supervision of Edward Conway's overseer, William Milward, despite the opposition of Conwy's main citizens, and transformed the castle into a total ruin.\n",
      "\n",
      "--- MarianMT (en→fr→en) Paraphrasing ---\n"
     ]
    },
    {
     "name": "stderr",
     "output_type": "stream",
     "text": [
      "Back-translation:  76%|███████▋  | 764/1000 [1:10:32<19:57,  5.07s/it]"
     ]
    },
    {
     "name": "stdout",
     "output_type": "stream",
     "text": [
      "His compositions are influenced by jazz and Brazilian music and make extensive use of polytonality.\n",
      "\n",
      "--- MarianMT (en→fr→en) Paraphrasing ---\n"
     ]
    },
    {
     "name": "stderr",
     "output_type": "stream",
     "text": [
      "Back-translation:  76%|███████▋  | 765/1000 [1:10:37<19:31,  4.99s/it]"
     ]
    },
    {
     "name": "stdout",
     "output_type": "stream",
     "text": [
      "The jury agreed with Adams and acquitted six of the soldiers after two and a half hours of deliberations.\n",
      "\n",
      "--- MarianMT (en→fr→en) Paraphrasing ---\n"
     ]
    },
    {
     "name": "stderr",
     "output_type": "stream",
     "text": [
      "Back-translation:  77%|███████▋  | 766/1000 [1:10:43<20:13,  5.19s/it]"
     ]
    },
    {
     "name": "stdout",
     "output_type": "stream",
     "text": [
      "For a few years, the castle formed the main residence to visit older personalities, and welcomed Edward's son, the future Edward II in 1301 when he visited the area to receive tributes from Welsh leaders.\n",
      "\n",
      "--- MarianMT (en→fr→en) Paraphrasing ---\n"
     ]
    },
    {
     "name": "stderr",
     "output_type": "stream",
     "text": [
      "Back-translation:  77%|███████▋  | 767/1000 [1:10:47<18:33,  4.78s/it]"
     ]
    },
    {
     "name": "stdout",
     "output_type": "stream",
     "text": [
      "In 1287, the castle was complete.\n",
      "\n",
      "--- MarianMT (en→fr→en) Paraphrasing ---\n"
     ]
    },
    {
     "name": "stderr",
     "output_type": "stream",
     "text": [
      "Back-translation:  77%|███████▋  | 768/1000 [1:10:50<17:19,  4.48s/it]"
     ]
    },
    {
     "name": "stdout",
     "output_type": "stream",
     "text": [
      "The final individual classification was the classification of the young riders.\n",
      "\n",
      "--- MarianMT (en→fr→en) Paraphrasing ---\n"
     ]
    },
    {
     "name": "stderr",
     "output_type": "stream",
     "text": [
      "Back-translation:  77%|███████▋  | 769/1000 [1:10:55<17:32,  4.56s/it]"
     ]
    },
    {
     "name": "stdout",
     "output_type": "stream",
     "text": [
      "Only a few types of structures are able to survive intact, and only if they are located at least 3 within the country.\n",
      "\n",
      "--- MarianMT (en→fr→en) Paraphrasing ---\n"
     ]
    },
    {
     "name": "stderr",
     "output_type": "stream",
     "text": [
      "Back-translation:  77%|███████▋  | 770/1000 [1:11:01<18:43,  4.89s/it]"
     ]
    },
    {
     "name": "stdout",
     "output_type": "stream",
     "text": [
      "When the building of the Royal Hospital in Kilmainham began in 1680 for the use of veterans of the Irish Royal Army, the park was reduced to its present size, which is now north of the river.\n",
      "\n",
      "--- MarianMT (en→fr→en) Paraphrasing ---\n"
     ]
    },
    {
     "name": "stderr",
     "output_type": "stream",
     "text": [
      "Back-translation:  77%|███████▋  | 771/1000 [1:11:07<19:57,  5.23s/it]"
     ]
    },
    {
     "name": "stdout",
     "output_type": "stream",
     "text": [
      "Salvato acknowledged that a product of this quality would not satisfy potential players, so he made a request to his friend, a translator for Sekai Project, for sketches of school uniforms and hairstyles for the characters.\n",
      "\n",
      "--- MarianMT (en→fr→en) Paraphrasing ---\n"
     ]
    },
    {
     "name": "stderr",
     "output_type": "stream",
     "text": [
      "Back-translation:  77%|███████▋  | 772/1000 [1:11:11<18:06,  4.76s/it]"
     ]
    },
    {
     "name": "stdout",
     "output_type": "stream",
     "text": [
      "That's the goal for the next one.\"\n",
      "\n",
      "--- MarianMT (en→fr→en) Paraphrasing ---\n"
     ]
    },
    {
     "name": "stderr",
     "output_type": "stream",
     "text": [
      "Back-translation:  77%|███████▋  | 773/1000 [1:11:15<17:22,  4.59s/it]"
     ]
    },
    {
     "name": "stdout",
     "output_type": "stream",
     "text": [
      "Nevertheless, the evaluators acknowledged that the plot of the game was fruitful and relevant.\n",
      "\n",
      "--- MarianMT (en→fr→en) Paraphrasing ---\n"
     ]
    },
    {
     "name": "stderr",
     "output_type": "stream",
     "text": [
      "Back-translation:  77%|███████▋  | 774/1000 [1:11:20<18:21,  4.88s/it]"
     ]
    },
    {
     "name": "stdout",
     "output_type": "stream",
     "text": [
      "In 1993, Francis Rossi and Rick Parfitt attracted a crowd of more than 25,000 people when they made the annual blackpool lights turn on.\n",
      "\n",
      "--- MarianMT (en→fr→en) Paraphrasing ---\n"
     ]
    },
    {
     "name": "stderr",
     "output_type": "stream",
     "text": [
      "Back-translation:  78%|███████▊  | 775/1000 [1:11:24<17:16,  4.61s/it]"
     ]
    },
    {
     "name": "stdout",
     "output_type": "stream",
     "text": [
      "I can't wait for people to hear it.\n",
      "\n",
      "--- MarianMT (en→fr→en) Paraphrasing ---\n"
     ]
    },
    {
     "name": "stderr",
     "output_type": "stream",
     "text": [
      "Back-translation:  78%|███████▊  | 776/1000 [1:11:29<17:00,  4.56s/it]"
     ]
    },
    {
     "name": "stdout",
     "output_type": "stream",
     "text": [
      "The single scored its fifth number one on the Radio Songs card and its eighth on the Mainstream Top 40.\n",
      "\n",
      "--- MarianMT (en→fr→en) Paraphrasing ---\n"
     ]
    },
    {
     "name": "stderr",
     "output_type": "stream",
     "text": [
      "Back-translation:  78%|███████▊  | 777/1000 [1:11:34<18:13,  4.90s/it]"
     ]
    },
    {
     "name": "stdout",
     "output_type": "stream",
     "text": [
      "Once built, the barbican was reached over a drawbridge and a masonry ramp that came up abruptly from the city below; the modern trail cuts east along the exterior of the walls.\n",
      "\n",
      "--- MarianMT (en→fr→en) Paraphrasing ---\n"
     ]
    },
    {
     "name": "stderr",
     "output_type": "stream",
     "text": [
      "Back-translation:  78%|███████▊  | 778/1000 [1:11:40<18:23,  4.97s/it]"
     ]
    },
    {
     "name": "stdout",
     "output_type": "stream",
     "text": [
      "The following year, the same plays were performed at the Aspen Music Festival in Colorado, by the Paganini and Juilliard string quartets.\n",
      "\n",
      "--- MarianMT (en→fr→en) Paraphrasing ---\n"
     ]
    },
    {
     "name": "stderr",
     "output_type": "stream",
     "text": [
      "Back-translation:  78%|███████▊  | 779/1000 [1:11:44<17:53,  4.86s/it]"
     ]
    },
    {
     "name": "stdout",
     "output_type": "stream",
     "text": [
      "The day after the siege, Colonel John Carter was appointed governor of the castle and further repairs were made.\n",
      "\n",
      "--- MarianMT (en→fr→en) Paraphrasing ---\n"
     ]
    },
    {
     "name": "stderr",
     "output_type": "stream",
     "text": [
      "Back-translation:  78%|███████▊  | 780/1000 [1:11:50<18:52,  5.15s/it]"
     ]
    },
    {
     "name": "stdout",
     "output_type": "stream",
     "text": [
      "With the restoration of Charles II in 1660, Conway returned to Edward Conway, the Count of Conway, but five years later Edward decided to remove the remaining iron and direct it from the castle and sell it.\n",
      "\n",
      "--- MarianMT (en→fr→en) Paraphrasing ---\n"
     ]
    },
    {
     "name": "stderr",
     "output_type": "stream",
     "text": [
      "Back-translation:  78%|███████▊  | 781/1000 [1:11:56<19:30,  5.34s/it]"
     ]
    },
    {
     "name": "stdout",
     "output_type": "stream",
     "text": [
      "At the end of 1991, Hawthorn chose a young Shane Crawford with choice 13 in the National Draft, which eventually became the only surviving link between this era of success and his next triumph 17 seasons later.\n",
      "\n",
      "--- MarianMT (en→fr→en) Paraphrasing ---\n"
     ]
    },
    {
     "name": "stderr",
     "output_type": "stream",
     "text": [
      "Back-translation:  78%|███████▊  | 782/1000 [1:12:03<21:05,  5.81s/it]"
     ]
    },
    {
     "name": "stdout",
     "output_type": "stream",
     "text": [
      "Despite the failure, the music collectors quickly seized the remaining copies and word-of-mouth began, with those who liked to make almost universal praises, but with many others complaining in the negligent, almost non-sensical way, the arrangements were made as well as the singing.\n",
      "\n",
      "--- MarianMT (en→fr→en) Paraphrasing ---\n"
     ]
    },
    {
     "name": "stderr",
     "output_type": "stream",
     "text": [
      "Back-translation:  78%|███████▊  | 783/1000 [1:12:07<19:12,  5.31s/it]"
     ]
    },
    {
     "name": "stdout",
     "output_type": "stream",
     "text": [
      "We can still see the stone stubs and arches of the 1340s.\n",
      "\n",
      "--- MarianMT (en→fr→en) Paraphrasing ---\n"
     ]
    },
    {
     "name": "stderr",
     "output_type": "stream",
     "text": [
      "Back-translation:  78%|███████▊  | 784/1000 [1:12:12<19:26,  5.40s/it]"
     ]
    },
    {
     "name": "stdout",
     "output_type": "stream",
     "text": [
      "Gerard Vroomen, owner of Cervélo's team, said: \"Contador just won a big chance, but he lost the chance to win a lot.\"\n",
      "\n",
      "--- MarianMT (en→fr→en) Paraphrasing ---\n"
     ]
    },
    {
     "name": "stderr",
     "output_type": "stream",
     "text": [
      "Back-translation:  78%|███████▊  | 785/1000 [1:12:18<19:08,  5.34s/it]"
     ]
    },
    {
     "name": "stdout",
     "output_type": "stream",
     "text": [
      "Kennedy Simmonds then won elections in 1984, 1989 and 1993, before being demobilized when the SKNLP returned to power in 1995 under the leadership of Denzil Douglas.\n",
      "\n",
      "--- MarianMT (en→fr→en) Paraphrasing ---\n"
     ]
    },
    {
     "name": "stderr",
     "output_type": "stream",
     "text": [
      "Back-translation:  79%|███████▊  | 786/1000 [1:12:22<17:58,  5.04s/it]"
     ]
    },
    {
     "name": "stdout",
     "output_type": "stream",
     "text": [
      ", is mainly played by piano and flute with accompaniment by string instruments.\n",
      "\n",
      "--- MarianMT (en→fr→en) Paraphrasing ---\n"
     ]
    },
    {
     "name": "stderr",
     "output_type": "stream",
     "text": [
      "Back-translation:  79%|███████▊  | 787/1000 [1:12:28<18:45,  5.28s/it]"
     ]
    },
    {
     "name": "stdout",
     "output_type": "stream",
     "text": [
      "At a CARICOM meeting, the representative of Saint Kitts and Nevis, Kennedy Simmons, signed the 1994 Double Taxation Relief Treaty (CARICOM) on 6 July 1994.\n",
      "\n",
      "--- MarianMT (en→fr→en) Paraphrasing ---\n"
     ]
    },
    {
     "name": "stderr",
     "output_type": "stream",
     "text": [
      "Back-translation:  79%|███████▉  | 788/1000 [1:12:33<18:32,  5.25s/it]"
     ]
    },
    {
     "name": "stdout",
     "output_type": "stream",
     "text": [
      "Charles I sold it to Edward Conway in 1627 for £100, and Edward's son, also known as Edward, inherited the ruin in 1631.\n",
      "\n",
      "--- MarianMT (en→fr→en) Paraphrasing ---\n"
     ]
    },
    {
     "name": "stderr",
     "output_type": "stream",
     "text": [
      "Back-translation:  79%|███████▉  | 789/1000 [1:12:37<17:03,  4.85s/it]"
     ]
    },
    {
     "name": "stdout",
     "output_type": "stream",
     "text": [
      "They were also part of the Warped Tour the same year.\n",
      "\n",
      "--- MarianMT (en→fr→en) Paraphrasing ---\n"
     ]
    },
    {
     "name": "stderr",
     "output_type": "stream",
     "text": [
      "Back-translation:  79%|███████▉  | 790/1000 [1:12:43<17:46,  5.08s/it]"
     ]
    },
    {
     "name": "stdout",
     "output_type": "stream",
     "text": [
      "The Christian mission strategist Luis Bush stressed the need for a major emphasis on evangelization in the \"window 10/40\", a phrase he invented in his presentation at the 1989 Lausanne missionary conference in Manila.\n",
      "\n",
      "--- MarianMT (en→fr→en) Paraphrasing ---\n"
     ]
    },
    {
     "name": "stderr",
     "output_type": "stream",
     "text": [
      "Back-translation:  79%|███████▉  | 791/1000 [1:12:47<17:34,  5.05s/it]"
     ]
    },
    {
     "name": "stdout",
     "output_type": "stream",
     "text": [
      "The rectangular castle is built from local stone and imported and occupies a coastal ridge, originally overlooking an important crossing point over the Conwy River.\n",
      "\n",
      "--- MarianMT (en→fr→en) Paraphrasing ---\n"
     ]
    },
    {
     "name": "stderr",
     "output_type": "stream",
     "text": [
      "Back-translation:  79%|███████▉  | 792/1000 [1:12:52<16:32,  4.77s/it]"
     ]
    },
    {
     "name": "stdout",
     "output_type": "stream",
     "text": [
      "Mill's proposal to vote in the plural has two reasons.\n",
      "\n",
      "--- MarianMT (en→fr→en) Paraphrasing ---\n"
     ]
    },
    {
     "name": "stderr",
     "output_type": "stream",
     "text": [
      "Back-translation:  79%|███████▉  | 793/1000 [1:12:57<17:32,  5.09s/it]"
     ]
    },
    {
     "name": "stdout",
     "output_type": "stream",
     "text": [
      "The general style of My Chemical Romance has been classified as alternative rock, pop punk, post-hardcore, punk rock, emo pop, hard rock, gothic rock, and, more controversially, emo.\n",
      "\n",
      "--- MarianMT (en→fr→en) Paraphrasing ---\n"
     ]
    },
    {
     "name": "stderr",
     "output_type": "stream",
     "text": [
      "Back-translation:  79%|███████▉  | 794/1000 [1:13:02<16:55,  4.93s/it]"
     ]
    },
    {
     "name": "stdout",
     "output_type": "stream",
     "text": [
      "Roller hockey pucks are similar to ice hockey pucks, but made of plastic and therefore lighter.\n",
      "\n",
      "--- MarianMT (en→fr→en) Paraphrasing ---\n"
     ]
    },
    {
     "name": "stderr",
     "output_type": "stream",
     "text": [
      "Back-translation:  80%|███████▉  | 795/1000 [1:13:07<16:45,  4.90s/it]"
     ]
    },
    {
     "name": "stdout",
     "output_type": "stream",
     "text": [
      "On the south side of the neighborhood is a series of buildings that include the large hall and chapel, sitting on the cellars, which are now exposed.\n",
      "\n",
      "--- MarianMT (en→fr→en) Paraphrasing ---\n"
     ]
    },
    {
     "name": "stderr",
     "output_type": "stream",
     "text": [
      "Back-translation:  80%|███████▉  | 796/1000 [1:13:12<16:50,  4.95s/it]"
     ]
    },
    {
     "name": "stdout",
     "output_type": "stream",
     "text": [
      "The narration is provided by the protagonist of the game, a member of the club of literature, to which he was invited by his childhood friend Sayori.\n",
      "\n",
      "--- MarianMT (en→fr→en) Paraphrasing ---\n"
     ]
    },
    {
     "name": "stderr",
     "output_type": "stream",
     "text": [
      "Back-translation:  80%|███████▉  | 797/1000 [1:13:16<16:09,  4.77s/it]"
     ]
    },
    {
     "name": "stdout",
     "output_type": "stream",
     "text": [
      "The Europeans have therefore decided to get rid of this problem once and for all.\n",
      "\n",
      "--- MarianMT (en→fr→en) Paraphrasing ---\n"
     ]
    },
    {
     "name": "stderr",
     "output_type": "stream",
     "text": [
      "Back-translation:  80%|███████▉  | 798/1000 [1:13:21<15:35,  4.63s/it]"
     ]
    },
    {
     "name": "stdout",
     "output_type": "stream",
     "text": [
      "In particular, this was introduced more than fifty years before the payment of attendance at meetings of the Assembly.\n",
      "\n",
      "--- MarianMT (en→fr→en) Paraphrasing ---\n"
     ]
    },
    {
     "name": "stderr",
     "output_type": "stream",
     "text": [
      "Back-translation:  80%|███████▉  | 799/1000 [1:13:25<15:27,  4.61s/it]"
     ]
    },
    {
     "name": "stdout",
     "output_type": "stream",
     "text": [
      "It is located in the northwest of the continent, in the great region of Eriador and the Kingdom of Arnor.\n",
      "\n",
      "--- MarianMT (en→fr→en) Paraphrasing ---\n"
     ]
    },
    {
     "name": "stderr",
     "output_type": "stream",
     "text": [
      "Back-translation:  80%|████████  | 800/1000 [1:13:30<15:52,  4.76s/it]"
     ]
    },
    {
     "name": "stdout",
     "output_type": "stream",
     "text": [
      "Contador, who now had an eight-second lead in the race, met a mixed reception as he received the yellow jersey on the podium at the end of the stage.\n",
      "\n",
      "--- MarianMT (en→fr→en) Paraphrasing ---\n"
     ]
    },
    {
     "name": "stderr",
     "output_type": "stream",
     "text": [
      "Back-translation:  80%|████████  | 801/1000 [1:13:36<16:39,  5.02s/it]"
     ]
    },
    {
     "name": "stdout",
     "output_type": "stream",
     "text": [
      "The slave trade in Africa ended in the British Empire in 1807, and slavery was completely banned in 1834.\n",
      "\n",
      "--- MarianMT (en→fr→en) Paraphrasing ---\n"
     ]
    },
    {
     "name": "stderr",
     "output_type": "stream",
     "text": [
      "Back-translation:  80%|████████  | 802/1000 [1:13:41<16:53,  5.12s/it]"
     ]
    },
    {
     "name": "stdout",
     "output_type": "stream",
     "text": [
      "Carr's testimony is one of the first recorded uses of the exception of declaration of death to the inadmissibility of hearsay in the U.S. legal code.\n",
      "\n",
      "--- MarianMT (en→fr→en) Paraphrasing ---\n"
     ]
    },
    {
     "name": "stderr",
     "output_type": "stream",
     "text": [
      "Back-translation:  80%|████████  | 803/1000 [1:13:46<16:09,  4.92s/it]"
     ]
    },
    {
     "name": "stdout",
     "output_type": "stream",
     "text": [
      "On July 31, 2015, Hawthorn extended its partnership with Tasmania for a further five years.\n",
      "\n",
      "--- MarianMT (en→fr→en) Paraphrasing ---\n"
     ]
    },
    {
     "name": "stderr",
     "output_type": "stream",
     "text": [
      "Back-translation:  80%|████████  | 804/1000 [1:13:51<16:25,  5.03s/it]"
     ]
    },
    {
     "name": "stdout",
     "output_type": "stream",
     "text": [
      "On his return to France, Milhaud composed works influenced by the popular Brazilian music he had heard, including compositions by Brazilian pianist and composer Ernesto Nazareth.\n",
      "\n",
      "--- MarianMT (en→fr→en) Paraphrasing ---\n"
     ]
    },
    {
     "name": "stderr",
     "output_type": "stream",
     "text": [
      "Back-translation:  80%|████████  | 805/1000 [1:13:56<16:43,  5.15s/it]"
     ]
    },
    {
     "name": "stdout",
     "output_type": "stream",
     "text": [
      "The members of each of the ten tribes of La Boule took turns acting as a standing committee (the \"Prytanese\") of La Boule for a period of 36 days.\n",
      "\n",
      "--- MarianMT (en→fr→en) Paraphrasing ---\n"
     ]
    },
    {
     "name": "stderr",
     "output_type": "stream",
     "text": [
      "Back-translation:  81%|████████  | 806/1000 [1:14:02<17:33,  5.43s/it]"
     ]
    },
    {
     "name": "stdout",
     "output_type": "stream",
     "text": [
      "The current rupiah consists of coins of 100 rupees up to 1000 rupees (1 rupees are official currency, but are actually worthless and are not distributed) and notes of 1000 rupees up to 100,000 rupees.\n",
      "\n",
      "--- MarianMT (en→fr→en) Paraphrasing ---\n"
     ]
    },
    {
     "name": "stderr",
     "output_type": "stream",
     "text": [
      "Back-translation:  81%|████████  | 807/1000 [1:14:07<16:12,  5.04s/it]"
     ]
    },
    {
     "name": "stdout",
     "output_type": "stream",
     "text": [
      "Percy swore in the chapel that he wouldn't hurt the king.\n",
      "\n",
      "--- MarianMT (en→fr→en) Paraphrasing ---\n"
     ]
    },
    {
     "name": "stderr",
     "output_type": "stream",
     "text": [
      "Back-translation:  81%|████████  | 808/1000 [1:14:11<15:56,  4.98s/it]"
     ]
    },
    {
     "name": "stdout",
     "output_type": "stream",
     "text": [
      "Laguna is described as the \"Detroit of the Philippines\" due to the presence of major vehicle manufacturers in the city of Santa Rosa.\n",
      "\n",
      "--- MarianMT (en→fr→en) Paraphrasing ---\n"
     ]
    },
    {
     "name": "stderr",
     "output_type": "stream",
     "text": [
      "Back-translation:  81%|████████  | 809/1000 [1:14:16<15:22,  4.83s/it]"
     ]
    },
    {
     "name": "stdout",
     "output_type": "stream",
     "text": [
      "Of the 200 to 225 participants per year, 65 to 70 per cent are men.\n",
      "\n",
      "--- MarianMT (en→fr→en) Paraphrasing ---\n"
     ]
    },
    {
     "name": "stderr",
     "output_type": "stream",
     "text": [
      "Back-translation:  81%|████████  | 810/1000 [1:14:21<15:11,  4.80s/it]"
     ]
    },
    {
     "name": "stdout",
     "output_type": "stream",
     "text": [
      "Way also said that his band drew their careers after that of The Smashing Pumpkins, another band they admire.\n",
      "\n",
      "--- MarianMT (en→fr→en) Paraphrasing ---\n"
     ]
    },
    {
     "name": "stderr",
     "output_type": "stream",
     "text": [
      "Back-translation:  81%|████████  | 811/1000 [1:14:25<15:02,  4.77s/it]"
     ]
    },
    {
     "name": "stdout",
     "output_type": "stream",
     "text": [
      "Private online tutor twinning platform and e-learning platform offering e-learning materials are other creations.\n",
      "\n",
      "--- MarianMT (en→fr→en) Paraphrasing ---\n"
     ]
    },
    {
     "name": "stderr",
     "output_type": "stream",
     "text": [
      "Back-translation:  81%|████████  | 812/1000 [1:14:30<15:18,  4.89s/it]"
     ]
    },
    {
     "name": "stdout",
     "output_type": "stream",
     "text": [
      "The narration is provided by the protagonist of the game, a member of the club of literature, to which he was invited by his childhood friend Sayori.\n",
      "\n",
      "--- MarianMT (en→fr→en) Paraphrasing ---\n"
     ]
    },
    {
     "name": "stderr",
     "output_type": "stream",
     "text": [
      "Back-translation:  81%|████████▏ | 813/1000 [1:14:35<15:11,  4.88s/it]"
     ]
    },
    {
     "name": "stdout",
     "output_type": "stream",
     "text": [
      "During the second part of the 19th century, thousands of black immigrants came to Vieques to work on sugar cane plantations.\n",
      "\n",
      "--- MarianMT (en→fr→en) Paraphrasing ---\n"
     ]
    },
    {
     "name": "stderr",
     "output_type": "stream",
     "text": [
      "Back-translation:  81%|████████▏ | 814/1000 [1:14:41<16:10,  5.22s/it]"
     ]
    },
    {
     "name": "stdout",
     "output_type": "stream",
     "text": [
      "On April 28, 2011, American broadcaster Glenn Beck called the song My Chemical Romance \"Sing\" \"propagande\" after being presented and recaptured in the American drama series \"Glee\" in February 2011.\n",
      "\n",
      "--- MarianMT (en→fr→en) Paraphrasing ---\n"
     ]
    },
    {
     "name": "stderr",
     "output_type": "stream",
     "text": [
      "Back-translation:  82%|████████▏ | 815/1000 [1:14:46<15:23,  4.99s/it]"
     ]
    },
    {
     "name": "stdout",
     "output_type": "stream",
     "text": [
      "Kennedy Simmonds of WFP, Prime Minister since 1980, has become the Prime Minister of the country.\n",
      "\n",
      "--- MarianMT (en→fr→en) Paraphrasing ---\n"
     ]
    },
    {
     "name": "stderr",
     "output_type": "stream",
     "text": [
      "Back-translation:  82%|████████▏ | 816/1000 [1:14:50<14:34,  4.75s/it]"
     ]
    },
    {
     "name": "stdout",
     "output_type": "stream",
     "text": [
      "Kim Collins is the country's largest track and field athlete.\n",
      "\n",
      "--- MarianMT (en→fr→en) Paraphrasing ---\n"
     ]
    },
    {
     "name": "stderr",
     "output_type": "stream",
     "text": [
      "Back-translation:  82%|████████▏ | 817/1000 [1:14:56<15:48,  5.19s/it]"
     ]
    },
    {
     "name": "stdout",
     "output_type": "stream",
     "text": [
      "The ICU issued a statement that the concentration was 50 pictograms per millilitre, and that it was 1/40 of the minimum detection capacity standards required by WADA, and that further scientific research would be required.\n",
      "\n",
      "--- MarianMT (en→fr→en) Paraphrasing ---\n"
     ]
    },
    {
     "name": "stderr",
     "output_type": "stream",
     "text": [
      "Back-translation:  82%|████████▏ | 818/1000 [1:15:01<15:39,  5.16s/it]"
     ]
    },
    {
     "name": "stdout",
     "output_type": "stream",
     "text": [
      "The typical story begins with the hug of a villain (such as stealing a fabulous treasure, removing an eminent person, or trying to take control of Gotham City).\n",
      "\n",
      "--- MarianMT (en→fr→en) Paraphrasing ---\n"
     ]
    },
    {
     "name": "stderr",
     "output_type": "stream",
     "text": [
      "Back-translation:  82%|████████▏ | 819/1000 [1:15:07<15:35,  5.17s/it]"
     ]
    },
    {
     "name": "stdout",
     "output_type": "stream",
     "text": [
      "Edward's plan was a colonial enterprise and placing the new city and walls above a Welsh site of such quality was in part a symbolic act to demonstrate English power.\n",
      "\n",
      "--- MarianMT (en→fr→en) Paraphrasing ---\n"
     ]
    },
    {
     "name": "stderr",
     "output_type": "stream",
     "text": [
      "Back-translation:  82%|████████▏ | 820/1000 [1:15:10<14:23,  4.80s/it]"
     ]
    },
    {
     "name": "stdout",
     "output_type": "stream",
     "text": [
      "Charles H. Keating Sr.\n",
      "\n",
      "--- MarianMT (en→fr→en) Paraphrasing ---\n"
     ]
    },
    {
     "name": "stderr",
     "output_type": "stream",
     "text": [
      "Back-translation:  82%|████████▏ | 821/1000 [1:15:14<13:37,  4.57s/it]"
     ]
    },
    {
     "name": "stdout",
     "output_type": "stream",
     "text": [
      "The drive is returned to the main menu, with all previous record files deleted.\n",
      "\n",
      "--- MarianMT (en→fr→en) Paraphrasing ---\n"
     ]
    },
    {
     "name": "stderr",
     "output_type": "stream",
     "text": [
      "Back-translation:  82%|████████▏ | 822/1000 [1:15:21<15:17,  5.16s/it]"
     ]
    },
    {
     "name": "stdout",
     "output_type": "stream",
     "text": [
      "Other characters in the film include the Queen of the Hearts, the Cheshire Cat, the White Rabbit, the Doorknob, the Caterpillar (V Cast only) and the Deck of Cards.\n",
      "\n",
      "--- MarianMT (en→fr→en) Paraphrasing ---\n"
     ]
    },
    {
     "name": "stderr",
     "output_type": "stream",
     "text": [
      "Back-translation:  82%|████████▏ | 823/1000 [1:15:26<14:45,  5.00s/it]"
     ]
    },
    {
     "name": "stdout",
     "output_type": "stream",
     "text": [
      "No judge presided over the courts and no one gave legal direction to the jurors.\n",
      "\n",
      "--- MarianMT (en→fr→en) Paraphrasing ---\n"
     ]
    },
    {
     "name": "stderr",
     "output_type": "stream",
     "text": [
      "Back-translation:  82%|████████▏ | 824/1000 [1:15:30<14:24,  4.91s/it]"
     ]
    },
    {
     "name": "stdout",
     "output_type": "stream",
     "text": [
      "A jig consists of a lead drain with a molded hook in it and usually covered by a soft body to attract fish.\n",
      "\n",
      "--- MarianMT (en→fr→en) Paraphrasing ---\n"
     ]
    },
    {
     "name": "stderr",
     "output_type": "stream",
     "text": [
      "Back-translation:  82%|████████▎ | 825/1000 [1:15:34<13:30,  4.63s/it]"
     ]
    },
    {
     "name": "stdout",
     "output_type": "stream",
     "text": [
      "The six-issue miniseries began to be published in June 2014.\n",
      "\n",
      "--- MarianMT (en→fr→en) Paraphrasing ---\n"
     ]
    },
    {
     "name": "stderr",
     "output_type": "stream",
     "text": [
      "Back-translation:  83%|████████▎ | 826/1000 [1:15:39<13:52,  4.79s/it]"
     ]
    },
    {
     "name": "stdout",
     "output_type": "stream",
     "text": [
      "The House of Representatives of Massachusetts began a campaign against the laws by sending a petition to King George III requesting the repeal of the Townshend Revenue Act.\n",
      "\n",
      "--- MarianMT (en→fr→en) Paraphrasing ---\n"
     ]
    },
    {
     "name": "stderr",
     "output_type": "stream",
     "text": [
      "Back-translation:  83%|████████▎ | 827/1000 [1:15:44<13:11,  4.58s/it]"
     ]
    },
    {
     "name": "stdout",
     "output_type": "stream",
     "text": [
      "The term \"bird\" can then be replaced by something that cannot fly.\n",
      "\n",
      "--- MarianMT (en→fr→en) Paraphrasing ---\n"
     ]
    },
    {
     "name": "stderr",
     "output_type": "stream",
     "text": [
      "Back-translation:  83%|████████▎ | 828/1000 [1:15:49<14:05,  4.92s/it]"
     ]
    },
    {
     "name": "stdout",
     "output_type": "stream",
     "text": [
      "O'Donnell also said that the media would portray her as \"big, fat, lesbian, strong Rosie attacking innocent, pure, Christian Elisabeth\" and that Republican experts mischaracterized her statements.\n",
      "\n",
      "--- MarianMT (en→fr→en) Paraphrasing ---\n"
     ]
    },
    {
     "name": "stderr",
     "output_type": "stream",
     "text": [
      "Back-translation:  83%|████████▎ | 829/1000 [1:15:55<15:00,  5.27s/it]"
     ]
    },
    {
     "name": "stdout",
     "output_type": "stream",
     "text": [
      "Initially denying his involvement in witchcraft, Tituba then confessed to making a \"switchcake\", because he was beaten by Samuel Parris with the intention of obtaining a confession.\n",
      "\n",
      "--- MarianMT (en→fr→en) Paraphrasing ---\n"
     ]
    },
    {
     "name": "stderr",
     "output_type": "stream",
     "text": [
      "Back-translation:  83%|████████▎ | 830/1000 [1:16:00<14:21,  5.07s/it]"
     ]
    },
    {
     "name": "stdout",
     "output_type": "stream",
     "text": [
      "Community service in St. Xavier is voluntary, as opposed to mandatory hours of service in other Catholic schools.\n",
      "\n",
      "--- MarianMT (en→fr→en) Paraphrasing ---\n"
     ]
    },
    {
     "name": "stderr",
     "output_type": "stream",
     "text": [
      "Back-translation:  83%|████████▎ | 831/1000 [1:16:05<13:50,  4.92s/it]"
     ]
    },
    {
     "name": "stdout",
     "output_type": "stream",
     "text": [
      "Teachers who spend more time on private courses than ordinary courses can cause greater inefficiency in the regular school system.\n",
      "\n",
      "--- MarianMT (en→fr→en) Paraphrasing ---\n"
     ]
    },
    {
     "name": "stderr",
     "output_type": "stream",
     "text": [
      "Back-translation:  83%|████████▎ | 832/1000 [1:16:10<13:50,  4.94s/it]"
     ]
    },
    {
     "name": "stdout",
     "output_type": "stream",
     "text": [
      "Whether democratic failures are seen as systemic or as the product of the extreme conditions of the Peloponnese war, there seems to have been a movement towards correction.\n",
      "\n",
      "--- MarianMT (en→fr→en) Paraphrasing ---\n"
     ]
    },
    {
     "name": "stderr",
     "output_type": "stream",
     "text": [
      "Back-translation:  83%|████████▎ | 833/1000 [1:16:15<13:55,  5.00s/it]"
     ]
    },
    {
     "name": "stdout",
     "output_type": "stream",
     "text": [
      "John Williams, the archbishop of York, took over the castle in the king's name, and began to repair it and garrison it at his own expense.\n",
      "\n",
      "--- MarianMT (en→fr→en) Paraphrasing ---\n"
     ]
    },
    {
     "name": "stderr",
     "output_type": "stream",
     "text": [
      "Back-translation:  83%|████████▎ | 834/1000 [1:16:19<13:37,  4.92s/it]"
     ]
    },
    {
     "name": "stdout",
     "output_type": "stream",
     "text": [
      "For example, a starting pitcher, Matt Cain, was awarded the win in the 2012 All-Star game despite only two rounds.\n",
      "\n",
      "--- MarianMT (en→fr→en) Paraphrasing ---\n"
     ]
    },
    {
     "name": "stderr",
     "output_type": "stream",
     "text": [
      "Back-translation:  84%|████████▎ | 835/1000 [1:16:24<13:16,  4.83s/it]"
     ]
    },
    {
     "name": "stdout",
     "output_type": "stream",
     "text": [
      "These predatory adaptations may also affect the origin of throbbing among paravens.\n",
      "\n",
      "--- MarianMT (en→fr→en) Paraphrasing ---\n"
     ]
    },
    {
     "name": "stderr",
     "output_type": "stream",
     "text": [
      "Back-translation:  84%|████████▎ | 836/1000 [1:16:29<13:06,  4.80s/it]"
     ]
    },
    {
     "name": "stdout",
     "output_type": "stream",
     "text": [
      "The game was first distributed via itch.io, then became available on Steam.\n",
      "\n",
      "--- MarianMT (en→fr→en) Paraphrasing ---\n"
     ]
    },
    {
     "name": "stderr",
     "output_type": "stream",
     "text": [
      "Back-translation:  84%|████████▎ | 837/1000 [1:16:33<12:42,  4.68s/it]"
     ]
    },
    {
     "name": "stdout",
     "output_type": "stream",
     "text": [
      "In the 21st century, the ruined castle was managed by Cadw as a tourist attraction.\n",
      "\n",
      "--- MarianMT (en→fr→en) Paraphrasing ---\n"
     ]
    },
    {
     "name": "stderr",
     "output_type": "stream",
     "text": [
      "Back-translation:  84%|████████▍ | 838/1000 [1:16:38<12:31,  4.64s/it]"
     ]
    },
    {
     "name": "stdout",
     "output_type": "stream",
     "text": [
      "A statue is found in the gardens dedicated to Seán Heuston, leader of the Easter event.\n",
      "\n",
      "--- MarianMT (en→fr→en) Paraphrasing ---\n"
     ]
    },
    {
     "name": "stderr",
     "output_type": "stream",
     "text": [
      "Back-translation:  84%|████████▍ | 839/1000 [1:16:42<11:54,  4.44s/it]"
     ]
    },
    {
     "name": "stdout",
     "output_type": "stream",
     "text": [
      "30% of the park is covered with trees, mainly deciduous.\n",
      "\n",
      "--- MarianMT (en→fr→en) Paraphrasing ---\n"
     ]
    },
    {
     "name": "stderr",
     "output_type": "stream",
     "text": [
      "Back-translation:  84%|████████▍ | 840/1000 [1:16:47<12:14,  4.59s/it]"
     ]
    },
    {
     "name": "stdout",
     "output_type": "stream",
     "text": [
      "Each tower has an additional watch tower, probably intended both for security and to allow the prominent display of the royal flag.\n",
      "\n",
      "--- MarianMT (en→fr→en) Paraphrasing ---\n"
     ]
    },
    {
     "name": "stderr",
     "output_type": "stream",
     "text": [
      "Back-translation:  84%|████████▍ | 841/1000 [1:16:52<13:04,  4.94s/it]"
     ]
    },
    {
     "name": "stdout",
     "output_type": "stream",
     "text": [
      "Prezygapophyses began on the tenth vertebrae of the tail (caudal) and extended forward to tender four to ten additional vertebrae, depending on the position in the tail.\n",
      "\n",
      "--- MarianMT (en→fr→en) Paraphrasing ---\n"
     ]
    },
    {
     "name": "stderr",
     "output_type": "stream",
     "text": [
      "Back-translation:  84%|████████▍ | 842/1000 [1:16:57<13:05,  4.97s/it]"
     ]
    },
    {
     "name": "stdout",
     "output_type": "stream",
     "text": [
      "The Fred Middendorf, S.J., Nature Trail runs about a third of a kilometre (0.54 km) behind the track and field.\n",
      "\n",
      "--- MarianMT (en→fr→en) Paraphrasing ---\n"
     ]
    },
    {
     "name": "stderr",
     "output_type": "stream",
     "text": [
      "Back-translation:  84%|████████▍ | 843/1000 [1:17:03<13:31,  5.17s/it]"
     ]
    },
    {
     "name": "stdout",
     "output_type": "stream",
     "text": [
      "Sometimes imperialist democracy acted with extreme brutality, as in the decision to execute the entire male population of Melos and sell its wives and children simply for refusing to become subjects of Athens.\n",
      "\n",
      "--- MarianMT (en→fr→en) Paraphrasing ---\n"
     ]
    },
    {
     "name": "stderr",
     "output_type": "stream",
     "text": [
      "Back-translation:  84%|████████▍ | 844/1000 [1:17:08<12:56,  4.98s/it]"
     ]
    },
    {
     "name": "stdout",
     "output_type": "stream",
     "text": [
      "The Saint-Xavier area of worship was replaced by Xavier Hall, a multi-purpose facility, in 1986.\n",
      "\n",
      "--- MarianMT (en→fr→en) Paraphrasing ---\n"
     ]
    },
    {
     "name": "stderr",
     "output_type": "stream",
     "text": [
      "Back-translation:  84%|████████▍ | 845/1000 [1:17:13<13:03,  5.05s/it]"
     ]
    },
    {
     "name": "stdout",
     "output_type": "stream",
     "text": [
      "This time, St. Xavier Branch High School or St. Xavier on the Hill served first and second grade high school students.\n",
      "\n",
      "--- MarianMT (en→fr→en) Paraphrasing ---\n"
     ]
    },
    {
     "name": "stderr",
     "output_type": "stream",
     "text": [
      "Back-translation:  85%|████████▍ | 846/1000 [1:17:18<13:16,  5.17s/it]"
     ]
    },
    {
     "name": "stdout",
     "output_type": "stream",
     "text": [
      "A guardian, also referred to as an academic guardian, is a person who provides assistance or guardianship to one or more persons in certain fields or skills.\n",
      "\n",
      "--- MarianMT (en→fr→en) Paraphrasing ---\n"
     ]
    },
    {
     "name": "stderr",
     "output_type": "stream",
     "text": [
      "Back-translation:  85%|████████▍ | 847/1000 [1:17:23<12:57,  5.08s/it]"
     ]
    },
    {
     "name": "stdout",
     "output_type": "stream",
     "text": [
      "If the player pre-emptively deletes the Monika file from the directory before starting the game, Sayori is made the club's default leader.\n",
      "\n",
      "--- MarianMT (en→fr→en) Paraphrasing ---\n"
     ]
    },
    {
     "name": "stderr",
     "output_type": "stream",
     "text": [
      "Back-translation:  85%|████████▍ | 848/1000 [1:17:28<12:54,  5.10s/it]"
     ]
    },
    {
     "name": "stdout",
     "output_type": "stream",
     "text": [
      "Eli, the priest of Silo (where the Ark of the Covenant is located), blessed her, and a child named Samuel was born.\n",
      "\n",
      "--- MarianMT (en→fr→en) Paraphrasing ---\n"
     ]
    },
    {
     "name": "stderr",
     "output_type": "stream",
     "text": [
      "Back-translation:  85%|████████▍ | 849/1000 [1:17:34<13:08,  5.22s/it]"
     ]
    },
    {
     "name": "stdout",
     "output_type": "stream",
     "text": [
      "In March 1401 Rhys ap Tudur and his brother Gwilym, cousins of Owain Glynder, undertook a surprise attack on Conwy Castle.\n",
      "\n",
      "--- MarianMT (en→fr→en) Paraphrasing ---\n"
     ]
    },
    {
     "name": "stderr",
     "output_type": "stream",
     "text": [
      "Back-translation:  85%|████████▌ | 850/1000 [1:17:40<13:28,  5.39s/it]"
     ]
    },
    {
     "name": "stdout",
     "output_type": "stream",
     "text": [
      "Inside, the area contained the royal house rooms, their immediate staff and service facilities; today, historian Jeremy Ashbee considers them the \"best preserved suite of medieval private royal rooms in England and Wales.\"\n",
      "\n",
      "--- MarianMT (en→fr→en) Paraphrasing ---\n"
     ]
    },
    {
     "name": "stderr",
     "output_type": "stream",
     "text": [
      "Back-translation:  85%|████████▌ | 851/1000 [1:17:45<13:04,  5.27s/it]"
     ]
    },
    {
     "name": "stdout",
     "output_type": "stream",
     "text": [
      "He also performed with them at the end of October in Voodoo Experience and their Australian + New Zealand shows at Big Day Out in early 2012.\n",
      "\n",
      "--- MarianMT (en→fr→en) Paraphrasing ---\n"
     ]
    },
    {
     "name": "stderr",
     "output_type": "stream",
     "text": [
      "Back-translation:  85%|████████▌ | 852/1000 [1:17:50<13:14,  5.37s/it]"
     ]
    },
    {
     "name": "stdout",
     "output_type": "stream",
     "text": [
      "Henry Bolingbroke took the English throne to rule as Henry IV in 1400, but the rebellion broke out in northern Wales shortly afterwards under the leadership of Owain Glynd.\n",
      "\n",
      "--- MarianMT (en→fr→en) Paraphrasing ---\n"
     ]
    },
    {
     "name": "stderr",
     "output_type": "stream",
     "text": [
      "Back-translation:  85%|████████▌ | 853/1000 [1:17:57<14:15,  5.82s/it]"
     ]
    },
    {
     "name": "stdout",
     "output_type": "stream",
     "text": [
      "If the rim radius of the spherical reflector is small in relation to the radius of curvature of its surface (the radius of the sphere of which the reflector is part), the reflector is close to a paraboloidal whose focal is equal to half the radius of curvature.\n",
      "\n",
      "--- MarianMT (en→fr→en) Paraphrasing ---\n"
     ]
    },
    {
     "name": "stderr",
     "output_type": "stream",
     "text": [
      "Back-translation:  85%|████████▌ | 854/1000 [1:18:01<13:11,  5.42s/it]"
     ]
    },
    {
     "name": "stdout",
     "output_type": "stream",
     "text": [
      "The last name is mainly centered south of the Liffey River around the parish church of St James.\n",
      "\n",
      "--- MarianMT (en→fr→en) Paraphrasing ---\n"
     ]
    },
    {
     "name": "stderr",
     "output_type": "stream",
     "text": [
      "Back-translation:  86%|████████▌ | 855/1000 [1:18:06<12:31,  5.19s/it]"
     ]
    },
    {
     "name": "stdout",
     "output_type": "stream",
     "text": [
      "The northwest tower was reached by the doorman's pavilion and contained a limited number of accommodation and store space.\n",
      "\n",
      "--- MarianMT (en→fr→en) Paraphrasing ---\n"
     ]
    },
    {
     "name": "stderr",
     "output_type": "stream",
     "text": [
      "Back-translation:  86%|████████▌ | 856/1000 [1:18:11<11:56,  4.98s/it]"
     ]
    },
    {
     "name": "stdout",
     "output_type": "stream",
     "text": [
      "Average monthly temperatures of Basseterre vary little between 23.9 °C and 26.6 °C.\n",
      "\n",
      "--- MarianMT (en→fr→en) Paraphrasing ---\n"
     ]
    },
    {
     "name": "stderr",
     "output_type": "stream",
     "text": [
      "Back-translation:  86%|████████▌ | 857/1000 [1:18:16<12:01,  5.05s/it]"
     ]
    },
    {
     "name": "stdout",
     "output_type": "stream",
     "text": [
      "If this image is left on the screen for ten minutes, a line of text will appear next to the reading of Sayori's corpse: \"Now everyone can be happy.\"\n",
      "\n",
      "--- MarianMT (en→fr→en) Paraphrasing ---\n"
     ]
    },
    {
     "name": "stderr",
     "output_type": "stream",
     "text": [
      "Back-translation:  86%|████████▌ | 858/1000 [1:18:21<12:13,  5.16s/it]"
     ]
    },
    {
     "name": "stdout",
     "output_type": "stream",
     "text": [
      "This system has created enormous wealth for planters-colonists, while radically changing the demographics of the islands, because black slaves have rapidly exceeded in some way the number of Europeans.\n",
      "\n",
      "--- MarianMT (en→fr→en) Paraphrasing ---\n"
     ]
    },
    {
     "name": "stderr",
     "output_type": "stream",
     "text": [
      "Back-translation:  86%|████████▌ | 859/1000 [1:18:27<12:39,  5.39s/it]"
     ]
    },
    {
     "name": "stdout",
     "output_type": "stream",
     "text": [
      "With the management taken over by the Wood and Forest Commissioners, the famous English landscape architect, Decimus Burton, was selected to design a comprehensive plan for the park's public areas.\n",
      "\n",
      "--- MarianMT (en→fr→en) Paraphrasing ---\n"
     ]
    },
    {
     "name": "stderr",
     "output_type": "stream",
     "text": [
      "Back-translation:  86%|████████▌ | 860/1000 [1:18:31<11:41,  5.01s/it]"
     ]
    },
    {
     "name": "stdout",
     "output_type": "stream",
     "text": [
      "Judaism always preserves the roll of the Torah, at least for ceremonial use.\n",
      "\n",
      "--- MarianMT (en→fr→en) Paraphrasing ---\n"
     ]
    },
    {
     "name": "stderr",
     "output_type": "stream",
     "text": [
      "Back-translation:  86%|████████▌ | 861/1000 [1:18:36<11:23,  4.92s/it]"
     ]
    },
    {
     "name": "stdout",
     "output_type": "stream",
     "text": [
      "Unless all these requirements are met, the absolute destruction of a structure is certain.\n",
      "\n",
      "--- MarianMT (en→fr→en) Paraphrasing ---\n"
     ]
    },
    {
     "name": "stderr",
     "output_type": "stream",
     "text": [
      "Back-translation:  86%|████████▌ | 862/1000 [1:18:42<11:49,  5.14s/it]"
     ]
    },
    {
     "name": "stdout",
     "output_type": "stream",
     "text": [
      "To the east and north-east are Antigua and Barbuda, and to the south-east is the small uninhabited island of Redonda (part of Antigua and Barbuda) and Montserrat.\n",
      "\n",
      "--- MarianMT (en→fr→en) Paraphrasing ---\n"
     ]
    },
    {
     "name": "stderr",
     "output_type": "stream",
     "text": [
      "Back-translation:  86%|████████▋ | 863/1000 [1:18:46<11:11,  4.90s/it]"
     ]
    },
    {
     "name": "stdout",
     "output_type": "stream",
     "text": [
      "Simmonds will play 192 games and win the Club's Best and Fairest Award in 1955.\n",
      "\n",
      "--- MarianMT (en→fr→en) Paraphrasing ---\n"
     ]
    },
    {
     "name": "stderr",
     "output_type": "stream",
     "text": [
      "Back-translation:  86%|████████▋ | 864/1000 [1:18:50<10:49,  4.78s/it]"
     ]
    },
    {
     "name": "stdout",
     "output_type": "stream",
     "text": [
      "Average monthly temperatures of Basseterre vary little between 23.9 °C and 26.6 °C.\n",
      "\n",
      "--- MarianMT (en→fr→en) Paraphrasing ---\n"
     ]
    },
    {
     "name": "stderr",
     "output_type": "stream",
     "text": [
      "Back-translation:  86%|████████▋ | 865/1000 [1:18:56<11:02,  4.91s/it]"
     ]
    },
    {
     "name": "stdout",
     "output_type": "stream",
     "text": [
      "However, the accent of a spherical reflector will not be a focal point because it suffers from a phenomenon known as spherical aberration.\n",
      "\n",
      "--- MarianMT (en→fr→en) Paraphrasing ---\n"
     ]
    },
    {
     "name": "stderr",
     "output_type": "stream",
     "text": [
      "Back-translation:  87%|████████▋ | 866/1000 [1:19:02<11:40,  5.23s/it]"
     ]
    },
    {
     "name": "stdout",
     "output_type": "stream",
     "text": [
      "Had an accident occurred in the last 3 kilometres of a stage, not counting the time tests and the results at the top, the riders concerned would have received the same time as the group in which they were in when the accident occurred.\n",
      "\n",
      "--- MarianMT (en→fr→en) Paraphrasing ---\n"
     ]
    },
    {
     "name": "stderr",
     "output_type": "stream",
     "text": [
      "Back-translation:  87%|████████▋ | 867/1000 [1:19:06<11:12,  5.06s/it]"
     ]
    },
    {
     "name": "stdout",
     "output_type": "stream",
     "text": [
      "Never feel overwhelmed by a melody.\"\n",
      "\n",
      "--- MarianMT (en→fr→en) Paraphrasing ---\n"
     ]
    },
    {
     "name": "stderr",
     "output_type": "stream",
     "text": [
      "Back-translation:  87%|████████▋ | 868/1000 [1:19:12<11:25,  5.19s/it]"
     ]
    },
    {
     "name": "stdout",
     "output_type": "stream",
     "text": [
      "St Xavier, formerly part of Xavier University, traces its history to Athénée, on Seventh and Sycomore streets, in the city centre of Cincinnati.\n",
      "\n",
      "--- MarianMT (en→fr→en) Paraphrasing ---\n"
     ]
    },
    {
     "name": "stderr",
     "output_type": "stream",
     "text": [
      "Back-translation:  87%|████████▋ | 869/1000 [1:19:17<11:07,  5.09s/it]"
     ]
    },
    {
     "name": "stdout",
     "output_type": "stream",
     "text": [
      "It is highly doubtful that the lake, which reached 27 km long in 2011, will flow.\n",
      "\n",
      "--- MarianMT (en→fr→en) Paraphrasing ---\n"
     ]
    },
    {
     "name": "stderr",
     "output_type": "stream",
     "text": [
      "Back-translation:  87%|████████▋ | 870/1000 [1:19:21<10:47,  4.98s/it]"
     ]
    },
    {
     "name": "stdout",
     "output_type": "stream",
     "text": [
      "In 2006, Clarkson showed innovation by restructuring the fronts into a system known as the \"Bouddy Box\".\n",
      "\n",
      "--- MarianMT (en→fr→en) Paraphrasing ---\n"
     ]
    },
    {
     "name": "stderr",
     "output_type": "stream",
     "text": [
      "Back-translation:  87%|████████▋ | 871/1000 [1:19:27<11:19,  5.27s/it]"
     ]
    },
    {
     "name": "stdout",
     "output_type": "stream",
     "text": [
      "s of 10, 2017 , 1,178 Students from St. Xavier were eligible to participate in OHSAA-sanctioned competitions, placing the school in the AAA boys' class for the 2017-2018 and 2018-2019 school years.\n",
      "\n",
      "--- MarianMT (en→fr→en) Paraphrasing ---\n"
     ]
    },
    {
     "name": "stderr",
     "output_type": "stream",
     "text": [
      "Back-translation:  87%|████████▋ | 872/1000 [1:19:33<11:35,  5.43s/it]"
     ]
    },
    {
     "name": "stdout",
     "output_type": "stream",
     "text": [
      "The work was controlled by Sir John Bonvillars and supervised by master mason James of St. George, and the first phase of work between 1283 and 1284 focused on the creation of exterior curtain walls and towers.\n",
      "\n",
      "--- MarianMT (en→fr→en) Paraphrasing ---\n"
     ]
    },
    {
     "name": "stderr",
     "output_type": "stream",
     "text": [
      "Back-translation:  87%|████████▋ | 873/1000 [1:19:38<10:50,  5.12s/it]"
     ]
    },
    {
     "name": "stdout",
     "output_type": "stream",
     "text": [
      "Many of the same genera were present in these formations, although they vary at species level.\n",
      "\n",
      "--- MarianMT (en→fr→en) Paraphrasing ---\n"
     ]
    },
    {
     "name": "stderr",
     "output_type": "stream",
     "text": [
      "Back-translation:  87%|████████▋ | 874/1000 [1:19:42<10:22,  4.94s/it]"
     ]
    },
    {
     "name": "stdout",
     "output_type": "stream",
     "text": [
      "Status Quo also returned to Australia in 1997, finishing his first tour since 1978.\n",
      "\n",
      "--- MarianMT (en→fr→en) Paraphrasing ---\n"
     ]
    },
    {
     "name": "stderr",
     "output_type": "stream",
     "text": [
      "Back-translation:  88%|████████▊ | 875/1000 [1:19:48<10:47,  5.18s/it]"
     ]
    },
    {
     "name": "stdout",
     "output_type": "stream",
     "text": [
      "Tom Philip, from GQ, commented that sometimes the story felt like \"a slog, clicking through infinite amounts of inanetic conversation and flirting about poetry.\"\n",
      "\n",
      "--- MarianMT (en→fr→en) Paraphrasing ---\n"
     ]
    },
    {
     "name": "stderr",
     "output_type": "stream",
     "text": [
      "Back-translation:  88%|████████▊ | 876/1000 [1:19:53<10:38,  5.15s/it]"
     ]
    },
    {
     "name": "stdout",
     "output_type": "stream",
     "text": [
      "In 1953, the castle was leased to the Ministry of Public Works and Arnold Taylor undertook a wide range of repairs and in-depth research on the history of the castle.\n",
      "\n",
      "--- MarianMT (en→fr→en) Paraphrasing ---\n"
     ]
    },
    {
     "name": "stderr",
     "output_type": "stream",
     "text": [
      "Back-translation:  88%|████████▊ | 877/1000 [1:19:57<09:52,  4.82s/it]"
     ]
    },
    {
     "name": "stdout",
     "output_type": "stream",
     "text": [
      "These improved communication links with the castle and the increase in the number of tourists.\n",
      "\n",
      "--- MarianMT (en→fr→en) Paraphrasing ---\n"
     ]
    },
    {
     "name": "stderr",
     "output_type": "stream",
     "text": [
      "Back-translation:  88%|████████▊ | 878/1000 [1:20:02<09:57,  4.90s/it]"
     ]
    },
    {
     "name": "stdout",
     "output_type": "stream",
     "text": [
      "St. Xavier's theatre band Theater Xavier (TX) organizes each fall a drama or comedy, a comedy every spring, and sometimes a smaller production in January.\n",
      "\n",
      "--- MarianMT (en→fr→en) Paraphrasing ---\n"
     ]
    },
    {
     "name": "stderr",
     "output_type": "stream",
     "text": [
      "Back-translation:  88%|████████▊ | 879/1000 [1:20:06<09:35,  4.76s/it]"
     ]
    },
    {
     "name": "stdout",
     "output_type": "stream",
     "text": [
      "In 1294 Madog ap Llywelyn rebelled against English domination.\n",
      "\n",
      "--- MarianMT (en→fr→en) Paraphrasing ---\n"
     ]
    },
    {
     "name": "stderr",
     "output_type": "stream",
     "text": [
      "Back-translation:  88%|████████▊ | 880/1000 [1:20:12<09:53,  4.95s/it]"
     ]
    },
    {
     "name": "stdout",
     "output_type": "stream",
     "text": [
      "These bumps on the bones of bird wings show where the feathers anchor, and their presence on \"Velociraptor\" indicates that there were also feathers.\n",
      "\n",
      "--- MarianMT (en→fr→en) Paraphrasing ---\n"
     ]
    },
    {
     "name": "stderr",
     "output_type": "stream",
     "text": [
      "Back-translation:  88%|████████▊ | 881/1000 [1:20:16<09:32,  4.81s/it]"
     ]
    },
    {
     "name": "stdout",
     "output_type": "stream",
     "text": [
      "At the age of Cicero and Caesar, Rome was a republic, but not a democracy.\n",
      "\n",
      "--- MarianMT (en→fr→en) Paraphrasing ---\n"
     ]
    },
    {
     "name": "stderr",
     "output_type": "stream",
     "text": [
      "Back-translation:  88%|████████▊ | 882/1000 [1:20:20<08:51,  4.50s/it]"
     ]
    },
    {
     "name": "stdout",
     "output_type": "stream",
     "text": [
      "I'd like to capture some of it, at last.\n",
      "\n",
      "--- MarianMT (en→fr→en) Paraphrasing ---\n"
     ]
    },
    {
     "name": "stderr",
     "output_type": "stream",
     "text": [
      "Back-translation:  88%|████████▊ | 883/1000 [1:20:25<08:49,  4.53s/it]"
     ]
    },
    {
     "name": "stdout",
     "output_type": "stream",
     "text": [
      "The demand for tutoring in Asia is growing; in comparison, parallel education is the most widespread in Asia.\n",
      "\n",
      "--- MarianMT (en→fr→en) Paraphrasing ---\n"
     ]
    },
    {
     "name": "stderr",
     "output_type": "stream",
     "text": [
      "Back-translation:  88%|████████▊ | 884/1000 [1:20:30<09:13,  4.77s/it]"
     ]
    },
    {
     "name": "stdout",
     "output_type": "stream",
     "text": [
      "The LM function is the balance between the liquidity preference (or money demand) function and the money supply function (as determined by banks and central banks).\n",
      "\n",
      "--- MarianMT (en→fr→en) Paraphrasing ---\n"
     ]
    },
    {
     "name": "stderr",
     "output_type": "stream",
     "text": [
      "Back-translation:  88%|████████▊ | 885/1000 [1:20:34<08:49,  4.60s/it]"
     ]
    },
    {
     "name": "stdout",
     "output_type": "stream",
     "text": [
      "Most of the fish caught by jigs are on or near the bottom.\n",
      "\n",
      "--- MarianMT (en→fr→en) Paraphrasing ---\n"
     ]
    },
    {
     "name": "stderr",
     "output_type": "stream",
     "text": [
      "Back-translation:  89%|████████▊ | 886/1000 [1:20:39<08:55,  4.70s/it]"
     ]
    },
    {
     "name": "stdout",
     "output_type": "stream",
     "text": [
      "In addition, the 1 New York Metro trains stop at 125th Street and Broadway.\n",
      "\n",
      "--- MarianMT (en→fr→en) Paraphrasing ---\n"
     ]
    },
    {
     "name": "stderr",
     "output_type": "stream",
     "text": [
      "Back-translation:  89%|████████▊ | 887/1000 [1:20:44<08:43,  4.64s/it]"
     ]
    },
    {
     "name": "stdout",
     "output_type": "stream",
     "text": [
      "In 2005, a series of Sierra Mist improvised advertisements entitled \"Mist Takes\" began broadcasting.\n",
      "\n",
      "--- MarianMT (en→fr→en) Paraphrasing ---\n"
     ]
    },
    {
     "name": "stderr",
     "output_type": "stream",
     "text": [
      "Back-translation:  89%|████████▉ | 888/1000 [1:20:47<08:10,  4.38s/it]"
     ]
    },
    {
     "name": "stdout",
     "output_type": "stream",
     "text": [
      "Education is compulsory between the ages of 5 and 16.\n",
      "\n",
      "--- MarianMT (en→fr→en) Paraphrasing ---\n"
     ]
    },
    {
     "name": "stderr",
     "output_type": "stream",
     "text": [
      "Back-translation:  89%|████████▉ | 889/1000 [1:20:52<08:04,  4.37s/it]"
     ]
    },
    {
     "name": "stdout",
     "output_type": "stream",
     "text": [
      "During each summer construction season, the workers gathered in Chester and then entered Wales.\n",
      "\n",
      "--- MarianMT (en→fr→en) Paraphrasing ---\n"
     ]
    },
    {
     "name": "stderr",
     "output_type": "stream",
     "text": [
      "Back-translation:  89%|████████▉ | 890/1000 [1:20:56<07:51,  4.29s/it]"
     ]
    },
    {
     "name": "stdout",
     "output_type": "stream",
     "text": [
      "Dissolved, because few parents and children understood what the brand was.\n",
      "\n",
      "--- MarianMT (en→fr→en) Paraphrasing ---\n"
     ]
    },
    {
     "name": "stderr",
     "output_type": "stream",
     "text": [
      "Back-translation:  89%|████████▉ | 891/1000 [1:21:01<08:22,  4.61s/it]"
     ]
    },
    {
     "name": "stdout",
     "output_type": "stream",
     "text": [
      "UNESCO considers Conwy to be one of the \"best examples of military architecture in late 13th and early 14th centuries in Europe\", and is classified as a World Heritage Site.\n",
      "\n",
      "--- MarianMT (en→fr→en) Paraphrasing ---\n"
     ]
    },
    {
     "name": "stderr",
     "output_type": "stream",
     "text": [
      "Back-translation:  89%|████████▉ | 892/1000 [1:21:06<08:31,  4.74s/it]"
     ]
    },
    {
     "name": "stdout",
     "output_type": "stream",
     "text": [
      "The stations found that mobile licence fees were too high for the exclusive programming they received, especially after spending additional funds on PBS' HD stream.\n",
      "\n",
      "--- MarianMT (en→fr→en) Paraphrasing ---\n"
     ]
    },
    {
     "name": "stderr",
     "output_type": "stream",
     "text": [
      "Back-translation:  89%|████████▉ | 893/1000 [1:21:10<08:07,  4.56s/it]"
     ]
    },
    {
     "name": "stdout",
     "output_type": "stream",
     "text": [
      "In 2009, Hawthorn launched a Community programme called \"HANZ-UP!\n",
      "\n",
      "--- MarianMT (en→fr→en) Paraphrasing ---\n"
     ]
    },
    {
     "name": "stderr",
     "output_type": "stream",
     "text": [
      "Back-translation:  89%|████████▉ | 894/1000 [1:21:15<08:02,  4.55s/it]"
     ]
    },
    {
     "name": "stdout",
     "output_type": "stream",
     "text": [
      "A video game version of the film was released on Game Boy Color by Nintendo of America on October 4, 2000, in North America.\n",
      "\n",
      "--- MarianMT (en→fr→en) Paraphrasing ---\n"
     ]
    },
    {
     "name": "stderr",
     "output_type": "stream",
     "text": [
      "Back-translation:  90%|████████▉ | 895/1000 [1:21:20<08:13,  4.70s/it]"
     ]
    },
    {
     "name": "stdout",
     "output_type": "stream",
     "text": [
      "The two sets of apartments were then unified into a single set of rooms, including a large bedroom, exterior bedroom and interior bedroom.\n",
      "\n",
      "--- MarianMT (en→fr→en) Paraphrasing ---\n"
     ]
    },
    {
     "name": "stderr",
     "output_type": "stream",
     "text": [
      "Back-translation:  90%|████████▉ | 896/1000 [1:21:27<09:20,  5.39s/it]"
     ]
    },
    {
     "name": "stdout",
     "output_type": "stream",
     "text": [
      "For private trials, only victims or their families could sue, while for public trials, any person (\"ho boulomenos\", \"whoever\" or any citizen enjoying all the rights of the citizen) could file a complaint, since the issues raised in these major trials were considered to affect the whole community.\n",
      "\n",
      "--- MarianMT (en→fr→en) Paraphrasing ---\n"
     ]
    },
    {
     "name": "stderr",
     "output_type": "stream",
     "text": [
      "Back-translation:  90%|████████▉ | 897/1000 [1:21:33<09:47,  5.71s/it]"
     ]
    },
    {
     "name": "stdout",
     "output_type": "stream",
     "text": [
      "This is confirmed in a Tolkien essay on the translation \"The Lord of the Rings\", where he describes the Shire as having an area of 18,000 m2: approximately equivalent to the largest extent of the English Midlands.\n",
      "\n",
      "--- MarianMT (en→fr→en) Paraphrasing ---\n"
     ]
    },
    {
     "name": "stderr",
     "output_type": "stream",
     "text": [
      "Back-translation:  90%|████████▉ | 898/1000 [1:21:38<08:51,  5.21s/it]"
     ]
    },
    {
     "name": "stdout",
     "output_type": "stream",
     "text": [
      "The game is available as freeware with optional payment what you want model.\n",
      "\n",
      "--- MarianMT (en→fr→en) Paraphrasing ---\n"
     ]
    },
    {
     "name": "stderr",
     "output_type": "stream",
     "text": [
      "Back-translation:  90%|████████▉ | 899/1000 [1:21:45<09:49,  5.84s/it]"
     ]
    },
    {
     "name": "stdout",
     "output_type": "stream",
     "text": [
      "Mae Tinee of the \"Chicago Tribune\" wrote that \"Although Disney figures look like famous sketches by John Tenniel, they abound in energy but totally lack enchantment, and seem more closely related to Pluto, the clumsy puppy, than the products of Carroll's imagination.\n",
      "\n",
      "--- MarianMT (en→fr→en) Paraphrasing ---\n"
     ]
    },
    {
     "name": "stderr",
     "output_type": "stream",
     "text": [
      "Back-translation:  90%|█████████ | 900/1000 [1:21:49<08:50,  5.31s/it]"
     ]
    },
    {
     "name": "stdout",
     "output_type": "stream",
     "text": [
      "Sierra Mist is a line of lemon-lime flavoured soft drinks.\n",
      "\n",
      "--- MarianMT (en→fr→en) Paraphrasing ---\n"
     ]
    },
    {
     "name": "stderr",
     "output_type": "stream",
     "text": [
      "Back-translation:  90%|█████████ | 901/1000 [1:21:55<09:12,  5.58s/it]"
     ]
    },
    {
     "name": "stdout",
     "output_type": "stream",
     "text": [
      "He resisted the siege of Madog ap Llywelyn during the winter of 1294–95, served as a temporary refuge for Richard II in 1399 and was detained for several months by forces loyal to Owain Glynder in 1401.\n",
      "\n",
      "--- MarianMT (en→fr→en) Paraphrasing ---\n"
     ]
    },
    {
     "name": "stderr",
     "output_type": "stream",
     "text": [
      "Back-translation:  90%|█████████ | 902/1000 [1:21:59<08:20,  5.11s/it]"
     ]
    },
    {
     "name": "stdout",
     "output_type": "stream",
     "text": [
      "The Marching Bombers perform at the Varsity football games.\n",
      "\n",
      "--- MarianMT (en→fr→en) Paraphrasing ---\n"
     ]
    },
    {
     "name": "stderr",
     "output_type": "stream",
     "text": [
      "Back-translation:  90%|█████████ | 903/1000 [1:22:04<08:20,  5.16s/it]"
     ]
    },
    {
     "name": "stdout",
     "output_type": "stream",
     "text": [
      "The rectangular castle is built from local stone and imported and occupies a coastal ridge, originally overlooking an important crossing point over the Conwy River.\n",
      "\n",
      "--- MarianMT (en→fr→en) Paraphrasing ---\n"
     ]
    },
    {
     "name": "stderr",
     "output_type": "stream",
     "text": [
      "Back-translation:  90%|█████████ | 904/1000 [1:22:09<08:11,  5.12s/it]"
     ]
    },
    {
     "name": "stdout",
     "output_type": "stream",
     "text": [
      "On 19 September 2010, the group announced \"The World Contamination Tour\", which took place in parts of the United Kingdom, France, Amsterdam and Germany.\n",
      "\n",
      "--- MarianMT (en→fr→en) Paraphrasing ---\n"
     ]
    },
    {
     "name": "stderr",
     "output_type": "stream",
     "text": [
      "Back-translation:  90%|█████████ | 905/1000 [1:22:15<08:15,  5.21s/it]"
     ]
    },
    {
     "name": "stdout",
     "output_type": "stream",
     "text": [
      "Edward's accountants did not separate the costs of the city walls from those of the castle, but the total cost of the two projects reached about £15,000, a huge amount for the period.\n",
      "\n",
      "--- MarianMT (en→fr→en) Paraphrasing ---\n"
     ]
    },
    {
     "name": "stderr",
     "output_type": "stream",
     "text": [
      "Back-translation:  91%|█████████ | 906/1000 [1:22:20<08:01,  5.12s/it]"
     ]
    },
    {
     "name": "stdout",
     "output_type": "stream",
     "text": [
      "The barbican showed the first surviving stone machicolages in Britain, and the door would have been originally protected by a portcullis.\n",
      "\n",
      "--- MarianMT (en→fr→en) Paraphrasing ---\n"
     ]
    },
    {
     "name": "stderr",
     "output_type": "stream",
     "text": [
      "Back-translation:  91%|█████████ | 907/1000 [1:22:26<08:34,  5.54s/it]"
     ]
    },
    {
     "name": "stdout",
     "output_type": "stream",
     "text": [
      "It was originally thought that it was called \"The ascent and fall of my chemical romance\" (in reference to \"The ascent and fall of Ziggy Stardust and the spiders of Mars\" by David Bowie), but in an interview with \"Kerrang!\".\n",
      "\n",
      "--- MarianMT (en→fr→en) Paraphrasing ---\n"
     ]
    },
    {
     "name": "stderr",
     "output_type": "stream",
     "text": [
      "Back-translation:  91%|█████████ | 908/1000 [1:22:33<09:13,  6.01s/it]"
     ]
    },
    {
     "name": "stdout",
     "output_type": "stream",
     "text": [
      "Monika reveals that she is a self-aware video game character who has the ability to manipulate and delete other character files, that she used to change the behavior of her clubmates in a unsuccessful attempt to make them unfriendly and prevent their confessions of love to the protagonist.\n",
      "\n",
      "--- MarianMT (en→fr→en) Paraphrasing ---\n"
     ]
    },
    {
     "name": "stderr",
     "output_type": "stream",
     "text": [
      "Back-translation:  91%|█████████ | 909/1000 [1:22:39<09:04,  5.98s/it]"
     ]
    },
    {
     "name": "stdout",
     "output_type": "stream",
     "text": [
      "They were designed to form a miniature royal palace, which could, if necessary, be sealed from the rest of the castle and supplied from the oriental gate by the sea almost indefinitely, although in practice they were rarely used by the royal family.\n",
      "\n",
      "--- MarianMT (en→fr→en) Paraphrasing ---\n"
     ]
    },
    {
     "name": "stderr",
     "output_type": "stream",
     "text": [
      "Back-translation:  91%|█████████ | 910/1000 [1:22:44<08:21,  5.57s/it]"
     ]
    },
    {
     "name": "stdout",
     "output_type": "stream",
     "text": [
      "The Prime Minister is the leader of the House's majority party, and the Cabinet directs state affairs.\n",
      "\n",
      "--- MarianMT (en→fr→en) Paraphrasing ---\n"
     ]
    },
    {
     "name": "stderr",
     "output_type": "stream",
     "text": [
      "Back-translation:  91%|█████████ | 911/1000 [1:22:49<08:12,  5.53s/it]"
     ]
    },
    {
     "name": "stdout",
     "output_type": "stream",
     "text": [
      "Calamba and Los Baños are famous for their seaside resorts and thermal springs, giving it the title of \"Philippine Spring Capital\".\n",
      "\n",
      "--- MarianMT (en→fr→en) Paraphrasing ---\n"
     ]
    },
    {
     "name": "stderr",
     "output_type": "stream",
     "text": [
      "Back-translation:  91%|█████████ | 912/1000 [1:22:55<08:05,  5.52s/it]"
     ]
    },
    {
     "name": "stdout",
     "output_type": "stream",
     "text": [
      "The government was determined to grant soldiers a fair trial so that there was no reason for British reprisals and moderates were not alienated from the patriotic cause.\n",
      "\n",
      "--- MarianMT (en→fr→en) Paraphrasing ---\n"
     ]
    },
    {
     "name": "stderr",
     "output_type": "stream",
     "text": [
      "Back-translation:  91%|█████████▏| 913/1000 [1:22:59<07:20,  5.06s/it]"
     ]
    },
    {
     "name": "stdout",
     "output_type": "stream",
     "text": [
      "\"Jarrod is a rad guy and a fantastic player.\n",
      "\n",
      "--- MarianMT (en→fr→en) Paraphrasing ---\n"
     ]
    },
    {
     "name": "stderr",
     "output_type": "stream",
     "text": [
      "Back-translation:  91%|█████████▏| 914/1000 [1:23:04<07:18,  5.10s/it]"
     ]
    },
    {
     "name": "stdout",
     "output_type": "stream",
     "text": [
      "Before the first attempt at democratic government, Athens was governed by a series of archons or chief magistrates, and the Areopagus, composed of ex-archons.\n",
      "\n",
      "--- MarianMT (en→fr→en) Paraphrasing ---\n"
     ]
    },
    {
     "name": "stderr",
     "output_type": "stream",
     "text": [
      "Back-translation:  92%|█████████▏| 915/1000 [1:23:09<07:02,  4.98s/it]"
     ]
    },
    {
     "name": "stdout",
     "output_type": "stream",
     "text": [
      "The reactions of the characters are represented by chibi versions of the characters that are displayed at the bottom of the screen during the mini-game.\n",
      "\n",
      "--- MarianMT (en→fr→en) Paraphrasing ---\n"
     ]
    },
    {
     "name": "stderr",
     "output_type": "stream",
     "text": [
      "Back-translation:  92%|█████████▏| 916/1000 [1:23:14<07:07,  5.08s/it]"
     ]
    },
    {
     "name": "stdout",
     "output_type": "stream",
     "text": [
      "The race consisted of nine flat stages, six mountain stages (three peaks), four average mountain stages, and two individual time events, one of which was the opening prologue in Rotterdam.\n",
      "\n",
      "--- MarianMT (en→fr→en) Paraphrasing ---\n"
     ]
    },
    {
     "name": "stderr",
     "output_type": "stream",
     "text": [
      "Back-translation:  92%|█████████▏| 917/1000 [1:23:21<07:40,  5.55s/it]"
     ]
    },
    {
     "name": "stdout",
     "output_type": "stream",
     "text": [
      "The control sum algorithms most commonly used in practice, such as the control sum of Fletcher, Adler-32 and the redundant cyclical controls (CRCs), correct these weaknesses by considering not only the value of each word, but also its position in the sequence.\n",
      "\n",
      "--- MarianMT (en→fr→en) Paraphrasing ---\n"
     ]
    },
    {
     "name": "stderr",
     "output_type": "stream",
     "text": [
      "Back-translation:  92%|█████████▏| 918/1000 [1:23:26<07:40,  5.62s/it]"
     ]
    },
    {
     "name": "stdout",
     "output_type": "stream",
     "text": [
      "The Pontifical Cross on the edge of the Fifteen Acres was erected as a backdrop for the open-air Mass celebrated there by Pope John Paul II on 29 September 1979, the first day of his pastoral visit to Ireland.\n",
      "\n",
      "--- MarianMT (en→fr→en) Paraphrasing ---\n"
     ]
    },
    {
     "name": "stderr",
     "output_type": "stream",
     "text": [
      "Back-translation:  92%|█████████▏| 919/1000 [1:23:32<07:34,  5.62s/it]"
     ]
    },
    {
     "name": "stdout",
     "output_type": "stream",
     "text": [
      "Gerard Way magazine suggested that it was just the title of the album, saying, \"It was never the title of the album, no longer a spoof, or a joke.\"\n",
      "\n",
      "--- MarianMT (en→fr→en) Paraphrasing ---\n"
     ]
    },
    {
     "name": "stderr",
     "output_type": "stream",
     "text": [
      "Back-translation:  92%|█████████▏| 920/1000 [1:23:38<07:39,  5.75s/it]"
     ]
    },
    {
     "name": "stdout",
     "output_type": "stream",
     "text": [
      "He was joined by Josiah Quincy II after Quincy had been assured that the Sons of Liberty would not oppose his appointment, and by Loyalist Robert Auchmuty.\n",
      "\n",
      "--- MarianMT (en→fr→en) Paraphrasing ---\n"
     ]
    },
    {
     "name": "stderr",
     "output_type": "stream",
     "text": [
      "Back-translation:  92%|█████████▏| 921/1000 [1:23:42<06:54,  5.24s/it]"
     ]
    },
    {
     "name": "stdout",
     "output_type": "stream",
     "text": [
      "My older brother Howard was his assistant and had taken all his classes.\"\n",
      "\n",
      "--- MarianMT (en→fr→en) Paraphrasing ---\n"
     ]
    },
    {
     "name": "stderr",
     "output_type": "stream",
     "text": [
      "Back-translation:  92%|█████████▏| 922/1000 [1:23:47<06:47,  5.23s/it]"
     ]
    },
    {
     "name": "stdout",
     "output_type": "stream",
     "text": [
      "As the club prepares for the school's next cultural festival, Sayori reveals to the protagonist that she suffers from depression and confesses her love for him.\n",
      "\n",
      "--- MarianMT (en→fr→en) Paraphrasing ---\n"
     ]
    },
    {
     "name": "stderr",
     "output_type": "stream",
     "text": [
      "Back-translation:  92%|█████████▏| 923/1000 [1:23:51<06:14,  4.87s/it]"
     ]
    },
    {
     "name": "stdout",
     "output_type": "stream",
     "text": [
      "It was the scene of the Christmas raid in 1939.\n",
      "\n",
      "--- MarianMT (en→fr→en) Paraphrasing ---\n"
     ]
    },
    {
     "name": "stderr",
     "output_type": "stream",
     "text": [
      "Back-translation:  92%|█████████▏| 924/1000 [1:23:57<06:29,  5.13s/it]"
     ]
    },
    {
     "name": "stdout",
     "output_type": "stream",
     "text": [
      "Although these injuries were reported by several news agencies following a car accident, a statement posted by the group on their website and the MySpace page confirmed that these injuries occurred on the video.\n",
      "\n",
      "--- MarianMT (en→fr→en) Paraphrasing ---\n"
     ]
    },
    {
     "name": "stderr",
     "output_type": "stream",
     "text": [
      "Back-translation:  92%|█████████▎| 925/1000 [1:24:01<06:04,  4.86s/it]"
     ]
    },
    {
     "name": "stdout",
     "output_type": "stream",
     "text": [
      "He also taught at the Faculty of the Festival and the Aspen School of Music.\n",
      "\n",
      "--- MarianMT (en→fr→en) Paraphrasing ---\n"
     ]
    },
    {
     "name": "stderr",
     "output_type": "stream",
     "text": [
      "Back-translation:  93%|█████████▎| 926/1000 [1:24:06<05:51,  4.74s/it]"
     ]
    },
    {
     "name": "stdout",
     "output_type": "stream",
     "text": [
      "The two villas have long disappeared, and their exact locations remain a matter of speculation.\n",
      "\n",
      "--- MarianMT (en→fr→en) Paraphrasing ---\n"
     ]
    },
    {
     "name": "stderr",
     "output_type": "stream",
     "text": [
      "Back-translation:  93%|█████████▎| 927/1000 [1:24:10<05:23,  4.44s/it]"
     ]
    },
    {
     "name": "stdout",
     "output_type": "stream",
     "text": [
      "Brubeck named his first son Darius.\n",
      "\n",
      "--- MarianMT (en→fr→en) Paraphrasing ---\n"
     ]
    },
    {
     "name": "stderr",
     "output_type": "stream",
     "text": [
      "Back-translation:  93%|█████████▎| 928/1000 [1:24:13<05:06,  4.25s/it]"
     ]
    },
    {
     "name": "stdout",
     "output_type": "stream",
     "text": [
      "I'd like to capture some of it, at last.\n",
      "\n",
      "--- MarianMT (en→fr→en) Paraphrasing ---\n"
     ]
    },
    {
     "name": "stderr",
     "output_type": "stream",
     "text": [
      "Back-translation:  93%|█████████▎| 929/1000 [1:24:18<04:59,  4.22s/it]"
     ]
    },
    {
     "name": "stdout",
     "output_type": "stream",
     "text": [
      "The band had to postpone a concert in June 2017 after frontman Rossi fell ill.\n",
      "\n",
      "--- MarianMT (en→fr→en) Paraphrasing ---\n"
     ]
    },
    {
     "name": "stderr",
     "output_type": "stream",
     "text": [
      "Back-translation:  93%|█████████▎| 930/1000 [1:24:22<05:06,  4.38s/it]"
     ]
    },
    {
     "name": "stdout",
     "output_type": "stream",
     "text": [
      "In 1294 Madog ap Llywelyn rebelled against English domination.\n",
      "\n",
      "--- MarianMT (en→fr→en) Paraphrasing ---\n"
     ]
    },
    {
     "name": "stderr",
     "output_type": "stream",
     "text": [
      "Back-translation:  93%|█████████▎| 931/1000 [1:24:28<05:28,  4.76s/it]"
     ]
    },
    {
     "name": "stdout",
     "output_type": "stream",
     "text": [
      "The paleontologists of the novel and the film search a skeleton in Montana, far from the Central Asian range of \"Velociraptor\" but characteristic of the \"Deinonychus\" range.\n",
      "\n",
      "--- MarianMT (en→fr→en) Paraphrasing ---\n"
     ]
    },
    {
     "name": "stderr",
     "output_type": "stream",
     "text": [
      "Back-translation:  93%|█████████▎| 932/1000 [1:24:33<05:36,  4.95s/it]"
     ]
    },
    {
     "name": "stdout",
     "output_type": "stream",
     "text": [
      "Although Status Quo albums have been published in the United States throughout their careers, they have never achieved the same level of success as in their home countries.\n",
      "\n",
      "--- MarianMT (en→fr→en) Paraphrasing ---\n"
     ]
    },
    {
     "name": "stderr",
     "output_type": "stream",
     "text": [
      "Back-translation:  93%|█████████▎| 933/1000 [1:24:37<05:13,  4.68s/it]"
     ]
    },
    {
     "name": "stdout",
     "output_type": "stream",
     "text": [
      "An additional wing was added to the fort in 1801 for the troops.\n",
      "\n",
      "--- MarianMT (en→fr→en) Paraphrasing ---\n"
     ]
    },
    {
     "name": "stderr",
     "output_type": "stream",
     "text": [
      "Back-translation:  93%|█████████▎| 934/1000 [1:24:42<05:03,  4.60s/it]"
     ]
    },
    {
     "name": "stdout",
     "output_type": "stream",
     "text": [
      "Cocaine can also cause stroke, irreversible brain damage, or a heart attack.\n",
      "\n",
      "--- MarianMT (en→fr→en) Paraphrasing ---\n"
     ]
    },
    {
     "name": "stderr",
     "output_type": "stream",
     "text": [
      "Back-translation:  94%|█████████▎| 935/1000 [1:24:48<05:29,  5.07s/it]"
     ]
    },
    {
     "name": "stdout",
     "output_type": "stream",
     "text": [
      "On his return to France, Milhaud composed works influenced by the popular Brazilian music he had heard, including compositions by Brazilian pianist and composer Ernesto Nazareth.\n",
      "\n",
      "--- MarianMT (en→fr→en) Paraphrasing ---\n"
     ]
    },
    {
     "name": "stderr",
     "output_type": "stream",
     "text": [
      "Back-translation:  94%|█████████▎| 936/1000 [1:24:54<05:39,  5.30s/it]"
     ]
    },
    {
     "name": "stdout",
     "output_type": "stream",
     "text": [
      "In August 1646 and November, General Thomas Mytton finally took the castle itself after a substantial siege.\n",
      "\n",
      "--- MarianMT (en→fr→en) Paraphrasing ---\n"
     ]
    },
    {
     "name": "stderr",
     "output_type": "stream",
     "text": [
      "Back-translation:  94%|█████████▎| 937/1000 [1:24:58<05:22,  5.11s/it]"
     ]
    },
    {
     "name": "stdout",
     "output_type": "stream",
     "text": [
      "On September 14, 2012, Frank Iero announced on the group's official website a new project entitled \"Conventional Arms\".\n",
      "\n",
      "--- MarianMT (en→fr→en) Paraphrasing ---\n"
     ]
    },
    {
     "name": "stderr",
     "output_type": "stream",
     "text": [
      "Back-translation:  94%|█████████▍| 938/1000 [1:25:04<05:33,  5.38s/it]"
     ]
    },
    {
     "name": "stdout",
     "output_type": "stream",
     "text": [
      "Salvato acknowledged that a product of this quality would not satisfy potential players, so he made a request to his friend, a translator for Sekai Project, for sketches of school uniforms and hairstyles for the characters.\n",
      "\n",
      "--- MarianMT (en→fr→en) Paraphrasing ---\n"
     ]
    },
    {
     "name": "stderr",
     "output_type": "stream",
     "text": [
      "Back-translation:  94%|█████████▍| 939/1000 [1:25:09<05:10,  5.09s/it]"
     ]
    },
    {
     "name": "stdout",
     "output_type": "stream",
     "text": [
      "The game was first distributed via itch.io, then became available on Steam.\n",
      "\n",
      "--- MarianMT (en→fr→en) Paraphrasing ---\n"
     ]
    },
    {
     "name": "stderr",
     "output_type": "stream",
     "text": [
      "Back-translation:  94%|█████████▍| 940/1000 [1:25:14<05:11,  5.19s/it]"
     ]
    },
    {
     "name": "stdout",
     "output_type": "stream",
     "text": [
      "He also gave the Shire a new portion of land: it extended from the former western borders of the Shire, the Far Downs, to the Tower Hills.\n",
      "\n",
      "--- MarianMT (en→fr→en) Paraphrasing ---\n"
     ]
    },
    {
     "name": "stderr",
     "output_type": "stream",
     "text": [
      "Back-translation:  94%|█████████▍| 941/1000 [1:25:24<06:33,  6.66s/it]"
     ]
    },
    {
     "name": "stdout",
     "output_type": "stream",
     "text": [
      "It is in contrast to the initial and condemning use of the term in 1958 by Michael Dunlop Young in his work \"The Rise of the Meritocracy\", which would undermine the tripartite system of education apparently based on merit practiced in the United Kingdom at the time; he affirmed that, in the tripartite system, \"merit is assimilated to intelligence-plus-effort, its possessors are identified at an early age and selected for appropriate intensive education, and there is an obsession with quantification, evaluation and qualifications\".\n",
      "\n",
      "--- MarianMT (en→fr→en) Paraphrasing ---\n"
     ]
    },
    {
     "name": "stderr",
     "output_type": "stream",
     "text": [
      "Back-translation:  94%|█████████▍| 942/1000 [1:25:29<05:46,  5.97s/it]"
     ]
    },
    {
     "name": "stdout",
     "output_type": "stream",
     "text": [
      "The game was first distributed via itch.io, then became available on Steam.\n",
      "\n",
      "--- MarianMT (en→fr→en) Paraphrasing ---\n"
     ]
    },
    {
     "name": "stderr",
     "output_type": "stream",
     "text": [
      "Back-translation:  94%|█████████▍| 943/1000 [1:25:34<05:35,  5.88s/it]"
     ]
    },
    {
     "name": "stdout",
     "output_type": "stream",
     "text": [
      "The fresh indoor sanctum reflects the green of a four-level crystal chandelier gifted by the People's Republic of China.\n",
      "\n",
      "--- MarianMT (en→fr→en) Paraphrasing ---\n"
     ]
    },
    {
     "name": "stderr",
     "output_type": "stream",
     "text": [
      "Back-translation:  94%|█████████▍| 944/1000 [1:25:39<05:00,  5.37s/it]"
     ]
    },
    {
     "name": "stdout",
     "output_type": "stream",
     "text": [
      "All members are appointed for a term of five years.\n",
      "\n",
      "--- MarianMT (en→fr→en) Paraphrasing ---\n"
     ]
    },
    {
     "name": "stderr",
     "output_type": "stream",
     "text": [
      "Back-translation:  94%|█████████▍| 945/1000 [1:25:45<05:17,  5.77s/it]"
     ]
    },
    {
     "name": "stdout",
     "output_type": "stream",
     "text": [
      "In stage 11, Petacchi took the green jersey of Hushovd; Mark Cavendish won the stage, but his leading rider, Mark Renshaw, was disqualified from the Tour after taking the lead of Julian Dean while leading his teammate.\n",
      "\n",
      "--- MarianMT (en→fr→en) Paraphrasing ---\n"
     ]
    },
    {
     "name": "stderr",
     "output_type": "stream",
     "text": [
      "Back-translation:  95%|█████████▍| 946/1000 [1:25:51<05:05,  5.66s/it]"
     ]
    },
    {
     "name": "stdout",
     "output_type": "stream",
     "text": [
      "Before the English built the town of Conwy, the abbey of Aberconwy, the site was occupied by a Cistercian monastery favored by Welsh princes.\n",
      "\n",
      "--- MarianMT (en→fr→en) Paraphrasing ---\n"
     ]
    },
    {
     "name": "stderr",
     "output_type": "stream",
     "text": [
      "Back-translation:  95%|█████████▍| 947/1000 [1:25:55<04:45,  5.39s/it]"
     ]
    },
    {
     "name": "stdout",
     "output_type": "stream",
     "text": [
      "The royal rooms were placed on the first floor of a series of buildings that ran around the outside of the room, facing a courtyard.\n",
      "\n",
      "--- MarianMT (en→fr→en) Paraphrasing ---\n"
     ]
    },
    {
     "name": "stderr",
     "output_type": "stream",
     "text": [
      "Back-translation:  95%|█████████▍| 948/1000 [1:26:01<04:49,  5.56s/it]"
     ]
    },
    {
     "name": "stdout",
     "output_type": "stream",
     "text": [
      "The score of the game is generally calm and serene with the exception of two titles, \"Sayo-nara\" and \"Just Monika\", which are of your concern.\n",
      "\n",
      "--- MarianMT (en→fr→en) Paraphrasing ---\n"
     ]
    },
    {
     "name": "stderr",
     "output_type": "stream",
     "text": [
      "Back-translation:  95%|█████████▍| 949/1000 [1:26:06<04:27,  5.25s/it]"
     ]
    },
    {
     "name": "stdout",
     "output_type": "stream",
     "text": [
      "The first English settlers retained the English translation of this name, and nicknamed it \"St. Christopher's Island\".\n",
      "\n",
      "--- MarianMT (en→fr→en) Paraphrasing ---\n"
     ]
    },
    {
     "name": "stderr",
     "output_type": "stream",
     "text": [
      "Back-translation:  95%|█████████▌| 950/1000 [1:26:10<04:07,  4.94s/it]"
     ]
    },
    {
     "name": "stdout",
     "output_type": "stream",
     "text": [
      "A command \"without\" the beginning \"Simon says\" means not doing this action.\n",
      "\n",
      "--- MarianMT (en→fr→en) Paraphrasing ---\n"
     ]
    },
    {
     "name": "stderr",
     "output_type": "stream",
     "text": [
      "Back-translation:  95%|█████████▌| 951/1000 [1:26:14<03:51,  4.73s/it]"
     ]
    },
    {
     "name": "stdout",
     "output_type": "stream",
     "text": [
      "The king was then taken to London and later died in captivity at Pontefract Castle.\n",
      "\n",
      "--- MarianMT (en→fr→en) Paraphrasing ---\n"
     ]
    },
    {
     "name": "stderr",
     "output_type": "stream",
     "text": [
      "Back-translation:  95%|█████████▌| 952/1000 [1:26:20<03:52,  4.84s/it]"
     ]
    },
    {
     "name": "stdout",
     "output_type": "stream",
     "text": [
      "Social Darwinism shares its roots with early progressivism, and was the most popular from the late 19th century to the end of the Second World War.\n",
      "\n",
      "--- MarianMT (en→fr→en) Paraphrasing ---\n"
     ]
    },
    {
     "name": "stderr",
     "output_type": "stream",
     "text": [
      "Back-translation:  95%|█████████▌| 953/1000 [1:26:24<03:48,  4.87s/it]"
     ]
    },
    {
     "name": "stdout",
     "output_type": "stream",
     "text": [
      "Religious food laws, such as Hindu, Sikh, Buddhist, Islamic and Jewish food laws, can also have a strong influence on cooking.\n",
      "\n",
      "--- MarianMT (en→fr→en) Paraphrasing ---\n"
     ]
    },
    {
     "name": "stderr",
     "output_type": "stream",
     "text": [
      "Back-translation:  95%|█████████▌| 954/1000 [1:26:28<03:28,  4.54s/it]"
     ]
    },
    {
     "name": "stdout",
     "output_type": "stream",
     "text": [
      "The courts have become a kind of upper chamber.\n",
      "\n",
      "--- MarianMT (en→fr→en) Paraphrasing ---\n"
     ]
    },
    {
     "name": "stderr",
     "output_type": "stream",
     "text": [
      "Back-translation:  96%|█████████▌| 955/1000 [1:26:35<03:56,  5.25s/it]"
     ]
    },
    {
     "name": "stdout",
     "output_type": "stream",
     "text": [
      "Behind the large hall was the tower used by the constable for the detention of prisoners, including a special room for the detention of prisoners, called the \"chambre des debteurs\" (\"chambre des decades\") in the 16th century, and an underground dungeon.\n",
      "\n",
      "--- MarianMT (en→fr→en) Paraphrasing ---\n"
     ]
    },
    {
     "name": "stderr",
     "output_type": "stream",
     "text": [
      "Back-translation:  96%|█████████▌| 956/1000 [1:26:40<03:41,  5.03s/it]"
     ]
    },
    {
     "name": "stdout",
     "output_type": "stream",
     "text": [
      "During the shooting of the second video, members of Gerard Way and Bob Bryar were injured.\n",
      "\n",
      "--- MarianMT (en→fr→en) Paraphrasing ---\n"
     ]
    },
    {
     "name": "stderr",
     "output_type": "stream",
     "text": [
      "Back-translation:  96%|█████████▌| 957/1000 [1:26:44<03:32,  4.93s/it]"
     ]
    },
    {
     "name": "stdout",
     "output_type": "stream",
     "text": [
      "Such decisions affect the development of the protagonist's relations with the female characters Sayori, Yuri, Natsuki and Monika.\n",
      "\n",
      "--- MarianMT (en→fr→en) Paraphrasing ---\n"
     ]
    },
    {
     "name": "stderr",
     "output_type": "stream",
     "text": [
      "Back-translation:  96%|█████████▌| 958/1000 [1:26:49<03:19,  4.76s/it]"
     ]
    },
    {
     "name": "stdout",
     "output_type": "stream",
     "text": [
      "Michael Pedicone joined the band as a traveling drummer at the end of 2010, replacing Bryar.\n",
      "\n",
      "--- MarianMT (en→fr→en) Paraphrasing ---\n"
     ]
    },
    {
     "name": "stderr",
     "output_type": "stream",
     "text": [
      "Back-translation:  96%|█████████▌| 959/1000 [1:26:54<03:17,  4.82s/it]"
     ]
    },
    {
     "name": "stdout",
     "output_type": "stream",
     "text": [
      "There is also a monument to commemorate Lord Cavendish and Thomas Henry Burke, who were killed in the park by the Irish National Invincibles.\n",
      "\n",
      "--- MarianMT (en→fr→en) Paraphrasing ---\n"
     ]
    },
    {
     "name": "stderr",
     "output_type": "stream",
     "text": [
      "Back-translation:  96%|█████████▌| 960/1000 [1:26:59<03:14,  4.87s/it]"
     ]
    },
    {
     "name": "stdout",
     "output_type": "stream",
     "text": [
      "Once Gumm's crew was defeated, Batman and Robin fought against the Green Hornet and Kato, resulting in a police halt.\n",
      "\n",
      "--- MarianMT (en→fr→en) Paraphrasing ---\n"
     ]
    },
    {
     "name": "stderr",
     "output_type": "stream",
     "text": [
      "Back-translation:  96%|█████████▌| 961/1000 [1:27:04<03:14,  4.99s/it]"
     ]
    },
    {
     "name": "stdout",
     "output_type": "stream",
     "text": [
      "The cases were presented by the litigants themselves in the form of an exchange of unique speeches modelled by a water clock or \"clepsydra\", first prosecutor and then accused.\n",
      "\n",
      "--- MarianMT (en→fr→en) Paraphrasing ---\n"
     ]
    },
    {
     "name": "stderr",
     "output_type": "stream",
     "text": [
      "Back-translation:  96%|█████████▌| 962/1000 [1:27:10<03:25,  5.40s/it]"
     ]
    },
    {
     "name": "stdout",
     "output_type": "stream",
     "text": [
      "In a discussion of his work on the comic book \"Doom Patrol\", Gerard Way said \"Billboard\", \"I wouldn't count (a meeting) out, but at the same time everyone does things in their lives now that they're really happy.\"\n",
      "\n",
      "--- MarianMT (en→fr→en) Paraphrasing ---\n"
     ]
    },
    {
     "name": "stderr",
     "output_type": "stream",
     "text": [
      "Back-translation:  96%|█████████▋| 963/1000 [1:27:15<03:11,  5.18s/it]"
     ]
    },
    {
     "name": "stdout",
     "output_type": "stream",
     "text": [
      "The 10 km Great Ireland Run has been held annually in April in Phoenix Park since 2003.\n",
      "\n",
      "--- MarianMT (en→fr→en) Paraphrasing ---\n"
     ]
    },
    {
     "name": "stderr",
     "output_type": "stream",
     "text": [
      "Back-translation:  96%|█████████▋| 964/1000 [1:27:21<03:10,  5.29s/it]"
     ]
    },
    {
     "name": "stdout",
     "output_type": "stream",
     "text": [
      "The characters in the game were based on standard anime archetypes and were given Japanese names to highlight a pseudo-Japanese atmosphere characteristic of visual novels produced in the West.\n",
      "\n",
      "--- MarianMT (en→fr→en) Paraphrasing ---\n"
     ]
    },
    {
     "name": "stderr",
     "output_type": "stream",
     "text": [
      "Back-translation:  96%|█████████▋| 965/1000 [1:27:24<02:48,  4.81s/it]"
     ]
    },
    {
     "name": "stdout",
     "output_type": "stream",
     "text": [
      "Buckenara gave eight goals.\n",
      "\n",
      "--- MarianMT (en→fr→en) Paraphrasing ---\n"
     ]
    },
    {
     "name": "stderr",
     "output_type": "stream",
     "text": [
      "Back-translation:  97%|█████████▋| 966/1000 [1:27:28<02:35,  4.56s/it]"
     ]
    },
    {
     "name": "stdout",
     "output_type": "stream",
     "text": [
      "It was part of a Christmas special for the show.\n",
      "\n",
      "--- MarianMT (en→fr→en) Paraphrasing ---\n"
     ]
    },
    {
     "name": "stderr",
     "output_type": "stream",
     "text": [
      "Back-translation:  97%|█████████▋| 967/1000 [1:27:33<02:32,  4.62s/it]"
     ]
    },
    {
     "name": "stdout",
     "output_type": "stream",
     "text": [
      "It is also possible to use baits such as minnows, leeches or night crawlers as jig-bodys.\n",
      "\n",
      "--- MarianMT (en→fr→en) Paraphrasing ---\n"
     ]
    },
    {
     "name": "stderr",
     "output_type": "stream",
     "text": [
      "Back-translation:  97%|█████████▋| 968/1000 [1:27:38<02:31,  4.73s/it]"
     ]
    },
    {
     "name": "stdout",
     "output_type": "stream",
     "text": [
      "In some cases, successful guardians from South-East Asia will even embrace the title of \"guardian\".\n",
      "\n",
      "--- MarianMT (en→fr→en) Paraphrasing ---\n"
     ]
    },
    {
     "name": "stderr",
     "output_type": "stream",
     "text": [
      "Back-translation:  97%|█████████▋| 969/1000 [1:27:46<02:57,  5.73s/it]"
     ]
    },
    {
     "name": "stdout",
     "output_type": "stream",
     "text": [
      "On the whole, the ball was responsible for a large part of the administration of the State, but was given relatively little latitude for the initiative; control of the ball's policy was exercised in its promuleutic, rather than in its executive function; in the first, it was preparing measures to deliberate by the Assembly; in the second, it was content to carry out the wishes of the Assembly.\n",
      "\n",
      "--- MarianMT (en→fr→en) Paraphrasing ---\n"
     ]
    },
    {
     "name": "stderr",
     "output_type": "stream",
     "text": [
      "Back-translation:  97%|█████████▋| 970/1000 [1:27:52<02:58,  5.95s/it]"
     ]
    },
    {
     "name": "stdout",
     "output_type": "stream",
     "text": [
      "The royal apartments neglected it and changed style over the years: at the beginning of the 14th century, there was a lawn, at the end of the 14th century, in the 16th century crab apple trees and a lawn and in the formal ornamental flowers of the 17th century.\n",
      "\n",
      "--- MarianMT (en→fr→en) Paraphrasing ---\n"
     ]
    },
    {
     "name": "stderr",
     "output_type": "stream",
     "text": [
      "Back-translation:  97%|█████████▋| 971/1000 [1:27:58<02:50,  5.90s/it]"
     ]
    },
    {
     "name": "stdout",
     "output_type": "stream",
     "text": [
      "Smaller than other dromaeosauruses such as \"Deinonychus\" and \"Achillobator\", \"Velociraptor\" nevertheless shared many of the same anatomical characteristics.\n",
      "\n",
      "--- MarianMT (en→fr→en) Paraphrasing ---\n"
     ]
    },
    {
     "name": "stderr",
     "output_type": "stream",
     "text": [
      "Back-translation:  97%|█████████▋| 972/1000 [1:28:05<02:49,  6.05s/it]"
     ]
    },
    {
     "name": "stdout",
     "output_type": "stream",
     "text": [
      "At the end of the 18th century, the ruins were considered picturesque and sublime, attracting visitors and artists, and the paintings of the castle were made by Thomas Girtin, Moses Griffith, Julius Caesar Ibbetson, Paul Sandby and J. M. W. Turner.\n",
      "\n",
      "--- MarianMT (en→fr→en) Paraphrasing ---\n"
     ]
    },
    {
     "name": "stderr",
     "output_type": "stream",
     "text": [
      "Back-translation:  97%|█████████▋| 973/1000 [1:28:10<02:35,  5.74s/it]"
     ]
    },
    {
     "name": "stdout",
     "output_type": "stream",
     "text": [
      "John Williams, the archbishop of York, took over the castle in the king's name, and began to repair it and garrison it at his own expense.\n",
      "\n",
      "--- MarianMT (en→fr→en) Paraphrasing ---\n"
     ]
    },
    {
     "name": "stderr",
     "output_type": "stream",
     "text": [
      "Back-translation:  97%|█████████▋| 974/1000 [1:28:15<02:24,  5.57s/it]"
     ]
    },
    {
     "name": "stdout",
     "output_type": "stream",
     "text": [
      "This extended claw, which could reach more than 6.5 cm long around its outer edge, was probably a predatory device used to tear or hold prey in difficulty.\n",
      "\n",
      "--- MarianMT (en→fr→en) Paraphrasing ---\n"
     ]
    },
    {
     "name": "stderr",
     "output_type": "stream",
     "text": [
      "Back-translation:  98%|█████████▊| 975/1000 [1:28:19<02:09,  5.16s/it]"
     ]
    },
    {
     "name": "stdout",
     "output_type": "stream",
     "text": [
      "Maybloom was an abundant flower in the suburbs of Hawthorn.\n",
      "\n",
      "--- MarianMT (en→fr→en) Paraphrasing ---\n"
     ]
    },
    {
     "name": "stderr",
     "output_type": "stream",
     "text": [
      "Back-translation:  98%|█████████▊| 976/1000 [1:28:25<02:07,  5.31s/it]"
     ]
    },
    {
     "name": "stdout",
     "output_type": "stream",
     "text": [
      "\"In the centre of the park is a 30-foot-high canned column, with a phoenix on the capital, which was erected by the Count of Chesterfield during his vice-regality.\"\n",
      "\n",
      "--- MarianMT (en→fr→en) Paraphrasing ---\n"
     ]
    },
    {
     "name": "stderr",
     "output_type": "stream",
     "text": [
      "Back-translation:  98%|█████████▊| 977/1000 [1:28:31<02:11,  5.71s/it]"
     ]
    },
    {
     "name": "stdout",
     "output_type": "stream",
     "text": [
      "According to the official website of the Saint Kitts and Nevis Citizenship Program, they offer multiple benefits: \"When you acquire citizenship as part of the Saint Kitts and Nevis Citizenship Program, you and your family benefit from full citizenship for life, which can be passed on to future generations by descent.\n",
      "\n",
      "--- MarianMT (en→fr→en) Paraphrasing ---\n"
     ]
    },
    {
     "name": "stderr",
     "output_type": "stream",
     "text": [
      "Back-translation:  98%|█████████▊| 978/1000 [1:28:41<02:34,  7.01s/it]"
     ]
    },
    {
     "name": "stdout",
     "output_type": "stream",
     "text": [
      "Cocaine crack can be combined with amphetamine (\"croack\"); tobacco (\"coolie\"); marijuana (\"buddha\"; \"caviar\"; \"chronic\"; \"cocoa buffoons\"; \"fry Daddy\"; \"gimmie\"; \"gremmie\"; \"juice\"; \"primo\"; \"torpedo\"; \"turbo\"; \"woolie\"; \"woola\"; heroin (\"moon rock\"); and phencyclidine (\"click\"; \"p-funk\"; \"spacebase\").\n",
      "\n",
      "--- MarianMT (en→fr→en) Paraphrasing ---\n"
     ]
    },
    {
     "name": "stderr",
     "output_type": "stream",
     "text": [
      "Back-translation:  98%|█████████▊| 979/1000 [1:28:46<02:10,  6.23s/it]"
     ]
    },
    {
     "name": "stdout",
     "output_type": "stream",
     "text": [
      "Some users will frequently increase their doses to intensify and prolong euphoric effects.\n",
      "\n",
      "--- MarianMT (en→fr→en) Paraphrasing ---\n"
     ]
    },
    {
     "name": "stderr",
     "output_type": "stream",
     "text": [
      "Back-translation:  98%|█████████▊| 980/1000 [1:28:51<01:56,  5.84s/it]"
     ]
    },
    {
     "name": "stdout",
     "output_type": "stream",
     "text": [
      "In May 2006, a Parfitt was fully recovered and the band returned to NEC Birmingham to play the show he had postponed in December.\n",
      "\n",
      "--- MarianMT (en→fr→en) Paraphrasing ---\n"
     ]
    },
    {
     "name": "stderr",
     "output_type": "stream",
     "text": [
      "Back-translation:  98%|█████████▊| 981/1000 [1:28:55<01:43,  5.44s/it]"
     ]
    },
    {
     "name": "stdout",
     "output_type": "stream",
     "text": [
      "Rob Ford, Toronto's 64th mayor, was filmed smoking crack while he was at the office.\n",
      "\n",
      "--- MarianMT (en→fr→en) Paraphrasing ---\n"
     ]
    },
    {
     "name": "stderr",
     "output_type": "stream",
     "text": [
      "Back-translation:  98%|█████████▊| 982/1000 [1:29:00<01:34,  5.24s/it]"
     ]
    },
    {
     "name": "stdout",
     "output_type": "stream",
     "text": [
      "Robert Fenner of RPGFan noted that traditionally, great developers of visual novels such as Key and 5pb.\n",
      "\n",
      "--- MarianMT (en→fr→en) Paraphrasing ---\n"
     ]
    },
    {
     "name": "stderr",
     "output_type": "stream",
     "text": [
      "Back-translation:  98%|█████████▊| 983/1000 [1:29:05<01:28,  5.23s/it]"
     ]
    },
    {
     "name": "stdout",
     "output_type": "stream",
     "text": [
      "In the 21st century, the castle is managed by Cadw as a tourist attraction and 186,897 tourists visited the castle in 2010; a new reception centre was opened in 2012.\n",
      "\n",
      "--- MarianMT (en→fr→en) Paraphrasing ---\n"
     ]
    },
    {
     "name": "stderr",
     "output_type": "stream",
     "text": [
      "Back-translation:  98%|█████████▊| 984/1000 [1:29:11<01:27,  5.48s/it]"
     ]
    },
    {
     "name": "stdout",
     "output_type": "stream",
     "text": [
      "Today, the Constitution refers to the State as both \"Saint Kitts and Nevis\" and \"Saint Christopher and Nevis\", but the first is most commonly used.\n",
      "\n",
      "--- MarianMT (en→fr→en) Paraphrasing ---\n"
     ]
    },
    {
     "name": "stderr",
     "output_type": "stream",
     "text": [
      "Back-translation:  98%|█████████▊| 985/1000 [1:29:16<01:19,  5.29s/it]"
     ]
    },
    {
     "name": "stdout",
     "output_type": "stream",
     "text": [
      "By realizing the true nature of the game and its role in it, Sayori panics and closes the game with force.\n",
      "\n",
      "--- MarianMT (en→fr→en) Paraphrasing ---\n"
     ]
    },
    {
     "name": "stderr",
     "output_type": "stream",
     "text": [
      "Back-translation:  99%|█████████▊| 986/1000 [1:29:21<01:14,  5.31s/it]"
     ]
    },
    {
     "name": "stdout",
     "output_type": "stream",
     "text": [
      "Work to cut the ditch around Conwy Castle began in the days following Edward's decision.\n",
      "\n",
      "--- MarianMT (en→fr→en) Paraphrasing ---\n"
     ]
    },
    {
     "name": "stderr",
     "output_type": "stream",
     "text": [
      "Back-translation:  99%|█████████▊| 987/1000 [1:29:27<01:08,  5.30s/it]"
     ]
    },
    {
     "name": "stdout",
     "output_type": "stream",
     "text": [
      "Several lawyers refused to defend Preston because of their loyalist inclinations, so he sent a request to John Adams, pleading for him to work on the case.\n",
      "\n",
      "--- MarianMT (en→fr→en) Paraphrasing ---\n"
     ]
    },
    {
     "name": "stderr",
     "output_type": "stream",
     "text": [
      "Back-translation:  99%|█████████▉| 988/1000 [1:29:32<01:02,  5.18s/it]"
     ]
    },
    {
     "name": "stdout",
     "output_type": "stream",
     "text": [
      "In S.R. 1418, the Thain was Paladin II, 31 Thain and 19 of the Took line.\n",
      "\n",
      "--- MarianMT (en→fr→en) Paraphrasing ---\n"
     ]
    },
    {
     "name": "stderr",
     "output_type": "stream",
     "text": [
      "Back-translation:  99%|█████████▉| 989/1000 [1:29:37<00:57,  5.23s/it]"
     ]
    },
    {
     "name": "stdout",
     "output_type": "stream",
     "text": [
      "As the Qin and Han dynasties developed a meritocratic system to maintain power over a great empire, it became necessary for the government to maintain a complex network of civil servants.\n",
      "\n",
      "--- MarianMT (en→fr→en) Paraphrasing ---\n"
     ]
    },
    {
     "name": "stderr",
     "output_type": "stream",
     "text": [
      "Back-translation:  99%|█████████▉| 990/1000 [1:29:42<00:53,  5.30s/it]"
     ]
    },
    {
     "name": "stdout",
     "output_type": "stream",
     "text": [
      "The characters in the game were based on standard anime archetypes and were given Japanese names to highlight a pseudo-Japanese atmosphere characteristic of visual novels produced in the West.\n",
      "\n",
      "--- MarianMT (en→fr→en) Paraphrasing ---\n"
     ]
    },
    {
     "name": "stderr",
     "output_type": "stream",
     "text": [
      "Back-translation:  99%|█████████▉| 991/1000 [1:29:47<00:45,  5.07s/it]"
     ]
    },
    {
     "name": "stdout",
     "output_type": "stream",
     "text": [
      "produced long daily stories of the relationships of a standard anime protagonist with their support casting.\n",
      "\n",
      "--- MarianMT (en→fr→en) Paraphrasing ---\n"
     ]
    },
    {
     "name": "stderr",
     "output_type": "stream",
     "text": [
      "Back-translation:  99%|█████████▉| 992/1000 [1:29:52<00:39,  4.99s/it]"
     ]
    },
    {
     "name": "stdout",
     "output_type": "stream",
     "text": [
      "The VFA then suspended in 1916 and 1917, and Hawthorn did not compete when the recovery took place in 1918.\n",
      "\n",
      "--- MarianMT (en→fr→en) Paraphrasing ---\n"
     ]
    },
    {
     "name": "stderr",
     "output_type": "stream",
     "text": [
      "Back-translation:  99%|█████████▉| 993/1000 [1:29:56<00:34,  4.90s/it]"
     ]
    },
    {
     "name": "stdout",
     "output_type": "stream",
     "text": [
      "At the same time, they announced that they would release a live DVD/CD collection entitled \"The Black Parade Is Dead!\",\n",
      "\n",
      "--- MarianMT (en→fr→en) Paraphrasing ---\n"
     ]
    },
    {
     "name": "stderr",
     "output_type": "stream",
     "text": [
      "Back-translation:  99%|█████████▉| 994/1000 [1:30:01<00:28,  4.75s/it]"
     ]
    },
    {
     "name": "stdout",
     "output_type": "stream",
     "text": [
      "After the credits, the player is presented with a message from the developer of the game, Dan Salvato.\n",
      "\n",
      "--- MarianMT (en→fr→en) Paraphrasing ---\n"
     ]
    },
    {
     "name": "stderr",
     "output_type": "stream",
     "text": [
      "Back-translation: 100%|█████████▉| 995/1000 [1:30:07<00:26,  5.29s/it]"
     ]
    },
    {
     "name": "stdout",
     "output_type": "stream",
     "text": [
      "At the end of the 18th century, the ruins were considered picturesque and sublime, attracting visitors and artists, and the paintings of the castle were made by Thomas Girtin, Moses Griffith, Julius Caesar Ibbetson, Paul Sandby and J. M. W. Turner.\n",
      "\n",
      "--- MarianMT (en→fr→en) Paraphrasing ---\n"
     ]
    },
    {
     "name": "stderr",
     "output_type": "stream",
     "text": [
      "Back-translation: 100%|█████████▉| 996/1000 [1:30:13<00:21,  5.30s/it]"
     ]
    },
    {
     "name": "stdout",
     "output_type": "stream",
     "text": [
      "On 30 June 2014, Saint Kitts and Nevis signed a model agreement with the United States of America concerning the Foreign Account Tax Compliance Act (FATCA).\n",
      "\n",
      "--- MarianMT (en→fr→en) Paraphrasing ---\n"
     ]
    },
    {
     "name": "stderr",
     "output_type": "stream",
     "text": [
      "Back-translation: 100%|█████████▉| 997/1000 [1:30:18<00:15,  5.22s/it]"
     ]
    },
    {
     "name": "stdout",
     "output_type": "stream",
     "text": [
      "Southfarthing was the site of Longbottom, where the best pipe grass was grown, due to the warmer climate in the area.\n",
      "\n",
      "--- MarianMT (en→fr→en) Paraphrasing ---\n"
     ]
    },
    {
     "name": "stderr",
     "output_type": "stream",
     "text": [
      "Back-translation: 100%|█████████▉| 998/1000 [1:30:24<00:11,  5.50s/it]"
     ]
    },
    {
     "name": "stdout",
     "output_type": "stream",
     "text": [
      "Sullivan's mother, a businesswoman, and her father, who represented the 69th District of the Manhattan Assembly at the New York State Assembly from 1977 to 2002, moved the family to Middleburgh, New York, in 1982.\n",
      "\n",
      "--- MarianMT (en→fr→en) Paraphrasing ---\n"
     ]
    },
    {
     "name": "stderr",
     "output_type": "stream",
     "text": [
      "Back-translation: 100%|█████████▉| 999/1000 [1:30:28<00:05,  5.16s/it]"
     ]
    },
    {
     "name": "stdout",
     "output_type": "stream",
     "text": [
      "Work to cut the ditch around Conwy Castle began in the days following Edward's decision.\n",
      "\n",
      "--- MarianMT (en→fr→en) Paraphrasing ---\n"
     ]
    },
    {
     "name": "stderr",
     "output_type": "stream",
     "text": [
      "                                                                       "
     ]
    },
    {
     "name": "stdout",
     "output_type": "stream",
     "text": [
      "In an interview with PopEater, Way also stated that the next album will be \"hateful.\"\n",
      "Back-translation done!\n"
     ]
    },
    {
     "name": "stderr",
     "output_type": "stream",
     "text": [
      "Some weights of RobertaModel were not initialized from the model checkpoint at roberta-large and are newly initialized: ['pooler.dense.bias', 'pooler.dense.weight']\n",
      "You should probably TRAIN this model on a down-stream task to be able to use it for predictions and inference.\n",
      "100%|██████████| 63/63 [02:31<00:00,  2.40s/it]\n"
     ]
    }
   ],
   "source": [
    "# ----------------------------\n",
    "# RUN EVALUATION\n",
    "# ----------------------------\n",
    "df = evaluate_translation_model(sources, references)"
   ]
  },
  {
   "cell_type": "code",
   "execution_count": null,
   "id": "2dadfd52",
   "metadata": {},
   "outputs": [
    {
     "name": "stdout",
     "output_type": "stream",
     "text": [
      "        sari      bleu   bert_f1     fkgl    flesch  perplexity\n",
      "0  36.074409  0.006026  0.843614  12.0949  47.71124   84.163142\n"
     ]
    }
   ],
   "source": [
    "# Sort and display\n",
    "\n",
    "results = []\n",
    "results.append(df)\n",
    "df = pd.DataFrame(results)\n",
    "df = df.sort_values('sari', ascending=False).reset_index(drop=True)\n",
    "print(df)"
   ]
  },
  {
   "cell_type": "code",
   "execution_count": null,
   "id": "4233bf61",
   "metadata": {},
   "outputs": [
    {
     "name": "stdout",
     "output_type": "stream",
     "text": [
      "Results saved to c:\\Users\\jonat\\Documents\\UTS\\2025 Autumn Sem\\42850 NLP\\Assignment 3\\NLPAssignment\\Jonathan Workspace\\translation_pipeline_evaluation_results.csv\n"
     ]
    }
   ],
   "source": [
    "# ----------------------------\n",
    "# SAVE RESULTS\n",
    "# ----------------------------\n",
    "csv_path = os.path.join(os.getcwd(), 'translation_pipeline_evaluation_results.csv')\n",
    "df.to_csv(csv_path, index=False)\n",
    "print(f\"Results saved to {csv_path}\")"
   ]
  },
  {
   "cell_type": "markdown",
   "id": "2ab97fec",
   "metadata": {},
   "source": [
    "# Evaluate Results"
   ]
  },
  {
   "cell_type": "code",
   "execution_count": null,
   "id": "4091b1e7",
   "metadata": {},
   "outputs": [],
   "source": [
    "# ----------------------------\n",
    "# PLOT RESULTS\n",
    "# ----------------------------\n",
    "pivot_sari = df.pivot(index='grammar_model', columns='style_model', values='sari')\n",
    "pivot_bleu = df.pivot(index='grammar_model', columns='style_model', values='bleu')\n",
    "labels = pivot_sari.index.tolist()\n",
    "x = np.arange(len(labels))\n",
    "width = 0.8 / len(STYLE_MODELS)\n",
    "\n",
    "plt.figure(figsize=(8,5))\n",
    "for i, sm in enumerate(pivot_sari.columns):\n",
    "    plt.bar(x + i*width, pivot_sari[sm], width, label=sm)\n",
    "plt.xticks(x + width*(len(STYLE_MODELS)-1)/2, labels, rotation=45)\n",
    "plt.ylabel('SARI')\n",
    "plt.title('SARI by Pipeline Combo')\n",
    "plt.legend(title='Style Model')\n",
    "plt.tight_layout()\n",
    "plt.show()\n",
    "\n",
    "plt.figure(figsize=(8,5))\n",
    "for i, sm in enumerate(pivot_bleu.columns):\n",
    "    plt.bar(x + i*width, pivot_bleu[sm], width, label=sm)\n",
    "plt.xticks(x + width*(len(STYLE_MODELS)-1)/2, labels, rotation=45)\n",
    "plt.ylabel('BLEU')\n",
    "plt.title('BLEU by Pipeline Combo')\n",
    "plt.legend(title='Style Model')\n",
    "plt.tight_layout()\n",
    "plt.show()"
   ]
  },
  {
   "cell_type": "code",
   "execution_count": 17,
   "id": "a0211e7c",
   "metadata": {},
   "outputs": [],
   "source": [
    "# ----------------------------\n",
    "# HUMAN‑EVAL CSV GENERATOR\n",
    "# ----------------------------\n",
    "import pandas as pd\n",
    "\n",
    "def generate_human_eval_csv(input_csv: str, text_column: str, output_csv: str):\n",
    "    \"\"\"Read a CSV, run every Grammar→Style combo on each row, and write a new CSV\n",
    "    with side‑by‑side outputs ready for human scoring.\n",
    "\n",
    "    Parameters\n",
    "    ----------\n",
    "    input_csv : str\n",
    "        Path to the source CSV that contains raw presentation sentences.\n",
    "    text_column : str\n",
    "        Column name that holds the text to be rewritten.\n",
    "    output_csv : str\n",
    "        Destination path for the human‑evaluation CSV.\n",
    "    \"\"\"\n",
    "    df_in = pd.read_csv(input_csv)\n",
    "    if text_column not in df_in.columns:\n",
    "        raise KeyError(f\"Column '{text_column}' not found in {input_csv}.\")\n",
    "\n",
    "    raw_texts = df_in[text_column].astype(str).tolist()\n",
    "    # Pre-clean once\n",
    "    clean_texts = preprocess_texts(raw_texts)\n",
    "    df_out      = pd.DataFrame({text_column: raw_texts})\n",
    "    corrected_cache = {}\n",
    "\n",
    "    # --- Grammar stage ----------------------------------------------------------\n",
    "    for gm in GRAMMAR_MODELS:\n",
    "        print(f\"Grammar pass – {gm}\")\n",
    "        g_pipe  = grammar_pipes[gm]\n",
    "        g_fixed = run_pipe_with_prefix(\n",
    "            g_pipe, clean_texts, gm, is_grammar=True\n",
    "        )\n",
    "        corrected_cache[gm] = preprocess_texts(g_fixed)\n",
    "\n",
    "    # --- Style stage ------------------------------------------------------------\n",
    "    for gm in GRAMMAR_MODELS:\n",
    "        g_clean = corrected_cache[gm]\n",
    "        for sm in STYLE_MODELS:\n",
    "            col_name = f\"{gm.split('/')[-1]}__{sm.split('/')[-1]}\"\n",
    "            print(f\"Style pass – {gm} → {sm}\")\n",
    "            s_pipe = style_pipes[sm]\n",
    "            preds  = run_pipe_with_prefix(\n",
    "                s_pipe, g_clean, sm, is_grammar=False\n",
    "            )\n",
    "            df_out[col_name] = preds\n",
    "\n",
    "    # Optional blank columns for human scores\n",
    "    # for gm in GRAMMAR_MODELS:\n",
    "    #     for sm in STYLE_MODELS:\n",
    "    #         df_out[f\"score_{gm}__{sm}\"] = \"\"  # empty cell to fill manually\n",
    "\n",
    "    df_out.to_csv(output_csv, index=False)\n",
    "    print(f\"Human‑eval CSV saved to {output_csv}\")\n"
   ]
  },
  {
   "cell_type": "code",
   "execution_count": 29,
   "id": "100da13f",
   "metadata": {},
   "outputs": [
    {
     "name": "stdout",
     "output_type": "stream",
     "text": [
      "Grammar pass – google/flan-t5-small\n"
     ]
    },
    {
     "name": "stderr",
     "output_type": "stream",
     "text": [
      "                                                                                  \r"
     ]
    },
    {
     "name": "stdout",
     "output_type": "stream",
     "text": [
      "Style pass – google/flan-t5-small → NousResearch/Llama-2-7b-chat\n"
     ]
    },
    {
     "ename": "KeyError",
     "evalue": "'NousResearch/Llama-2-7b-chat'",
     "output_type": "error",
     "traceback": [
      "\u001b[1;31m---------------------------------------------------------------------------\u001b[0m",
      "\u001b[1;31mKeyError\u001b[0m                                  Traceback (most recent call last)",
      "Cell \u001b[1;32mIn[29], line 1\u001b[0m\n\u001b[1;32m----> 1\u001b[0m \u001b[43mgenerate_human_eval_csv\u001b[49m\u001b[43m(\u001b[49m\u001b[38;5;124;43m'\u001b[39;49m\u001b[38;5;124;43mverbose_samples.csv\u001b[39;49m\u001b[38;5;124;43m'\u001b[39;49m\u001b[43m,\u001b[49m\u001b[43m \u001b[49m\u001b[38;5;124;43m'\u001b[39;49m\u001b[38;5;124;43msentence\u001b[39;49m\u001b[38;5;124;43m'\u001b[39;49m\u001b[43m,\u001b[49m\u001b[43m \u001b[49m\u001b[38;5;124;43m'\u001b[39;49m\u001b[38;5;124;43mhuman_eval_outputs10.csv\u001b[39;49m\u001b[38;5;124;43m'\u001b[39;49m\u001b[43m)\u001b[49m\n",
      "Cell \u001b[1;32mIn[17], line 44\u001b[0m, in \u001b[0;36mgenerate_human_eval_csv\u001b[1;34m(input_csv, text_column, output_csv)\u001b[0m\n\u001b[0;32m     42\u001b[0m col_name \u001b[38;5;241m=\u001b[39m \u001b[38;5;124mf\u001b[39m\u001b[38;5;124m\"\u001b[39m\u001b[38;5;132;01m{\u001b[39;00mgm\u001b[38;5;241m.\u001b[39msplit(\u001b[38;5;124m'\u001b[39m\u001b[38;5;124m/\u001b[39m\u001b[38;5;124m'\u001b[39m)[\u001b[38;5;241m-\u001b[39m\u001b[38;5;241m1\u001b[39m]\u001b[38;5;132;01m}\u001b[39;00m\u001b[38;5;124m__\u001b[39m\u001b[38;5;132;01m{\u001b[39;00msm\u001b[38;5;241m.\u001b[39msplit(\u001b[38;5;124m'\u001b[39m\u001b[38;5;124m/\u001b[39m\u001b[38;5;124m'\u001b[39m)[\u001b[38;5;241m-\u001b[39m\u001b[38;5;241m1\u001b[39m]\u001b[38;5;132;01m}\u001b[39;00m\u001b[38;5;124m\"\u001b[39m\n\u001b[0;32m     43\u001b[0m \u001b[38;5;28mprint\u001b[39m(\u001b[38;5;124mf\u001b[39m\u001b[38;5;124m\"\u001b[39m\u001b[38;5;124mStyle pass – \u001b[39m\u001b[38;5;132;01m{\u001b[39;00mgm\u001b[38;5;132;01m}\u001b[39;00m\u001b[38;5;124m → \u001b[39m\u001b[38;5;132;01m{\u001b[39;00msm\u001b[38;5;132;01m}\u001b[39;00m\u001b[38;5;124m\"\u001b[39m)\n\u001b[1;32m---> 44\u001b[0m s_pipe \u001b[38;5;241m=\u001b[39m \u001b[43mstyle_pipes\u001b[49m\u001b[43m[\u001b[49m\u001b[43msm\u001b[49m\u001b[43m]\u001b[49m\n\u001b[0;32m     45\u001b[0m preds  \u001b[38;5;241m=\u001b[39m run_pipe_with_prefix(\n\u001b[0;32m     46\u001b[0m     s_pipe, g_clean, sm, is_grammar\u001b[38;5;241m=\u001b[39m\u001b[38;5;28;01mFalse\u001b[39;00m\n\u001b[0;32m     47\u001b[0m )\n\u001b[0;32m     48\u001b[0m df_out[col_name] \u001b[38;5;241m=\u001b[39m preds\n",
      "\u001b[1;31mKeyError\u001b[0m: 'NousResearch/Llama-2-7b-chat'"
     ]
    }
   ],
   "source": [
    "generate_human_eval_csv('verbose_samples.csv', 'sentence', 'human_eval_outputs10.csv')"
   ]
  },
  {
   "cell_type": "code",
   "execution_count": null,
   "id": "e1264dd2",
   "metadata": {},
   "outputs": [],
   "source": [
    "def prepare_human_eval(input_csv: str, output_csv: str, mapping_csv: str):\n",
    "    \"\"\"\n",
    "    Randomize columns A–D per row and prepare a CSV for blind human evaluation.\n",
    "\n",
    "    Params:\n",
    "    - input_csv: CSV with columns: sentence, A, B, C, D\n",
    "    - output_csv: randomized file for human raters\n",
    "    - mapping_csv: stores the randomized column origin per row (for decoding later)\n",
    "    \"\"\"\n",
    "    df = pd.read_csv(input_csv)\n",
    "    cols = df.columns.tolist()\n",
    "    if len(cols) < 5:\n",
    "        raise ValueError(f\"Input CSV must have at least 5 columns, found {len(cols)}: {cols}\")\n",
    "    sentence_col = cols[0]\n",
    "    model_cols = cols[1:5]\n",
    "    \n",
    "    randomized_rows = []\n",
    "    mappings = []\n",
    "\n",
    "    for _, row in df.iterrows():\n",
    "        options = [row[c] for c in model_cols]\n",
    "        zipped = list(zip(model_cols, options))\n",
    "        random.shuffle(zipped)\n",
    "\n",
    "        labels, shuffled_outputs = zip(*zipped)\n",
    "        randomized_rows.append({\n",
    "            'sentence': row[sentence_col],\n",
    "            'option_1': shuffled_outputs[0],\n",
    "            'option_2': shuffled_outputs[1],\n",
    "            'option_3': shuffled_outputs[2],\n",
    "            'option_4': shuffled_outputs[3],\n",
    "            'chosen': ''  # to be filled by rater (1–4)\n",
    "        })\n",
    "\n",
    "        mappings.append({\n",
    "            'row_id': len(mappings),\n",
    "            'option_1': labels[0],\n",
    "            'option_2': labels[1],\n",
    "            'option_3': labels[2],\n",
    "            'option_4': labels[3]\n",
    "        })\n",
    "\n",
    "    pd.DataFrame(randomized_rows).to_csv(output_csv, index=False)\n",
    "    pd.DataFrame(mappings).to_csv(mapping_csv, index=False)\n",
    "    print(f\"Human evaluation CSV saved to: {output_csv}\")\n",
    "    print(f\"Mapping CSV saved to: {mapping_csv}\")"
   ]
  },
  {
   "cell_type": "code",
   "execution_count": null,
   "id": "f5eced3c",
   "metadata": {},
   "outputs": [],
   "source": [
    "def analyze_human_eval(eval_csv: str, mapping_csv: str):\n",
    "    \"\"\"\n",
    "    Read the human evaluation and determine which model (A/B/C/D) was preferred most.\n",
    "\n",
    "    Params:\n",
    "    - eval_csv: the CSV with human ratings (option_1, ..., chosen)\n",
    "    - mapping_csv: the shuffled mapping created earlier\n",
    "    \"\"\"\n",
    "    df_eval = pd.read_csv(eval_csv)\n",
    "    df_map = pd.read_csv(mapping_csv)\n",
    "\n",
    "    vote_counter = {'A': 0, 'B': 0, 'C': 0, 'D': 0}\n",
    "    total_votes = 0\n",
    "\n",
    "    for idx, row in df_eval.iterrows():\n",
    "        chosen = row.get('chosen')\n",
    "        if pd.isna(chosen) or str(chosen).strip() not in {'1', '2', '3', '4'}:\n",
    "            continue  # skip unscored rows\n",
    "\n",
    "        chosen_idx = int(chosen.strip())\n",
    "        col_origin = df_map.loc[idx, f'option_{chosen_idx}']\n",
    "        vote_counter[col_origin] += 1\n",
    "        total_votes += 1\n",
    "\n",
    "    print(\"Human Evaluation Results (model preference counts):\")\n",
    "    for model, count in vote_counter.items():\n",
    "        pct = (count / total_votes * 100) if total_votes else 0\n",
    "        print(f\"  {model}: {count} votes ({pct:.1f}%)\")\n",
    "    \n",
    "    best = max(vote_counter, key=vote_counter.get)\n",
    "    print(f\"\\nBest performing model (by human preference): {best}\")"
   ]
  },
  {
   "cell_type": "code",
   "execution_count": null,
   "id": "cb148aa1",
   "metadata": {},
   "outputs": [],
   "source": [
    "# Step 1: Create blinded evaluation sheet\n",
    "prepare_human_eval(\"results.csv\", \"for_human_rating.csv\", \"shuffle_map.csv\")\n",
    "\n",
    "# Step 2 (after rating): Analyze winner\n",
    "analyze_human_eval(\"for_human_rating.csv\", \"shuffle_map.csv\")"
   ]
  }
 ],
 "metadata": {
  "kernelspec": {
   "display_name": "NLP3",
   "language": "python",
   "name": "python3"
  },
  "language_info": {
   "codemirror_mode": {
    "name": "ipython",
    "version": 3
   },
   "file_extension": ".py",
   "mimetype": "text/x-python",
   "name": "python",
   "nbconvert_exporter": "python",
   "pygments_lexer": "ipython3",
   "version": "3.11.11"
  }
 },
 "nbformat": 4,
 "nbformat_minor": 5
}
